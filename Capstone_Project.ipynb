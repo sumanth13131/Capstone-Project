{
 "cells": [
  {
   "cell_type": "markdown",
   "metadata": {
    "colab_type": "text",
    "id": "Nmt86oBhlEfi"
   },
   "source": [
    "<h1 style=\"text-align: center;\">Capstone Project</h1>"
   ]
  },
  {
   "cell_type": "code",
   "execution_count": 0,
   "metadata": {
    "colab": {},
    "colab_type": "code",
    "id": "UbN3_n7llXaL"
   },
   "outputs": [],
   "source": [
    "from bs4 import BeautifulSoup\n",
    "import requests\n",
    "html_doc=requests.get('https://en.wikipedia.org/wiki/List_of_postal_codes_of_Canada:_M').text\n",
    "soup = BeautifulSoup(html_doc,'lxml')\n"
   ]
  },
  {
   "cell_type": "code",
   "execution_count": 0,
   "metadata": {
    "colab": {},
    "colab_type": "code",
    "id": "t64A5OGImaFf"
   },
   "outputs": [],
   "source": [
    "\n",
    "labels=[soup.table.find_all('th')[i].text.split('\\n')[0] for i in range(len(soup.table.find_all('th')))]"
   ]
  },
  {
   "cell_type": "code",
   "execution_count": 5,
   "metadata": {
    "colab": {
     "base_uri": "https://localhost:8080/",
     "height": 35
    },
    "colab_type": "code",
    "id": "WJlMjnDbC6oL",
    "outputId": "b69f8849-afaa-424d-974d-ff01d98dfb3e"
   },
   "outputs": [
    {
     "data": {
      "text/plain": [
       "['Postal code', 'Borough', 'Neighborhood']"
      ]
     },
     "execution_count": 5,
     "metadata": {
      "tags": []
     },
     "output_type": "execute_result"
    }
   ],
   "source": [
    "labels"
   ]
  },
  {
   "cell_type": "code",
   "execution_count": 6,
   "metadata": {
    "colab": {
     "base_uri": "https://localhost:8080/",
     "height": 1000
    },
    "colab_type": "code",
    "id": "jdU869ZbDk_B",
    "outputId": "a25da02b-2a15-4a4e-da0c-b0c5da0deba1"
   },
   "outputs": [
    {
     "data": {
      "text/plain": [
       "[<td>M1A\n",
       " </td>, <td>Not assigned\n",
       " </td>, <td>\n",
       " </td>, <td>M2A\n",
       " </td>, <td>Not assigned\n",
       " </td>, <td>\n",
       " </td>, <td>M3A\n",
       " </td>, <td>North York\n",
       " </td>, <td>Parkwoods\n",
       " </td>, <td>M4A\n",
       " </td>, <td>North York\n",
       " </td>, <td>Victoria Village\n",
       " </td>, <td>M5A\n",
       " </td>, <td>Downtown Toronto\n",
       " </td>, <td>Regent Park / Harbourfront\n",
       " </td>, <td>M6A\n",
       " </td>, <td>North York\n",
       " </td>, <td>Lawrence Manor / Lawrence Heights\n",
       " </td>, <td>M7A\n",
       " </td>, <td>Downtown Toronto\n",
       " </td>, <td>Queen's Park / Ontario Provincial Government\n",
       " </td>, <td>M8A\n",
       " </td>, <td>Not assigned\n",
       " </td>, <td>\n",
       " </td>, <td>M9A\n",
       " </td>, <td>Etobicoke\n",
       " </td>, <td>Islington Avenue\n",
       " </td>, <td>M1B\n",
       " </td>, <td>Scarborough\n",
       " </td>, <td>Malvern / Rouge\n",
       " </td>, <td>M2B\n",
       " </td>, <td>Not assigned\n",
       " </td>, <td>\n",
       " </td>, <td>M3B\n",
       " </td>, <td>North York\n",
       " </td>, <td>Don Mills\n",
       " </td>, <td>M4B\n",
       " </td>, <td>East York\n",
       " </td>, <td>Parkview Hill / Woodbine Gardens\n",
       " </td>, <td>M5B\n",
       " </td>, <td>Downtown Toronto\n",
       " </td>, <td>Garden District, Ryerson\n",
       " </td>, <td>M6B\n",
       " </td>, <td>North York\n",
       " </td>, <td>Glencairn\n",
       " </td>, <td>M7B\n",
       " </td>, <td>Not assigned\n",
       " </td>, <td>\n",
       " </td>, <td>M8B\n",
       " </td>, <td>Not assigned\n",
       " </td>, <td>\n",
       " </td>, <td>M9B\n",
       " </td>, <td>Etobicoke\n",
       " </td>, <td>West Deane Park / Princess Gardens / Martin Grove / Islington / Cloverdale\n",
       " </td>, <td>M1C\n",
       " </td>, <td>Scarborough\n",
       " </td>, <td>Rouge Hill / Port Union / Highland Creek\n",
       " </td>, <td>M2C\n",
       " </td>, <td>Not assigned\n",
       " </td>, <td>\n",
       " </td>, <td>M3C\n",
       " </td>, <td>North York\n",
       " </td>, <td>Don Mills\n",
       " </td>, <td>M4C\n",
       " </td>, <td>East York\n",
       " </td>, <td>Woodbine Heights\n",
       " </td>, <td>M5C\n",
       " </td>, <td>Downtown Toronto\n",
       " </td>, <td>St. James Town\n",
       " </td>, <td>M6C\n",
       " </td>, <td>York\n",
       " </td>, <td>Humewood-Cedarvale\n",
       " </td>, <td>M7C\n",
       " </td>, <td>Not assigned\n",
       " </td>, <td>\n",
       " </td>, <td>M8C\n",
       " </td>, <td>Not assigned\n",
       " </td>, <td>\n",
       " </td>, <td>M9C\n",
       " </td>, <td>Etobicoke\n",
       " </td>, <td>Eringate / Bloordale Gardens / Old Burnhamthorpe / Markland Wood\n",
       " </td>, <td>M1E\n",
       " </td>, <td>Scarborough\n",
       " </td>, <td>Guildwood / Morningside / West Hill\n",
       " </td>, <td>M2E\n",
       " </td>, <td>Not assigned\n",
       " </td>, <td>\n",
       " </td>, <td>M3E\n",
       " </td>, <td>Not assigned\n",
       " </td>, <td>\n",
       " </td>, <td>M4E\n",
       " </td>, <td>East Toronto\n",
       " </td>, <td>The Beaches\n",
       " </td>, <td>M5E\n",
       " </td>, <td>Downtown Toronto\n",
       " </td>, <td>Berczy Park\n",
       " </td>, <td>M6E\n",
       " </td>, <td>York\n",
       " </td>, <td>Caledonia-Fairbanks\n",
       " </td>, <td>M7E\n",
       " </td>, <td>Not assigned\n",
       " </td>, <td>\n",
       " </td>, <td>M8E\n",
       " </td>, <td>Not assigned\n",
       " </td>, <td>\n",
       " </td>, <td>M9E\n",
       " </td>, <td>Not assigned\n",
       " </td>, <td>\n",
       " </td>, <td>M1G\n",
       " </td>, <td>Scarborough\n",
       " </td>, <td>Woburn\n",
       " </td>, <td>M2G\n",
       " </td>, <td>Not assigned\n",
       " </td>, <td>\n",
       " </td>, <td>M3G\n",
       " </td>, <td>Not assigned\n",
       " </td>, <td>\n",
       " </td>, <td>M4G\n",
       " </td>, <td>East York\n",
       " </td>, <td>Leaside\n",
       " </td>, <td>M5G\n",
       " </td>, <td>Downtown Toronto\n",
       " </td>, <td>Central Bay Street\n",
       " </td>, <td>M6G\n",
       " </td>, <td>Downtown Toronto\n",
       " </td>, <td>Christie\n",
       " </td>, <td>M7G\n",
       " </td>, <td>Not assigned\n",
       " </td>, <td>\n",
       " </td>, <td>M8G\n",
       " </td>, <td>Not assigned\n",
       " </td>, <td>\n",
       " </td>, <td>M9G\n",
       " </td>, <td>Not assigned\n",
       " </td>, <td>\n",
       " </td>, <td>M1H\n",
       " </td>, <td>Scarborough\n",
       " </td>, <td>Cedarbrae\n",
       " </td>, <td>M2H\n",
       " </td>, <td>North York\n",
       " </td>, <td>Hillcrest Village\n",
       " </td>, <td>M3H\n",
       " </td>, <td>North York\n",
       " </td>, <td>Bathurst Manor / Wilson Heights / Downsview North\n",
       " </td>, <td>M4H\n",
       " </td>, <td>East York\n",
       " </td>, <td>Thorncliffe Park\n",
       " </td>, <td>M5H\n",
       " </td>, <td>Downtown Toronto\n",
       " </td>, <td>Richmond / Adelaide / King\n",
       " </td>, <td>M6H\n",
       " </td>, <td>West Toronto\n",
       " </td>, <td>Dufferin / Dovercourt Village\n",
       " </td>, <td>M7H\n",
       " </td>, <td>Not assigned\n",
       " </td>, <td>\n",
       " </td>, <td>M8H\n",
       " </td>, <td>Not assigned\n",
       " </td>, <td>\n",
       " </td>, <td>M9H\n",
       " </td>, <td>Not assigned\n",
       " </td>, <td>\n",
       " </td>, <td>M1J\n",
       " </td>, <td>Scarborough\n",
       " </td>, <td>Scarborough Village\n",
       " </td>, <td>M2J\n",
       " </td>, <td>North York\n",
       " </td>, <td>Fairview / Henry Farm / Oriole\n",
       " </td>, <td>M3J\n",
       " </td>, <td>North York\n",
       " </td>, <td>Northwood Park / York University\n",
       " </td>, <td>M4J\n",
       " </td>, <td>East York\n",
       " </td>, <td>East Toronto\n",
       " </td>, <td>M5J\n",
       " </td>, <td>Downtown Toronto\n",
       " </td>, <td>Harbourfront East / Union Station / Toronto Islands\n",
       " </td>, <td>M6J\n",
       " </td>, <td>West Toronto\n",
       " </td>, <td>Little Portugal / Trinity\n",
       " </td>, <td>M7J\n",
       " </td>, <td>Not assigned\n",
       " </td>, <td>\n",
       " </td>, <td>M8J\n",
       " </td>, <td>Not assigned\n",
       " </td>, <td>\n",
       " </td>, <td>M9J\n",
       " </td>, <td>Not assigned\n",
       " </td>, <td>\n",
       " </td>, <td>M1K\n",
       " </td>, <td>Scarborough\n",
       " </td>, <td>Kennedy Park / Ionview / East Birchmount Park\n",
       " </td>, <td>M2K\n",
       " </td>, <td>North York\n",
       " </td>, <td>Bayview Village\n",
       " </td>, <td>M3K\n",
       " </td>, <td>North York\n",
       " </td>, <td>Downsview\n",
       " </td>, <td>M4K\n",
       " </td>, <td>East Toronto\n",
       " </td>, <td>The Danforth West / Riverdale\n",
       " </td>, <td>M5K\n",
       " </td>, <td>Downtown Toronto\n",
       " </td>, <td>Toronto Dominion Centre / Design Exchange\n",
       " </td>, <td>M6K\n",
       " </td>, <td>West Toronto\n",
       " </td>, <td>Brockton / Parkdale Village / Exhibition Place\n",
       " </td>, <td>M7K\n",
       " </td>, <td>Not assigned\n",
       " </td>, <td>\n",
       " </td>, <td>M8K\n",
       " </td>, <td>Not assigned\n",
       " </td>, <td>\n",
       " </td>, <td>M9K\n",
       " </td>, <td>Not assigned\n",
       " </td>, <td>\n",
       " </td>, <td>M1L\n",
       " </td>, <td>Scarborough\n",
       " </td>, <td>Golden Mile / Clairlea / Oakridge\n",
       " </td>, <td>M2L\n",
       " </td>, <td>North York\n",
       " </td>, <td>York Mills / Silver Hills\n",
       " </td>, <td>M3L\n",
       " </td>, <td>North York\n",
       " </td>, <td>Downsview\n",
       " </td>, <td>M4L\n",
       " </td>, <td>East Toronto\n",
       " </td>, <td>India Bazaar / The Beaches West\n",
       " </td>, <td>M5L\n",
       " </td>, <td>Downtown Toronto\n",
       " </td>, <td>Commerce Court / Victoria Hotel\n",
       " </td>, <td>M6L\n",
       " </td>, <td>North York\n",
       " </td>, <td>North Park / Maple Leaf Park / Upwood Park\n",
       " </td>, <td>M7L\n",
       " </td>, <td>Not assigned\n",
       " </td>, <td>\n",
       " </td>, <td>M8L\n",
       " </td>, <td>Not assigned\n",
       " </td>, <td>\n",
       " </td>, <td>M9L\n",
       " </td>, <td>North York\n",
       " </td>, <td>Humber Summit\n",
       " </td>, <td>M1M\n",
       " </td>, <td>Scarborough\n",
       " </td>, <td>Cliffside / Cliffcrest / Scarborough Village West\n",
       " </td>, <td>M2M\n",
       " </td>, <td>North York\n",
       " </td>, <td>Willowdale / Newtonbrook\n",
       " </td>, <td>M3M\n",
       " </td>, <td>North York\n",
       " </td>, <td>Downsview\n",
       " </td>, <td>M4M\n",
       " </td>, <td>East Toronto\n",
       " </td>, <td>Studio District\n",
       " </td>, <td>M5M\n",
       " </td>, <td>North York\n",
       " </td>, <td>Bedford Park / Lawrence Manor East\n",
       " </td>, <td>M6M\n",
       " </td>, <td>York\n",
       " </td>, <td>Del Ray / Mount Dennis / Keelsdale and Silverthorn\n",
       " </td>, <td>M7M\n",
       " </td>, <td>Not assigned\n",
       " </td>, <td>\n",
       " </td>, <td>M8M\n",
       " </td>, <td>Not assigned\n",
       " </td>, <td>\n",
       " </td>, <td>M9M\n",
       " </td>, <td>North York\n",
       " </td>, <td>Humberlea / Emery\n",
       " </td>, <td>M1N\n",
       " </td>, <td>Scarborough\n",
       " </td>, <td>Birch Cliff / Cliffside West\n",
       " </td>, <td>M2N\n",
       " </td>, <td>North York\n",
       " </td>, <td>Willowdale\n",
       " </td>, <td>M3N\n",
       " </td>, <td>North York\n",
       " </td>, <td>Downsview\n",
       " </td>, <td>M4N\n",
       " </td>, <td>Central Toronto\n",
       " </td>, <td>Lawrence Park\n",
       " </td>, <td>M5N\n",
       " </td>, <td>Central Toronto\n",
       " </td>, <td>Roselawn\n",
       " </td>, <td>M6N\n",
       " </td>, <td>York\n",
       " </td>, <td>Runnymede / The Junction North\n",
       " </td>, <td>M7N\n",
       " </td>, <td>Not assigned\n",
       " </td>, <td>\n",
       " </td>, <td>M8N\n",
       " </td>, <td>Not assigned\n",
       " </td>, <td>\n",
       " </td>, <td>M9N\n",
       " </td>, <td>York\n",
       " </td>, <td>Weston\n",
       " </td>, <td>M1P\n",
       " </td>, <td>Scarborough\n",
       " </td>, <td>Dorset Park / Wexford Heights / Scarborough Town Centre\n",
       " </td>, <td>M2P\n",
       " </td>, <td>North York\n",
       " </td>, <td>York Mills West\n",
       " </td>, <td>M3P\n",
       " </td>, <td>Not assigned\n",
       " </td>, <td>\n",
       " </td>, <td>M4P\n",
       " </td>, <td>Central Toronto\n",
       " </td>, <td>Davisville North\n",
       " </td>, <td>M5P\n",
       " </td>, <td>Central Toronto\n",
       " </td>, <td>Forest Hill North &amp; West\n",
       " </td>, <td>M6P\n",
       " </td>, <td>West Toronto\n",
       " </td>, <td>High Park / The Junction South\n",
       " </td>, <td>M7P\n",
       " </td>, <td>Not assigned\n",
       " </td>, <td>\n",
       " </td>, <td>M8P\n",
       " </td>, <td>Not assigned\n",
       " </td>, <td>\n",
       " </td>, <td>M9P\n",
       " </td>, <td>Etobicoke\n",
       " </td>, <td>Westmount\n",
       " </td>, <td>M1R\n",
       " </td>, <td>Scarborough\n",
       " </td>, <td>Wexford / Maryvale\n",
       " </td>, <td>M2R\n",
       " </td>, <td>North York\n",
       " </td>, <td>Willowdale\n",
       " </td>, <td>M3R\n",
       " </td>, <td>Not assigned\n",
       " </td>, <td>\n",
       " </td>, <td>M4R\n",
       " </td>, <td>Central Toronto\n",
       " </td>, <td>North Toronto West\n",
       " </td>, <td>M5R\n",
       " </td>, <td>Central Toronto\n",
       " </td>, <td>The Annex / North Midtown / Yorkville\n",
       " </td>, <td>M6R\n",
       " </td>, <td>West Toronto\n",
       " </td>, <td>Parkdale / Roncesvalles\n",
       " </td>, <td>M7R\n",
       " </td>, <td>Mississauga\n",
       " </td>, <td>Canada Post Gateway Processing Centre\n",
       " </td>, <td>M8R\n",
       " </td>, <td>Not assigned\n",
       " </td>, <td>\n",
       " </td>, <td>M9R\n",
       " </td>, <td>Etobicoke\n",
       " </td>, <td>Kingsview Village / St. Phillips / Martin Grove Gardens / Richview Gardens\n",
       " </td>, <td>M1S\n",
       " </td>, <td>Scarborough\n",
       " </td>, <td>Agincourt\n",
       " </td>, <td>M2S\n",
       " </td>, <td>Not assigned\n",
       " </td>, <td>\n",
       " </td>, <td>M3S\n",
       " </td>, <td>Not assigned\n",
       " </td>, <td>\n",
       " </td>, <td>M4S\n",
       " </td>, <td>Central Toronto\n",
       " </td>, <td>Davisville\n",
       " </td>, <td>M5S\n",
       " </td>, <td>Downtown Toronto\n",
       " </td>, <td>University of Toronto / Harbord\n",
       " </td>, <td>M6S\n",
       " </td>, <td>West Toronto\n",
       " </td>, <td>Runnymede / Swansea\n",
       " </td>, <td>M7S\n",
       " </td>, <td>Not assigned\n",
       " </td>, <td>\n",
       " </td>, <td>M8S\n",
       " </td>, <td>Not assigned\n",
       " </td>, <td>\n",
       " </td>, <td>M9S\n",
       " </td>, <td>Not assigned\n",
       " </td>, <td>\n",
       " </td>, <td>M1T\n",
       " </td>, <td>Scarborough\n",
       " </td>, <td>Clarks Corners / Tam O'Shanter / Sullivan\n",
       " </td>, <td>M2T\n",
       " </td>, <td>Not assigned\n",
       " </td>, <td>\n",
       " </td>, <td>M3T\n",
       " </td>, <td>Not assigned\n",
       " </td>, <td>\n",
       " </td>, <td>M4T\n",
       " </td>, <td>Central Toronto\n",
       " </td>, <td>Moore Park / Summerhill East\n",
       " </td>, <td>M5T\n",
       " </td>, <td>Downtown Toronto\n",
       " </td>, <td>Kensington Market / Chinatown / Grange Park\n",
       " </td>, <td>M6T\n",
       " </td>, <td>Not assigned\n",
       " </td>, <td>\n",
       " </td>, <td>M7T\n",
       " </td>, <td>Not assigned\n",
       " </td>, <td>\n",
       " </td>, <td>M8T\n",
       " </td>, <td>Not assigned\n",
       " </td>, <td>\n",
       " </td>, <td>M9T\n",
       " </td>, <td>Not assigned\n",
       " </td>, <td>\n",
       " </td>, <td>M1V\n",
       " </td>, <td>Scarborough\n",
       " </td>, <td>Milliken / Agincourt North / Steeles East / L'Amoreaux East\n",
       " </td>, <td>M2V\n",
       " </td>, <td>Not assigned\n",
       " </td>, <td>\n",
       " </td>, <td>M3V\n",
       " </td>, <td>Not assigned\n",
       " </td>, <td>\n",
       " </td>, <td>M4V\n",
       " </td>, <td>Central Toronto\n",
       " </td>, <td>Summerhill West / Rathnelly / South Hill / Forest Hill SE / Deer Park\n",
       " </td>, <td>M5V\n",
       " </td>, <td>Downtown Toronto\n",
       " </td>, <td>CN Tower / King and Spadina / Railway Lands / Harbourfront West / Bathurst\n",
       " <pre> Quay / South Niagara / Island airport\n",
       " </pre>\n",
       " </td>, <td>M6V\n",
       " </td>, <td>Not assigned\n",
       " </td>, <td>\n",
       " </td>, <td>M7V\n",
       " </td>, <td>Not assigned\n",
       " </td>, <td>\n",
       " </td>, <td>M8V\n",
       " </td>, <td>Etobicoke\n",
       " </td>, <td>New Toronto / Mimico South / Humber Bay Shores\n",
       " </td>, <td>M9V\n",
       " </td>, <td>Etobicoke\n",
       " </td>, <td>South Steeles / Silverstone / Humbergate / Jamestown / Mount Olive / Beaumond Heights / Thistletown / Albion Gardens\n",
       " </td>, <td>M1W\n",
       " </td>, <td>Scarborough\n",
       " </td>, <td>Steeles West / L'Amoreaux West\n",
       " </td>, <td>M2W\n",
       " </td>, <td>Not assigned\n",
       " </td>, <td>\n",
       " </td>, <td>M3W\n",
       " </td>, <td>Not assigned\n",
       " </td>, <td>\n",
       " </td>, <td>M4W\n",
       " </td>, <td>Downtown Toronto\n",
       " </td>, <td>Rosedale\n",
       " </td>, <td>M5W\n",
       " </td>, <td>Downtown Toronto\n",
       " </td>, <td>Stn A PO Boxes\n",
       " </td>, <td>M6W\n",
       " </td>, <td>Not assigned\n",
       " </td>, <td>\n",
       " </td>, <td>M7W\n",
       " </td>, <td>Not assigned\n",
       " </td>, <td>\n",
       " </td>, <td>M8W\n",
       " </td>, <td>Etobicoke\n",
       " </td>, <td>Alderwood / Long Branch\n",
       " </td>, <td>M9W\n",
       " </td>, <td>Etobicoke\n",
       " </td>, <td>Northwest\n",
       " </td>, <td>M1X\n",
       " </td>, <td>Scarborough\n",
       " </td>, <td>Upper Rouge\n",
       " </td>, <td>M2X\n",
       " </td>, <td>Not assigned\n",
       " </td>, <td>\n",
       " </td>, <td>M3X\n",
       " </td>, <td>Not assigned\n",
       " </td>, <td>\n",
       " </td>, <td>M4X\n",
       " </td>, <td>Downtown Toronto\n",
       " </td>, <td>St. James Town / Cabbagetown\n",
       " </td>, <td>M5X\n",
       " </td>, <td>Downtown Toronto\n",
       " </td>, <td>First Canadian Place / Underground city\n",
       " </td>, <td>M6X\n",
       " </td>, <td>Not assigned\n",
       " </td>, <td>\n",
       " </td>, <td>M7X\n",
       " </td>, <td>Not assigned\n",
       " </td>, <td>\n",
       " </td>, <td>M8X\n",
       " </td>, <td>Etobicoke\n",
       " </td>, <td>The Kingsway / Montgomery Road  / Old Mill North\n",
       " </td>, <td>M9X\n",
       " </td>, <td>Not assigned\n",
       " </td>, <td>\n",
       " </td>, <td>M1Y\n",
       " </td>, <td>Not assigned\n",
       " </td>, <td>\n",
       " </td>, <td>M2Y\n",
       " </td>, <td>Not assigned\n",
       " </td>, <td>\n",
       " </td>, <td>M3Y\n",
       " </td>, <td>Not assigned\n",
       " </td>, <td>\n",
       " </td>, <td>M4Y\n",
       " </td>, <td>Downtown Toronto\n",
       " </td>, <td>Church and Wellesley\n",
       " </td>, <td>M5Y\n",
       " </td>, <td>Not assigned\n",
       " </td>, <td>\n",
       " </td>, <td>M6Y\n",
       " </td>, <td>Not assigned\n",
       " </td>, <td>\n",
       " </td>, <td>M7Y\n",
       " </td>, <td>East Toronto\n",
       " </td>, <td>Business reply mail Processing CentrE\n",
       " </td>, <td>M8Y\n",
       " </td>, <td>Etobicoke\n",
       " </td>, <td>Old Mill South / King's Mill Park / Sunnylea / Humber Bay / Mimico NE / The Queensway East / Royal York South East / Kingsway Park South East\n",
       " </td>, <td>M9Y\n",
       " </td>, <td>Not assigned\n",
       " </td>, <td>\n",
       " </td>, <td>M1Z\n",
       " </td>, <td>Not assigned\n",
       " </td>, <td>\n",
       " </td>, <td>M2Z\n",
       " </td>, <td>Not assigned\n",
       " </td>, <td>\n",
       " </td>, <td>M3Z\n",
       " </td>, <td>Not assigned\n",
       " </td>, <td>\n",
       " </td>, <td>M4Z\n",
       " </td>, <td>Not assigned\n",
       " </td>, <td>\n",
       " </td>, <td>M5Z\n",
       " </td>, <td>Not assigned\n",
       " </td>, <td>\n",
       " </td>, <td>M6Z\n",
       " </td>, <td>Not assigned\n",
       " </td>, <td>\n",
       " </td>, <td>M7Z\n",
       " </td>, <td>Not assigned\n",
       " </td>, <td>\n",
       " </td>, <td>M8Z\n",
       " </td>, <td>Etobicoke\n",
       " </td>, <td>Mimico NW / The Queensway West / South of Bloor / Kingsway Park South West / Royal York South West\n",
       " </td>, <td>M9Z\n",
       " </td>, <td>Not assigned\n",
       " </td>, <td>\n",
       " </td>]"
      ]
     },
     "execution_count": 6,
     "metadata": {
      "tags": []
     },
     "output_type": "execute_result"
    }
   ],
   "source": [
    "soup.table.find_all('td')"
   ]
  },
  {
   "cell_type": "code",
   "execution_count": 0,
   "metadata": {
    "colab": {},
    "colab_type": "code",
    "id": "9SyYg-J-ECKm"
   },
   "outputs": [],
   "source": [
    "\n",
    "column1=[soup.table.find_all('td')[i].text.split('\\n')[0] for i in range(0,len(soup.table.find_all('td')),3)]"
   ]
  },
  {
   "cell_type": "code",
   "execution_count": 8,
   "metadata": {
    "colab": {
     "base_uri": "https://localhost:8080/",
     "height": 35
    },
    "colab_type": "code",
    "id": "hQKaZSfCEo-8",
    "outputId": "cc00cdb6-0be2-4e68-8c5a-bd36588bafae"
   },
   "outputs": [
    {
     "data": {
      "text/plain": [
       "['M2A', 'M3A', 'M4A', 'M5A', 'M6A', 'M7A', 'M8A', 'M9A', 'M1B']"
      ]
     },
     "execution_count": 8,
     "metadata": {
      "tags": []
     },
     "output_type": "execute_result"
    }
   ],
   "source": [
    "column1[1:10]"
   ]
  },
  {
   "cell_type": "code",
   "execution_count": 9,
   "metadata": {
    "colab": {
     "base_uri": "https://localhost:8080/",
     "height": 35
    },
    "colab_type": "code",
    "id": "09mDdyTTE3Jd",
    "outputId": "3a5631d1-6210-42d9-dfc8-086aec65e9bb"
   },
   "outputs": [
    {
     "data": {
      "text/plain": [
       "180"
      ]
     },
     "execution_count": 9,
     "metadata": {
      "tags": []
     },
     "output_type": "execute_result"
    }
   ],
   "source": [
    "len(column1)"
   ]
  },
  {
   "cell_type": "code",
   "execution_count": 0,
   "metadata": {
    "colab": {},
    "colab_type": "code",
    "id": "-H26yQHWFGOa"
   },
   "outputs": [],
   "source": [
    "column2=[soup.table.find_all('td')[i].text.split('\\n')[0] for i in range(1,len(soup.table.find_all('td')),3)]"
   ]
  },
  {
   "cell_type": "code",
   "execution_count": 11,
   "metadata": {
    "colab": {
     "base_uri": "https://localhost:8080/",
     "height": 177
    },
    "colab_type": "code",
    "id": "wzwxeYlcGIaa",
    "outputId": "14caa2da-3ebe-42be-c543-e85e6f68b50b"
   },
   "outputs": [
    {
     "data": {
      "text/plain": [
       "['Not assigned',\n",
       " 'North York',\n",
       " 'North York',\n",
       " 'Downtown Toronto',\n",
       " 'North York',\n",
       " 'Downtown Toronto',\n",
       " 'Not assigned',\n",
       " 'Etobicoke',\n",
       " 'Scarborough']"
      ]
     },
     "execution_count": 11,
     "metadata": {
      "tags": []
     },
     "output_type": "execute_result"
    }
   ],
   "source": [
    "column2[1:10]\n"
   ]
  },
  {
   "cell_type": "code",
   "execution_count": 12,
   "metadata": {
    "colab": {
     "base_uri": "https://localhost:8080/",
     "height": 35
    },
    "colab_type": "code",
    "id": "s6VkbBhpGKeY",
    "outputId": "5402a95f-c537-4d92-82a9-92afaa264c30"
   },
   "outputs": [
    {
     "data": {
      "text/plain": [
       "180"
      ]
     },
     "execution_count": 12,
     "metadata": {
      "tags": []
     },
     "output_type": "execute_result"
    }
   ],
   "source": [
    "len(column2)"
   ]
  },
  {
   "cell_type": "code",
   "execution_count": 0,
   "metadata": {
    "colab": {},
    "colab_type": "code",
    "id": "iwQ_fZoDGVFg"
   },
   "outputs": [],
   "source": [
    "column3=[soup.table.find_all('td')[i].text.split('\\n')[0] for i in range(2,len(soup.table.find_all('td')),3)]"
   ]
  },
  {
   "cell_type": "code",
   "execution_count": 14,
   "metadata": {
    "colab": {
     "base_uri": "https://localhost:8080/",
     "height": 1000
    },
    "colab_type": "code",
    "id": "kAU4vfxOGbKq",
    "outputId": "f3c4dc6b-8c94-4ced-d9c2-3eb2dfceb4a0"
   },
   "outputs": [
    {
     "data": {
      "text/plain": [
       "['',\n",
       " '',\n",
       " 'Parkwoods',\n",
       " 'Victoria Village',\n",
       " 'Regent Park / Harbourfront',\n",
       " 'Lawrence Manor / Lawrence Heights',\n",
       " \"Queen's Park / Ontario Provincial Government\",\n",
       " '',\n",
       " 'Islington Avenue',\n",
       " 'Malvern / Rouge',\n",
       " '',\n",
       " 'Don Mills',\n",
       " 'Parkview Hill / Woodbine Gardens',\n",
       " 'Garden District, Ryerson',\n",
       " 'Glencairn',\n",
       " '',\n",
       " '',\n",
       " 'West Deane Park / Princess Gardens / Martin Grove / Islington / Cloverdale',\n",
       " 'Rouge Hill / Port Union / Highland Creek',\n",
       " '',\n",
       " 'Don Mills',\n",
       " 'Woodbine Heights',\n",
       " 'St. James Town',\n",
       " 'Humewood-Cedarvale',\n",
       " '',\n",
       " '',\n",
       " 'Eringate / Bloordale Gardens / Old Burnhamthorpe / Markland Wood',\n",
       " 'Guildwood / Morningside / West Hill',\n",
       " '',\n",
       " '',\n",
       " 'The Beaches',\n",
       " 'Berczy Park',\n",
       " 'Caledonia-Fairbanks',\n",
       " '',\n",
       " '',\n",
       " '',\n",
       " 'Woburn',\n",
       " '',\n",
       " '',\n",
       " 'Leaside',\n",
       " 'Central Bay Street',\n",
       " 'Christie',\n",
       " '',\n",
       " '',\n",
       " '',\n",
       " 'Cedarbrae',\n",
       " 'Hillcrest Village',\n",
       " 'Bathurst Manor / Wilson Heights / Downsview North',\n",
       " 'Thorncliffe Park',\n",
       " 'Richmond / Adelaide / King',\n",
       " 'Dufferin / Dovercourt Village',\n",
       " '',\n",
       " '',\n",
       " '',\n",
       " 'Scarborough Village',\n",
       " 'Fairview / Henry Farm / Oriole',\n",
       " 'Northwood Park / York University',\n",
       " 'East Toronto',\n",
       " 'Harbourfront East / Union Station / Toronto Islands',\n",
       " 'Little Portugal / Trinity',\n",
       " '',\n",
       " '',\n",
       " '',\n",
       " 'Kennedy Park / Ionview / East Birchmount Park',\n",
       " 'Bayview Village',\n",
       " 'Downsview',\n",
       " 'The Danforth West / Riverdale',\n",
       " 'Toronto Dominion Centre / Design Exchange',\n",
       " 'Brockton / Parkdale Village / Exhibition Place',\n",
       " '',\n",
       " '',\n",
       " '',\n",
       " 'Golden Mile / Clairlea / Oakridge',\n",
       " 'York Mills / Silver Hills',\n",
       " 'Downsview',\n",
       " 'India Bazaar / The Beaches West',\n",
       " 'Commerce Court / Victoria Hotel',\n",
       " 'North Park / Maple Leaf Park / Upwood Park',\n",
       " '',\n",
       " '',\n",
       " 'Humber Summit',\n",
       " 'Cliffside / Cliffcrest / Scarborough Village West',\n",
       " 'Willowdale / Newtonbrook',\n",
       " 'Downsview',\n",
       " 'Studio District',\n",
       " 'Bedford Park / Lawrence Manor East',\n",
       " 'Del Ray / Mount Dennis / Keelsdale and Silverthorn',\n",
       " '',\n",
       " '',\n",
       " 'Humberlea / Emery',\n",
       " 'Birch Cliff / Cliffside West',\n",
       " 'Willowdale',\n",
       " 'Downsview',\n",
       " 'Lawrence Park',\n",
       " 'Roselawn',\n",
       " 'Runnymede / The Junction North',\n",
       " '',\n",
       " '',\n",
       " 'Weston',\n",
       " 'Dorset Park / Wexford Heights / Scarborough Town Centre',\n",
       " 'York Mills West',\n",
       " '',\n",
       " 'Davisville North',\n",
       " 'Forest Hill North & West',\n",
       " 'High Park / The Junction South',\n",
       " '',\n",
       " '',\n",
       " 'Westmount',\n",
       " 'Wexford / Maryvale',\n",
       " 'Willowdale',\n",
       " '',\n",
       " 'North Toronto West',\n",
       " 'The Annex / North Midtown / Yorkville',\n",
       " 'Parkdale / Roncesvalles',\n",
       " 'Canada Post Gateway Processing Centre',\n",
       " '',\n",
       " 'Kingsview Village / St. Phillips / Martin Grove Gardens / Richview Gardens',\n",
       " 'Agincourt',\n",
       " '',\n",
       " '',\n",
       " 'Davisville',\n",
       " 'University of Toronto / Harbord',\n",
       " 'Runnymede / Swansea',\n",
       " '',\n",
       " '',\n",
       " '',\n",
       " \"Clarks Corners / Tam O'Shanter / Sullivan\",\n",
       " '',\n",
       " '',\n",
       " 'Moore Park / Summerhill East',\n",
       " 'Kensington Market / Chinatown / Grange Park',\n",
       " '',\n",
       " '',\n",
       " '',\n",
       " '',\n",
       " \"Milliken / Agincourt North / Steeles East / L'Amoreaux East\",\n",
       " '',\n",
       " '',\n",
       " 'Summerhill West / Rathnelly / South Hill / Forest Hill SE / Deer Park',\n",
       " 'CN Tower / King and Spadina / Railway Lands / Harbourfront West / Bathurst',\n",
       " '',\n",
       " '',\n",
       " 'New Toronto / Mimico South / Humber Bay Shores',\n",
       " 'South Steeles / Silverstone / Humbergate / Jamestown / Mount Olive / Beaumond Heights / Thistletown / Albion Gardens',\n",
       " \"Steeles West / L'Amoreaux West\",\n",
       " '',\n",
       " '',\n",
       " 'Rosedale',\n",
       " 'Stn A PO Boxes',\n",
       " '',\n",
       " '',\n",
       " 'Alderwood / Long Branch',\n",
       " 'Northwest',\n",
       " 'Upper Rouge',\n",
       " '',\n",
       " '',\n",
       " 'St. James Town / Cabbagetown',\n",
       " 'First Canadian Place / Underground city',\n",
       " '',\n",
       " '',\n",
       " 'The Kingsway / Montgomery Road  / Old Mill North',\n",
       " '',\n",
       " '',\n",
       " '',\n",
       " '',\n",
       " 'Church and Wellesley',\n",
       " '',\n",
       " '',\n",
       " 'Business reply mail Processing CentrE',\n",
       " \"Old Mill South / King's Mill Park / Sunnylea / Humber Bay / Mimico NE / The Queensway East / Royal York South East / Kingsway Park South East\",\n",
       " '',\n",
       " '',\n",
       " '',\n",
       " '',\n",
       " '',\n",
       " '',\n",
       " '',\n",
       " '',\n",
       " 'Mimico NW / The Queensway West / South of Bloor / Kingsway Park South West / Royal York South West',\n",
       " '']"
      ]
     },
     "execution_count": 14,
     "metadata": {
      "tags": []
     },
     "output_type": "execute_result"
    }
   ],
   "source": [
    "column3"
   ]
  },
  {
   "cell_type": "code",
   "execution_count": 15,
   "metadata": {
    "colab": {
     "base_uri": "https://localhost:8080/",
     "height": 35
    },
    "colab_type": "code",
    "id": "35zlv_RoGc7Z",
    "outputId": "0fcf75df-e3d3-4a79-f61c-af0aef6ea834"
   },
   "outputs": [
    {
     "data": {
      "text/plain": [
       "180"
      ]
     },
     "execution_count": 15,
     "metadata": {
      "tags": []
     },
     "output_type": "execute_result"
    }
   ],
   "source": [
    "len(column3)"
   ]
  },
  {
   "cell_type": "code",
   "execution_count": 0,
   "metadata": {
    "colab": {},
    "colab_type": "code",
    "id": "_x4XZLssGpox"
   },
   "outputs": [],
   "source": [
    "import pandas as pd\n",
    "file=pd.DataFrame({'Postal code':column1,'Borough':column2,'Neighborhood':column3})"
   ]
  },
  {
   "cell_type": "code",
   "execution_count": 17,
   "metadata": {
    "colab": {
     "base_uri": "https://localhost:8080/",
     "height": 194
    },
    "colab_type": "code",
    "id": "GKDGwtNuHVVi",
    "outputId": "d00c6d55-e7a5-467b-f076-fcad83feb1b9"
   },
   "outputs": [
    {
     "data": {
      "text/html": [
       "<div>\n",
       "<style scoped>\n",
       "    .dataframe tbody tr th:only-of-type {\n",
       "        vertical-align: middle;\n",
       "    }\n",
       "\n",
       "    .dataframe tbody tr th {\n",
       "        vertical-align: top;\n",
       "    }\n",
       "\n",
       "    .dataframe thead th {\n",
       "        text-align: right;\n",
       "    }\n",
       "</style>\n",
       "<table border=\"1\" class=\"dataframe\">\n",
       "  <thead>\n",
       "    <tr style=\"text-align: right;\">\n",
       "      <th></th>\n",
       "      <th>Postal code</th>\n",
       "      <th>Borough</th>\n",
       "      <th>Neighborhood</th>\n",
       "    </tr>\n",
       "  </thead>\n",
       "  <tbody>\n",
       "    <tr>\n",
       "      <th>0</th>\n",
       "      <td>M1A</td>\n",
       "      <td>Not assigned</td>\n",
       "      <td></td>\n",
       "    </tr>\n",
       "    <tr>\n",
       "      <th>1</th>\n",
       "      <td>M2A</td>\n",
       "      <td>Not assigned</td>\n",
       "      <td></td>\n",
       "    </tr>\n",
       "    <tr>\n",
       "      <th>2</th>\n",
       "      <td>M3A</td>\n",
       "      <td>North York</td>\n",
       "      <td>Parkwoods</td>\n",
       "    </tr>\n",
       "    <tr>\n",
       "      <th>3</th>\n",
       "      <td>M4A</td>\n",
       "      <td>North York</td>\n",
       "      <td>Victoria Village</td>\n",
       "    </tr>\n",
       "    <tr>\n",
       "      <th>4</th>\n",
       "      <td>M5A</td>\n",
       "      <td>Downtown Toronto</td>\n",
       "      <td>Regent Park / Harbourfront</td>\n",
       "    </tr>\n",
       "  </tbody>\n",
       "</table>\n",
       "</div>"
      ],
      "text/plain": [
       "  Postal code           Borough                Neighborhood\n",
       "0         M1A      Not assigned                            \n",
       "1         M2A      Not assigned                            \n",
       "2         M3A        North York                   Parkwoods\n",
       "3         M4A        North York            Victoria Village\n",
       "4         M5A  Downtown Toronto  Regent Park / Harbourfront"
      ]
     },
     "execution_count": 17,
     "metadata": {
      "tags": []
     },
     "output_type": "execute_result"
    }
   ],
   "source": [
    "file.head()"
   ]
  },
  {
   "cell_type": "code",
   "execution_count": 18,
   "metadata": {
    "colab": {
     "base_uri": "https://localhost:8080/",
     "height": 194
    },
    "colab_type": "code",
    "id": "saTLuugVHXS_",
    "outputId": "8f8780fb-903b-4cdb-fa89-72d585d17075"
   },
   "outputs": [
    {
     "data": {
      "text/html": [
       "<div>\n",
       "<style scoped>\n",
       "    .dataframe tbody tr th:only-of-type {\n",
       "        vertical-align: middle;\n",
       "    }\n",
       "\n",
       "    .dataframe tbody tr th {\n",
       "        vertical-align: top;\n",
       "    }\n",
       "\n",
       "    .dataframe thead th {\n",
       "        text-align: right;\n",
       "    }\n",
       "</style>\n",
       "<table border=\"1\" class=\"dataframe\">\n",
       "  <thead>\n",
       "    <tr style=\"text-align: right;\">\n",
       "      <th></th>\n",
       "      <th>Postal code</th>\n",
       "      <th>Borough</th>\n",
       "      <th>Neighborhood</th>\n",
       "    </tr>\n",
       "  </thead>\n",
       "  <tbody>\n",
       "    <tr>\n",
       "      <th>175</th>\n",
       "      <td>M5Z</td>\n",
       "      <td>Not assigned</td>\n",
       "      <td></td>\n",
       "    </tr>\n",
       "    <tr>\n",
       "      <th>176</th>\n",
       "      <td>M6Z</td>\n",
       "      <td>Not assigned</td>\n",
       "      <td></td>\n",
       "    </tr>\n",
       "    <tr>\n",
       "      <th>177</th>\n",
       "      <td>M7Z</td>\n",
       "      <td>Not assigned</td>\n",
       "      <td></td>\n",
       "    </tr>\n",
       "    <tr>\n",
       "      <th>178</th>\n",
       "      <td>M8Z</td>\n",
       "      <td>Etobicoke</td>\n",
       "      <td>Mimico NW / The Queensway West / South of Bloo...</td>\n",
       "    </tr>\n",
       "    <tr>\n",
       "      <th>179</th>\n",
       "      <td>M9Z</td>\n",
       "      <td>Not assigned</td>\n",
       "      <td></td>\n",
       "    </tr>\n",
       "  </tbody>\n",
       "</table>\n",
       "</div>"
      ],
      "text/plain": [
       "    Postal code  ...                                       Neighborhood\n",
       "175         M5Z  ...                                                   \n",
       "176         M6Z  ...                                                   \n",
       "177         M7Z  ...                                                   \n",
       "178         M8Z  ...  Mimico NW / The Queensway West / South of Bloo...\n",
       "179         M9Z  ...                                                   \n",
       "\n",
       "[5 rows x 3 columns]"
      ]
     },
     "execution_count": 18,
     "metadata": {
      "tags": []
     },
     "output_type": "execute_result"
    }
   ],
   "source": [
    "file.tail()"
   ]
  },
  {
   "cell_type": "code",
   "execution_count": 0,
   "metadata": {
    "colab": {},
    "colab_type": "code",
    "id": "0WPfbxouUcoe"
   },
   "outputs": [],
   "source": [
    "dataframe=file[file['Borough']!='Not assigned']\n",
    "dataframe.reset_index(drop=True,inplace=True)"
   ]
  },
  {
   "cell_type": "code",
   "execution_count": 114,
   "metadata": {
    "colab": {
     "base_uri": "https://localhost:8080/",
     "height": 340
    },
    "colab_type": "code",
    "id": "YeQEIjoGUxML",
    "outputId": "4911f9c7-f2a2-4c06-dc98-8fc81b697047"
   },
   "outputs": [
    {
     "data": {
      "text/html": [
       "<div>\n",
       "<style scoped>\n",
       "    .dataframe tbody tr th:only-of-type {\n",
       "        vertical-align: middle;\n",
       "    }\n",
       "\n",
       "    .dataframe tbody tr th {\n",
       "        vertical-align: top;\n",
       "    }\n",
       "\n",
       "    .dataframe thead th {\n",
       "        text-align: right;\n",
       "    }\n",
       "</style>\n",
       "<table border=\"1\" class=\"dataframe\">\n",
       "  <thead>\n",
       "    <tr style=\"text-align: right;\">\n",
       "      <th></th>\n",
       "      <th>Postal code</th>\n",
       "      <th>Borough</th>\n",
       "      <th>Neighborhood</th>\n",
       "    </tr>\n",
       "  </thead>\n",
       "  <tbody>\n",
       "    <tr>\n",
       "      <th>0</th>\n",
       "      <td>M3A</td>\n",
       "      <td>North York</td>\n",
       "      <td>Parkwoods</td>\n",
       "    </tr>\n",
       "    <tr>\n",
       "      <th>1</th>\n",
       "      <td>M4A</td>\n",
       "      <td>North York</td>\n",
       "      <td>Victoria Village</td>\n",
       "    </tr>\n",
       "    <tr>\n",
       "      <th>2</th>\n",
       "      <td>M5A</td>\n",
       "      <td>Downtown Toronto</td>\n",
       "      <td>Regent Park / Harbourfront</td>\n",
       "    </tr>\n",
       "    <tr>\n",
       "      <th>3</th>\n",
       "      <td>M6A</td>\n",
       "      <td>North York</td>\n",
       "      <td>Lawrence Manor / Lawrence Heights</td>\n",
       "    </tr>\n",
       "    <tr>\n",
       "      <th>4</th>\n",
       "      <td>M7A</td>\n",
       "      <td>Downtown Toronto</td>\n",
       "      <td>Queen's Park / Ontario Provincial Government</td>\n",
       "    </tr>\n",
       "    <tr>\n",
       "      <th>5</th>\n",
       "      <td>M9A</td>\n",
       "      <td>Etobicoke</td>\n",
       "      <td>Islington Avenue</td>\n",
       "    </tr>\n",
       "    <tr>\n",
       "      <th>6</th>\n",
       "      <td>M1B</td>\n",
       "      <td>Scarborough</td>\n",
       "      <td>Malvern / Rouge</td>\n",
       "    </tr>\n",
       "    <tr>\n",
       "      <th>7</th>\n",
       "      <td>M3B</td>\n",
       "      <td>North York</td>\n",
       "      <td>Don Mills</td>\n",
       "    </tr>\n",
       "    <tr>\n",
       "      <th>8</th>\n",
       "      <td>M4B</td>\n",
       "      <td>East York</td>\n",
       "      <td>Parkview Hill / Woodbine Gardens</td>\n",
       "    </tr>\n",
       "    <tr>\n",
       "      <th>9</th>\n",
       "      <td>M5B</td>\n",
       "      <td>Downtown Toronto</td>\n",
       "      <td>Garden District, Ryerson</td>\n",
       "    </tr>\n",
       "  </tbody>\n",
       "</table>\n",
       "</div>"
      ],
      "text/plain": [
       "  Postal code           Borough                                  Neighborhood\n",
       "0         M3A        North York                                     Parkwoods\n",
       "1         M4A        North York                              Victoria Village\n",
       "2         M5A  Downtown Toronto                    Regent Park / Harbourfront\n",
       "3         M6A        North York             Lawrence Manor / Lawrence Heights\n",
       "4         M7A  Downtown Toronto  Queen's Park / Ontario Provincial Government\n",
       "5         M9A         Etobicoke                              Islington Avenue\n",
       "6         M1B       Scarborough                               Malvern / Rouge\n",
       "7         M3B        North York                                     Don Mills\n",
       "8         M4B         East York              Parkview Hill / Woodbine Gardens\n",
       "9         M5B  Downtown Toronto                      Garden District, Ryerson"
      ]
     },
     "execution_count": 114,
     "metadata": {
      "tags": []
     },
     "output_type": "execute_result"
    }
   ],
   "source": [
    "dataframe.head(10)"
   ]
  },
  {
   "cell_type": "code",
   "execution_count": 20,
   "metadata": {
    "colab": {
     "base_uri": "https://localhost:8080/",
     "height": 35
    },
    "colab_type": "code",
    "id": "4zRF-hk2bLjH",
    "outputId": "01f6ebcd-6d49-4c0c-9efc-4528ce7f0035"
   },
   "outputs": [
    {
     "data": {
      "text/plain": [
       "(103, 3)"
      ]
     },
     "execution_count": 20,
     "metadata": {
      "tags": []
     },
     "output_type": "execute_result"
    }
   ],
   "source": [
    "dataframe.shape"
   ]
  },
  {
   "cell_type": "code",
   "execution_count": 0,
   "metadata": {
    "colab": {},
    "colab_type": "code",
    "id": "DYdVMfT_dXZ8"
   },
   "outputs": [],
   "source": [
    "f=dataframe.sort_values('Postal code',ascending=True)\n",
    "f.reset_index(drop=True,inplace=True)"
   ]
  },
  {
   "cell_type": "markdown",
   "metadata": {
    "colab_type": "text",
    "id": "cJTD8gc9eikl"
   },
   "source": [
    "<h1>FINAL DATAFRAME</h1>"
   ]
  },
  {
   "cell_type": "code",
   "execution_count": 22,
   "metadata": {
    "colab": {
     "base_uri": "https://localhost:8080/",
     "height": 194
    },
    "colab_type": "code",
    "id": "g9h0HUdzeCKM",
    "outputId": "c8858f99-d9c5-48ce-dc00-dc6f795487a3"
   },
   "outputs": [
    {
     "data": {
      "text/html": [
       "<div>\n",
       "<style scoped>\n",
       "    .dataframe tbody tr th:only-of-type {\n",
       "        vertical-align: middle;\n",
       "    }\n",
       "\n",
       "    .dataframe tbody tr th {\n",
       "        vertical-align: top;\n",
       "    }\n",
       "\n",
       "    .dataframe thead th {\n",
       "        text-align: right;\n",
       "    }\n",
       "</style>\n",
       "<table border=\"1\" class=\"dataframe\">\n",
       "  <thead>\n",
       "    <tr style=\"text-align: right;\">\n",
       "      <th></th>\n",
       "      <th>Postal code</th>\n",
       "      <th>Borough</th>\n",
       "      <th>Neighborhood</th>\n",
       "    </tr>\n",
       "  </thead>\n",
       "  <tbody>\n",
       "    <tr>\n",
       "      <th>0</th>\n",
       "      <td>M1B</td>\n",
       "      <td>Scarborough</td>\n",
       "      <td>Malvern / Rouge</td>\n",
       "    </tr>\n",
       "    <tr>\n",
       "      <th>1</th>\n",
       "      <td>M1C</td>\n",
       "      <td>Scarborough</td>\n",
       "      <td>Rouge Hill / Port Union / Highland Creek</td>\n",
       "    </tr>\n",
       "    <tr>\n",
       "      <th>2</th>\n",
       "      <td>M1E</td>\n",
       "      <td>Scarborough</td>\n",
       "      <td>Guildwood / Morningside / West Hill</td>\n",
       "    </tr>\n",
       "    <tr>\n",
       "      <th>3</th>\n",
       "      <td>M1G</td>\n",
       "      <td>Scarborough</td>\n",
       "      <td>Woburn</td>\n",
       "    </tr>\n",
       "    <tr>\n",
       "      <th>4</th>\n",
       "      <td>M1H</td>\n",
       "      <td>Scarborough</td>\n",
       "      <td>Cedarbrae</td>\n",
       "    </tr>\n",
       "  </tbody>\n",
       "</table>\n",
       "</div>"
      ],
      "text/plain": [
       "  Postal code      Borough                              Neighborhood\n",
       "0         M1B  Scarborough                           Malvern / Rouge\n",
       "1         M1C  Scarborough  Rouge Hill / Port Union / Highland Creek\n",
       "2         M1E  Scarborough       Guildwood / Morningside / West Hill\n",
       "3         M1G  Scarborough                                    Woburn\n",
       "4         M1H  Scarborough                                 Cedarbrae"
      ]
     },
     "execution_count": 22,
     "metadata": {
      "tags": []
     },
     "output_type": "execute_result"
    }
   ],
   "source": [
    "f.head()"
   ]
  },
  {
   "cell_type": "markdown",
   "metadata": {
    "colab_type": "text",
    "id": "bBiFBOw9eogt"
   },
   "source": [
    "<h1>shape</h1>"
   ]
  },
  {
   "cell_type": "code",
   "execution_count": 23,
   "metadata": {
    "colab": {
     "base_uri": "https://localhost:8080/",
     "height": 35
    },
    "colab_type": "code",
    "id": "4hgxR35gegTA",
    "outputId": "27bf802d-a572-4289-f152-19bb753d2e7e"
   },
   "outputs": [
    {
     "data": {
      "text/plain": [
       "(103, 3)"
      ]
     },
     "execution_count": 23,
     "metadata": {
      "tags": []
     },
     "output_type": "execute_result"
    }
   ],
   "source": [
    "f.shape"
   ]
  },
  {
   "cell_type": "code",
   "execution_count": 24,
   "metadata": {
    "colab": {
     "base_uri": "https://localhost:8080/",
     "height": 194
    },
    "colab_type": "code",
    "id": "5upVh56ze1kW",
    "outputId": "da29e6c9-0519-4db5-91b1-3d58cf57aba5"
   },
   "outputs": [
    {
     "data": {
      "text/html": [
       "<div>\n",
       "<style scoped>\n",
       "    .dataframe tbody tr th:only-of-type {\n",
       "        vertical-align: middle;\n",
       "    }\n",
       "\n",
       "    .dataframe tbody tr th {\n",
       "        vertical-align: top;\n",
       "    }\n",
       "\n",
       "    .dataframe thead th {\n",
       "        text-align: right;\n",
       "    }\n",
       "</style>\n",
       "<table border=\"1\" class=\"dataframe\">\n",
       "  <thead>\n",
       "    <tr style=\"text-align: right;\">\n",
       "      <th></th>\n",
       "      <th>Postal code</th>\n",
       "      <th>Borough</th>\n",
       "      <th>Neighborhood</th>\n",
       "    </tr>\n",
       "  </thead>\n",
       "  <tbody>\n",
       "    <tr>\n",
       "      <th>98</th>\n",
       "      <td>M9N</td>\n",
       "      <td>York</td>\n",
       "      <td>Weston</td>\n",
       "    </tr>\n",
       "    <tr>\n",
       "      <th>99</th>\n",
       "      <td>M9P</td>\n",
       "      <td>Etobicoke</td>\n",
       "      <td>Westmount</td>\n",
       "    </tr>\n",
       "    <tr>\n",
       "      <th>100</th>\n",
       "      <td>M9R</td>\n",
       "      <td>Etobicoke</td>\n",
       "      <td>Kingsview Village / St. Phillips / Martin Grov...</td>\n",
       "    </tr>\n",
       "    <tr>\n",
       "      <th>101</th>\n",
       "      <td>M9V</td>\n",
       "      <td>Etobicoke</td>\n",
       "      <td>South Steeles / Silverstone / Humbergate / Jam...</td>\n",
       "    </tr>\n",
       "    <tr>\n",
       "      <th>102</th>\n",
       "      <td>M9W</td>\n",
       "      <td>Etobicoke</td>\n",
       "      <td>Northwest</td>\n",
       "    </tr>\n",
       "  </tbody>\n",
       "</table>\n",
       "</div>"
      ],
      "text/plain": [
       "    Postal code    Borough                                       Neighborhood\n",
       "98          M9N       York                                             Weston\n",
       "99          M9P  Etobicoke                                          Westmount\n",
       "100         M9R  Etobicoke  Kingsview Village / St. Phillips / Martin Grov...\n",
       "101         M9V  Etobicoke  South Steeles / Silverstone / Humbergate / Jam...\n",
       "102         M9W  Etobicoke                                          Northwest"
      ]
     },
     "execution_count": 24,
     "metadata": {
      "tags": []
     },
     "output_type": "execute_result"
    }
   ],
   "source": [
    "f.tail()"
   ]
  },
  {
   "cell_type": "code",
   "execution_count": 82,
   "metadata": {
    "colab": {
     "base_uri": "https://localhost:8080/",
     "height": 301
    },
    "colab_type": "code",
    "id": "DfQ9KfREPSS0",
    "outputId": "4898884f-2501-4f6b-cd32-01b331e0cc75"
   },
   "outputs": [
    {
     "name": "stdout",
     "output_type": "stream",
     "text": [
      "Collecting geocoder\n",
      "\u001b[?25l  Downloading https://files.pythonhosted.org/packages/4f/6b/13166c909ad2f2d76b929a4227c952630ebaf0d729f6317eb09cbceccbab/geocoder-1.38.1-py2.py3-none-any.whl (98kB)\n",
      "\r",
      "\u001b[K     |███▎                            | 10kB 20.8MB/s eta 0:00:01\r",
      "\u001b[K     |██████▋                         | 20kB 3.2MB/s eta 0:00:01\r",
      "\u001b[K     |██████████                      | 30kB 4.2MB/s eta 0:00:01\r",
      "\u001b[K     |█████████████▎                  | 40kB 3.0MB/s eta 0:00:01\r",
      "\u001b[K     |████████████████▋               | 51kB 3.3MB/s eta 0:00:01\r",
      "\u001b[K     |████████████████████            | 61kB 3.9MB/s eta 0:00:01\r",
      "\u001b[K     |███████████████████████▎        | 71kB 4.2MB/s eta 0:00:01\r",
      "\u001b[K     |██████████████████████████▋     | 81kB 4.4MB/s eta 0:00:01\r",
      "\u001b[K     |██████████████████████████████  | 92kB 4.9MB/s eta 0:00:01\r",
      "\u001b[K     |████████████████████████████████| 102kB 4.0MB/s \n",
      "\u001b[?25hRequirement already satisfied: six in /usr/local/lib/python3.6/dist-packages (from geocoder) (1.12.0)\n",
      "Requirement already satisfied: requests in /usr/local/lib/python3.6/dist-packages (from geocoder) (2.21.0)\n",
      "Requirement already satisfied: future in /usr/local/lib/python3.6/dist-packages (from geocoder) (0.16.0)\n",
      "Collecting ratelim\n",
      "  Downloading https://files.pythonhosted.org/packages/f2/98/7e6d147fd16a10a5f821db6e25f192265d6ecca3d82957a4fdd592cad49c/ratelim-0.1.6-py2.py3-none-any.whl\n",
      "Requirement already satisfied: click in /usr/local/lib/python3.6/dist-packages (from geocoder) (7.1.1)\n",
      "Requirement already satisfied: chardet<3.1.0,>=3.0.2 in /usr/local/lib/python3.6/dist-packages (from requests->geocoder) (3.0.4)\n",
      "Requirement already satisfied: urllib3<1.25,>=1.21.1 in /usr/local/lib/python3.6/dist-packages (from requests->geocoder) (1.24.3)\n",
      "Requirement already satisfied: idna<2.9,>=2.5 in /usr/local/lib/python3.6/dist-packages (from requests->geocoder) (2.8)\n",
      "Requirement already satisfied: certifi>=2017.4.17 in /usr/local/lib/python3.6/dist-packages (from requests->geocoder) (2020.4.5.1)\n",
      "Requirement already satisfied: decorator in /usr/local/lib/python3.6/dist-packages (from ratelim->geocoder) (4.4.2)\n",
      "Installing collected packages: ratelim, geocoder\n",
      "Successfully installed geocoder-1.38.1 ratelim-0.1.6\n"
     ]
    }
   ],
   "source": [
    "!pip install geocoder"
   ]
  },
  {
   "cell_type": "code",
   "execution_count": 93,
   "metadata": {
    "colab": {
     "base_uri": "https://localhost:8080/",
     "height": 240
    },
    "colab_type": "code",
    "id": "NfC7CYQjOvxl",
    "outputId": "c40ed810-68ff-4365-bd5b-e40015090a9c"
   },
   "outputs": [
    {
     "ename": "TypeError",
     "evalue": "ignored",
     "output_type": "error",
     "traceback": [
      "\u001b[0;31m---------------------------------------------------------------------------\u001b[0m",
      "\u001b[0;31mTypeError\u001b[0m                                 Traceback (most recent call last)",
      "\u001b[0;32m<ipython-input-93-8a0dc7b37351>\u001b[0m in \u001b[0;36m<module>\u001b[0;34m()\u001b[0m\n\u001b[1;32m      5\u001b[0m   \u001b[0mg\u001b[0m \u001b[0;34m=\u001b[0m \u001b[0mgeocoder\u001b[0m\u001b[0;34m.\u001b[0m\u001b[0mgoogle\u001b[0m\u001b[0;34m(\u001b[0m\u001b[0;34m'{}, Toronto, Ontario'\u001b[0m\u001b[0;34m.\u001b[0m\u001b[0mformat\u001b[0m\u001b[0;34m(\u001b[0m\u001b[0mi\u001b[0m\u001b[0;34m)\u001b[0m\u001b[0;34m)\u001b[0m\u001b[0;34m\u001b[0m\u001b[0;34m\u001b[0m\u001b[0m\n\u001b[1;32m      6\u001b[0m   \u001b[0mlat_lng_coords\u001b[0m \u001b[0;34m=\u001b[0m \u001b[0mg\u001b[0m\u001b[0;34m.\u001b[0m\u001b[0mlatlng\u001b[0m\u001b[0;34m\u001b[0m\u001b[0;34m\u001b[0m\u001b[0m\n\u001b[0;32m----> 7\u001b[0;31m   \u001b[0mlatitude\u001b[0m\u001b[0;34m.\u001b[0m\u001b[0mappend\u001b[0m\u001b[0;34m(\u001b[0m\u001b[0mlat_lng_coords\u001b[0m\u001b[0;34m[\u001b[0m\u001b[0;36m0\u001b[0m\u001b[0;34m]\u001b[0m\u001b[0;34m)\u001b[0m\u001b[0;34m\u001b[0m\u001b[0;34m\u001b[0m\u001b[0m\n\u001b[0m\u001b[1;32m      8\u001b[0m   \u001b[0mlongitude\u001b[0m\u001b[0;34m.\u001b[0m\u001b[0mappend\u001b[0m\u001b[0;34m(\u001b[0m\u001b[0mlat_lng_coords\u001b[0m\u001b[0;34m[\u001b[0m\u001b[0;36m1\u001b[0m\u001b[0;34m]\u001b[0m\u001b[0;34m)\u001b[0m\u001b[0;34m\u001b[0m\u001b[0;34m\u001b[0m\u001b[0m\n\u001b[1;32m      9\u001b[0m \u001b[0;34m\u001b[0m\u001b[0m\n",
      "\u001b[0;31mTypeError\u001b[0m: 'NoneType' object is not subscriptable"
     ]
    }
   ],
   "source": [
    "import geocoder # import geocoder\n",
    "latitude = []\n",
    "longitude = []\n",
    "for i in file.iloc[:,0].tolist():\n",
    "  g = geocoder.google('{}, Toronto, Ontario'.format(i))\n",
    "  lat_lng_coords = g.latlng\n",
    "  latitude.append(lat_lng_coords[0])\n",
    "  longitude.append(lat_lng_coords[1])\n",
    "\n"
   ]
  },
  {
   "cell_type": "code",
   "execution_count": 115,
   "metadata": {
    "colab": {
     "base_uri": "https://localhost:8080/",
     "height": 424
    },
    "colab_type": "code",
    "id": "J3gtBcRzPOJi",
    "outputId": "828f895a-9256-4862-bce1-2c19902d785c"
   },
   "outputs": [
    {
     "ename": "KeyboardInterrupt",
     "evalue": "ignored",
     "output_type": "error",
     "traceback": [
      "\u001b[0;31m---------------------------------------------------------------------------\u001b[0m",
      "\u001b[0;31mKeyboardInterrupt\u001b[0m                         Traceback (most recent call last)",
      "\u001b[0;32m<ipython-input-115-dc8a0da58b3b>\u001b[0m in \u001b[0;36m<module>\u001b[0;34m()\u001b[0m\n\u001b[1;32m      5\u001b[0m \u001b[0;34m\u001b[0m\u001b[0m\n\u001b[1;32m      6\u001b[0m \u001b[0;31m# loop until you get the coordinates\u001b[0m\u001b[0;34m\u001b[0m\u001b[0;34m\u001b[0m\u001b[0;34m\u001b[0m\u001b[0m\n\u001b[0;32m----> 7\u001b[0;31m \u001b[0mg\u001b[0m \u001b[0;34m=\u001b[0m \u001b[0mgeocoder\u001b[0m\u001b[0;34m.\u001b[0m\u001b[0mgoogle\u001b[0m\u001b[0;34m(\u001b[0m\u001b[0;34m'{}, Toronto, Ontario'\u001b[0m\u001b[0;34m.\u001b[0m\u001b[0mformat\u001b[0m\u001b[0;34m(\u001b[0m\u001b[0;34m'M1A'\u001b[0m\u001b[0;34m)\u001b[0m\u001b[0;34m)\u001b[0m\u001b[0;34m\u001b[0m\u001b[0;34m\u001b[0m\u001b[0m\n\u001b[0m\u001b[1;32m      8\u001b[0m \u001b[0mlat_lng_coords\u001b[0m \u001b[0;34m=\u001b[0m \u001b[0mg\u001b[0m\u001b[0;34m.\u001b[0m\u001b[0mlatlng\u001b[0m\u001b[0;34m\u001b[0m\u001b[0;34m\u001b[0m\u001b[0m\n\u001b[1;32m      9\u001b[0m \u001b[0;34m\u001b[0m\u001b[0m\n",
      "\u001b[0;32m/usr/local/lib/python3.6/dist-packages/geocoder/api.py\u001b[0m in \u001b[0;36mgoogle\u001b[0;34m(location, **kwargs)\u001b[0m\n\u001b[1;32m    230\u001b[0m         \u001b[0;34m>\u001b[0m \u001b[0melevation\u001b[0m\u001b[0;34m\u001b[0m\u001b[0;34m\u001b[0m\u001b[0m\n\u001b[1;32m    231\u001b[0m     \"\"\"\n\u001b[0;32m--> 232\u001b[0;31m     \u001b[0;32mreturn\u001b[0m \u001b[0mget\u001b[0m\u001b[0;34m(\u001b[0m\u001b[0mlocation\u001b[0m\u001b[0;34m,\u001b[0m \u001b[0mprovider\u001b[0m\u001b[0;34m=\u001b[0m\u001b[0;34m'google'\u001b[0m\u001b[0;34m,\u001b[0m \u001b[0;34m**\u001b[0m\u001b[0mkwargs\u001b[0m\u001b[0;34m)\u001b[0m\u001b[0;34m\u001b[0m\u001b[0;34m\u001b[0m\u001b[0m\n\u001b[0m\u001b[1;32m    233\u001b[0m \u001b[0;34m\u001b[0m\u001b[0m\n\u001b[1;32m    234\u001b[0m \u001b[0;34m\u001b[0m\u001b[0m\n",
      "\u001b[0;32m/usr/local/lib/python3.6/dist-packages/geocoder/api.py\u001b[0m in \u001b[0;36mget\u001b[0;34m(location, **kwargs)\u001b[0m\n\u001b[1;32m    196\u001b[0m         \u001b[0;32mif\u001b[0m \u001b[0mmethod\u001b[0m \u001b[0;32mnot\u001b[0m \u001b[0;32min\u001b[0m \u001b[0moptions\u001b[0m\u001b[0;34m[\u001b[0m\u001b[0mprovider\u001b[0m\u001b[0;34m]\u001b[0m\u001b[0;34m:\u001b[0m\u001b[0;34m\u001b[0m\u001b[0;34m\u001b[0m\u001b[0m\n\u001b[1;32m    197\u001b[0m             \u001b[0;32mraise\u001b[0m \u001b[0mValueError\u001b[0m\u001b[0;34m(\u001b[0m\u001b[0;34m\"Invalid method\"\u001b[0m\u001b[0;34m)\u001b[0m\u001b[0;34m\u001b[0m\u001b[0;34m\u001b[0m\u001b[0m\n\u001b[0;32m--> 198\u001b[0;31m     \u001b[0;32mreturn\u001b[0m \u001b[0moptions\u001b[0m\u001b[0;34m[\u001b[0m\u001b[0mprovider\u001b[0m\u001b[0;34m]\u001b[0m\u001b[0;34m[\u001b[0m\u001b[0mmethod\u001b[0m\u001b[0;34m]\u001b[0m\u001b[0;34m(\u001b[0m\u001b[0mlocation\u001b[0m\u001b[0;34m,\u001b[0m \u001b[0;34m**\u001b[0m\u001b[0mkwargs\u001b[0m\u001b[0;34m)\u001b[0m\u001b[0;34m\u001b[0m\u001b[0;34m\u001b[0m\u001b[0m\n\u001b[0m\u001b[1;32m    199\u001b[0m \u001b[0;34m\u001b[0m\u001b[0m\n\u001b[1;32m    200\u001b[0m \u001b[0;34m\u001b[0m\u001b[0m\n",
      "\u001b[0;32m/usr/local/lib/python3.6/dist-packages/geocoder/base.py\u001b[0m in \u001b[0;36m__init__\u001b[0;34m(self, location, **kwargs)\u001b[0m\n\u001b[1;32m    408\u001b[0m \u001b[0;34m\u001b[0m\u001b[0m\n\u001b[1;32m    409\u001b[0m         \u001b[0;31m# query and parse results\u001b[0m\u001b[0;34m\u001b[0m\u001b[0;34m\u001b[0m\u001b[0;34m\u001b[0m\u001b[0m\n\u001b[0;32m--> 410\u001b[0;31m         \u001b[0mself\u001b[0m\u001b[0;34m.\u001b[0m\u001b[0m_initialize\u001b[0m\u001b[0;34m(\u001b[0m\u001b[0;34m)\u001b[0m\u001b[0;34m\u001b[0m\u001b[0;34m\u001b[0m\u001b[0m\n\u001b[0m\u001b[1;32m    411\u001b[0m \u001b[0;34m\u001b[0m\u001b[0m\n\u001b[1;32m    412\u001b[0m     \u001b[0;32mdef\u001b[0m \u001b[0m__getitem__\u001b[0m\u001b[0;34m(\u001b[0m\u001b[0mself\u001b[0m\u001b[0;34m,\u001b[0m \u001b[0mkey\u001b[0m\u001b[0;34m)\u001b[0m\u001b[0;34m:\u001b[0m\u001b[0;34m\u001b[0m\u001b[0;34m\u001b[0m\u001b[0m\n",
      "\u001b[0;32m/usr/local/lib/python3.6/dist-packages/geocoder/base.py\u001b[0m in \u001b[0;36m_initialize\u001b[0;34m(self)\u001b[0m\n\u001b[1;32m    455\u001b[0m     \u001b[0;32mdef\u001b[0m \u001b[0m_initialize\u001b[0m\u001b[0;34m(\u001b[0m\u001b[0mself\u001b[0m\u001b[0;34m)\u001b[0m\u001b[0;34m:\u001b[0m\u001b[0;34m\u001b[0m\u001b[0;34m\u001b[0m\u001b[0m\n\u001b[1;32m    456\u001b[0m         \u001b[0;31m# query URL and get valid JSON (also stored in self.json)\u001b[0m\u001b[0;34m\u001b[0m\u001b[0;34m\u001b[0m\u001b[0;34m\u001b[0m\u001b[0m\n\u001b[0;32m--> 457\u001b[0;31m         \u001b[0mjson_response\u001b[0m \u001b[0;34m=\u001b[0m \u001b[0mself\u001b[0m\u001b[0;34m.\u001b[0m\u001b[0m_connect\u001b[0m\u001b[0;34m(\u001b[0m\u001b[0;34m)\u001b[0m\u001b[0;34m\u001b[0m\u001b[0;34m\u001b[0m\u001b[0m\n\u001b[0m\u001b[1;32m    458\u001b[0m \u001b[0;34m\u001b[0m\u001b[0m\n\u001b[1;32m    459\u001b[0m         \u001b[0;31m# catch errors\u001b[0m\u001b[0;34m\u001b[0m\u001b[0;34m\u001b[0m\u001b[0;34m\u001b[0m\u001b[0m\n",
      "\u001b[0;32m/usr/local/lib/python3.6/dist-packages/geocoder/base.py\u001b[0m in \u001b[0;36m_connect\u001b[0;34m(self)\u001b[0m\n\u001b[1;32m    482\u001b[0m                 \u001b[0mheaders\u001b[0m\u001b[0;34m=\u001b[0m\u001b[0mself\u001b[0m\u001b[0;34m.\u001b[0m\u001b[0mheaders\u001b[0m\u001b[0;34m,\u001b[0m\u001b[0;34m\u001b[0m\u001b[0;34m\u001b[0m\u001b[0m\n\u001b[1;32m    483\u001b[0m                 \u001b[0mtimeout\u001b[0m\u001b[0;34m=\u001b[0m\u001b[0mself\u001b[0m\u001b[0;34m.\u001b[0m\u001b[0mtimeout\u001b[0m\u001b[0;34m,\u001b[0m\u001b[0;34m\u001b[0m\u001b[0;34m\u001b[0m\u001b[0m\n\u001b[0;32m--> 484\u001b[0;31m                 \u001b[0mproxies\u001b[0m\u001b[0;34m=\u001b[0m\u001b[0mself\u001b[0m\u001b[0;34m.\u001b[0m\u001b[0mproxies\u001b[0m\u001b[0;34m\u001b[0m\u001b[0;34m\u001b[0m\u001b[0m\n\u001b[0m\u001b[1;32m    485\u001b[0m             )\n\u001b[1;32m    486\u001b[0m \u001b[0;34m\u001b[0m\u001b[0m\n",
      "\u001b[0;32m/usr/local/lib/python3.6/dist-packages/geocoder/google.py\u001b[0m in \u001b[0;36mrate_limited_get\u001b[0;34m(self, *args, **kwargs)\u001b[0m\n\u001b[1;32m    267\u001b[0m             \u001b[0;32mreturn\u001b[0m \u001b[0mself\u001b[0m\u001b[0;34m.\u001b[0m\u001b[0mrate_limited_get_for_work\u001b[0m\u001b[0;34m(\u001b[0m\u001b[0;34m*\u001b[0m\u001b[0margs\u001b[0m\u001b[0;34m,\u001b[0m \u001b[0;34m**\u001b[0m\u001b[0mkwargs\u001b[0m\u001b[0;34m)\u001b[0m\u001b[0;34m\u001b[0m\u001b[0;34m\u001b[0m\u001b[0m\n\u001b[1;32m    268\u001b[0m         \u001b[0;32melse\u001b[0m\u001b[0;34m:\u001b[0m\u001b[0;34m\u001b[0m\u001b[0;34m\u001b[0m\u001b[0m\n\u001b[0;32m--> 269\u001b[0;31m             \u001b[0;32mreturn\u001b[0m \u001b[0mself\u001b[0m\u001b[0;34m.\u001b[0m\u001b[0mrate_limited_get_for_dev\u001b[0m\u001b[0;34m(\u001b[0m\u001b[0;34m*\u001b[0m\u001b[0margs\u001b[0m\u001b[0;34m,\u001b[0m \u001b[0;34m**\u001b[0m\u001b[0mkwargs\u001b[0m\u001b[0;34m)\u001b[0m\u001b[0;34m\u001b[0m\u001b[0;34m\u001b[0m\u001b[0m\n\u001b[0m\u001b[1;32m    270\u001b[0m \u001b[0;34m\u001b[0m\u001b[0m\n\u001b[1;32m    271\u001b[0m     \u001b[0;34m@\u001b[0m\u001b[0mratelim\u001b[0m\u001b[0;34m.\u001b[0m\u001b[0mgreedy\u001b[0m\u001b[0;34m(\u001b[0m\u001b[0;36m2500\u001b[0m\u001b[0;34m,\u001b[0m \u001b[0;36m60\u001b[0m \u001b[0;34m*\u001b[0m \u001b[0;36m60\u001b[0m \u001b[0;34m*\u001b[0m \u001b[0;36m24\u001b[0m\u001b[0;34m)\u001b[0m\u001b[0;34m\u001b[0m\u001b[0;34m\u001b[0m\u001b[0m\n",
      "\u001b[0;32m<decorator-gen-125>\u001b[0m in \u001b[0;36mrate_limited_get_for_dev\u001b[0;34m(self, *args, **kwargs)\u001b[0m\n",
      "\u001b[0;32m/usr/local/lib/python3.6/dist-packages/ratelim/__init__.py\u001b[0m in \u001b[0;36mwrapped_f\u001b[0;34m(self, f, *args, **kwargs)\u001b[0m\n\u001b[1;32m     31\u001b[0m             \u001b[0mtime_delta\u001b[0m \u001b[0;34m=\u001b[0m \u001b[0mint\u001b[0m\u001b[0;34m(\u001b[0m\u001b[0mtime_delta\u001b[0m\u001b[0;34m.\u001b[0m\u001b[0mtotal_seconds\u001b[0m\u001b[0;34m(\u001b[0m\u001b[0;34m)\u001b[0m\u001b[0;34m)\u001b[0m \u001b[0;34m+\u001b[0m \u001b[0;36m1\u001b[0m\u001b[0;34m\u001b[0m\u001b[0;34m\u001b[0m\u001b[0m\n\u001b[1;32m     32\u001b[0m             \u001b[0;32mif\u001b[0m \u001b[0mtime_delta\u001b[0m \u001b[0;34m<=\u001b[0m \u001b[0mself\u001b[0m\u001b[0;34m.\u001b[0m\u001b[0m__time_interval\u001b[0m\u001b[0;34m:\u001b[0m\u001b[0;34m\u001b[0m\u001b[0;34m\u001b[0m\u001b[0m\n\u001b[0;32m---> 33\u001b[0;31m                 \u001b[0mtime\u001b[0m\u001b[0;34m.\u001b[0m\u001b[0msleep\u001b[0m\u001b[0;34m(\u001b[0m\u001b[0mself\u001b[0m\u001b[0;34m.\u001b[0m\u001b[0m__time_interval\u001b[0m \u001b[0;34m-\u001b[0m \u001b[0mtime_delta\u001b[0m \u001b[0;34m+\u001b[0m \u001b[0;36m1\u001b[0m\u001b[0;34m)\u001b[0m\u001b[0;34m\u001b[0m\u001b[0;34m\u001b[0m\u001b[0m\n\u001b[0m\u001b[1;32m     34\u001b[0m                 \u001b[0mself\u001b[0m\u001b[0;34m.\u001b[0m\u001b[0m__numcalls\u001b[0m \u001b[0;34m=\u001b[0m \u001b[0;36m0\u001b[0m\u001b[0;34m\u001b[0m\u001b[0;34m\u001b[0m\u001b[0m\n\u001b[1;32m     35\u001b[0m                 \u001b[0mself\u001b[0m\u001b[0;34m.\u001b[0m\u001b[0m__last_reset\u001b[0m \u001b[0;34m=\u001b[0m \u001b[0mdatetime\u001b[0m\u001b[0;34m.\u001b[0m\u001b[0mdatetime\u001b[0m\u001b[0;34m.\u001b[0m\u001b[0mnow\u001b[0m\u001b[0;34m(\u001b[0m\u001b[0;34m)\u001b[0m\u001b[0;34m\u001b[0m\u001b[0;34m\u001b[0m\u001b[0m\n",
      "\u001b[0;31mKeyboardInterrupt\u001b[0m: "
     ]
    }
   ],
   "source": [
    "import geocoder # import geocoder\n",
    "\n",
    "# initialize your variable to None\n",
    "lat_lng_coords = None\n",
    "\n",
    "# loop until you get the coordinates\n",
    "g = geocoder.google('{}, Toronto, Ontario'.format('M1A'))\n",
    "lat_lng_coords = g.latlng\n",
    "\n",
    "latitude = lat_lng_coords[0]\n",
    "longitude = lat_lng_coords[1]"
   ]
  },
  {
   "cell_type": "code",
   "execution_count": 0,
   "metadata": {
    "colab": {},
    "colab_type": "code",
    "id": "FaBXPtT4PzJa"
   },
   "outputs": [],
   "source": [
    "url='https://cocl.us/Geospatial_data'\n",
    "coordinates=pd.read_csv(url)"
   ]
  },
  {
   "cell_type": "code",
   "execution_count": 26,
   "metadata": {
    "colab": {
     "base_uri": "https://localhost:8080/",
     "height": 194
    },
    "colab_type": "code",
    "id": "RJwEICPCfLGT",
    "outputId": "aed60f36-21e2-4d84-a2c4-bcf1edb3a781"
   },
   "outputs": [
    {
     "data": {
      "text/html": [
       "<div>\n",
       "<style scoped>\n",
       "    .dataframe tbody tr th:only-of-type {\n",
       "        vertical-align: middle;\n",
       "    }\n",
       "\n",
       "    .dataframe tbody tr th {\n",
       "        vertical-align: top;\n",
       "    }\n",
       "\n",
       "    .dataframe thead th {\n",
       "        text-align: right;\n",
       "    }\n",
       "</style>\n",
       "<table border=\"1\" class=\"dataframe\">\n",
       "  <thead>\n",
       "    <tr style=\"text-align: right;\">\n",
       "      <th></th>\n",
       "      <th>Postal Code</th>\n",
       "      <th>Latitude</th>\n",
       "      <th>Longitude</th>\n",
       "    </tr>\n",
       "  </thead>\n",
       "  <tbody>\n",
       "    <tr>\n",
       "      <th>0</th>\n",
       "      <td>M1B</td>\n",
       "      <td>43.806686</td>\n",
       "      <td>-79.194353</td>\n",
       "    </tr>\n",
       "    <tr>\n",
       "      <th>1</th>\n",
       "      <td>M1C</td>\n",
       "      <td>43.784535</td>\n",
       "      <td>-79.160497</td>\n",
       "    </tr>\n",
       "    <tr>\n",
       "      <th>2</th>\n",
       "      <td>M1E</td>\n",
       "      <td>43.763573</td>\n",
       "      <td>-79.188711</td>\n",
       "    </tr>\n",
       "    <tr>\n",
       "      <th>3</th>\n",
       "      <td>M1G</td>\n",
       "      <td>43.770992</td>\n",
       "      <td>-79.216917</td>\n",
       "    </tr>\n",
       "    <tr>\n",
       "      <th>4</th>\n",
       "      <td>M1H</td>\n",
       "      <td>43.773136</td>\n",
       "      <td>-79.239476</td>\n",
       "    </tr>\n",
       "  </tbody>\n",
       "</table>\n",
       "</div>"
      ],
      "text/plain": [
       "  Postal Code   Latitude  Longitude\n",
       "0         M1B  43.806686 -79.194353\n",
       "1         M1C  43.784535 -79.160497\n",
       "2         M1E  43.763573 -79.188711\n",
       "3         M1G  43.770992 -79.216917\n",
       "4         M1H  43.773136 -79.239476"
      ]
     },
     "execution_count": 26,
     "metadata": {
      "tags": []
     },
     "output_type": "execute_result"
    }
   ],
   "source": [
    "coordinates.head()"
   ]
  },
  {
   "cell_type": "code",
   "execution_count": 0,
   "metadata": {
    "colab": {},
    "colab_type": "code",
    "id": "IVG440yVfNil"
   },
   "outputs": [],
   "source": [
    "final=pd.concat([f,coordinates.iloc[:,1:3]],axis=1)"
   ]
  },
  {
   "cell_type": "code",
   "execution_count": 28,
   "metadata": {
    "colab": {
     "base_uri": "https://localhost:8080/",
     "height": 340
    },
    "colab_type": "code",
    "id": "SOiut4XPfRMt",
    "outputId": "973c26e9-4e4a-4c0f-e26c-c51e685a7ed7"
   },
   "outputs": [
    {
     "data": {
      "text/html": [
       "<div>\n",
       "<style scoped>\n",
       "    .dataframe tbody tr th:only-of-type {\n",
       "        vertical-align: middle;\n",
       "    }\n",
       "\n",
       "    .dataframe tbody tr th {\n",
       "        vertical-align: top;\n",
       "    }\n",
       "\n",
       "    .dataframe thead th {\n",
       "        text-align: right;\n",
       "    }\n",
       "</style>\n",
       "<table border=\"1\" class=\"dataframe\">\n",
       "  <thead>\n",
       "    <tr style=\"text-align: right;\">\n",
       "      <th></th>\n",
       "      <th>Postal code</th>\n",
       "      <th>Borough</th>\n",
       "      <th>Neighborhood</th>\n",
       "      <th>Latitude</th>\n",
       "      <th>Longitude</th>\n",
       "    </tr>\n",
       "  </thead>\n",
       "  <tbody>\n",
       "    <tr>\n",
       "      <th>0</th>\n",
       "      <td>M1B</td>\n",
       "      <td>Scarborough</td>\n",
       "      <td>Malvern / Rouge</td>\n",
       "      <td>43.806686</td>\n",
       "      <td>-79.194353</td>\n",
       "    </tr>\n",
       "    <tr>\n",
       "      <th>1</th>\n",
       "      <td>M1C</td>\n",
       "      <td>Scarborough</td>\n",
       "      <td>Rouge Hill / Port Union / Highland Creek</td>\n",
       "      <td>43.784535</td>\n",
       "      <td>-79.160497</td>\n",
       "    </tr>\n",
       "    <tr>\n",
       "      <th>2</th>\n",
       "      <td>M1E</td>\n",
       "      <td>Scarborough</td>\n",
       "      <td>Guildwood / Morningside / West Hill</td>\n",
       "      <td>43.763573</td>\n",
       "      <td>-79.188711</td>\n",
       "    </tr>\n",
       "    <tr>\n",
       "      <th>3</th>\n",
       "      <td>M1G</td>\n",
       "      <td>Scarborough</td>\n",
       "      <td>Woburn</td>\n",
       "      <td>43.770992</td>\n",
       "      <td>-79.216917</td>\n",
       "    </tr>\n",
       "    <tr>\n",
       "      <th>4</th>\n",
       "      <td>M1H</td>\n",
       "      <td>Scarborough</td>\n",
       "      <td>Cedarbrae</td>\n",
       "      <td>43.773136</td>\n",
       "      <td>-79.239476</td>\n",
       "    </tr>\n",
       "    <tr>\n",
       "      <th>5</th>\n",
       "      <td>M1J</td>\n",
       "      <td>Scarborough</td>\n",
       "      <td>Scarborough Village</td>\n",
       "      <td>43.744734</td>\n",
       "      <td>-79.239476</td>\n",
       "    </tr>\n",
       "    <tr>\n",
       "      <th>6</th>\n",
       "      <td>M1K</td>\n",
       "      <td>Scarborough</td>\n",
       "      <td>Kennedy Park / Ionview / East Birchmount Park</td>\n",
       "      <td>43.727929</td>\n",
       "      <td>-79.262029</td>\n",
       "    </tr>\n",
       "    <tr>\n",
       "      <th>7</th>\n",
       "      <td>M1L</td>\n",
       "      <td>Scarborough</td>\n",
       "      <td>Golden Mile / Clairlea / Oakridge</td>\n",
       "      <td>43.711112</td>\n",
       "      <td>-79.284577</td>\n",
       "    </tr>\n",
       "    <tr>\n",
       "      <th>8</th>\n",
       "      <td>M1M</td>\n",
       "      <td>Scarborough</td>\n",
       "      <td>Cliffside / Cliffcrest / Scarborough Village West</td>\n",
       "      <td>43.716316</td>\n",
       "      <td>-79.239476</td>\n",
       "    </tr>\n",
       "    <tr>\n",
       "      <th>9</th>\n",
       "      <td>M1N</td>\n",
       "      <td>Scarborough</td>\n",
       "      <td>Birch Cliff / Cliffside West</td>\n",
       "      <td>43.692657</td>\n",
       "      <td>-79.264848</td>\n",
       "    </tr>\n",
       "  </tbody>\n",
       "</table>\n",
       "</div>"
      ],
      "text/plain": [
       "  Postal code      Borough  ...   Latitude  Longitude\n",
       "0         M1B  Scarborough  ...  43.806686 -79.194353\n",
       "1         M1C  Scarborough  ...  43.784535 -79.160497\n",
       "2         M1E  Scarborough  ...  43.763573 -79.188711\n",
       "3         M1G  Scarborough  ...  43.770992 -79.216917\n",
       "4         M1H  Scarborough  ...  43.773136 -79.239476\n",
       "5         M1J  Scarborough  ...  43.744734 -79.239476\n",
       "6         M1K  Scarborough  ...  43.727929 -79.262029\n",
       "7         M1L  Scarborough  ...  43.711112 -79.284577\n",
       "8         M1M  Scarborough  ...  43.716316 -79.239476\n",
       "9         M1N  Scarborough  ...  43.692657 -79.264848\n",
       "\n",
       "[10 rows x 5 columns]"
      ]
     },
     "execution_count": 28,
     "metadata": {
      "tags": []
     },
     "output_type": "execute_result"
    }
   ],
   "source": [
    "final.head(10)"
   ]
  },
  {
   "cell_type": "code",
   "execution_count": 29,
   "metadata": {
    "colab": {
     "base_uri": "https://localhost:8080/",
     "height": 35
    },
    "colab_type": "code",
    "id": "Q4qKIfEwf-bW",
    "outputId": "f07fa04e-3acb-4830-abcc-ad9483742c6c"
   },
   "outputs": [
    {
     "data": {
      "text/plain": [
       "(103, 5)"
      ]
     },
     "execution_count": 29,
     "metadata": {
      "tags": []
     },
     "output_type": "execute_result"
    }
   ],
   "source": [
    "final.shape"
   ]
  },
  {
   "cell_type": "code",
   "execution_count": 33,
   "metadata": {
    "colab": {
     "base_uri": "https://localhost:8080/",
     "height": 70
    },
    "colab_type": "code",
    "id": "c2COp96njv1r",
    "outputId": "a7e4f55d-45b2-410f-d681-f114318ad92f"
   },
   "outputs": [
    {
     "data": {
      "text/plain": [
       "array(['Scarborough', 'North York', 'East York', 'East Toronto',\n",
       "       'Central Toronto', 'Downtown Toronto', 'York', 'West Toronto',\n",
       "       'Mississauga', 'Etobicoke'], dtype=object)"
      ]
     },
     "execution_count": 33,
     "metadata": {
      "tags": []
     },
     "output_type": "execute_result"
    }
   ],
   "source": [
    "final['Borough'].unique()"
   ]
  },
  {
   "cell_type": "code",
   "execution_count": 34,
   "metadata": {
    "colab": {
     "base_uri": "https://localhost:8080/",
     "height": 35
    },
    "colab_type": "code",
    "id": "02lG2KJUj77U",
    "outputId": "2ddf212a-dd15-4b1a-afed-119c2612270f"
   },
   "outputs": [
    {
     "data": {
      "text/plain": [
       "10"
      ]
     },
     "execution_count": 34,
     "metadata": {
      "tags": []
     },
     "output_type": "execute_result"
    }
   ],
   "source": [
    "len(final['Borough'].unique())"
   ]
  },
  {
   "cell_type": "code",
   "execution_count": 0,
   "metadata": {
    "colab": {},
    "colab_type": "code",
    "id": "20q5VJb2leaX"
   },
   "outputs": [],
   "source": [
    "X=final[['Latitude','Longitude']]"
   ]
  },
  {
   "cell_type": "code",
   "execution_count": 40,
   "metadata": {
    "colab": {
     "base_uri": "https://localhost:8080/",
     "height": 194
    },
    "colab_type": "code",
    "id": "ED4p42YFlugm",
    "outputId": "f63ff6a4-2f19-4837-99ba-9fd58d91efc8"
   },
   "outputs": [
    {
     "data": {
      "text/html": [
       "<div>\n",
       "<style scoped>\n",
       "    .dataframe tbody tr th:only-of-type {\n",
       "        vertical-align: middle;\n",
       "    }\n",
       "\n",
       "    .dataframe tbody tr th {\n",
       "        vertical-align: top;\n",
       "    }\n",
       "\n",
       "    .dataframe thead th {\n",
       "        text-align: right;\n",
       "    }\n",
       "</style>\n",
       "<table border=\"1\" class=\"dataframe\">\n",
       "  <thead>\n",
       "    <tr style=\"text-align: right;\">\n",
       "      <th></th>\n",
       "      <th>Latitude</th>\n",
       "      <th>Longitude</th>\n",
       "    </tr>\n",
       "  </thead>\n",
       "  <tbody>\n",
       "    <tr>\n",
       "      <th>0</th>\n",
       "      <td>43.806686</td>\n",
       "      <td>-79.194353</td>\n",
       "    </tr>\n",
       "    <tr>\n",
       "      <th>1</th>\n",
       "      <td>43.784535</td>\n",
       "      <td>-79.160497</td>\n",
       "    </tr>\n",
       "    <tr>\n",
       "      <th>2</th>\n",
       "      <td>43.763573</td>\n",
       "      <td>-79.188711</td>\n",
       "    </tr>\n",
       "    <tr>\n",
       "      <th>3</th>\n",
       "      <td>43.770992</td>\n",
       "      <td>-79.216917</td>\n",
       "    </tr>\n",
       "    <tr>\n",
       "      <th>4</th>\n",
       "      <td>43.773136</td>\n",
       "      <td>-79.239476</td>\n",
       "    </tr>\n",
       "  </tbody>\n",
       "</table>\n",
       "</div>"
      ],
      "text/plain": [
       "    Latitude  Longitude\n",
       "0  43.806686 -79.194353\n",
       "1  43.784535 -79.160497\n",
       "2  43.763573 -79.188711\n",
       "3  43.770992 -79.216917\n",
       "4  43.773136 -79.239476"
      ]
     },
     "execution_count": 40,
     "metadata": {
      "tags": []
     },
     "output_type": "execute_result"
    }
   ],
   "source": [
    "X.head()"
   ]
  },
  {
   "cell_type": "code",
   "execution_count": 0,
   "metadata": {
    "colab": {},
    "colab_type": "code",
    "id": "dYP973zskIxw"
   },
   "outputs": [],
   "source": [
    "from sklearn.preprocessing import StandardScaler\n",
    "s=StandardScaler()\n",
    "x=StandardScaler().fit_transform(X)"
   ]
  },
  {
   "cell_type": "code",
   "execution_count": 0,
   "metadata": {
    "colab": {},
    "colab_type": "code",
    "id": "fJY-dQ41moyD"
   },
   "outputs": [],
   "source": []
  },
  {
   "cell_type": "code",
   "execution_count": 0,
   "metadata": {
    "colab": {},
    "colab_type": "code",
    "id": "oOY7Ah6Qgs9Q"
   },
   "outputs": [],
   "source": [
    "from sklearn.cluster import KMeans\n",
    "kmeans=KMeans(init='k-means++',n_clusters=10,random_state=0)"
   ]
  },
  {
   "cell_type": "code",
   "execution_count": 50,
   "metadata": {
    "colab": {
     "base_uri": "https://localhost:8080/",
     "height": 70
    },
    "colab_type": "code",
    "id": "KTGRRMSgea4T",
    "outputId": "a7af821d-b788-4b21-bd28-c8d237ca787b"
   },
   "outputs": [
    {
     "data": {
      "text/plain": [
       "KMeans(algorithm='auto', copy_x=True, init='k-means++', max_iter=300,\n",
       "       n_clusters=10, n_init=10, n_jobs=None, precompute_distances='auto',\n",
       "       random_state=0, tol=0.0001, verbose=0)"
      ]
     },
     "execution_count": 50,
     "metadata": {
      "tags": []
     },
     "output_type": "execute_result"
    }
   ],
   "source": [
    "kmeans"
   ]
  },
  {
   "cell_type": "code",
   "execution_count": 51,
   "metadata": {
    "colab": {
     "base_uri": "https://localhost:8080/",
     "height": 70
    },
    "colab_type": "code",
    "id": "1_DKF1BzecKQ",
    "outputId": "7fdbc777-d974-45ea-d74f-f29310c6211f"
   },
   "outputs": [
    {
     "data": {
      "text/plain": [
       "KMeans(algorithm='auto', copy_x=True, init='k-means++', max_iter=300,\n",
       "       n_clusters=10, n_init=10, n_jobs=None, precompute_distances='auto',\n",
       "       random_state=0, tol=0.0001, verbose=0)"
      ]
     },
     "execution_count": 51,
     "metadata": {
      "tags": []
     },
     "output_type": "execute_result"
    }
   ],
   "source": [
    "kmeans.fit(x)"
   ]
  },
  {
   "cell_type": "code",
   "execution_count": 52,
   "metadata": {
    "colab": {
     "base_uri": "https://localhost:8080/",
     "height": 106
    },
    "colab_type": "code",
    "id": "MAGRdVc9m53N",
    "outputId": "6e46c7f4-4805-4c8b-e9f6-2e5400516f24"
   },
   "outputs": [
    {
     "data": {
      "text/plain": [
       "array([0, 0, 0, 0, 0, 7, 7, 7, 7, 7, 7, 7, 0, 4, 0, 4, 0, 4, 4, 4, 4, 4,\n",
       "       4, 4, 8, 4, 4, 7, 8, 8, 8, 5, 5, 8, 7, 7, 6, 6, 1, 1, 6, 6, 6, 6,\n",
       "       1, 1, 1, 1, 1, 1, 6, 6, 3, 3, 3, 3, 3, 3, 3, 3, 3, 3, 1, 1, 1, 3,\n",
       "       3, 3, 3, 3, 3, 5, 1, 1, 9, 9, 9, 3, 3, 5, 9, 9, 9, 9, 9, 3, 2, 6,\n",
       "       2, 2, 9, 2, 2, 2, 2, 2, 5, 5, 5, 5, 5, 5, 5], dtype=int32)"
      ]
     },
     "execution_count": 52,
     "metadata": {
      "tags": []
     },
     "output_type": "execute_result"
    }
   ],
   "source": [
    "kmeans.labels_"
   ]
  },
  {
   "cell_type": "code",
   "execution_count": 0,
   "metadata": {
    "colab": {},
    "colab_type": "code",
    "id": "aF-DCIpIoe0K"
   },
   "outputs": [],
   "source": [
    "labels=pd.DataFrame({'label':kmeans.labels_})"
   ]
  },
  {
   "cell_type": "code",
   "execution_count": 59,
   "metadata": {
    "colab": {
     "base_uri": "https://localhost:8080/",
     "height": 194
    },
    "colab_type": "code",
    "id": "ksHii6A7ol6P",
    "outputId": "7be01717-8e5d-428d-a640-279d339e8493"
   },
   "outputs": [
    {
     "data": {
      "text/html": [
       "<div>\n",
       "<style scoped>\n",
       "    .dataframe tbody tr th:only-of-type {\n",
       "        vertical-align: middle;\n",
       "    }\n",
       "\n",
       "    .dataframe tbody tr th {\n",
       "        vertical-align: top;\n",
       "    }\n",
       "\n",
       "    .dataframe thead th {\n",
       "        text-align: right;\n",
       "    }\n",
       "</style>\n",
       "<table border=\"1\" class=\"dataframe\">\n",
       "  <thead>\n",
       "    <tr style=\"text-align: right;\">\n",
       "      <th></th>\n",
       "      <th>label</th>\n",
       "    </tr>\n",
       "  </thead>\n",
       "  <tbody>\n",
       "    <tr>\n",
       "      <th>0</th>\n",
       "      <td>0</td>\n",
       "    </tr>\n",
       "    <tr>\n",
       "      <th>1</th>\n",
       "      <td>0</td>\n",
       "    </tr>\n",
       "    <tr>\n",
       "      <th>2</th>\n",
       "      <td>0</td>\n",
       "    </tr>\n",
       "    <tr>\n",
       "      <th>3</th>\n",
       "      <td>0</td>\n",
       "    </tr>\n",
       "    <tr>\n",
       "      <th>4</th>\n",
       "      <td>0</td>\n",
       "    </tr>\n",
       "  </tbody>\n",
       "</table>\n",
       "</div>"
      ],
      "text/plain": [
       "   label\n",
       "0      0\n",
       "1      0\n",
       "2      0\n",
       "3      0\n",
       "4      0"
      ]
     },
     "execution_count": 59,
     "metadata": {
      "tags": []
     },
     "output_type": "execute_result"
    }
   ],
   "source": [
    "labels.head()"
   ]
  },
  {
   "cell_type": "code",
   "execution_count": 53,
   "metadata": {
    "colab": {
     "base_uri": "https://localhost:8080/",
     "height": 35
    },
    "colab_type": "code",
    "id": "PCv6RY_5nIf1",
    "outputId": "dff2a7c0-0ff4-4622-ab0c-1cd50983ab00"
   },
   "outputs": [
    {
     "data": {
      "text/plain": [
       "103"
      ]
     },
     "execution_count": 53,
     "metadata": {
      "tags": []
     },
     "output_type": "execute_result"
    }
   ],
   "source": [
    "len(kmeans.labels_)"
   ]
  },
  {
   "cell_type": "code",
   "execution_count": 0,
   "metadata": {
    "colab": {},
    "colab_type": "code",
    "id": "txWJ4G8QnMzm"
   },
   "outputs": [],
   "source": [
    "import matplotlib.cm as cm\n",
    "import matplotlib.pyplot as plt\n",
    "import folium\n",
    "import matplotlib.colors as colors\n",
    "import numpy as np\n"
   ]
  },
  {
   "cell_type": "code",
   "execution_count": 63,
   "metadata": {
    "colab": {
     "base_uri": "https://localhost:8080/",
     "height": 788
    },
    "colab_type": "code",
    "id": "1LGLRF3InbhF",
    "outputId": "6086a497-99dc-45a3-bfeb-7b23bde428e8"
   },
   "outputs": [
    {
     "data": {
      "text/html": [
       "<div style=\"width:100%;\"><div style=\"position:relative;width:100%;height:0;padding-bottom:60%;\"><iframe src=\"about:blank\" style=\"position:absolute;width:100%;height:100%;left:0;top:0;border:none !important;\" data-html=PCFET0NUWVBFIGh0bWw+CjxoZWFkPiAgICAKICAgIDxtZXRhIGh0dHAtZXF1aXY9ImNvbnRlbnQtdHlwZSIgY29udGVudD0idGV4dC9odG1sOyBjaGFyc2V0PVVURi04IiAvPgogICAgPHNjcmlwdD5MX1BSRUZFUl9DQU5WQVM9ZmFsc2U7IExfTk9fVE9VQ0g9ZmFsc2U7IExfRElTQUJMRV8zRD1mYWxzZTs8L3NjcmlwdD4KICAgIDxzY3JpcHQgc3JjPSJodHRwczovL2Nkbi5qc2RlbGl2ci5uZXQvbnBtL2xlYWZsZXRAMS40LjAvZGlzdC9sZWFmbGV0LmpzIj48L3NjcmlwdD4KICAgIDxzY3JpcHQgc3JjPSJodHRwczovL2NvZGUuanF1ZXJ5LmNvbS9qcXVlcnktMS4xMi40Lm1pbi5qcyI+PC9zY3JpcHQ+CiAgICA8c2NyaXB0IHNyYz0iaHR0cHM6Ly9tYXhjZG4uYm9vdHN0cmFwY2RuLmNvbS9ib290c3RyYXAvMy4yLjAvanMvYm9vdHN0cmFwLm1pbi5qcyI+PC9zY3JpcHQ+CiAgICA8c2NyaXB0IHNyYz0iaHR0cHM6Ly9jZG5qcy5jbG91ZGZsYXJlLmNvbS9hamF4L2xpYnMvTGVhZmxldC5hd2Vzb21lLW1hcmtlcnMvMi4wLjIvbGVhZmxldC5hd2Vzb21lLW1hcmtlcnMuanMiPjwvc2NyaXB0PgogICAgPGxpbmsgcmVsPSJzdHlsZXNoZWV0IiBocmVmPSJodHRwczovL2Nkbi5qc2RlbGl2ci5uZXQvbnBtL2xlYWZsZXRAMS40LjAvZGlzdC9sZWFmbGV0LmNzcyIvPgogICAgPGxpbmsgcmVsPSJzdHlsZXNoZWV0IiBocmVmPSJodHRwczovL21heGNkbi5ib290c3RyYXBjZG4uY29tL2Jvb3RzdHJhcC8zLjIuMC9jc3MvYm9vdHN0cmFwLm1pbi5jc3MiLz4KICAgIDxsaW5rIHJlbD0ic3R5bGVzaGVldCIgaHJlZj0iaHR0cHM6Ly9tYXhjZG4uYm9vdHN0cmFwY2RuLmNvbS9ib290c3RyYXAvMy4yLjAvY3NzL2Jvb3RzdHJhcC10aGVtZS5taW4uY3NzIi8+CiAgICA8bGluayByZWw9InN0eWxlc2hlZXQiIGhyZWY9Imh0dHBzOi8vbWF4Y2RuLmJvb3RzdHJhcGNkbi5jb20vZm9udC1hd2Vzb21lLzQuNi4zL2Nzcy9mb250LWF3ZXNvbWUubWluLmNzcyIvPgogICAgPGxpbmsgcmVsPSJzdHlsZXNoZWV0IiBocmVmPSJodHRwczovL2NkbmpzLmNsb3VkZmxhcmUuY29tL2FqYXgvbGlicy9MZWFmbGV0LmF3ZXNvbWUtbWFya2Vycy8yLjAuMi9sZWFmbGV0LmF3ZXNvbWUtbWFya2Vycy5jc3MiLz4KICAgIDxsaW5rIHJlbD0ic3R5bGVzaGVldCIgaHJlZj0iaHR0cHM6Ly9yYXdjZG4uZ2l0aGFjay5jb20vcHl0aG9uLXZpc3VhbGl6YXRpb24vZm9saXVtL21hc3Rlci9mb2xpdW0vdGVtcGxhdGVzL2xlYWZsZXQuYXdlc29tZS5yb3RhdGUuY3NzIi8+CiAgICA8c3R5bGU+aHRtbCwgYm9keSB7d2lkdGg6IDEwMCU7aGVpZ2h0OiAxMDAlO21hcmdpbjogMDtwYWRkaW5nOiAwO308L3N0eWxlPgogICAgPHN0eWxlPiNtYXAge3Bvc2l0aW9uOmFic29sdXRlO3RvcDowO2JvdHRvbTowO3JpZ2h0OjA7bGVmdDowO308L3N0eWxlPgogICAgCiAgICA8bWV0YSBuYW1lPSJ2aWV3cG9ydCIgY29udGVudD0id2lkdGg9ZGV2aWNlLXdpZHRoLAogICAgICAgIGluaXRpYWwtc2NhbGU9MS4wLCBtYXhpbXVtLXNjYWxlPTEuMCwgdXNlci1zY2FsYWJsZT1ubyIgLz4KICAgIDxzdHlsZT4jbWFwX2U2ODAyZTkyMWQ4NTQwZDRhMzc3MzI4Y2VjZTcyODZhIHsKICAgICAgICBwb3NpdGlvbjogcmVsYXRpdmU7CiAgICAgICAgd2lkdGg6IDEwMC4wJTsKICAgICAgICBoZWlnaHQ6IDEwMC4wJTsKICAgICAgICBsZWZ0OiAwLjAlOwogICAgICAgIHRvcDogMC4wJTsKICAgICAgICB9CiAgICA8L3N0eWxlPgo8L2hlYWQ+Cjxib2R5PiAgICAKICAgIAogICAgPGRpdiBjbGFzcz0iZm9saXVtLW1hcCIgaWQ9Im1hcF9lNjgwMmU5MjFkODU0MGQ0YTM3NzMyOGNlY2U3Mjg2YSIgPjwvZGl2Pgo8L2JvZHk+CjxzY3JpcHQ+ICAgIAogICAgCiAgICAKICAgICAgICB2YXIgYm91bmRzID0gbnVsbDsKICAgIAoKICAgIHZhciBtYXBfZTY4MDJlOTIxZDg1NDBkNGEzNzczMjhjZWNlNzI4NmEgPSBMLm1hcCgKICAgICAgICAnbWFwX2U2ODAyZTkyMWQ4NTQwZDRhMzc3MzI4Y2VjZTcyODZhJywgewogICAgICAgIGNlbnRlcjogWzQzLjgwNjY4NiwgLTc5LjE5NDM1M10sCiAgICAgICAgem9vbTogMTEsCiAgICAgICAgbWF4Qm91bmRzOiBib3VuZHMsCiAgICAgICAgbGF5ZXJzOiBbXSwKICAgICAgICB3b3JsZENvcHlKdW1wOiBmYWxzZSwKICAgICAgICBjcnM6IEwuQ1JTLkVQU0czODU3LAogICAgICAgIHpvb21Db250cm9sOiB0cnVlLAogICAgICAgIH0pOwoKCiAgICAKICAgIHZhciB0aWxlX2xheWVyXzgxM2VmMjQ3NDQ4ZTQ1MTlhMmQyYTUzZWJmZTAzN2NmID0gTC50aWxlTGF5ZXIoCiAgICAgICAgJ2h0dHBzOi8ve3N9LnRpbGUub3BlbnN0cmVldG1hcC5vcmcve3p9L3t4fS97eX0ucG5nJywKICAgICAgICB7CiAgICAgICAgImF0dHJpYnV0aW9uIjogbnVsbCwKICAgICAgICAiZGV0ZWN0UmV0aW5hIjogZmFsc2UsCiAgICAgICAgIm1heE5hdGl2ZVpvb20iOiAxOCwKICAgICAgICAibWF4Wm9vbSI6IDE4LAogICAgICAgICJtaW5ab29tIjogMCwKICAgICAgICAibm9XcmFwIjogZmFsc2UsCiAgICAgICAgIm9wYWNpdHkiOiAxLAogICAgICAgICJzdWJkb21haW5zIjogImFiYyIsCiAgICAgICAgInRtcyI6IGZhbHNlCn0pLmFkZFRvKG1hcF9lNjgwMmU5MjFkODU0MGQ0YTM3NzMyOGNlY2U3Mjg2YSk7CiAgICAKICAgICAgICAgICAgdmFyIGNpcmNsZV9tYXJrZXJfMjA0OGUwMDg0Yjk0NGU5Nzg2YTZiYzg4MDIyMzA2NTQgPSBMLmNpcmNsZU1hcmtlcigKICAgICAgICAgICAgICAgIFs0My44MDY2ODYyOTk5OTk5OTYsIC03OS4xOTQzNTM0MDAwMDAwMV0sCiAgICAgICAgICAgICAgICB7CiAgImJ1YmJsaW5nTW91c2VFdmVudHMiOiB0cnVlLAogICJjb2xvciI6ICIjZmYwMDAwIiwKICAiZGFzaEFycmF5IjogbnVsbCwKICAiZGFzaE9mZnNldCI6IG51bGwsCiAgImZpbGwiOiB0cnVlLAogICJmaWxsQ29sb3IiOiAiI2ZmMDAwMCIsCiAgImZpbGxPcGFjaXR5IjogMC43LAogICJmaWxsUnVsZSI6ICJldmVub2RkIiwKICAibGluZUNhcCI6ICJyb3VuZCIsCiAgImxpbmVKb2luIjogInJvdW5kIiwKICAib3BhY2l0eSI6IDEuMCwKICAicmFkaXVzIjogNSwKICAic3Ryb2tlIjogdHJ1ZSwKICAid2VpZ2h0IjogMwp9CiAgICAgICAgICAgICAgICApCiAgICAgICAgICAgICAgICAuYWRkVG8obWFwX2U2ODAyZTkyMWQ4NTQwZDRhMzc3MzI4Y2VjZTcyODZhKTsKICAgICAgICAgICAgCiAgICAKICAgICAgICAgICAgdmFyIHBvcHVwXzBhMWNiZmUxZWRmZTQxODA5MzQ0NzQ5MDRjOGI4ZDExID0gTC5wb3B1cCh7bWF4V2lkdGg6ICcxMDAlJwogICAgICAgICAgICAKICAgICAgICAgICAgfSk7CgogICAgICAgICAgICAKICAgICAgICAgICAgICAgIHZhciBodG1sXzM1ODdhYjZjNTQ3MTRjYWY5OWRlYjgwYTg4NDFjMWQ4ID0gJChgPGRpdiBpZD0iaHRtbF8zNTg3YWI2YzU0NzE0Y2FmOTlkZWI4MGE4ODQxYzFkOCIgc3R5bGU9IndpZHRoOiAxMDAuMCU7IGhlaWdodDogMTAwLjAlOyI+TWFsdmVybiAvIFJvdWdlIENsdXN0ZXIgMDwvZGl2PmApWzBdOwogICAgICAgICAgICAgICAgcG9wdXBfMGExY2JmZTFlZGZlNDE4MDkzNDQ3NDkwNGM4YjhkMTEuc2V0Q29udGVudChodG1sXzM1ODdhYjZjNTQ3MTRjYWY5OWRlYjgwYTg4NDFjMWQ4KTsKICAgICAgICAgICAgCgogICAgICAgICAgICBjaXJjbGVfbWFya2VyXzIwNDhlMDA4NGI5NDRlOTc4NmE2YmM4ODAyMjMwNjU0LmJpbmRQb3B1cChwb3B1cF8wYTFjYmZlMWVkZmU0MTgwOTM0NDc0OTA0YzhiOGQxMSkKICAgICAgICAgICAgOwoKICAgICAgICAgICAgCiAgICAgICAgCiAgICAKICAgICAgICAgICAgdmFyIGNpcmNsZV9tYXJrZXJfNWRhZTExMjA0NGNmNGVhZjgzZjYzOTA0MDc0NjgwNjUgPSBMLmNpcmNsZU1hcmtlcigKICAgICAgICAgICAgICAgIFs0My43ODQ1MzUxLCAtNzkuMTYwNDk3MDk5OTk5OTldLAogICAgICAgICAgICAgICAgewogICJidWJibGluZ01vdXNlRXZlbnRzIjogdHJ1ZSwKICAiY29sb3IiOiAiI2ZmMDAwMCIsCiAgImRhc2hBcnJheSI6IG51bGwsCiAgImRhc2hPZmZzZXQiOiBudWxsLAogICJmaWxsIjogdHJ1ZSwKICAiZmlsbENvbG9yIjogIiNmZjAwMDAiLAogICJmaWxsT3BhY2l0eSI6IDAuNywKICAiZmlsbFJ1bGUiOiAiZXZlbm9kZCIsCiAgImxpbmVDYXAiOiAicm91bmQiLAogICJsaW5lSm9pbiI6ICJyb3VuZCIsCiAgIm9wYWNpdHkiOiAxLjAsCiAgInJhZGl1cyI6IDUsCiAgInN0cm9rZSI6IHRydWUsCiAgIndlaWdodCI6IDMKfQogICAgICAgICAgICAgICAgKQogICAgICAgICAgICAgICAgLmFkZFRvKG1hcF9lNjgwMmU5MjFkODU0MGQ0YTM3NzMyOGNlY2U3Mjg2YSk7CiAgICAgICAgICAgIAogICAgCiAgICAgICAgICAgIHZhciBwb3B1cF9mMWQ2MjExYmYxMjg0NmQ0YmY1ZTcyMDkzYzFkZmEwYyA9IEwucG9wdXAoe21heFdpZHRoOiAnMTAwJScKICAgICAgICAgICAgCiAgICAgICAgICAgIH0pOwoKICAgICAgICAgICAgCiAgICAgICAgICAgICAgICB2YXIgaHRtbF80NmQzMWFlYmQ2NWU0OGVjYTJlOGE0NThlNGE3MzY0OSA9ICQoYDxkaXYgaWQ9Imh0bWxfNDZkMzFhZWJkNjVlNDhlY2EyZThhNDU4ZTRhNzM2NDkiIHN0eWxlPSJ3aWR0aDogMTAwLjAlOyBoZWlnaHQ6IDEwMC4wJTsiPlJvdWdlIEhpbGwgLyBQb3J0IFVuaW9uIC8gSGlnaGxhbmQgQ3JlZWsgQ2x1c3RlciAwPC9kaXY+YClbMF07CiAgICAgICAgICAgICAgICBwb3B1cF9mMWQ2MjExYmYxMjg0NmQ0YmY1ZTcyMDkzYzFkZmEwYy5zZXRDb250ZW50KGh0bWxfNDZkMzFhZWJkNjVlNDhlY2EyZThhNDU4ZTRhNzM2NDkpOwogICAgICAgICAgICAKCiAgICAgICAgICAgIGNpcmNsZV9tYXJrZXJfNWRhZTExMjA0NGNmNGVhZjgzZjYzOTA0MDc0NjgwNjUuYmluZFBvcHVwKHBvcHVwX2YxZDYyMTFiZjEyODQ2ZDRiZjVlNzIwOTNjMWRmYTBjKQogICAgICAgICAgICA7CgogICAgICAgICAgICAKICAgICAgICAKICAgIAogICAgICAgICAgICB2YXIgY2lyY2xlX21hcmtlcl8yODYyNjE1NmYxOTc0YmQ2ODBmYjU1NWNmNTczOGE4MCA9IEwuY2lyY2xlTWFya2VyKAogICAgICAgICAgICAgICAgWzQzLjc2MzU3MjYsIC03OS4xODg3MTE1XSwKICAgICAgICAgICAgICAgIHsKICAiYnViYmxpbmdNb3VzZUV2ZW50cyI6IHRydWUsCiAgImNvbG9yIjogIiNmZjAwMDAiLAogICJkYXNoQXJyYXkiOiBudWxsLAogICJkYXNoT2Zmc2V0IjogbnVsbCwKICAiZmlsbCI6IHRydWUsCiAgImZpbGxDb2xvciI6ICIjZmYwMDAwIiwKICAiZmlsbE9wYWNpdHkiOiAwLjcsCiAgImZpbGxSdWxlIjogImV2ZW5vZGQiLAogICJsaW5lQ2FwIjogInJvdW5kIiwKICAibGluZUpvaW4iOiAicm91bmQiLAogICJvcGFjaXR5IjogMS4wLAogICJyYWRpdXMiOiA1LAogICJzdHJva2UiOiB0cnVlLAogICJ3ZWlnaHQiOiAzCn0KICAgICAgICAgICAgICAgICkKICAgICAgICAgICAgICAgIC5hZGRUbyhtYXBfZTY4MDJlOTIxZDg1NDBkNGEzNzczMjhjZWNlNzI4NmEpOwogICAgICAgICAgICAKICAgIAogICAgICAgICAgICB2YXIgcG9wdXBfZTBhZTBlNzI1ZDI3NGM4MGE3OTE3MzE0OTA5ZWRkMGMgPSBMLnBvcHVwKHttYXhXaWR0aDogJzEwMCUnCiAgICAgICAgICAgIAogICAgICAgICAgICB9KTsKCiAgICAgICAgICAgIAogICAgICAgICAgICAgICAgdmFyIGh0bWxfOGExMzM3OWE5ZTFhNDhlOTkyMzhiNWQ3MzJlMDYwYWMgPSAkKGA8ZGl2IGlkPSJodG1sXzhhMTMzNzlhOWUxYTQ4ZTk5MjM4YjVkNzMyZTA2MGFjIiBzdHlsZT0id2lkdGg6IDEwMC4wJTsgaGVpZ2h0OiAxMDAuMCU7Ij5HdWlsZHdvb2QgLyBNb3JuaW5nc2lkZSAvIFdlc3QgSGlsbCBDbHVzdGVyIDA8L2Rpdj5gKVswXTsKICAgICAgICAgICAgICAgIHBvcHVwX2UwYWUwZTcyNWQyNzRjODBhNzkxNzMxNDkwOWVkZDBjLnNldENvbnRlbnQoaHRtbF84YTEzMzc5YTllMWE0OGU5OTIzOGI1ZDczMmUwNjBhYyk7CiAgICAgICAgICAgIAoKICAgICAgICAgICAgY2lyY2xlX21hcmtlcl8yODYyNjE1NmYxOTc0YmQ2ODBmYjU1NWNmNTczOGE4MC5iaW5kUG9wdXAocG9wdXBfZTBhZTBlNzI1ZDI3NGM4MGE3OTE3MzE0OTA5ZWRkMGMpCiAgICAgICAgICAgIDsKCiAgICAgICAgICAgIAogICAgICAgIAogICAgCiAgICAgICAgICAgIHZhciBjaXJjbGVfbWFya2VyX2U1MTU2MTkyOTY5MzQ3ZmU5YTU5Nzg1OTQ3ZWEzOTg5ID0gTC5jaXJjbGVNYXJrZXIoCiAgICAgICAgICAgICAgICBbNDMuNzcwOTkyMSwgLTc5LjIxNjkxNzQwMDAwMDAxXSwKICAgICAgICAgICAgICAgIHsKICAiYnViYmxpbmdNb3VzZUV2ZW50cyI6IHRydWUsCiAgImNvbG9yIjogIiNmZjAwMDAiLAogICJkYXNoQXJyYXkiOiBudWxsLAogICJkYXNoT2Zmc2V0IjogbnVsbCwKICAiZmlsbCI6IHRydWUsCiAgImZpbGxDb2xvciI6ICIjZmYwMDAwIiwKICAiZmlsbE9wYWNpdHkiOiAwLjcsCiAgImZpbGxSdWxlIjogImV2ZW5vZGQiLAogICJsaW5lQ2FwIjogInJvdW5kIiwKICAibGluZUpvaW4iOiAicm91bmQiLAogICJvcGFjaXR5IjogMS4wLAogICJyYWRpdXMiOiA1LAogICJzdHJva2UiOiB0cnVlLAogICJ3ZWlnaHQiOiAzCn0KICAgICAgICAgICAgICAgICkKICAgICAgICAgICAgICAgIC5hZGRUbyhtYXBfZTY4MDJlOTIxZDg1NDBkNGEzNzczMjhjZWNlNzI4NmEpOwogICAgICAgICAgICAKICAgIAogICAgICAgICAgICB2YXIgcG9wdXBfMTg2YzE5NTE5MTAzNDEzNmI5NDRiYzg4MWY0YjYyOTIgPSBMLnBvcHVwKHttYXhXaWR0aDogJzEwMCUnCiAgICAgICAgICAgIAogICAgICAgICAgICB9KTsKCiAgICAgICAgICAgIAogICAgICAgICAgICAgICAgdmFyIGh0bWxfZmIxOGI3MzM4Mjk5NGUyOGEwZmZkZGQ0MzEyN2VmMjMgPSAkKGA8ZGl2IGlkPSJodG1sX2ZiMThiNzMzODI5OTRlMjhhMGZmZGRkNDMxMjdlZjIzIiBzdHlsZT0id2lkdGg6IDEwMC4wJTsgaGVpZ2h0OiAxMDAuMCU7Ij5Xb2J1cm4gQ2x1c3RlciAwPC9kaXY+YClbMF07CiAgICAgICAgICAgICAgICBwb3B1cF8xODZjMTk1MTkxMDM0MTM2Yjk0NGJjODgxZjRiNjI5Mi5zZXRDb250ZW50KGh0bWxfZmIxOGI3MzM4Mjk5NGUyOGEwZmZkZGQ0MzEyN2VmMjMpOwogICAgICAgICAgICAKCiAgICAgICAgICAgIGNpcmNsZV9tYXJrZXJfZTUxNTYxOTI5NjkzNDdmZTlhNTk3ODU5NDdlYTM5ODkuYmluZFBvcHVwKHBvcHVwXzE4NmMxOTUxOTEwMzQxMzZiOTQ0YmM4ODFmNGI2MjkyKQogICAgICAgICAgICA7CgogICAgICAgICAgICAKICAgICAgICAKICAgIAogICAgICAgICAgICB2YXIgY2lyY2xlX21hcmtlcl82NzNmMjJkMTNlYmY0NzdlODNkYzRkNjhlOWRiOGJhOSA9IEwuY2lyY2xlTWFya2VyKAogICAgICAgICAgICAgICAgWzQzLjc3MzEzNiwgLTc5LjIzOTQ3NjA5OTk5OTk5XSwKICAgICAgICAgICAgICAgIHsKICAiYnViYmxpbmdNb3VzZUV2ZW50cyI6IHRydWUsCiAgImNvbG9yIjogIiNmZjAwMDAiLAogICJkYXNoQXJyYXkiOiBudWxsLAogICJkYXNoT2Zmc2V0IjogbnVsbCwKICAiZmlsbCI6IHRydWUsCiAgImZpbGxDb2xvciI6ICIjZmYwMDAwIiwKICAiZmlsbE9wYWNpdHkiOiAwLjcsCiAgImZpbGxSdWxlIjogImV2ZW5vZGQiLAogICJsaW5lQ2FwIjogInJvdW5kIiwKICAibGluZUpvaW4iOiAicm91bmQiLAogICJvcGFjaXR5IjogMS4wLAogICJyYWRpdXMiOiA1LAogICJzdHJva2UiOiB0cnVlLAogICJ3ZWlnaHQiOiAzCn0KICAgICAgICAgICAgICAgICkKICAgICAgICAgICAgICAgIC5hZGRUbyhtYXBfZTY4MDJlOTIxZDg1NDBkNGEzNzczMjhjZWNlNzI4NmEpOwogICAgICAgICAgICAKICAgIAogICAgICAgICAgICB2YXIgcG9wdXBfYzMyMzFjZjRiNmI5NDFlMzhlZjkyOTdkM2ZlMTg3MmMgPSBMLnBvcHVwKHttYXhXaWR0aDogJzEwMCUnCiAgICAgICAgICAgIAogICAgICAgICAgICB9KTsKCiAgICAgICAgICAgIAogICAgICAgICAgICAgICAgdmFyIGh0bWxfMTZjNGRhM2FiOTA1NDA3NzhhZGQzOWRlNThkOWUyYTAgPSAkKGA8ZGl2IGlkPSJodG1sXzE2YzRkYTNhYjkwNTQwNzc4YWRkMzlkZTU4ZDllMmEwIiBzdHlsZT0id2lkdGg6IDEwMC4wJTsgaGVpZ2h0OiAxMDAuMCU7Ij5DZWRhcmJyYWUgQ2x1c3RlciAwPC9kaXY+YClbMF07CiAgICAgICAgICAgICAgICBwb3B1cF9jMzIzMWNmNGI2Yjk0MWUzOGVmOTI5N2QzZmUxODcyYy5zZXRDb250ZW50KGh0bWxfMTZjNGRhM2FiOTA1NDA3NzhhZGQzOWRlNThkOWUyYTApOwogICAgICAgICAgICAKCiAgICAgICAgICAgIGNpcmNsZV9tYXJrZXJfNjczZjIyZDEzZWJmNDc3ZTgzZGM0ZDY4ZTlkYjhiYTkuYmluZFBvcHVwKHBvcHVwX2MzMjMxY2Y0YjZiOTQxZTM4ZWY5Mjk3ZDNmZTE4NzJjKQogICAgICAgICAgICA7CgogICAgICAgICAgICAKICAgICAgICAKICAgIAogICAgICAgICAgICB2YXIgY2lyY2xlX21hcmtlcl82MjEzNDE4OWE5YjE0OWE2OTgyZDY5OWRmZGFmOGMwZiA9IEwuY2lyY2xlTWFya2VyKAogICAgICAgICAgICAgICAgWzQzLjc0NDczNDIsIC03OS4yMzk0NzYwOTk5OTk5OV0sCiAgICAgICAgICAgICAgICB7CiAgImJ1YmJsaW5nTW91c2VFdmVudHMiOiB0cnVlLAogICJjb2xvciI6ICIjZDRkZDgwIiwKICAiZGFzaEFycmF5IjogbnVsbCwKICAiZGFzaE9mZnNldCI6IG51bGwsCiAgImZpbGwiOiB0cnVlLAogICJmaWxsQ29sb3IiOiAiI2Q0ZGQ4MCIsCiAgImZpbGxPcGFjaXR5IjogMC43LAogICJmaWxsUnVsZSI6ICJldmVub2RkIiwKICAibGluZUNhcCI6ICJyb3VuZCIsCiAgImxpbmVKb2luIjogInJvdW5kIiwKICAib3BhY2l0eSI6IDEuMCwKICAicmFkaXVzIjogNSwKICAic3Ryb2tlIjogdHJ1ZSwKICAid2VpZ2h0IjogMwp9CiAgICAgICAgICAgICAgICApCiAgICAgICAgICAgICAgICAuYWRkVG8obWFwX2U2ODAyZTkyMWQ4NTQwZDRhMzc3MzI4Y2VjZTcyODZhKTsKICAgICAgICAgICAgCiAgICAKICAgICAgICAgICAgdmFyIHBvcHVwXzQ1Y2QwOTUwMDk5NjRmMTg4MjNiZjU0MDFlYjdlNWQ3ID0gTC5wb3B1cCh7bWF4V2lkdGg6ICcxMDAlJwogICAgICAgICAgICAKICAgICAgICAgICAgfSk7CgogICAgICAgICAgICAKICAgICAgICAgICAgICAgIHZhciBodG1sXzk4NWI2ZDNiYzgxMDQ4MWU4ODIwYjFmZTliNDVkMjkyID0gJChgPGRpdiBpZD0iaHRtbF85ODViNmQzYmM4MTA0ODFlODgyMGIxZmU5YjQ1ZDI5MiIgc3R5bGU9IndpZHRoOiAxMDAuMCU7IGhlaWdodDogMTAwLjAlOyI+U2NhcmJvcm91Z2ggVmlsbGFnZSBDbHVzdGVyIDc8L2Rpdj5gKVswXTsKICAgICAgICAgICAgICAgIHBvcHVwXzQ1Y2QwOTUwMDk5NjRmMTg4MjNiZjU0MDFlYjdlNWQ3LnNldENvbnRlbnQoaHRtbF85ODViNmQzYmM4MTA0ODFlODgyMGIxZmU5YjQ1ZDI5Mik7CiAgICAgICAgICAgIAoKICAgICAgICAgICAgY2lyY2xlX21hcmtlcl82MjEzNDE4OWE5YjE0OWE2OTgyZDY5OWRmZGFmOGMwZi5iaW5kUG9wdXAocG9wdXBfNDVjZDA5NTAwOTk2NGYxODgyM2JmNTQwMWViN2U1ZDcpCiAgICAgICAgICAgIDsKCiAgICAgICAgICAgIAogICAgICAgIAogICAgCiAgICAgICAgICAgIHZhciBjaXJjbGVfbWFya2VyXzUyMjYzMzQ2MmQ5YTQ1Mjc5M2VjYTAwNDkzNTRkNWRkID0gTC5jaXJjbGVNYXJrZXIoCiAgICAgICAgICAgICAgICBbNDMuNzI3OTI5MiwgLTc5LjI2MjAyOTQwMDAwMDAyXSwKICAgICAgICAgICAgICAgIHsKICAiYnViYmxpbmdNb3VzZUV2ZW50cyI6IHRydWUsCiAgImNvbG9yIjogIiNkNGRkODAiLAogICJkYXNoQXJyYXkiOiBudWxsLAogICJkYXNoT2Zmc2V0IjogbnVsbCwKICAiZmlsbCI6IHRydWUsCiAgImZpbGxDb2xvciI6ICIjZDRkZDgwIiwKICAiZmlsbE9wYWNpdHkiOiAwLjcsCiAgImZpbGxSdWxlIjogImV2ZW5vZGQiLAogICJsaW5lQ2FwIjogInJvdW5kIiwKICAibGluZUpvaW4iOiAicm91bmQiLAogICJvcGFjaXR5IjogMS4wLAogICJyYWRpdXMiOiA1LAogICJzdHJva2UiOiB0cnVlLAogICJ3ZWlnaHQiOiAzCn0KICAgICAgICAgICAgICAgICkKICAgICAgICAgICAgICAgIC5hZGRUbyhtYXBfZTY4MDJlOTIxZDg1NDBkNGEzNzczMjhjZWNlNzI4NmEpOwogICAgICAgICAgICAKICAgIAogICAgICAgICAgICB2YXIgcG9wdXBfYTAyZjZhYjhjNmVlNDdkYzg2MzFlNDUxMzg2OTA4NTQgPSBMLnBvcHVwKHttYXhXaWR0aDogJzEwMCUnCiAgICAgICAgICAgIAogICAgICAgICAgICB9KTsKCiAgICAgICAgICAgIAogICAgICAgICAgICAgICAgdmFyIGh0bWxfZWUwNDc5YzUwMWQ2NDQxZGEyYzIxOTdkNzBiYWJkYzEgPSAkKGA8ZGl2IGlkPSJodG1sX2VlMDQ3OWM1MDFkNjQ0MWRhMmMyMTk3ZDcwYmFiZGMxIiBzdHlsZT0id2lkdGg6IDEwMC4wJTsgaGVpZ2h0OiAxMDAuMCU7Ij5LZW5uZWR5IFBhcmsgLyBJb252aWV3IC8gRWFzdCBCaXJjaG1vdW50IFBhcmsgQ2x1c3RlciA3PC9kaXY+YClbMF07CiAgICAgICAgICAgICAgICBwb3B1cF9hMDJmNmFiOGM2ZWU0N2RjODYzMWU0NTEzODY5MDg1NC5zZXRDb250ZW50KGh0bWxfZWUwNDc5YzUwMWQ2NDQxZGEyYzIxOTdkNzBiYWJkYzEpOwogICAgICAgICAgICAKCiAgICAgICAgICAgIGNpcmNsZV9tYXJrZXJfNTIyNjMzNDYyZDlhNDUyNzkzZWNhMDA0OTM1NGQ1ZGQuYmluZFBvcHVwKHBvcHVwX2EwMmY2YWI4YzZlZTQ3ZGM4NjMxZTQ1MTM4NjkwODU0KQogICAgICAgICAgICA7CgogICAgICAgICAgICAKICAgICAgICAKICAgIAogICAgICAgICAgICB2YXIgY2lyY2xlX21hcmtlcl83NDkyYTIzOWU4YmU0ZTA3YmM2YmIzNjkzZGIzY2U4MSA9IEwuY2lyY2xlTWFya2VyKAogICAgICAgICAgICAgICAgWzQzLjcxMTExMTcwMDAwMDAwNCwgLTc5LjI4NDU3NzJdLAogICAgICAgICAgICAgICAgewogICJidWJibGluZ01vdXNlRXZlbnRzIjogdHJ1ZSwKICAiY29sb3IiOiAiI2Q0ZGQ4MCIsCiAgImRhc2hBcnJheSI6IG51bGwsCiAgImRhc2hPZmZzZXQiOiBudWxsLAogICJmaWxsIjogdHJ1ZSwKICAiZmlsbENvbG9yIjogIiNkNGRkODAiLAogICJmaWxsT3BhY2l0eSI6IDAuNywKICAiZmlsbFJ1bGUiOiAiZXZlbm9kZCIsCiAgImxpbmVDYXAiOiAicm91bmQiLAogICJsaW5lSm9pbiI6ICJyb3VuZCIsCiAgIm9wYWNpdHkiOiAxLjAsCiAgInJhZGl1cyI6IDUsCiAgInN0cm9rZSI6IHRydWUsCiAgIndlaWdodCI6IDMKfQogICAgICAgICAgICAgICAgKQogICAgICAgICAgICAgICAgLmFkZFRvKG1hcF9lNjgwMmU5MjFkODU0MGQ0YTM3NzMyOGNlY2U3Mjg2YSk7CiAgICAgICAgICAgIAogICAgCiAgICAgICAgICAgIHZhciBwb3B1cF85NTNiZWQwODU2MDg0NTA4OTE4YjhjOWVkOWY4ODg3OCA9IEwucG9wdXAoe21heFdpZHRoOiAnMTAwJScKICAgICAgICAgICAgCiAgICAgICAgICAgIH0pOwoKICAgICAgICAgICAgCiAgICAgICAgICAgICAgICB2YXIgaHRtbF8wNWIzODhkYjI2YTA0YjAyYWNiMDkyMjI4YmEyMGQ1NCA9ICQoYDxkaXYgaWQ9Imh0bWxfMDViMzg4ZGIyNmEwNGIwMmFjYjA5MjIyOGJhMjBkNTQiIHN0eWxlPSJ3aWR0aDogMTAwLjAlOyBoZWlnaHQ6IDEwMC4wJTsiPkdvbGRlbiBNaWxlIC8gQ2xhaXJsZWEgLyBPYWtyaWRnZSBDbHVzdGVyIDc8L2Rpdj5gKVswXTsKICAgICAgICAgICAgICAgIHBvcHVwXzk1M2JlZDA4NTYwODQ1MDg5MThiOGM5ZWQ5Zjg4ODc4LnNldENvbnRlbnQoaHRtbF8wNWIzODhkYjI2YTA0YjAyYWNiMDkyMjI4YmEyMGQ1NCk7CiAgICAgICAgICAgIAoKICAgICAgICAgICAgY2lyY2xlX21hcmtlcl83NDkyYTIzOWU4YmU0ZTA3YmM2YmIzNjkzZGIzY2U4MS5iaW5kUG9wdXAocG9wdXBfOTUzYmVkMDg1NjA4NDUwODkxOGI4YzllZDlmODg4NzgpCiAgICAgICAgICAgIDsKCiAgICAgICAgICAgIAogICAgICAgIAogICAgCiAgICAgICAgICAgIHZhciBjaXJjbGVfbWFya2VyXzA3ZDNjN2Y3NmU2MDQyYTFhMGUzYTUxZDc5ODIxNzVlID0gTC5jaXJjbGVNYXJrZXIoCiAgICAgICAgICAgICAgICBbNDMuNzE2MzE2LCAtNzkuMjM5NDc2MDk5OTk5OTldLAogICAgICAgICAgICAgICAgewogICJidWJibGluZ01vdXNlRXZlbnRzIjogdHJ1ZSwKICAiY29sb3IiOiAiI2Q0ZGQ4MCIsCiAgImRhc2hBcnJheSI6IG51bGwsCiAgImRhc2hPZmZzZXQiOiBudWxsLAogICJmaWxsIjogdHJ1ZSwKICAiZmlsbENvbG9yIjogIiNkNGRkODAiLAogICJmaWxsT3BhY2l0eSI6IDAuNywKICAiZmlsbFJ1bGUiOiAiZXZlbm9kZCIsCiAgImxpbmVDYXAiOiAicm91bmQiLAogICJsaW5lSm9pbiI6ICJyb3VuZCIsCiAgIm9wYWNpdHkiOiAxLjAsCiAgInJhZGl1cyI6IDUsCiAgInN0cm9rZSI6IHRydWUsCiAgIndlaWdodCI6IDMKfQogICAgICAgICAgICAgICAgKQogICAgICAgICAgICAgICAgLmFkZFRvKG1hcF9lNjgwMmU5MjFkODU0MGQ0YTM3NzMyOGNlY2U3Mjg2YSk7CiAgICAgICAgICAgIAogICAgCiAgICAgICAgICAgIHZhciBwb3B1cF8xYzc3NWFjYTI5Y2M0OGM4OWU3YTAwN2VmNTM0ZjM5MCA9IEwucG9wdXAoe21heFdpZHRoOiAnMTAwJScKICAgICAgICAgICAgCiAgICAgICAgICAgIH0pOwoKICAgICAgICAgICAgCiAgICAgICAgICAgICAgICB2YXIgaHRtbF9iMGU3YTBhNDQ4Yzk0NjMyOGU3NzY0YTZhMTZiNTA3OCA9ICQoYDxkaXYgaWQ9Imh0bWxfYjBlN2EwYTQ0OGM5NDYzMjhlNzc2NGE2YTE2YjUwNzgiIHN0eWxlPSJ3aWR0aDogMTAwLjAlOyBoZWlnaHQ6IDEwMC4wJTsiPkNsaWZmc2lkZSAvIENsaWZmY3Jlc3QgLyBTY2FyYm9yb3VnaCBWaWxsYWdlIFdlc3QgQ2x1c3RlciA3PC9kaXY+YClbMF07CiAgICAgICAgICAgICAgICBwb3B1cF8xYzc3NWFjYTI5Y2M0OGM4OWU3YTAwN2VmNTM0ZjM5MC5zZXRDb250ZW50KGh0bWxfYjBlN2EwYTQ0OGM5NDYzMjhlNzc2NGE2YTE2YjUwNzgpOwogICAgICAgICAgICAKCiAgICAgICAgICAgIGNpcmNsZV9tYXJrZXJfMDdkM2M3Zjc2ZTYwNDJhMWEwZTNhNTFkNzk4MjE3NWUuYmluZFBvcHVwKHBvcHVwXzFjNzc1YWNhMjljYzQ4Yzg5ZTdhMDA3ZWY1MzRmMzkwKQogICAgICAgICAgICA7CgogICAgICAgICAgICAKICAgICAgICAKICAgIAogICAgICAgICAgICB2YXIgY2lyY2xlX21hcmtlcl9kNGFiYmZmNzQyNWI0ZDY0YTk2MGZmYjdkMTYwYjA2OSA9IEwuY2lyY2xlTWFya2VyKAogICAgICAgICAgICAgICAgWzQzLjY5MjY1NzAwMDAwMDAwNCwgLTc5LjI2NDg0ODFdLAogICAgICAgICAgICAgICAgewogICJidWJibGluZ01vdXNlRXZlbnRzIjogdHJ1ZSwKICAiY29sb3IiOiAiI2Q0ZGQ4MCIsCiAgImRhc2hBcnJheSI6IG51bGwsCiAgImRhc2hPZmZzZXQiOiBudWxsLAogICJmaWxsIjogdHJ1ZSwKICAiZmlsbENvbG9yIjogIiNkNGRkODAiLAogICJmaWxsT3BhY2l0eSI6IDAuNywKICAiZmlsbFJ1bGUiOiAiZXZlbm9kZCIsCiAgImxpbmVDYXAiOiAicm91bmQiLAogICJsaW5lSm9pbiI6ICJyb3VuZCIsCiAgIm9wYWNpdHkiOiAxLjAsCiAgInJhZGl1cyI6IDUsCiAgInN0cm9rZSI6IHRydWUsCiAgIndlaWdodCI6IDMKfQogICAgICAgICAgICAgICAgKQogICAgICAgICAgICAgICAgLmFkZFRvKG1hcF9lNjgwMmU5MjFkODU0MGQ0YTM3NzMyOGNlY2U3Mjg2YSk7CiAgICAgICAgICAgIAogICAgCiAgICAgICAgICAgIHZhciBwb3B1cF9jNDI2ODVkNjFmNzI0YmYxOGU4MDEwNTY5OTMxMjI1NyA9IEwucG9wdXAoe21heFdpZHRoOiAnMTAwJScKICAgICAgICAgICAgCiAgICAgICAgICAgIH0pOwoKICAgICAgICAgICAgCiAgICAgICAgICAgICAgICB2YXIgaHRtbF9lMDA0NGMwOGIxZjg0ZjQ5OWQxOTNkNWMyZjFhZDhhYSA9ICQoYDxkaXYgaWQ9Imh0bWxfZTAwNDRjMDhiMWY4NGY0OTlkMTkzZDVjMmYxYWQ4YWEiIHN0eWxlPSJ3aWR0aDogMTAwLjAlOyBoZWlnaHQ6IDEwMC4wJTsiPkJpcmNoIENsaWZmIC8gQ2xpZmZzaWRlIFdlc3QgQ2x1c3RlciA3PC9kaXY+YClbMF07CiAgICAgICAgICAgICAgICBwb3B1cF9jNDI2ODVkNjFmNzI0YmYxOGU4MDEwNTY5OTMxMjI1Ny5zZXRDb250ZW50KGh0bWxfZTAwNDRjMDhiMWY4NGY0OTlkMTkzZDVjMmYxYWQ4YWEpOwogICAgICAgICAgICAKCiAgICAgICAgICAgIGNpcmNsZV9tYXJrZXJfZDRhYmJmZjc0MjViNGQ2NGE5NjBmZmI3ZDE2MGIwNjkuYmluZFBvcHVwKHBvcHVwX2M0MjY4NWQ2MWY3MjRiZjE4ZTgwMTA1Njk5MzEyMjU3KQogICAgICAgICAgICA7CgogICAgICAgICAgICAKICAgICAgICAKICAgIAogICAgICAgICAgICB2YXIgY2lyY2xlX21hcmtlcl82NDk3YThlYTFhOTc0MzE4ODJmMDQ3NmVlMzg4NzU0MiA9IEwuY2lyY2xlTWFya2VyKAogICAgICAgICAgICAgICAgWzQzLjc1NzQwOTYsIC03OS4yNzMzMDQwMDAwMDAwMV0sCiAgICAgICAgICAgICAgICB7CiAgImJ1YmJsaW5nTW91c2VFdmVudHMiOiB0cnVlLAogICJjb2xvciI6ICIjZDRkZDgwIiwKICAiZGFzaEFycmF5IjogbnVsbCwKICAiZGFzaE9mZnNldCI6IG51bGwsCiAgImZpbGwiOiB0cnVlLAogICJmaWxsQ29sb3IiOiAiI2Q0ZGQ4MCIsCiAgImZpbGxPcGFjaXR5IjogMC43LAogICJmaWxsUnVsZSI6ICJldmVub2RkIiwKICAibGluZUNhcCI6ICJyb3VuZCIsCiAgImxpbmVKb2luIjogInJvdW5kIiwKICAib3BhY2l0eSI6IDEuMCwKICAicmFkaXVzIjogNSwKICAic3Ryb2tlIjogdHJ1ZSwKICAid2VpZ2h0IjogMwp9CiAgICAgICAgICAgICAgICApCiAgICAgICAgICAgICAgICAuYWRkVG8obWFwX2U2ODAyZTkyMWQ4NTQwZDRhMzc3MzI4Y2VjZTcyODZhKTsKICAgICAgICAgICAgCiAgICAKICAgICAgICAgICAgdmFyIHBvcHVwX2RhYTU4ZmI1MmJjODRiNDM4MDYzN2YzZmIzNTE3MjVhID0gTC5wb3B1cCh7bWF4V2lkdGg6ICcxMDAlJwogICAgICAgICAgICAKICAgICAgICAgICAgfSk7CgogICAgICAgICAgICAKICAgICAgICAgICAgICAgIHZhciBodG1sXzM3YWZmYjdjNGE2MDQ1NTU5ZTdhZGE3NTlhYzZhNzFmID0gJChgPGRpdiBpZD0iaHRtbF8zN2FmZmI3YzRhNjA0NTU1OWU3YWRhNzU5YWM2YTcxZiIgc3R5bGU9IndpZHRoOiAxMDAuMCU7IGhlaWdodDogMTAwLjAlOyI+RG9yc2V0IFBhcmsgLyBXZXhmb3JkIEhlaWdodHMgLyBTY2FyYm9yb3VnaCBUb3duIENlbnRyZSBDbHVzdGVyIDc8L2Rpdj5gKVswXTsKICAgICAgICAgICAgICAgIHBvcHVwX2RhYTU4ZmI1MmJjODRiNDM4MDYzN2YzZmIzNTE3MjVhLnNldENvbnRlbnQoaHRtbF8zN2FmZmI3YzRhNjA0NTU1OWU3YWRhNzU5YWM2YTcxZik7CiAgICAgICAgICAgIAoKICAgICAgICAgICAgY2lyY2xlX21hcmtlcl82NDk3YThlYTFhOTc0MzE4ODJmMDQ3NmVlMzg4NzU0Mi5iaW5kUG9wdXAocG9wdXBfZGFhNThmYjUyYmM4NGI0MzgwNjM3ZjNmYjM1MTcyNWEpCiAgICAgICAgICAgIDsKCiAgICAgICAgICAgIAogICAgICAgIAogICAgCiAgICAgICAgICAgIHZhciBjaXJjbGVfbWFya2VyX2RkYjdiOGJiODZmZjQ4NjU4ZGY4M2UyN2YzMGM0NDA3ID0gTC5jaXJjbGVNYXJrZXIoCiAgICAgICAgICAgICAgICBbNDMuNzUwMDcxNTAwMDAwMDA0LCAtNzkuMjk1ODQ5MV0sCiAgICAgICAgICAgICAgICB7CiAgImJ1YmJsaW5nTW91c2VFdmVudHMiOiB0cnVlLAogICJjb2xvciI6ICIjZDRkZDgwIiwKICAiZGFzaEFycmF5IjogbnVsbCwKICAiZGFzaE9mZnNldCI6IG51bGwsCiAgImZpbGwiOiB0cnVlLAogICJmaWxsQ29sb3IiOiAiI2Q0ZGQ4MCIsCiAgImZpbGxPcGFjaXR5IjogMC43LAogICJmaWxsUnVsZSI6ICJldmVub2RkIiwKICAibGluZUNhcCI6ICJyb3VuZCIsCiAgImxpbmVKb2luIjogInJvdW5kIiwKICAib3BhY2l0eSI6IDEuMCwKICAicmFkaXVzIjogNSwKICAic3Ryb2tlIjogdHJ1ZSwKICAid2VpZ2h0IjogMwp9CiAgICAgICAgICAgICAgICApCiAgICAgICAgICAgICAgICAuYWRkVG8obWFwX2U2ODAyZTkyMWQ4NTQwZDRhMzc3MzI4Y2VjZTcyODZhKTsKICAgICAgICAgICAgCiAgICAKICAgICAgICAgICAgdmFyIHBvcHVwXzNhNzc5MzJlYWViZjQ2ZThhNGVjZDgwYzZjM2JiYTUxID0gTC5wb3B1cCh7bWF4V2lkdGg6ICcxMDAlJwogICAgICAgICAgICAKICAgICAgICAgICAgfSk7CgogICAgICAgICAgICAKICAgICAgICAgICAgICAgIHZhciBodG1sXzY5NzcxODViYzFjMzQzMmVhZGM4ZmEyODNmZDVhYTZiID0gJChgPGRpdiBpZD0iaHRtbF82OTc3MTg1YmMxYzM0MzJlYWRjOGZhMjgzZmQ1YWE2YiIgc3R5bGU9IndpZHRoOiAxMDAuMCU7IGhlaWdodDogMTAwLjAlOyI+V2V4Zm9yZCAvIE1hcnl2YWxlIENsdXN0ZXIgNzwvZGl2PmApWzBdOwogICAgICAgICAgICAgICAgcG9wdXBfM2E3NzkzMmVhZWJmNDZlOGE0ZWNkODBjNmMzYmJhNTEuc2V0Q29udGVudChodG1sXzY5NzcxODViYzFjMzQzMmVhZGM4ZmEyODNmZDVhYTZiKTsKICAgICAgICAgICAgCgogICAgICAgICAgICBjaXJjbGVfbWFya2VyX2RkYjdiOGJiODZmZjQ4NjU4ZGY4M2UyN2YzMGM0NDA3LmJpbmRQb3B1cChwb3B1cF8zYTc3OTMyZWFlYmY0NmU4YTRlY2Q4MGM2YzNiYmE1MSkKICAgICAgICAgICAgOwoKICAgICAgICAgICAgCiAgICAgICAgCiAgICAKICAgICAgICAgICAgdmFyIGNpcmNsZV9tYXJrZXJfN2NiNTQwMWI4OWQyNDEwODhhZWE3NDc4MTM4MTNjNjIgPSBMLmNpcmNsZU1hcmtlcigKICAgICAgICAgICAgICAgIFs0My43OTQyMDAzLCAtNzkuMjYyMDI5NDAwMDAwMDJdLAogICAgICAgICAgICAgICAgewogICJidWJibGluZ01vdXNlRXZlbnRzIjogdHJ1ZSwKICAiY29sb3IiOiAiI2ZmMDAwMCIsCiAgImRhc2hBcnJheSI6IG51bGwsCiAgImRhc2hPZmZzZXQiOiBudWxsLAogICJmaWxsIjogdHJ1ZSwKICAiZmlsbENvbG9yIjogIiNmZjAwMDAiLAogICJmaWxsT3BhY2l0eSI6IDAuNywKICAiZmlsbFJ1bGUiOiAiZXZlbm9kZCIsCiAgImxpbmVDYXAiOiAicm91bmQiLAogICJsaW5lSm9pbiI6ICJyb3VuZCIsCiAgIm9wYWNpdHkiOiAxLjAsCiAgInJhZGl1cyI6IDUsCiAgInN0cm9rZSI6IHRydWUsCiAgIndlaWdodCI6IDMKfQogICAgICAgICAgICAgICAgKQogICAgICAgICAgICAgICAgLmFkZFRvKG1hcF9lNjgwMmU5MjFkODU0MGQ0YTM3NzMyOGNlY2U3Mjg2YSk7CiAgICAgICAgICAgIAogICAgCiAgICAgICAgICAgIHZhciBwb3B1cF8wNzFkMmNlMDY0ODI0ODg0YmYzNzk1NzM4MWM3YmQ3ZCA9IEwucG9wdXAoe21heFdpZHRoOiAnMTAwJScKICAgICAgICAgICAgCiAgICAgICAgICAgIH0pOwoKICAgICAgICAgICAgCiAgICAgICAgICAgICAgICB2YXIgaHRtbF8wNGZjZjBlNWFhZmU0MWY2OGMxNDVmODdlZmEzNGI3NyA9ICQoYDxkaXYgaWQ9Imh0bWxfMDRmY2YwZTVhYWZlNDFmNjhjMTQ1Zjg3ZWZhMzRiNzciIHN0eWxlPSJ3aWR0aDogMTAwLjAlOyBoZWlnaHQ6IDEwMC4wJTsiPkFnaW5jb3VydCBDbHVzdGVyIDA8L2Rpdj5gKVswXTsKICAgICAgICAgICAgICAgIHBvcHVwXzA3MWQyY2UwNjQ4MjQ4ODRiZjM3OTU3MzgxYzdiZDdkLnNldENvbnRlbnQoaHRtbF8wNGZjZjBlNWFhZmU0MWY2OGMxNDVmODdlZmEzNGI3Nyk7CiAgICAgICAgICAgIAoKICAgICAgICAgICAgY2lyY2xlX21hcmtlcl83Y2I1NDAxYjg5ZDI0MTA4OGFlYTc0NzgxMzgxM2M2Mi5iaW5kUG9wdXAocG9wdXBfMDcxZDJjZTA2NDgyNDg4NGJmMzc5NTczODFjN2JkN2QpCiAgICAgICAgICAgIDsKCiAgICAgICAgICAgIAogICAgICAgIAogICAgCiAgICAgICAgICAgIHZhciBjaXJjbGVfbWFya2VyX2U3YTY5NDVkMzAwNTQ3YjY5MWU3MDk4NDlmYjNlNzE4ID0gTC5jaXJjbGVNYXJrZXIoCiAgICAgICAgICAgICAgICBbNDMuNzgxNjM3NSwgLTc5LjMwNDMwMjFdLAogICAgICAgICAgICAgICAgewogICJidWJibGluZ01vdXNlRXZlbnRzIjogdHJ1ZSwKICAiY29sb3IiOiAiIzJhZGRkZCIsCiAgImRhc2hBcnJheSI6IG51bGwsCiAgImRhc2hPZmZzZXQiOiBudWxsLAogICJmaWxsIjogdHJ1ZSwKICAiZmlsbENvbG9yIjogIiMyYWRkZGQiLAogICJmaWxsT3BhY2l0eSI6IDAuNywKICAiZmlsbFJ1bGUiOiAiZXZlbm9kZCIsCiAgImxpbmVDYXAiOiAicm91bmQiLAogICJsaW5lSm9pbiI6ICJyb3VuZCIsCiAgIm9wYWNpdHkiOiAxLjAsCiAgInJhZGl1cyI6IDUsCiAgInN0cm9rZSI6IHRydWUsCiAgIndlaWdodCI6IDMKfQogICAgICAgICAgICAgICAgKQogICAgICAgICAgICAgICAgLmFkZFRvKG1hcF9lNjgwMmU5MjFkODU0MGQ0YTM3NzMyOGNlY2U3Mjg2YSk7CiAgICAgICAgICAgIAogICAgCiAgICAgICAgICAgIHZhciBwb3B1cF8xYmJiY2Q2ZDViZjg0NjYwOWMyYTAxNGI5MTcyMTc5NCA9IEwucG9wdXAoe21heFdpZHRoOiAnMTAwJScKICAgICAgICAgICAgCiAgICAgICAgICAgIH0pOwoKICAgICAgICAgICAgCiAgICAgICAgICAgICAgICB2YXIgaHRtbF80NDczMTFkOGQ3YmY0MjQxOTVhNWY0ZmYyOGJjMWU3OSA9ICQoYDxkaXYgaWQ9Imh0bWxfNDQ3MzExZDhkN2JmNDI0MTk1YTVmNGZmMjhiYzFlNzkiIHN0eWxlPSJ3aWR0aDogMTAwLjAlOyBoZWlnaHQ6IDEwMC4wJTsiPkNsYXJrcyBDb3JuZXJzIC8gVGFtIE8mIzM5O1NoYW50ZXIgLyBTdWxsaXZhbiBDbHVzdGVyIDQ8L2Rpdj5gKVswXTsKICAgICAgICAgICAgICAgIHBvcHVwXzFiYmJjZDZkNWJmODQ2NjA5YzJhMDE0YjkxNzIxNzk0LnNldENvbnRlbnQoaHRtbF80NDczMTFkOGQ3YmY0MjQxOTVhNWY0ZmYyOGJjMWU3OSk7CiAgICAgICAgICAgIAoKICAgICAgICAgICAgY2lyY2xlX21hcmtlcl9lN2E2OTQ1ZDMwMDU0N2I2OTFlNzA5ODQ5ZmIzZTcxOC5iaW5kUG9wdXAocG9wdXBfMWJiYmNkNmQ1YmY4NDY2MDljMmEwMTRiOTE3MjE3OTQpCiAgICAgICAgICAgIDsKCiAgICAgICAgICAgIAogICAgICAgIAogICAgCiAgICAgICAgICAgIHZhciBjaXJjbGVfbWFya2VyXzM5OGZmZWFjMmQ5ZTRjMzU4OWVlNWEyNjhkMGE0YjE0ID0gTC5jaXJjbGVNYXJrZXIoCiAgICAgICAgICAgICAgICBbNDMuODE1MjUyMiwgLTc5LjI4NDU3NzJdLAogICAgICAgICAgICAgICAgewogICJidWJibGluZ01vdXNlRXZlbnRzIjogdHJ1ZSwKICAiY29sb3IiOiAiI2ZmMDAwMCIsCiAgImRhc2hBcnJheSI6IG51bGwsCiAgImRhc2hPZmZzZXQiOiBudWxsLAogICJmaWxsIjogdHJ1ZSwKICAiZmlsbENvbG9yIjogIiNmZjAwMDAiLAogICJmaWxsT3BhY2l0eSI6IDAuNywKICAiZmlsbFJ1bGUiOiAiZXZlbm9kZCIsCiAgImxpbmVDYXAiOiAicm91bmQiLAogICJsaW5lSm9pbiI6ICJyb3VuZCIsCiAgIm9wYWNpdHkiOiAxLjAsCiAgInJhZGl1cyI6IDUsCiAgInN0cm9rZSI6IHRydWUsCiAgIndlaWdodCI6IDMKfQogICAgICAgICAgICAgICAgKQogICAgICAgICAgICAgICAgLmFkZFRvKG1hcF9lNjgwMmU5MjFkODU0MGQ0YTM3NzMyOGNlY2U3Mjg2YSk7CiAgICAgICAgICAgIAogICAgCiAgICAgICAgICAgIHZhciBwb3B1cF8zZjYwZDE2NmU3NWE0MjVjOTc4NmUyYWY2ODFiMzE4YiA9IEwucG9wdXAoe21heFdpZHRoOiAnMTAwJScKICAgICAgICAgICAgCiAgICAgICAgICAgIH0pOwoKICAgICAgICAgICAgCiAgICAgICAgICAgICAgICB2YXIgaHRtbF84YjAxZWIxZjUzZmE0NDNjODY3NjNjNzRiY2I0YmJkOCA9ICQoYDxkaXYgaWQ9Imh0bWxfOGIwMWViMWY1M2ZhNDQzYzg2NzYzYzc0YmNiNGJiZDgiIHN0eWxlPSJ3aWR0aDogMTAwLjAlOyBoZWlnaHQ6IDEwMC4wJTsiPk1pbGxpa2VuIC8gQWdpbmNvdXJ0IE5vcnRoIC8gU3RlZWxlcyBFYXN0IC8gTCYjMzk7QW1vcmVhdXggRWFzdCBDbHVzdGVyIDA8L2Rpdj5gKVswXTsKICAgICAgICAgICAgICAgIHBvcHVwXzNmNjBkMTY2ZTc1YTQyNWM5Nzg2ZTJhZjY4MWIzMThiLnNldENvbnRlbnQoaHRtbF84YjAxZWIxZjUzZmE0NDNjODY3NjNjNzRiY2I0YmJkOCk7CiAgICAgICAgICAgIAoKICAgICAgICAgICAgY2lyY2xlX21hcmtlcl8zOThmZmVhYzJkOWU0YzM1ODllZTVhMjY4ZDBhNGIxNC5iaW5kUG9wdXAocG9wdXBfM2Y2MGQxNjZlNzVhNDI1Yzk3ODZlMmFmNjgxYjMxOGIpCiAgICAgICAgICAgIDsKCiAgICAgICAgICAgIAogICAgICAgIAogICAgCiAgICAgICAgICAgIHZhciBjaXJjbGVfbWFya2VyXzJjOTU2NjcyMzRiMDQyZjY4NTk2YjhhZDI2YzU4NzNiID0gTC5jaXJjbGVNYXJrZXIoCiAgICAgICAgICAgICAgICBbNDMuNzk5NTI1MjAwMDAwMDA1LCAtNzkuMzE4Mzg4N10sCiAgICAgICAgICAgICAgICB7CiAgImJ1YmJsaW5nTW91c2VFdmVudHMiOiB0cnVlLAogICJjb2xvciI6ICIjMmFkZGRkIiwKICAiZGFzaEFycmF5IjogbnVsbCwKICAiZGFzaE9mZnNldCI6IG51bGwsCiAgImZpbGwiOiB0cnVlLAogICJmaWxsQ29sb3IiOiAiIzJhZGRkZCIsCiAgImZpbGxPcGFjaXR5IjogMC43LAogICJmaWxsUnVsZSI6ICJldmVub2RkIiwKICAibGluZUNhcCI6ICJyb3VuZCIsCiAgImxpbmVKb2luIjogInJvdW5kIiwKICAib3BhY2l0eSI6IDEuMCwKICAicmFkaXVzIjogNSwKICAic3Ryb2tlIjogdHJ1ZSwKICAid2VpZ2h0IjogMwp9CiAgICAgICAgICAgICAgICApCiAgICAgICAgICAgICAgICAuYWRkVG8obWFwX2U2ODAyZTkyMWQ4NTQwZDRhMzc3MzI4Y2VjZTcyODZhKTsKICAgICAgICAgICAgCiAgICAKICAgICAgICAgICAgdmFyIHBvcHVwXzQxNDA2N2U0OTdlNzQxZjE5NWRiYjE2NjI2NjVkMDk1ID0gTC5wb3B1cCh7bWF4V2lkdGg6ICcxMDAlJwogICAgICAgICAgICAKICAgICAgICAgICAgfSk7CgogICAgICAgICAgICAKICAgICAgICAgICAgICAgIHZhciBodG1sXzg4NzlmMTBlYWM3ZjQ0OWU4NzVjZmM1ZWY2NGM1MzlmID0gJChgPGRpdiBpZD0iaHRtbF84ODc5ZjEwZWFjN2Y0NDllODc1Y2ZjNWVmNjRjNTM5ZiIgc3R5bGU9IndpZHRoOiAxMDAuMCU7IGhlaWdodDogMTAwLjAlOyI+U3RlZWxlcyBXZXN0IC8gTCYjMzk7QW1vcmVhdXggV2VzdCBDbHVzdGVyIDQ8L2Rpdj5gKVswXTsKICAgICAgICAgICAgICAgIHBvcHVwXzQxNDA2N2U0OTdlNzQxZjE5NWRiYjE2NjI2NjVkMDk1LnNldENvbnRlbnQoaHRtbF84ODc5ZjEwZWFjN2Y0NDllODc1Y2ZjNWVmNjRjNTM5Zik7CiAgICAgICAgICAgIAoKICAgICAgICAgICAgY2lyY2xlX21hcmtlcl8yYzk1NjY3MjM0YjA0MmY2ODU5NmI4YWQyNmM1ODczYi5iaW5kUG9wdXAocG9wdXBfNDE0MDY3ZTQ5N2U3NDFmMTk1ZGJiMTY2MjY2NWQwOTUpCiAgICAgICAgICAgIDsKCiAgICAgICAgICAgIAogICAgICAgIAogICAgCiAgICAgICAgICAgIHZhciBjaXJjbGVfbWFya2VyXzJhMWM1OGUwNTAzNzQyN2Y4NGY0Y2I3NDJkZDRlY2ZiID0gTC5jaXJjbGVNYXJrZXIoCiAgICAgICAgICAgICAgICBbNDMuODM2MTI0NzAwMDAwMDA2LCAtNzkuMjA1NjM2MDk5OTk5OTldLAogICAgICAgICAgICAgICAgewogICJidWJibGluZ01vdXNlRXZlbnRzIjogdHJ1ZSwKICAiY29sb3IiOiAiI2ZmMDAwMCIsCiAgImRhc2hBcnJheSI6IG51bGwsCiAgImRhc2hPZmZzZXQiOiBudWxsLAogICJmaWxsIjogdHJ1ZSwKICAiZmlsbENvbG9yIjogIiNmZjAwMDAiLAogICJmaWxsT3BhY2l0eSI6IDAuNywKICAiZmlsbFJ1bGUiOiAiZXZlbm9kZCIsCiAgImxpbmVDYXAiOiAicm91bmQiLAogICJsaW5lSm9pbiI6ICJyb3VuZCIsCiAgIm9wYWNpdHkiOiAxLjAsCiAgInJhZGl1cyI6IDUsCiAgInN0cm9rZSI6IHRydWUsCiAgIndlaWdodCI6IDMKfQogICAgICAgICAgICAgICAgKQogICAgICAgICAgICAgICAgLmFkZFRvKG1hcF9lNjgwMmU5MjFkODU0MGQ0YTM3NzMyOGNlY2U3Mjg2YSk7CiAgICAgICAgICAgIAogICAgCiAgICAgICAgICAgIHZhciBwb3B1cF83OGZiNjY1YjViODI0MjViOWRhNjFmNjllOGNkMTAxYiA9IEwucG9wdXAoe21heFdpZHRoOiAnMTAwJScKICAgICAgICAgICAgCiAgICAgICAgICAgIH0pOwoKICAgICAgICAgICAgCiAgICAgICAgICAgICAgICB2YXIgaHRtbF80YmU2MmY3MThjMTk0MGUxYjkyY2U4OGY2NmFhNmM0OSA9ICQoYDxkaXYgaWQ9Imh0bWxfNGJlNjJmNzE4YzE5NDBlMWI5MmNlODhmNjZhYTZjNDkiIHN0eWxlPSJ3aWR0aDogMTAwLjAlOyBoZWlnaHQ6IDEwMC4wJTsiPlVwcGVyIFJvdWdlIENsdXN0ZXIgMDwvZGl2PmApWzBdOwogICAgICAgICAgICAgICAgcG9wdXBfNzhmYjY2NWI1YjgyNDI1YjlkYTYxZjY5ZThjZDEwMWIuc2V0Q29udGVudChodG1sXzRiZTYyZjcxOGMxOTQwZTFiOTJjZTg4ZjY2YWE2YzQ5KTsKICAgICAgICAgICAgCgogICAgICAgICAgICBjaXJjbGVfbWFya2VyXzJhMWM1OGUwNTAzNzQyN2Y4NGY0Y2I3NDJkZDRlY2ZiLmJpbmRQb3B1cChwb3B1cF83OGZiNjY1YjViODI0MjViOWRhNjFmNjllOGNkMTAxYikKICAgICAgICAgICAgOwoKICAgICAgICAgICAgCiAgICAgICAgCiAgICAKICAgICAgICAgICAgdmFyIGNpcmNsZV9tYXJrZXJfODRhODk2MDZmOTM1NDY4MmFjYzJjZTZhOTJlYWM0MjYgPSBMLmNpcmNsZU1hcmtlcigKICAgICAgICAgICAgICAgIFs0My44MDM3NjIyLCAtNzkuMzYzNDUxN10sCiAgICAgICAgICAgICAgICB7CiAgImJ1YmJsaW5nTW91c2VFdmVudHMiOiB0cnVlLAogICJjb2xvciI6ICIjMmFkZGRkIiwKICAiZGFzaEFycmF5IjogbnVsbCwKICAiZGFzaE9mZnNldCI6IG51bGwsCiAgImZpbGwiOiB0cnVlLAogICJmaWxsQ29sb3IiOiAiIzJhZGRkZCIsCiAgImZpbGxPcGFjaXR5IjogMC43LAogICJmaWxsUnVsZSI6ICJldmVub2RkIiwKICAibGluZUNhcCI6ICJyb3VuZCIsCiAgImxpbmVKb2luIjogInJvdW5kIiwKICAib3BhY2l0eSI6IDEuMCwKICAicmFkaXVzIjogNSwKICAic3Ryb2tlIjogdHJ1ZSwKICAid2VpZ2h0IjogMwp9CiAgICAgICAgICAgICAgICApCiAgICAgICAgICAgICAgICAuYWRkVG8obWFwX2U2ODAyZTkyMWQ4NTQwZDRhMzc3MzI4Y2VjZTcyODZhKTsKICAgICAgICAgICAgCiAgICAKICAgICAgICAgICAgdmFyIHBvcHVwXzA5YWM5OGQ3OTVmMjRiMDBhZTE3OWExNGY1MjVjOWFhID0gTC5wb3B1cCh7bWF4V2lkdGg6ICcxMDAlJwogICAgICAgICAgICAKICAgICAgICAgICAgfSk7CgogICAgICAgICAgICAKICAgICAgICAgICAgICAgIHZhciBodG1sXzNlMzlkZmY4ZDhiZjRlNGU5MTIzZDY4OTRkMjVhNmI0ID0gJChgPGRpdiBpZD0iaHRtbF8zZTM5ZGZmOGQ4YmY0ZTRlOTEyM2Q2ODk0ZDI1YTZiNCIgc3R5bGU9IndpZHRoOiAxMDAuMCU7IGhlaWdodDogMTAwLjAlOyI+SGlsbGNyZXN0IFZpbGxhZ2UgQ2x1c3RlciA0PC9kaXY+YClbMF07CiAgICAgICAgICAgICAgICBwb3B1cF8wOWFjOThkNzk1ZjI0YjAwYWUxNzlhMTRmNTI1YzlhYS5zZXRDb250ZW50KGh0bWxfM2UzOWRmZjhkOGJmNGU0ZTkxMjNkNjg5NGQyNWE2YjQpOwogICAgICAgICAgICAKCiAgICAgICAgICAgIGNpcmNsZV9tYXJrZXJfODRhODk2MDZmOTM1NDY4MmFjYzJjZTZhOTJlYWM0MjYuYmluZFBvcHVwKHBvcHVwXzA5YWM5OGQ3OTVmMjRiMDBhZTE3OWExNGY1MjVjOWFhKQogICAgICAgICAgICA7CgogICAgICAgICAgICAKICAgICAgICAKICAgIAogICAgICAgICAgICB2YXIgY2lyY2xlX21hcmtlcl84YTk3MGE3ZjU0NTQ0ZDAwYjVhNmE3NWUwNTUyZjlhNiA9IEwuY2lyY2xlTWFya2VyKAogICAgICAgICAgICAgICAgWzQzLjc3ODUxNzUsIC03OS4zNDY1NTU3XSwKICAgICAgICAgICAgICAgIHsKICAiYnViYmxpbmdNb3VzZUV2ZW50cyI6IHRydWUsCiAgImNvbG9yIjogIiMyYWRkZGQiLAogICJkYXNoQXJyYXkiOiBudWxsLAogICJkYXNoT2Zmc2V0IjogbnVsbCwKICAiZmlsbCI6IHRydWUsCiAgImZpbGxDb2xvciI6ICIjMmFkZGRkIiwKICAiZmlsbE9wYWNpdHkiOiAwLjcsCiAgImZpbGxSdWxlIjogImV2ZW5vZGQiLAogICJsaW5lQ2FwIjogInJvdW5kIiwKICAibGluZUpvaW4iOiAicm91bmQiLAogICJvcGFjaXR5IjogMS4wLAogICJyYWRpdXMiOiA1LAogICJzdHJva2UiOiB0cnVlLAogICJ3ZWlnaHQiOiAzCn0KICAgICAgICAgICAgICAgICkKICAgICAgICAgICAgICAgIC5hZGRUbyhtYXBfZTY4MDJlOTIxZDg1NDBkNGEzNzczMjhjZWNlNzI4NmEpOwogICAgICAgICAgICAKICAgIAogICAgICAgICAgICB2YXIgcG9wdXBfZjk2MGQ4NjQwZjI5NGRmNmI5MzEzZTkzN2VkYTQxZmEgPSBMLnBvcHVwKHttYXhXaWR0aDogJzEwMCUnCiAgICAgICAgICAgIAogICAgICAgICAgICB9KTsKCiAgICAgICAgICAgIAogICAgICAgICAgICAgICAgdmFyIGh0bWxfMDk2Y2M2MTBjYTM3NGE0MDllZjhiNzY4Y2ZhMzU3MDkgPSAkKGA8ZGl2IGlkPSJodG1sXzA5NmNjNjEwY2EzNzRhNDA5ZWY4Yjc2OGNmYTM1NzA5IiBzdHlsZT0id2lkdGg6IDEwMC4wJTsgaGVpZ2h0OiAxMDAuMCU7Ij5GYWlydmlldyAvIEhlbnJ5IEZhcm0gLyBPcmlvbGUgQ2x1c3RlciA0PC9kaXY+YClbMF07CiAgICAgICAgICAgICAgICBwb3B1cF9mOTYwZDg2NDBmMjk0ZGY2YjkzMTNlOTM3ZWRhNDFmYS5zZXRDb250ZW50KGh0bWxfMDk2Y2M2MTBjYTM3NGE0MDllZjhiNzY4Y2ZhMzU3MDkpOwogICAgICAgICAgICAKCiAgICAgICAgICAgIGNpcmNsZV9tYXJrZXJfOGE5NzBhN2Y1NDU0NGQwMGI1YTZhNzVlMDU1MmY5YTYuYmluZFBvcHVwKHBvcHVwX2Y5NjBkODY0MGYyOTRkZjZiOTMxM2U5MzdlZGE0MWZhKQogICAgICAgICAgICA7CgogICAgICAgICAgICAKICAgICAgICAKICAgIAogICAgICAgICAgICB2YXIgY2lyY2xlX21hcmtlcl9jMDIzNDUyNDU1Njk0ZTQ2YTc1MmEwMDk2OWMxNzkwYyA9IEwuY2lyY2xlTWFya2VyKAogICAgICAgICAgICAgICAgWzQzLjc4Njk0NzMsIC03OS4zODU5NzVdLAogICAgICAgICAgICAgICAgewogICJidWJibGluZ01vdXNlRXZlbnRzIjogdHJ1ZSwKICAiY29sb3IiOiAiIzJhZGRkZCIsCiAgImRhc2hBcnJheSI6IG51bGwsCiAgImRhc2hPZmZzZXQiOiBudWxsLAogICJmaWxsIjogdHJ1ZSwKICAiZmlsbENvbG9yIjogIiMyYWRkZGQiLAogICJmaWxsT3BhY2l0eSI6IDAuNywKICAiZmlsbFJ1bGUiOiAiZXZlbm9kZCIsCiAgImxpbmVDYXAiOiAicm91bmQiLAogICJsaW5lSm9pbiI6ICJyb3VuZCIsCiAgIm9wYWNpdHkiOiAxLjAsCiAgInJhZGl1cyI6IDUsCiAgInN0cm9rZSI6IHRydWUsCiAgIndlaWdodCI6IDMKfQogICAgICAgICAgICAgICAgKQogICAgICAgICAgICAgICAgLmFkZFRvKG1hcF9lNjgwMmU5MjFkODU0MGQ0YTM3NzMyOGNlY2U3Mjg2YSk7CiAgICAgICAgICAgIAogICAgCiAgICAgICAgICAgIHZhciBwb3B1cF9kZDlhZWMwNjYzNTA0MDc1YjllNmY3MWI3NDVkYzZhMyA9IEwucG9wdXAoe21heFdpZHRoOiAnMTAwJScKICAgICAgICAgICAgCiAgICAgICAgICAgIH0pOwoKICAgICAgICAgICAgCiAgICAgICAgICAgICAgICB2YXIgaHRtbF9iNTNkNjM1MjZlOGY0YzcxOWViMjRkZGQxNTcxZTRiZiA9ICQoYDxkaXYgaWQ9Imh0bWxfYjUzZDYzNTI2ZThmNGM3MTllYjI0ZGRkMTU3MWU0YmYiIHN0eWxlPSJ3aWR0aDogMTAwLjAlOyBoZWlnaHQ6IDEwMC4wJTsiPkJheXZpZXcgVmlsbGFnZSBDbHVzdGVyIDQ8L2Rpdj5gKVswXTsKICAgICAgICAgICAgICAgIHBvcHVwX2RkOWFlYzA2NjM1MDQwNzViOWU2ZjcxYjc0NWRjNmEzLnNldENvbnRlbnQoaHRtbF9iNTNkNjM1MjZlOGY0YzcxOWViMjRkZGQxNTcxZTRiZik7CiAgICAgICAgICAgIAoKICAgICAgICAgICAgY2lyY2xlX21hcmtlcl9jMDIzNDUyNDU1Njk0ZTQ2YTc1MmEwMDk2OWMxNzkwYy5iaW5kUG9wdXAocG9wdXBfZGQ5YWVjMDY2MzUwNDA3NWI5ZTZmNzFiNzQ1ZGM2YTMpCiAgICAgICAgICAgIDsKCiAgICAgICAgICAgIAogICAgICAgIAogICAgCiAgICAgICAgICAgIHZhciBjaXJjbGVfbWFya2VyXzBmNjZiZGE1ODljZjRhNTU4OTUyMTNlYzhmNjg0MzczID0gTC5jaXJjbGVNYXJrZXIoCiAgICAgICAgICAgICAgICBbNDMuNzU3NDkwMiwgLTc5LjM3NDcxNDA5OTk5OTk5XSwKICAgICAgICAgICAgICAgIHsKICAiYnViYmxpbmdNb3VzZUV2ZW50cyI6IHRydWUsCiAgImNvbG9yIjogIiMyYWRkZGQiLAogICJkYXNoQXJyYXkiOiBudWxsLAogICJkYXNoT2Zmc2V0IjogbnVsbCwKICAiZmlsbCI6IHRydWUsCiAgImZpbGxDb2xvciI6ICIjMmFkZGRkIiwKICAiZmlsbE9wYWNpdHkiOiAwLjcsCiAgImZpbGxSdWxlIjogImV2ZW5vZGQiLAogICJsaW5lQ2FwIjogInJvdW5kIiwKICAibGluZUpvaW4iOiAicm91bmQiLAogICJvcGFjaXR5IjogMS4wLAogICJyYWRpdXMiOiA1LAogICJzdHJva2UiOiB0cnVlLAogICJ3ZWlnaHQiOiAzCn0KICAgICAgICAgICAgICAgICkKICAgICAgICAgICAgICAgIC5hZGRUbyhtYXBfZTY4MDJlOTIxZDg1NDBkNGEzNzczMjhjZWNlNzI4NmEpOwogICAgICAgICAgICAKICAgIAogICAgICAgICAgICB2YXIgcG9wdXBfZWUyOTI5MDNkMzk3NDNlZmE0OGQ3OTc2MTNhNmM0M2YgPSBMLnBvcHVwKHttYXhXaWR0aDogJzEwMCUnCiAgICAgICAgICAgIAogICAgICAgICAgICB9KTsKCiAgICAgICAgICAgIAogICAgICAgICAgICAgICAgdmFyIGh0bWxfMTE2YmJlYmU2ODNiNDlhMGE3YWY2MzQzNzFhOGY4YjAgPSAkKGA8ZGl2IGlkPSJodG1sXzExNmJiZWJlNjgzYjQ5YTBhN2FmNjM0MzcxYThmOGIwIiBzdHlsZT0id2lkdGg6IDEwMC4wJTsgaGVpZ2h0OiAxMDAuMCU7Ij5Zb3JrIE1pbGxzIC8gU2lsdmVyIEhpbGxzIENsdXN0ZXIgNDwvZGl2PmApWzBdOwogICAgICAgICAgICAgICAgcG9wdXBfZWUyOTI5MDNkMzk3NDNlZmE0OGQ3OTc2MTNhNmM0M2Yuc2V0Q29udGVudChodG1sXzExNmJiZWJlNjgzYjQ5YTBhN2FmNjM0MzcxYThmOGIwKTsKICAgICAgICAgICAgCgogICAgICAgICAgICBjaXJjbGVfbWFya2VyXzBmNjZiZGE1ODljZjRhNTU4OTUyMTNlYzhmNjg0MzczLmJpbmRQb3B1cChwb3B1cF9lZTI5MjkwM2QzOTc0M2VmYTQ4ZDc5NzYxM2E2YzQzZikKICAgICAgICAgICAgOwoKICAgICAgICAgICAgCiAgICAgICAgCiAgICAKICAgICAgICAgICAgdmFyIGNpcmNsZV9tYXJrZXJfZTQ3Zjg0NTk5YTIxNGZkNDg3YmViMjZkOTU4YjkxZTMgPSBMLmNpcmNsZU1hcmtlcigKICAgICAgICAgICAgICAgIFs0My43ODkwNTMsIC03OS40MDg0OTI3OTk5OTk5OV0sCiAgICAgICAgICAgICAgICB7CiAgImJ1YmJsaW5nTW91c2VFdmVudHMiOiB0cnVlLAogICJjb2xvciI6ICIjMmFkZGRkIiwKICAiZGFzaEFycmF5IjogbnVsbCwKICAiZGFzaE9mZnNldCI6IG51bGwsCiAgImZpbGwiOiB0cnVlLAogICJmaWxsQ29sb3IiOiAiIzJhZGRkZCIsCiAgImZpbGxPcGFjaXR5IjogMC43LAogICJmaWxsUnVsZSI6ICJldmVub2RkIiwKICAibGluZUNhcCI6ICJyb3VuZCIsCiAgImxpbmVKb2luIjogInJvdW5kIiwKICAib3BhY2l0eSI6IDEuMCwKICAicmFkaXVzIjogNSwKICAic3Ryb2tlIjogdHJ1ZSwKICAid2VpZ2h0IjogMwp9CiAgICAgICAgICAgICAgICApCiAgICAgICAgICAgICAgICAuYWRkVG8obWFwX2U2ODAyZTkyMWQ4NTQwZDRhMzc3MzI4Y2VjZTcyODZhKTsKICAgICAgICAgICAgCiAgICAKICAgICAgICAgICAgdmFyIHBvcHVwXzI4ZDRjMTBjMTlmYjQ1ZWViZWY1NDdmMzYzYTM2MTJlID0gTC5wb3B1cCh7bWF4V2lkdGg6ICcxMDAlJwogICAgICAgICAgICAKICAgICAgICAgICAgfSk7CgogICAgICAgICAgICAKICAgICAgICAgICAgICAgIHZhciBodG1sX2IyOWRhZDdhZWExODRkZWJiY2FhNjI2YjlkOTY3ODM4ID0gJChgPGRpdiBpZD0iaHRtbF9iMjlkYWQ3YWVhMTg0ZGViYmNhYTYyNmI5ZDk2NzgzOCIgc3R5bGU9IndpZHRoOiAxMDAuMCU7IGhlaWdodDogMTAwLjAlOyI+V2lsbG93ZGFsZSAvIE5ld3RvbmJyb29rIENsdXN0ZXIgNDwvZGl2PmApWzBdOwogICAgICAgICAgICAgICAgcG9wdXBfMjhkNGMxMGMxOWZiNDVlZWJlZjU0N2YzNjNhMzYxMmUuc2V0Q29udGVudChodG1sX2IyOWRhZDdhZWExODRkZWJiY2FhNjI2YjlkOTY3ODM4KTsKICAgICAgICAgICAgCgogICAgICAgICAgICBjaXJjbGVfbWFya2VyX2U0N2Y4NDU5OWEyMTRmZDQ4N2JlYjI2ZDk1OGI5MWUzLmJpbmRQb3B1cChwb3B1cF8yOGQ0YzEwYzE5ZmI0NWVlYmVmNTQ3ZjM2M2EzNjEyZSkKICAgICAgICAgICAgOwoKICAgICAgICAgICAgCiAgICAgICAgCiAgICAKICAgICAgICAgICAgdmFyIGNpcmNsZV9tYXJrZXJfMDM1MjNiMDk4MDhjNDIxMTliNDFhZGRmNjgyNmYwZGQgPSBMLmNpcmNsZU1hcmtlcigKICAgICAgICAgICAgICAgIFs0My43NzAxMTk5LCAtNzkuNDA4NDkyNzk5OTk5OTldLAogICAgICAgICAgICAgICAgewogICJidWJibGluZ01vdXNlRXZlbnRzIjogdHJ1ZSwKICAiY29sb3IiOiAiIzJhZGRkZCIsCiAgImRhc2hBcnJheSI6IG51bGwsCiAgImRhc2hPZmZzZXQiOiBudWxsLAogICJmaWxsIjogdHJ1ZSwKICAiZmlsbENvbG9yIjogIiMyYWRkZGQiLAogICJmaWxsT3BhY2l0eSI6IDAuNywKICAiZmlsbFJ1bGUiOiAiZXZlbm9kZCIsCiAgImxpbmVDYXAiOiAicm91bmQiLAogICJsaW5lSm9pbiI6ICJyb3VuZCIsCiAgIm9wYWNpdHkiOiAxLjAsCiAgInJhZGl1cyI6IDUsCiAgInN0cm9rZSI6IHRydWUsCiAgIndlaWdodCI6IDMKfQogICAgICAgICAgICAgICAgKQogICAgICAgICAgICAgICAgLmFkZFRvKG1hcF9lNjgwMmU5MjFkODU0MGQ0YTM3NzMyOGNlY2U3Mjg2YSk7CiAgICAgICAgICAgIAogICAgCiAgICAgICAgICAgIHZhciBwb3B1cF9iY2Q3YTQ1NmE2MTM0ZTI0ODQwODI4M2M4NGE3MzQyZiA9IEwucG9wdXAoe21heFdpZHRoOiAnMTAwJScKICAgICAgICAgICAgCiAgICAgICAgICAgIH0pOwoKICAgICAgICAgICAgCiAgICAgICAgICAgICAgICB2YXIgaHRtbF85ZDUyMjZiYmNmMWI0NzM1YTRkZGUwNDBjMmI1YjdhYiA9ICQoYDxkaXYgaWQ9Imh0bWxfOWQ1MjI2YmJjZjFiNDczNWE0ZGRlMDQwYzJiNWI3YWIiIHN0eWxlPSJ3aWR0aDogMTAwLjAlOyBoZWlnaHQ6IDEwMC4wJTsiPldpbGxvd2RhbGUgQ2x1c3RlciA0PC9kaXY+YClbMF07CiAgICAgICAgICAgICAgICBwb3B1cF9iY2Q3YTQ1NmE2MTM0ZTI0ODQwODI4M2M4NGE3MzQyZi5zZXRDb250ZW50KGh0bWxfOWQ1MjI2YmJjZjFiNDczNWE0ZGRlMDQwYzJiNWI3YWIpOwogICAgICAgICAgICAKCiAgICAgICAgICAgIGNpcmNsZV9tYXJrZXJfMDM1MjNiMDk4MDhjNDIxMTliNDFhZGRmNjgyNmYwZGQuYmluZFBvcHVwKHBvcHVwX2JjZDdhNDU2YTYxMzRlMjQ4NDA4MjgzYzg0YTczNDJmKQogICAgICAgICAgICA7CgogICAgICAgICAgICAKICAgICAgICAKICAgIAogICAgICAgICAgICB2YXIgY2lyY2xlX21hcmtlcl8zOGMyYjBlNjAxNDM0NGI2YTI3OTQxODMyNWI2ZGY2NiA9IEwuY2lyY2xlTWFya2VyKAogICAgICAgICAgICAgICAgWzQzLjc1Mjc1ODI5OTk5OTk5NiwgLTc5LjQwMDA0OTNdLAogICAgICAgICAgICAgICAgewogICJidWJibGluZ01vdXNlRXZlbnRzIjogdHJ1ZSwKICAiY29sb3IiOiAiIzJhZGRkZCIsCiAgImRhc2hBcnJheSI6IG51bGwsCiAgImRhc2hPZmZzZXQiOiBudWxsLAogICJmaWxsIjogdHJ1ZSwKICAiZmlsbENvbG9yIjogIiMyYWRkZGQiLAogICJmaWxsT3BhY2l0eSI6IDAuNywKICAiZmlsbFJ1bGUiOiAiZXZlbm9kZCIsCiAgImxpbmVDYXAiOiAicm91bmQiLAogICJsaW5lSm9pbiI6ICJyb3VuZCIsCiAgIm9wYWNpdHkiOiAxLjAsCiAgInJhZGl1cyI6IDUsCiAgInN0cm9rZSI6IHRydWUsCiAgIndlaWdodCI6IDMKfQogICAgICAgICAgICAgICAgKQogICAgICAgICAgICAgICAgLmFkZFRvKG1hcF9lNjgwMmU5MjFkODU0MGQ0YTM3NzMyOGNlY2U3Mjg2YSk7CiAgICAgICAgICAgIAogICAgCiAgICAgICAgICAgIHZhciBwb3B1cF9iN2U1YzZjZmQ2Nzc0MGExYmU4Yzc1YTU4NzMwMWVkMyA9IEwucG9wdXAoe21heFdpZHRoOiAnMTAwJScKICAgICAgICAgICAgCiAgICAgICAgICAgIH0pOwoKICAgICAgICAgICAgCiAgICAgICAgICAgICAgICB2YXIgaHRtbF9iMDQ4ZTIxYTM3MGE0YjU5YmY0NDVmMWU3ZWQwZTE0MyA9ICQoYDxkaXYgaWQ9Imh0bWxfYjA0OGUyMWEzNzBhNGI1OWJmNDQ1ZjFlN2VkMGUxNDMiIHN0eWxlPSJ3aWR0aDogMTAwLjAlOyBoZWlnaHQ6IDEwMC4wJTsiPllvcmsgTWlsbHMgV2VzdCBDbHVzdGVyIDQ8L2Rpdj5gKVswXTsKICAgICAgICAgICAgICAgIHBvcHVwX2I3ZTVjNmNmZDY3NzQwYTFiZThjNzVhNTg3MzAxZWQzLnNldENvbnRlbnQoaHRtbF9iMDQ4ZTIxYTM3MGE0YjU5YmY0NDVmMWU3ZWQwZTE0Myk7CiAgICAgICAgICAgIAoKICAgICAgICAgICAgY2lyY2xlX21hcmtlcl8zOGMyYjBlNjAxNDM0NGI2YTI3OTQxODMyNWI2ZGY2Ni5iaW5kUG9wdXAocG9wdXBfYjdlNWM2Y2ZkNjc3NDBhMWJlOGM3NWE1ODczMDFlZDMpCiAgICAgICAgICAgIDsKCiAgICAgICAgICAgIAogICAgICAgIAogICAgCiAgICAgICAgICAgIHZhciBjaXJjbGVfbWFya2VyXzY3ODcwZjkyNDJhNTQyYzk5MDE5MjJhODNkZGEzNGQyID0gTC5jaXJjbGVNYXJrZXIoCiAgICAgICAgICAgICAgICBbNDMuNzgyNzM2NCwgLTc5LjQ0MjI1OTNdLAogICAgICAgICAgICAgICAgewogICJidWJibGluZ01vdXNlRXZlbnRzIjogdHJ1ZSwKICAiY29sb3IiOiAiI2ZmYTI1NiIsCiAgImRhc2hBcnJheSI6IG51bGwsCiAgImRhc2hPZmZzZXQiOiBudWxsLAogICJmaWxsIjogdHJ1ZSwKICAiZmlsbENvbG9yIjogIiNmZmEyNTYiLAogICJmaWxsT3BhY2l0eSI6IDAuNywKICAiZmlsbFJ1bGUiOiAiZXZlbm9kZCIsCiAgImxpbmVDYXAiOiAicm91bmQiLAogICJsaW5lSm9pbiI6ICJyb3VuZCIsCiAgIm9wYWNpdHkiOiAxLjAsCiAgInJhZGl1cyI6IDUsCiAgInN0cm9rZSI6IHRydWUsCiAgIndlaWdodCI6IDMKfQogICAgICAgICAgICAgICAgKQogICAgICAgICAgICAgICAgLmFkZFRvKG1hcF9lNjgwMmU5MjFkODU0MGQ0YTM3NzMyOGNlY2U3Mjg2YSk7CiAgICAgICAgICAgIAogICAgCiAgICAgICAgICAgIHZhciBwb3B1cF85Mzk5YWVlOWRhNWY0MjZlYTdmNjI5NmVhYTE3ODNjOCA9IEwucG9wdXAoe21heFdpZHRoOiAnMTAwJScKICAgICAgICAgICAgCiAgICAgICAgICAgIH0pOwoKICAgICAgICAgICAgCiAgICAgICAgICAgICAgICB2YXIgaHRtbF8zYmEyNjVkMDliNjA0OGM3YjI5MWExMmMzOWM5Y2NjYiA9ICQoYDxkaXYgaWQ9Imh0bWxfM2JhMjY1ZDA5YjYwNDhjN2IyOTFhMTJjMzljOWNjY2IiIHN0eWxlPSJ3aWR0aDogMTAwLjAlOyBoZWlnaHQ6IDEwMC4wJTsiPldpbGxvd2RhbGUgQ2x1c3RlciA4PC9kaXY+YClbMF07CiAgICAgICAgICAgICAgICBwb3B1cF85Mzk5YWVlOWRhNWY0MjZlYTdmNjI5NmVhYTE3ODNjOC5zZXRDb250ZW50KGh0bWxfM2JhMjY1ZDA5YjYwNDhjN2IyOTFhMTJjMzljOWNjY2IpOwogICAgICAgICAgICAKCiAgICAgICAgICAgIGNpcmNsZV9tYXJrZXJfNjc4NzBmOTI0MmE1NDJjOTkwMTkyMmE4M2RkYTM0ZDIuYmluZFBvcHVwKHBvcHVwXzkzOTlhZWU5ZGE1ZjQyNmVhN2Y2Mjk2ZWFhMTc4M2M4KQogICAgICAgICAgICA7CgogICAgICAgICAgICAKICAgICAgICAKICAgIAogICAgICAgICAgICB2YXIgY2lyY2xlX21hcmtlcl80MWFkYTQzZTkwNDA0NzM1OTZiZWFiNTE2ZTM2ZmZiZiA9IEwuY2lyY2xlTWFya2VyKAogICAgICAgICAgICAgICAgWzQzLjc1MzI1ODYsIC03OS4zMjk2NTY1XSwKICAgICAgICAgICAgICAgIHsKICAiYnViYmxpbmdNb3VzZUV2ZW50cyI6IHRydWUsCiAgImNvbG9yIjogIiMyYWRkZGQiLAogICJkYXNoQXJyYXkiOiBudWxsLAogICJkYXNoT2Zmc2V0IjogbnVsbCwKICAiZmlsbCI6IHRydWUsCiAgImZpbGxDb2xvciI6ICIjMmFkZGRkIiwKICAiZmlsbE9wYWNpdHkiOiAwLjcsCiAgImZpbGxSdWxlIjogImV2ZW5vZGQiLAogICJsaW5lQ2FwIjogInJvdW5kIiwKICAibGluZUpvaW4iOiAicm91bmQiLAogICJvcGFjaXR5IjogMS4wLAogICJyYWRpdXMiOiA1LAogICJzdHJva2UiOiB0cnVlLAogICJ3ZWlnaHQiOiAzCn0KICAgICAgICAgICAgICAgICkKICAgICAgICAgICAgICAgIC5hZGRUbyhtYXBfZTY4MDJlOTIxZDg1NDBkNGEzNzczMjhjZWNlNzI4NmEpOwogICAgICAgICAgICAKICAgIAogICAgICAgICAgICB2YXIgcG9wdXBfYTIwMzMwNzVkYjNkNGIyMDliYWUxOTc4ODFiNzI0NjMgPSBMLnBvcHVwKHttYXhXaWR0aDogJzEwMCUnCiAgICAgICAgICAgIAogICAgICAgICAgICB9KTsKCiAgICAgICAgICAgIAogICAgICAgICAgICAgICAgdmFyIGh0bWxfYWVlZGQyMzUwYTYzNDllNzkzZWE1ZjVlZTg5MWQ1OWQgPSAkKGA8ZGl2IGlkPSJodG1sX2FlZWRkMjM1MGE2MzQ5ZTc5M2VhNWY1ZWU4OTFkNTlkIiBzdHlsZT0id2lkdGg6IDEwMC4wJTsgaGVpZ2h0OiAxMDAuMCU7Ij5QYXJrd29vZHMgQ2x1c3RlciA0PC9kaXY+YClbMF07CiAgICAgICAgICAgICAgICBwb3B1cF9hMjAzMzA3NWRiM2Q0YjIwOWJhZTE5Nzg4MWI3MjQ2My5zZXRDb250ZW50KGh0bWxfYWVlZGQyMzUwYTYzNDllNzkzZWE1ZjVlZTg5MWQ1OWQpOwogICAgICAgICAgICAKCiAgICAgICAgICAgIGNpcmNsZV9tYXJrZXJfNDFhZGE0M2U5MDQwNDczNTk2YmVhYjUxNmUzNmZmYmYuYmluZFBvcHVwKHBvcHVwX2EyMDMzMDc1ZGIzZDRiMjA5YmFlMTk3ODgxYjcyNDYzKQogICAgICAgICAgICA7CgogICAgICAgICAgICAKICAgICAgICAKICAgIAogICAgICAgICAgICB2YXIgY2lyY2xlX21hcmtlcl8zMzE2NWEwMDI1YTQ0YjE4YWZlYWRiM2E5OGUxOWRjNCA9IEwuY2lyY2xlTWFya2VyKAogICAgICAgICAgICAgICAgWzQzLjc0NTkwNTc5OTk5OTk5NiwgLTc5LjM1MjE4OF0sCiAgICAgICAgICAgICAgICB7CiAgImJ1YmJsaW5nTW91c2VFdmVudHMiOiB0cnVlLAogICJjb2xvciI6ICIjMmFkZGRkIiwKICAiZGFzaEFycmF5IjogbnVsbCwKICAiZGFzaE9mZnNldCI6IG51bGwsCiAgImZpbGwiOiB0cnVlLAogICJmaWxsQ29sb3IiOiAiIzJhZGRkZCIsCiAgImZpbGxPcGFjaXR5IjogMC43LAogICJmaWxsUnVsZSI6ICJldmVub2RkIiwKICAibGluZUNhcCI6ICJyb3VuZCIsCiAgImxpbmVKb2luIjogInJvdW5kIiwKICAib3BhY2l0eSI6IDEuMCwKICAicmFkaXVzIjogNSwKICAic3Ryb2tlIjogdHJ1ZSwKICAid2VpZ2h0IjogMwp9CiAgICAgICAgICAgICAgICApCiAgICAgICAgICAgICAgICAuYWRkVG8obWFwX2U2ODAyZTkyMWQ4NTQwZDRhMzc3MzI4Y2VjZTcyODZhKTsKICAgICAgICAgICAgCiAgICAKICAgICAgICAgICAgdmFyIHBvcHVwXzVhOTRiYjk0NmNjMzRjYmE4YThkYTg0YjljYmIzYzhlID0gTC5wb3B1cCh7bWF4V2lkdGg6ICcxMDAlJwogICAgICAgICAgICAKICAgICAgICAgICAgfSk7CgogICAgICAgICAgICAKICAgICAgICAgICAgICAgIHZhciBodG1sX2YwNGRmZDdmMTk4YzQ0YjU4YmIzNzQ2ZWMxOGM3NTdiID0gJChgPGRpdiBpZD0iaHRtbF9mMDRkZmQ3ZjE5OGM0NGI1OGJiMzc0NmVjMThjNzU3YiIgc3R5bGU9IndpZHRoOiAxMDAuMCU7IGhlaWdodDogMTAwLjAlOyI+RG9uIE1pbGxzIENsdXN0ZXIgNDwvZGl2PmApWzBdOwogICAgICAgICAgICAgICAgcG9wdXBfNWE5NGJiOTQ2Y2MzNGNiYThhOGRhODRiOWNiYjNjOGUuc2V0Q29udGVudChodG1sX2YwNGRmZDdmMTk4YzQ0YjU4YmIzNzQ2ZWMxOGM3NTdiKTsKICAgICAgICAgICAgCgogICAgICAgICAgICBjaXJjbGVfbWFya2VyXzMzMTY1YTAwMjVhNDRiMThhZmVhZGIzYTk4ZTE5ZGM0LmJpbmRQb3B1cChwb3B1cF81YTk0YmI5NDZjYzM0Y2JhOGE4ZGE4NGI5Y2JiM2M4ZSkKICAgICAgICAgICAgOwoKICAgICAgICAgICAgCiAgICAgICAgCiAgICAKICAgICAgICAgICAgdmFyIGNpcmNsZV9tYXJrZXJfOWVmNjg2MzE1NDQ2NDRkMmIzOGE4N2RlYjc5ZTY2ODggPSBMLmNpcmNsZU1hcmtlcigKICAgICAgICAgICAgICAgIFs0My43MjU4OTk3MDAwMDAwMSwgLTc5LjM0MDkyM10sCiAgICAgICAgICAgICAgICB7CiAgImJ1YmJsaW5nTW91c2VFdmVudHMiOiB0cnVlLAogICJjb2xvciI6ICIjZDRkZDgwIiwKICAiZGFzaEFycmF5IjogbnVsbCwKICAiZGFzaE9mZnNldCI6IG51bGwsCiAgImZpbGwiOiB0cnVlLAogICJmaWxsQ29sb3IiOiAiI2Q0ZGQ4MCIsCiAgImZpbGxPcGFjaXR5IjogMC43LAogICJmaWxsUnVsZSI6ICJldmVub2RkIiwKICAibGluZUNhcCI6ICJyb3VuZCIsCiAgImxpbmVKb2luIjogInJvdW5kIiwKICAib3BhY2l0eSI6IDEuMCwKICAicmFkaXVzIjogNSwKICAic3Ryb2tlIjogdHJ1ZSwKICAid2VpZ2h0IjogMwp9CiAgICAgICAgICAgICAgICApCiAgICAgICAgICAgICAgICAuYWRkVG8obWFwX2U2ODAyZTkyMWQ4NTQwZDRhMzc3MzI4Y2VjZTcyODZhKTsKICAgICAgICAgICAgCiAgICAKICAgICAgICAgICAgdmFyIHBvcHVwXzI1YjAwZWJjYWQyMzRjYjY5YzMwMzk0MTA2MmViZGI5ID0gTC5wb3B1cCh7bWF4V2lkdGg6ICcxMDAlJwogICAgICAgICAgICAKICAgICAgICAgICAgfSk7CgogICAgICAgICAgICAKICAgICAgICAgICAgICAgIHZhciBodG1sXzg4ZjYyZTdkMmExNjRkMjk4YzhlOWI5MjFiZTdhMDc0ID0gJChgPGRpdiBpZD0iaHRtbF84OGY2MmU3ZDJhMTY0ZDI5OGM4ZTliOTIxYmU3YTA3NCIgc3R5bGU9IndpZHRoOiAxMDAuMCU7IGhlaWdodDogMTAwLjAlOyI+RG9uIE1pbGxzIENsdXN0ZXIgNzwvZGl2PmApWzBdOwogICAgICAgICAgICAgICAgcG9wdXBfMjViMDBlYmNhZDIzNGNiNjljMzAzOTQxMDYyZWJkYjkuc2V0Q29udGVudChodG1sXzg4ZjYyZTdkMmExNjRkMjk4YzhlOWI5MjFiZTdhMDc0KTsKICAgICAgICAgICAgCgogICAgICAgICAgICBjaXJjbGVfbWFya2VyXzllZjY4NjMxNTQ0NjQ0ZDJiMzhhODdkZWI3OWU2Njg4LmJpbmRQb3B1cChwb3B1cF8yNWIwMGViY2FkMjM0Y2I2OWMzMDM5NDEwNjJlYmRiOSkKICAgICAgICAgICAgOwoKICAgICAgICAgICAgCiAgICAgICAgCiAgICAKICAgICAgICAgICAgdmFyIGNpcmNsZV9tYXJrZXJfZGE3NjdjODk2OWJjNGQyMjkzYTgwMWQxZjhjNDI2MDYgPSBMLmNpcmNsZU1hcmtlcigKICAgICAgICAgICAgICAgIFs0My43NTQzMjgzLCAtNzkuNDQyMjU5M10sCiAgICAgICAgICAgICAgICB7CiAgImJ1YmJsaW5nTW91c2VFdmVudHMiOiB0cnVlLAogICJjb2xvciI6ICIjZmZhMjU2IiwKICAiZGFzaEFycmF5IjogbnVsbCwKICAiZGFzaE9mZnNldCI6IG51bGwsCiAgImZpbGwiOiB0cnVlLAogICJmaWxsQ29sb3IiOiAiI2ZmYTI1NiIsCiAgImZpbGxPcGFjaXR5IjogMC43LAogICJmaWxsUnVsZSI6ICJldmVub2RkIiwKICAibGluZUNhcCI6ICJyb3VuZCIsCiAgImxpbmVKb2luIjogInJvdW5kIiwKICAib3BhY2l0eSI6IDEuMCwKICAicmFkaXVzIjogNSwKICAic3Ryb2tlIjogdHJ1ZSwKICAid2VpZ2h0IjogMwp9CiAgICAgICAgICAgICAgICApCiAgICAgICAgICAgICAgICAuYWRkVG8obWFwX2U2ODAyZTkyMWQ4NTQwZDRhMzc3MzI4Y2VjZTcyODZhKTsKICAgICAgICAgICAgCiAgICAKICAgICAgICAgICAgdmFyIHBvcHVwXzgwN2M5MzVhNTlkMTRhZWM5ZWRmMGZiOTFkYzFhZjdlID0gTC5wb3B1cCh7bWF4V2lkdGg6ICcxMDAlJwogICAgICAgICAgICAKICAgICAgICAgICAgfSk7CgogICAgICAgICAgICAKICAgICAgICAgICAgICAgIHZhciBodG1sXzE5ZDk4ZDkxMTE5MjRmZTBiNTUyY2Y0MDRlNWNiN2I3ID0gJChgPGRpdiBpZD0iaHRtbF8xOWQ5OGQ5MTExOTI0ZmUwYjU1MmNmNDA0ZTVjYjdiNyIgc3R5bGU9IndpZHRoOiAxMDAuMCU7IGhlaWdodDogMTAwLjAlOyI+QmF0aHVyc3QgTWFub3IgLyBXaWxzb24gSGVpZ2h0cyAvIERvd25zdmlldyBOb3J0aCBDbHVzdGVyIDg8L2Rpdj5gKVswXTsKICAgICAgICAgICAgICAgIHBvcHVwXzgwN2M5MzVhNTlkMTRhZWM5ZWRmMGZiOTFkYzFhZjdlLnNldENvbnRlbnQoaHRtbF8xOWQ5OGQ5MTExOTI0ZmUwYjU1MmNmNDA0ZTVjYjdiNyk7CiAgICAgICAgICAgIAoKICAgICAgICAgICAgY2lyY2xlX21hcmtlcl9kYTc2N2M4OTY5YmM0ZDIyOTNhODAxZDFmOGM0MjYwNi5iaW5kUG9wdXAocG9wdXBfODA3YzkzNWE1OWQxNGFlYzllZGYwZmI5MWRjMWFmN2UpCiAgICAgICAgICAgIDsKCiAgICAgICAgICAgIAogICAgICAgIAogICAgCiAgICAgICAgICAgIHZhciBjaXJjbGVfbWFya2VyX2I3YmVkYTQzMTJhZTRhZjFiMGQ4NDFjNmVkYTM1YTFlID0gTC5jaXJjbGVNYXJrZXIoCiAgICAgICAgICAgICAgICBbNDMuNzY3OTgwMywgLTc5LjQ4NzI2MTkwMDAwMDAxXSwKICAgICAgICAgICAgICAgIHsKICAiYnViYmxpbmdNb3VzZUV2ZW50cyI6IHRydWUsCiAgImNvbG9yIjogIiNmZmEyNTYiLAogICJkYXNoQXJyYXkiOiBudWxsLAogICJkYXNoT2Zmc2V0IjogbnVsbCwKICAiZmlsbCI6IHRydWUsCiAgImZpbGxDb2xvciI6ICIjZmZhMjU2IiwKICAiZmlsbE9wYWNpdHkiOiAwLjcsCiAgImZpbGxSdWxlIjogImV2ZW5vZGQiLAogICJsaW5lQ2FwIjogInJvdW5kIiwKICAibGluZUpvaW4iOiAicm91bmQiLAogICJvcGFjaXR5IjogMS4wLAogICJyYWRpdXMiOiA1LAogICJzdHJva2UiOiB0cnVlLAogICJ3ZWlnaHQiOiAzCn0KICAgICAgICAgICAgICAgICkKICAgICAgICAgICAgICAgIC5hZGRUbyhtYXBfZTY4MDJlOTIxZDg1NDBkNGEzNzczMjhjZWNlNzI4NmEpOwogICAgICAgICAgICAKICAgIAogICAgICAgICAgICB2YXIgcG9wdXBfZjhjOGNhZTQ4MDU0NDJkMWI1NzhiMmM3NDYyNTNiM2QgPSBMLnBvcHVwKHttYXhXaWR0aDogJzEwMCUnCiAgICAgICAgICAgIAogICAgICAgICAgICB9KTsKCiAgICAgICAgICAgIAogICAgICAgICAgICAgICAgdmFyIGh0bWxfNTE1OWMwOTYyYTZkNDM2M2E4MDA5ZGNlODM0ZTcwM2MgPSAkKGA8ZGl2IGlkPSJodG1sXzUxNTljMDk2MmE2ZDQzNjNhODAwOWRjZTgzNGU3MDNjIiBzdHlsZT0id2lkdGg6IDEwMC4wJTsgaGVpZ2h0OiAxMDAuMCU7Ij5Ob3J0aHdvb2QgUGFyayAvIFlvcmsgVW5pdmVyc2l0eSBDbHVzdGVyIDg8L2Rpdj5gKVswXTsKICAgICAgICAgICAgICAgIHBvcHVwX2Y4YzhjYWU0ODA1NDQyZDFiNTc4YjJjNzQ2MjUzYjNkLnNldENvbnRlbnQoaHRtbF81MTU5YzA5NjJhNmQ0MzYzYTgwMDlkY2U4MzRlNzAzYyk7CiAgICAgICAgICAgIAoKICAgICAgICAgICAgY2lyY2xlX21hcmtlcl9iN2JlZGE0MzEyYWU0YWYxYjBkODQxYzZlZGEzNWExZS5iaW5kUG9wdXAocG9wdXBfZjhjOGNhZTQ4MDU0NDJkMWI1NzhiMmM3NDYyNTNiM2QpCiAgICAgICAgICAgIDsKCiAgICAgICAgICAgIAogICAgICAgIAogICAgCiAgICAgICAgICAgIHZhciBjaXJjbGVfbWFya2VyXzU2NWNiNGI2NGU4ODRjMzRiYWI3NDA2M2JiMmZhOGYxID0gTC5jaXJjbGVNYXJrZXIoCiAgICAgICAgICAgICAgICBbNDMuNzM3NDczMjAwMDAwMDA0LCAtNzkuNDY0NzYzMjk5OTk5OTldLAogICAgICAgICAgICAgICAgewogICJidWJibGluZ01vdXNlRXZlbnRzIjogdHJ1ZSwKICAiY29sb3IiOiAiI2ZmYTI1NiIsCiAgImRhc2hBcnJheSI6IG51bGwsCiAgImRhc2hPZmZzZXQiOiBudWxsLAogICJmaWxsIjogdHJ1ZSwKICAiZmlsbENvbG9yIjogIiNmZmEyNTYiLAogICJmaWxsT3BhY2l0eSI6IDAuNywKICAiZmlsbFJ1bGUiOiAiZXZlbm9kZCIsCiAgImxpbmVDYXAiOiAicm91bmQiLAogICJsaW5lSm9pbiI6ICJyb3VuZCIsCiAgIm9wYWNpdHkiOiAxLjAsCiAgInJhZGl1cyI6IDUsCiAgInN0cm9rZSI6IHRydWUsCiAgIndlaWdodCI6IDMKfQogICAgICAgICAgICAgICAgKQogICAgICAgICAgICAgICAgLmFkZFRvKG1hcF9lNjgwMmU5MjFkODU0MGQ0YTM3NzMyOGNlY2U3Mjg2YSk7CiAgICAgICAgICAgIAogICAgCiAgICAgICAgICAgIHZhciBwb3B1cF9jMzIzOWY0OWUzOGE0YjlkYTZhZmUwMjBiZDBiZjljOSA9IEwucG9wdXAoe21heFdpZHRoOiAnMTAwJScKICAgICAgICAgICAgCiAgICAgICAgICAgIH0pOwoKICAgICAgICAgICAgCiAgICAgICAgICAgICAgICB2YXIgaHRtbF84N2ZhMGVmMzhjZTE0ZWE1YWZmNmU3MDM2YmVmNTI2YiA9ICQoYDxkaXYgaWQ9Imh0bWxfODdmYTBlZjM4Y2UxNGVhNWFmZjZlNzAzNmJlZjUyNmIiIHN0eWxlPSJ3aWR0aDogMTAwLjAlOyBoZWlnaHQ6IDEwMC4wJTsiPkRvd25zdmlldyBDbHVzdGVyIDg8L2Rpdj5gKVswXTsKICAgICAgICAgICAgICAgIHBvcHVwX2MzMjM5ZjQ5ZTM4YTRiOWRhNmFmZTAyMGJkMGJmOWM5LnNldENvbnRlbnQoaHRtbF84N2ZhMGVmMzhjZTE0ZWE1YWZmNmU3MDM2YmVmNTI2Yik7CiAgICAgICAgICAgIAoKICAgICAgICAgICAgY2lyY2xlX21hcmtlcl81NjVjYjRiNjRlODg0YzM0YmFiNzQwNjNiYjJmYThmMS5iaW5kUG9wdXAocG9wdXBfYzMyMzlmNDllMzhhNGI5ZGE2YWZlMDIwYmQwYmY5YzkpCiAgICAgICAgICAgIDsKCiAgICAgICAgICAgIAogICAgICAgIAogICAgCiAgICAgICAgICAgIHZhciBjaXJjbGVfbWFya2VyXzU5Mzk5YjBhN2ZhYzQ4N2I5NWI1Mzg5ODQxNDU4NTAwID0gTC5jaXJjbGVNYXJrZXIoCiAgICAgICAgICAgICAgICBbNDMuNzM5MDE0NiwgLTc5LjUwNjk0MzZdLAogICAgICAgICAgICAgICAgewogICJidWJibGluZ01vdXNlRXZlbnRzIjogdHJ1ZSwKICAiY29sb3IiOiAiIzYyZmJjNCIsCiAgImRhc2hBcnJheSI6IG51bGwsCiAgImRhc2hPZmZzZXQiOiBudWxsLAogICJmaWxsIjogdHJ1ZSwKICAiZmlsbENvbG9yIjogIiM2MmZiYzQiLAogICJmaWxsT3BhY2l0eSI6IDAuNywKICAiZmlsbFJ1bGUiOiAiZXZlbm9kZCIsCiAgImxpbmVDYXAiOiAicm91bmQiLAogICJsaW5lSm9pbiI6ICJyb3VuZCIsCiAgIm9wYWNpdHkiOiAxLjAsCiAgInJhZGl1cyI6IDUsCiAgInN0cm9rZSI6IHRydWUsCiAgIndlaWdodCI6IDMKfQogICAgICAgICAgICAgICAgKQogICAgICAgICAgICAgICAgLmFkZFRvKG1hcF9lNjgwMmU5MjFkODU0MGQ0YTM3NzMyOGNlY2U3Mjg2YSk7CiAgICAgICAgICAgIAogICAgCiAgICAgICAgICAgIHZhciBwb3B1cF84Yzc5NGRmNzQyM2I0MjUxYWI1YTY2ODU3NjQwMDNmYyA9IEwucG9wdXAoe21heFdpZHRoOiAnMTAwJScKICAgICAgICAgICAgCiAgICAgICAgICAgIH0pOwoKICAgICAgICAgICAgCiAgICAgICAgICAgICAgICB2YXIgaHRtbF80MzEzZjNkYTViYjE0ODZiYjU0YmYzZTg2YjQ1YjY4ZiA9ICQoYDxkaXYgaWQ9Imh0bWxfNDMxM2YzZGE1YmIxNDg2YmI1NGJmM2U4NmI0NWI2OGYiIHN0eWxlPSJ3aWR0aDogMTAwLjAlOyBoZWlnaHQ6IDEwMC4wJTsiPkRvd25zdmlldyBDbHVzdGVyIDU8L2Rpdj5gKVswXTsKICAgICAgICAgICAgICAgIHBvcHVwXzhjNzk0ZGY3NDIzYjQyNTFhYjVhNjY4NTc2NDAwM2ZjLnNldENvbnRlbnQoaHRtbF80MzEzZjNkYTViYjE0ODZiYjU0YmYzZTg2YjQ1YjY4Zik7CiAgICAgICAgICAgIAoKICAgICAgICAgICAgY2lyY2xlX21hcmtlcl81OTM5OWIwYTdmYWM0ODdiOTViNTM4OTg0MTQ1ODUwMC5iaW5kUG9wdXAocG9wdXBfOGM3OTRkZjc0MjNiNDI1MWFiNWE2Njg1NzY0MDAzZmMpCiAgICAgICAgICAgIDsKCiAgICAgICAgICAgIAogICAgICAgIAogICAgCiAgICAgICAgICAgIHZhciBjaXJjbGVfbWFya2VyXzM0NGQ0ZTVhMjNhNDQ4YmZhNjYxODAzNWZmNDNjMWEwID0gTC5jaXJjbGVNYXJrZXIoCiAgICAgICAgICAgICAgICBbNDMuNzI4NDk2NCwgLTc5LjQ5NTY5NzQwMDAwMDAxXSwKICAgICAgICAgICAgICAgIHsKICAiYnViYmxpbmdNb3VzZUV2ZW50cyI6IHRydWUsCiAgImNvbG9yIjogIiM2MmZiYzQiLAogICJkYXNoQXJyYXkiOiBudWxsLAogICJkYXNoT2Zmc2V0IjogbnVsbCwKICAiZmlsbCI6IHRydWUsCiAgImZpbGxDb2xvciI6ICIjNjJmYmM0IiwKICAiZmlsbE9wYWNpdHkiOiAwLjcsCiAgImZpbGxSdWxlIjogImV2ZW5vZGQiLAogICJsaW5lQ2FwIjogInJvdW5kIiwKICAibGluZUpvaW4iOiAicm91bmQiLAogICJvcGFjaXR5IjogMS4wLAogICJyYWRpdXMiOiA1LAogICJzdHJva2UiOiB0cnVlLAogICJ3ZWlnaHQiOiAzCn0KICAgICAgICAgICAgICAgICkKICAgICAgICAgICAgICAgIC5hZGRUbyhtYXBfZTY4MDJlOTIxZDg1NDBkNGEzNzczMjhjZWNlNzI4NmEpOwogICAgICAgICAgICAKICAgIAogICAgICAgICAgICB2YXIgcG9wdXBfYmY1ZDRhMmYxZjA0NDliN2E0NWZjYzBkZWRiZDhhYTggPSBMLnBvcHVwKHttYXhXaWR0aDogJzEwMCUnCiAgICAgICAgICAgIAogICAgICAgICAgICB9KTsKCiAgICAgICAgICAgIAogICAgICAgICAgICAgICAgdmFyIGh0bWxfNTNiMzgxMjU5OGQzNGNhZGE5ODc2MWYyZWJiYWI1OTUgPSAkKGA8ZGl2IGlkPSJodG1sXzUzYjM4MTI1OThkMzRjYWRhOTg3NjFmMmViYmFiNTk1IiBzdHlsZT0id2lkdGg6IDEwMC4wJTsgaGVpZ2h0OiAxMDAuMCU7Ij5Eb3duc3ZpZXcgQ2x1c3RlciA1PC9kaXY+YClbMF07CiAgICAgICAgICAgICAgICBwb3B1cF9iZjVkNGEyZjFmMDQ0OWI3YTQ1ZmNjMGRlZGJkOGFhOC5zZXRDb250ZW50KGh0bWxfNTNiMzgxMjU5OGQzNGNhZGE5ODc2MWYyZWJiYWI1OTUpOwogICAgICAgICAgICAKCiAgICAgICAgICAgIGNpcmNsZV9tYXJrZXJfMzQ0ZDRlNWEyM2E0NDhiZmE2NjE4MDM1ZmY0M2MxYTAuYmluZFBvcHVwKHBvcHVwX2JmNWQ0YTJmMWYwNDQ5YjdhNDVmY2MwZGVkYmQ4YWE4KQogICAgICAgICAgICA7CgogICAgICAgICAgICAKICAgICAgICAKICAgIAogICAgICAgICAgICB2YXIgY2lyY2xlX21hcmtlcl9kZmFjNjY4ZWZmNmY0NTBjODA1NDFlMzhiOTBhNTdiYSA9IEwuY2lyY2xlTWFya2VyKAogICAgICAgICAgICAgICAgWzQzLjc2MTYzMTMsIC03OS41MjA5OTk0MDAwMDAwMV0sCiAgICAgICAgICAgICAgICB7CiAgImJ1YmJsaW5nTW91c2VFdmVudHMiOiB0cnVlLAogICJjb2xvciI6ICIjZmZhMjU2IiwKICAiZGFzaEFycmF5IjogbnVsbCwKICAiZGFzaE9mZnNldCI6IG51bGwsCiAgImZpbGwiOiB0cnVlLAogICJmaWxsQ29sb3IiOiAiI2ZmYTI1NiIsCiAgImZpbGxPcGFjaXR5IjogMC43LAogICJmaWxsUnVsZSI6ICJldmVub2RkIiwKICAibGluZUNhcCI6ICJyb3VuZCIsCiAgImxpbmVKb2luIjogInJvdW5kIiwKICAib3BhY2l0eSI6IDEuMCwKICAicmFkaXVzIjogNSwKICAic3Ryb2tlIjogdHJ1ZSwKICAid2VpZ2h0IjogMwp9CiAgICAgICAgICAgICAgICApCiAgICAgICAgICAgICAgICAuYWRkVG8obWFwX2U2ODAyZTkyMWQ4NTQwZDRhMzc3MzI4Y2VjZTcyODZhKTsKICAgICAgICAgICAgCiAgICAKICAgICAgICAgICAgdmFyIHBvcHVwXzI5Y2M0OTkxYjllNjQ2ODI5ZDk5MjVkNmU0MzE2ODUwID0gTC5wb3B1cCh7bWF4V2lkdGg6ICcxMDAlJwogICAgICAgICAgICAKICAgICAgICAgICAgfSk7CgogICAgICAgICAgICAKICAgICAgICAgICAgICAgIHZhciBodG1sXzdhNDUwNDcwYjg2NTRlMjZhYjQyMjQ2Njg2N2U3ZTAyID0gJChgPGRpdiBpZD0iaHRtbF83YTQ1MDQ3MGI4NjU0ZTI2YWI0MjI0NjY4NjdlN2UwMiIgc3R5bGU9IndpZHRoOiAxMDAuMCU7IGhlaWdodDogMTAwLjAlOyI+RG93bnN2aWV3IENsdXN0ZXIgODwvZGl2PmApWzBdOwogICAgICAgICAgICAgICAgcG9wdXBfMjljYzQ5OTFiOWU2NDY4MjlkOTkyNWQ2ZTQzMTY4NTAuc2V0Q29udGVudChodG1sXzdhNDUwNDcwYjg2NTRlMjZhYjQyMjQ2Njg2N2U3ZTAyKTsKICAgICAgICAgICAgCgogICAgICAgICAgICBjaXJjbGVfbWFya2VyX2RmYWM2NjhlZmY2ZjQ1MGM4MDU0MWUzOGI5MGE1N2JhLmJpbmRQb3B1cChwb3B1cF8yOWNjNDk5MWI5ZTY0NjgyOWQ5OTI1ZDZlNDMxNjg1MCkKICAgICAgICAgICAgOwoKICAgICAgICAgICAgCiAgICAgICAgCiAgICAKICAgICAgICAgICAgdmFyIGNpcmNsZV9tYXJrZXJfMjIwOTQ2MmRlZjQyNGIyOTlmNWNiODdmYjIzOTAzZDAgPSBMLmNpcmNsZU1hcmtlcigKICAgICAgICAgICAgICAgIFs0My43MjU4ODIyOTk5OTk5OTUsIC03OS4zMTU1NzE1OTk5OTk5OF0sCiAgICAgICAgICAgICAgICB7CiAgImJ1YmJsaW5nTW91c2VFdmVudHMiOiB0cnVlLAogICJjb2xvciI6ICIjZDRkZDgwIiwKICAiZGFzaEFycmF5IjogbnVsbCwKICAiZGFzaE9mZnNldCI6IG51bGwsCiAgImZpbGwiOiB0cnVlLAogICJmaWxsQ29sb3IiOiAiI2Q0ZGQ4MCIsCiAgImZpbGxPcGFjaXR5IjogMC43LAogICJmaWxsUnVsZSI6ICJldmVub2RkIiwKICAibGluZUNhcCI6ICJyb3VuZCIsCiAgImxpbmVKb2luIjogInJvdW5kIiwKICAib3BhY2l0eSI6IDEuMCwKICAicmFkaXVzIjogNSwKICAic3Ryb2tlIjogdHJ1ZSwKICAid2VpZ2h0IjogMwp9CiAgICAgICAgICAgICAgICApCiAgICAgICAgICAgICAgICAuYWRkVG8obWFwX2U2ODAyZTkyMWQ4NTQwZDRhMzc3MzI4Y2VjZTcyODZhKTsKICAgICAgICAgICAgCiAgICAKICAgICAgICAgICAgdmFyIHBvcHVwXzA4ZWNmNDg0Yjc4ZjQyMzJhZTQzMDFjZmYxZDA0MTQ3ID0gTC5wb3B1cCh7bWF4V2lkdGg6ICcxMDAlJwogICAgICAgICAgICAKICAgICAgICAgICAgfSk7CgogICAgICAgICAgICAKICAgICAgICAgICAgICAgIHZhciBodG1sX2U0YTQ5MmUyZmE3ZTRiYTM4YjZkMjU5YTY4NzRmNWQ3ID0gJChgPGRpdiBpZD0iaHRtbF9lNGE0OTJlMmZhN2U0YmEzOGI2ZDI1OWE2ODc0ZjVkNyIgc3R5bGU9IndpZHRoOiAxMDAuMCU7IGhlaWdodDogMTAwLjAlOyI+VmljdG9yaWEgVmlsbGFnZSBDbHVzdGVyIDc8L2Rpdj5gKVswXTsKICAgICAgICAgICAgICAgIHBvcHVwXzA4ZWNmNDg0Yjc4ZjQyMzJhZTQzMDFjZmYxZDA0MTQ3LnNldENvbnRlbnQoaHRtbF9lNGE0OTJlMmZhN2U0YmEzOGI2ZDI1OWE2ODc0ZjVkNyk7CiAgICAgICAgICAgIAoKICAgICAgICAgICAgY2lyY2xlX21hcmtlcl8yMjA5NDYyZGVmNDI0YjI5OWY1Y2I4N2ZiMjM5MDNkMC5iaW5kUG9wdXAocG9wdXBfMDhlY2Y0ODRiNzhmNDIzMmFlNDMwMWNmZjFkMDQxNDcpCiAgICAgICAgICAgIDsKCiAgICAgICAgICAgIAogICAgICAgIAogICAgCiAgICAgICAgICAgIHZhciBjaXJjbGVfbWFya2VyXzdhYTcyMDQxM2ExMjRjODViOTc1YmJjOTMxMGQxMDE4ID0gTC5jaXJjbGVNYXJrZXIoCiAgICAgICAgICAgICAgICBbNDMuNzA2Mzk3MiwgLTc5LjMwOTkzN10sCiAgICAgICAgICAgICAgICB7CiAgImJ1YmJsaW5nTW91c2VFdmVudHMiOiB0cnVlLAogICJjb2xvciI6ICIjZDRkZDgwIiwKICAiZGFzaEFycmF5IjogbnVsbCwKICAiZGFzaE9mZnNldCI6IG51bGwsCiAgImZpbGwiOiB0cnVlLAogICJmaWxsQ29sb3IiOiAiI2Q0ZGQ4MCIsCiAgImZpbGxPcGFjaXR5IjogMC43LAogICJmaWxsUnVsZSI6ICJldmVub2RkIiwKICAibGluZUNhcCI6ICJyb3VuZCIsCiAgImxpbmVKb2luIjogInJvdW5kIiwKICAib3BhY2l0eSI6IDEuMCwKICAicmFkaXVzIjogNSwKICAic3Ryb2tlIjogdHJ1ZSwKICAid2VpZ2h0IjogMwp9CiAgICAgICAgICAgICAgICApCiAgICAgICAgICAgICAgICAuYWRkVG8obWFwX2U2ODAyZTkyMWQ4NTQwZDRhMzc3MzI4Y2VjZTcyODZhKTsKICAgICAgICAgICAgCiAgICAKICAgICAgICAgICAgdmFyIHBvcHVwXzU1ZTY1MzYyZWQyZTRiYmVhNDY1OWRjYzE0Y2M0NWYwID0gTC5wb3B1cCh7bWF4V2lkdGg6ICcxMDAlJwogICAgICAgICAgICAKICAgICAgICAgICAgfSk7CgogICAgICAgICAgICAKICAgICAgICAgICAgICAgIHZhciBodG1sXzFlZTY1ZDRmMTkzMjQ2ZjFhNjRiYzQxNzc4YmU5N2I1ID0gJChgPGRpdiBpZD0iaHRtbF8xZWU2NWQ0ZjE5MzI0NmYxYTY0YmM0MTc3OGJlOTdiNSIgc3R5bGU9IndpZHRoOiAxMDAuMCU7IGhlaWdodDogMTAwLjAlOyI+UGFya3ZpZXcgSGlsbCAvIFdvb2RiaW5lIEdhcmRlbnMgQ2x1c3RlciA3PC9kaXY+YClbMF07CiAgICAgICAgICAgICAgICBwb3B1cF81NWU2NTM2MmVkMmU0YmJlYTQ2NTlkY2MxNGNjNDVmMC5zZXRDb250ZW50KGh0bWxfMWVlNjVkNGYxOTMyNDZmMWE2NGJjNDE3NzhiZTk3YjUpOwogICAgICAgICAgICAKCiAgICAgICAgICAgIGNpcmNsZV9tYXJrZXJfN2FhNzIwNDEzYTEyNGM4NWI5NzViYmM5MzEwZDEwMTguYmluZFBvcHVwKHBvcHVwXzU1ZTY1MzYyZWQyZTRiYmVhNDY1OWRjYzE0Y2M0NWYwKQogICAgICAgICAgICA7CgogICAgICAgICAgICAKICAgICAgICAKICAgIAogICAgICAgICAgICB2YXIgY2lyY2xlX21hcmtlcl85MTk3MTlkMGI1OTU0YjFjOTFkYzA4ODBjMjg2Y2QxNCA9IEwuY2lyY2xlTWFya2VyKAogICAgICAgICAgICAgICAgWzQzLjY5NTM0MzkwMDAwMDAwNSwgLTc5LjMxODM4ODddLAogICAgICAgICAgICAgICAgewogICJidWJibGluZ01vdXNlRXZlbnRzIjogdHJ1ZSwKICAiY29sb3IiOiAiIzljZmJhNCIsCiAgImRhc2hBcnJheSI6IG51bGwsCiAgImRhc2hPZmZzZXQiOiBudWxsLAogICJmaWxsIjogdHJ1ZSwKICAiZmlsbENvbG9yIjogIiM5Y2ZiYTQiLAogICJmaWxsT3BhY2l0eSI6IDAuNywKICAiZmlsbFJ1bGUiOiAiZXZlbm9kZCIsCiAgImxpbmVDYXAiOiAicm91bmQiLAogICJsaW5lSm9pbiI6ICJyb3VuZCIsCiAgIm9wYWNpdHkiOiAxLjAsCiAgInJhZGl1cyI6IDUsCiAgInN0cm9rZSI6IHRydWUsCiAgIndlaWdodCI6IDMKfQogICAgICAgICAgICAgICAgKQogICAgICAgICAgICAgICAgLmFkZFRvKG1hcF9lNjgwMmU5MjFkODU0MGQ0YTM3NzMyOGNlY2U3Mjg2YSk7CiAgICAgICAgICAgIAogICAgCiAgICAgICAgICAgIHZhciBwb3B1cF8zYWRmODZiMjIzYTI0NTA0OWQ0OTM3MzEyNjU0ZjFmYyA9IEwucG9wdXAoe21heFdpZHRoOiAnMTAwJScKICAgICAgICAgICAgCiAgICAgICAgICAgIH0pOwoKICAgICAgICAgICAgCiAgICAgICAgICAgICAgICB2YXIgaHRtbF9mMTBhMTBjN2ZlMzQ0Y2RmOGE3YzhlMmRkYTQ4NzhhZCA9ICQoYDxkaXYgaWQ9Imh0bWxfZjEwYTEwYzdmZTM0NGNkZjhhN2M4ZTJkZGE0ODc4YWQiIHN0eWxlPSJ3aWR0aDogMTAwLjAlOyBoZWlnaHQ6IDEwMC4wJTsiPldvb2RiaW5lIEhlaWdodHMgQ2x1c3RlciA2PC9kaXY+YClbMF07CiAgICAgICAgICAgICAgICBwb3B1cF8zYWRmODZiMjIzYTI0NTA0OWQ0OTM3MzEyNjU0ZjFmYy5zZXRDb250ZW50KGh0bWxfZjEwYTEwYzdmZTM0NGNkZjhhN2M4ZTJkZGE0ODc4YWQpOwogICAgICAgICAgICAKCiAgICAgICAgICAgIGNpcmNsZV9tYXJrZXJfOTE5NzE5ZDBiNTk1NGIxYzkxZGMwODgwYzI4NmNkMTQuYmluZFBvcHVwKHBvcHVwXzNhZGY4NmIyMjNhMjQ1MDQ5ZDQ5MzczMTI2NTRmMWZjKQogICAgICAgICAgICA7CgogICAgICAgICAgICAKICAgICAgICAKICAgIAogICAgICAgICAgICB2YXIgY2lyY2xlX21hcmtlcl80YmI5ODY3MmNkYjA0Njk5OGQ4MjczNmFlYTk5M2JmZSA9IEwuY2lyY2xlTWFya2VyKAogICAgICAgICAgICAgICAgWzQzLjY3NjM1NzM5OTk5OTk5LCAtNzkuMjkzMDMxMl0sCiAgICAgICAgICAgICAgICB7CiAgImJ1YmJsaW5nTW91c2VFdmVudHMiOiB0cnVlLAogICJjb2xvciI6ICIjOWNmYmE0IiwKICAiZGFzaEFycmF5IjogbnVsbCwKICAiZGFzaE9mZnNldCI6IG51bGwsCiAgImZpbGwiOiB0cnVlLAogICJmaWxsQ29sb3IiOiAiIzljZmJhNCIsCiAgImZpbGxPcGFjaXR5IjogMC43LAogICJmaWxsUnVsZSI6ICJldmVub2RkIiwKICAibGluZUNhcCI6ICJyb3VuZCIsCiAgImxpbmVKb2luIjogInJvdW5kIiwKICAib3BhY2l0eSI6IDEuMCwKICAicmFkaXVzIjogNSwKICAic3Ryb2tlIjogdHJ1ZSwKICAid2VpZ2h0IjogMwp9CiAgICAgICAgICAgICAgICApCiAgICAgICAgICAgICAgICAuYWRkVG8obWFwX2U2ODAyZTkyMWQ4NTQwZDRhMzc3MzI4Y2VjZTcyODZhKTsKICAgICAgICAgICAgCiAgICAKICAgICAgICAgICAgdmFyIHBvcHVwX2NlNzQ3NjdkYjFlZTQzZDZiZmY1MTViNzZlMGMwOGVmID0gTC5wb3B1cCh7bWF4V2lkdGg6ICcxMDAlJwogICAgICAgICAgICAKICAgICAgICAgICAgfSk7CgogICAgICAgICAgICAKICAgICAgICAgICAgICAgIHZhciBodG1sXzJiNjdmMDdmODMxYTQ4MDI5NTU1OTdlOWYwZTIyZGMzID0gJChgPGRpdiBpZD0iaHRtbF8yYjY3ZjA3ZjgzMWE0ODAyOTU1NTk3ZTlmMGUyMmRjMyIgc3R5bGU9IndpZHRoOiAxMDAuMCU7IGhlaWdodDogMTAwLjAlOyI+VGhlIEJlYWNoZXMgQ2x1c3RlciA2PC9kaXY+YClbMF07CiAgICAgICAgICAgICAgICBwb3B1cF9jZTc0NzY3ZGIxZWU0M2Q2YmZmNTE1Yjc2ZTBjMDhlZi5zZXRDb250ZW50KGh0bWxfMmI2N2YwN2Y4MzFhNDgwMjk1NTU5N2U5ZjBlMjJkYzMpOwogICAgICAgICAgICAKCiAgICAgICAgICAgIGNpcmNsZV9tYXJrZXJfNGJiOTg2NzJjZGIwNDY5OThkODI3MzZhZWE5OTNiZmUuYmluZFBvcHVwKHBvcHVwX2NlNzQ3NjdkYjFlZTQzZDZiZmY1MTViNzZlMGMwOGVmKQogICAgICAgICAgICA7CgogICAgICAgICAgICAKICAgICAgICAKICAgIAogICAgICAgICAgICB2YXIgY2lyY2xlX21hcmtlcl83ODhkMWFlMTBhODg0NTM1YTA1NTMzMmI3Mjk4MWQ1OSA9IEwuY2lyY2xlTWFya2VyKAogICAgICAgICAgICAgICAgWzQzLjcwOTA2MDQsIC03OS4zNjM0NTE3XSwKICAgICAgICAgICAgICAgIHsKICAiYnViYmxpbmdNb3VzZUV2ZW50cyI6IHRydWUsCiAgImNvbG9yIjogIiM4MDAwZmYiLAogICJkYXNoQXJyYXkiOiBudWxsLAogICJkYXNoT2Zmc2V0IjogbnVsbCwKICAiZmlsbCI6IHRydWUsCiAgImZpbGxDb2xvciI6ICIjODAwMGZmIiwKICAiZmlsbE9wYWNpdHkiOiAwLjcsCiAgImZpbGxSdWxlIjogImV2ZW5vZGQiLAogICJsaW5lQ2FwIjogInJvdW5kIiwKICAibGluZUpvaW4iOiAicm91bmQiLAogICJvcGFjaXR5IjogMS4wLAogICJyYWRpdXMiOiA1LAogICJzdHJva2UiOiB0cnVlLAogICJ3ZWlnaHQiOiAzCn0KICAgICAgICAgICAgICAgICkKICAgICAgICAgICAgICAgIC5hZGRUbyhtYXBfZTY4MDJlOTIxZDg1NDBkNGEzNzczMjhjZWNlNzI4NmEpOwogICAgICAgICAgICAKICAgIAogICAgICAgICAgICB2YXIgcG9wdXBfNTcyMzkzMTllNGJhNDFiZmFkMzAzYTI3ZDFkNzU5YmQgPSBMLnBvcHVwKHttYXhXaWR0aDogJzEwMCUnCiAgICAgICAgICAgIAogICAgICAgICAgICB9KTsKCiAgICAgICAgICAgIAogICAgICAgICAgICAgICAgdmFyIGh0bWxfNjU5NGVhNDA3YTM1NDgzOGFiYmM4MTA1MTQ1ZTY3M2IgPSAkKGA8ZGl2IGlkPSJodG1sXzY1OTRlYTQwN2EzNTQ4MzhhYmJjODEwNTE0NWU2NzNiIiBzdHlsZT0id2lkdGg6IDEwMC4wJTsgaGVpZ2h0OiAxMDAuMCU7Ij5MZWFzaWRlIENsdXN0ZXIgMTwvZGl2PmApWzBdOwogICAgICAgICAgICAgICAgcG9wdXBfNTcyMzkzMTllNGJhNDFiZmFkMzAzYTI3ZDFkNzU5YmQuc2V0Q29udGVudChodG1sXzY1OTRlYTQwN2EzNTQ4MzhhYmJjODEwNTE0NWU2NzNiKTsKICAgICAgICAgICAgCgogICAgICAgICAgICBjaXJjbGVfbWFya2VyXzc4OGQxYWUxMGE4ODQ1MzVhMDU1MzMyYjcyOTgxZDU5LmJpbmRQb3B1cChwb3B1cF81NzIzOTMxOWU0YmE0MWJmYWQzMDNhMjdkMWQ3NTliZCkKICAgICAgICAgICAgOwoKICAgICAgICAgICAgCiAgICAgICAgCiAgICAKICAgICAgICAgICAgdmFyIGNpcmNsZV9tYXJrZXJfZjczNTA2YWU0MWUyNDMyZjhlNGRiMWRlZTk5ZGM4ZWEgPSBMLmNpcmNsZU1hcmtlcigKICAgICAgICAgICAgICAgIFs0My43MDUzNjg5LCAtNzkuMzQ5MzcxOTAwMDAwMDFdLAogICAgICAgICAgICAgICAgewogICJidWJibGluZ01vdXNlRXZlbnRzIjogdHJ1ZSwKICAiY29sb3IiOiAiIzgwMDBmZiIsCiAgImRhc2hBcnJheSI6IG51bGwsCiAgImRhc2hPZmZzZXQiOiBudWxsLAogICJmaWxsIjogdHJ1ZSwKICAiZmlsbENvbG9yIjogIiM4MDAwZmYiLAogICJmaWxsT3BhY2l0eSI6IDAuNywKICAiZmlsbFJ1bGUiOiAiZXZlbm9kZCIsCiAgImxpbmVDYXAiOiAicm91bmQiLAogICJsaW5lSm9pbiI6ICJyb3VuZCIsCiAgIm9wYWNpdHkiOiAxLjAsCiAgInJhZGl1cyI6IDUsCiAgInN0cm9rZSI6IHRydWUsCiAgIndlaWdodCI6IDMKfQogICAgICAgICAgICAgICAgKQogICAgICAgICAgICAgICAgLmFkZFRvKG1hcF9lNjgwMmU5MjFkODU0MGQ0YTM3NzMyOGNlY2U3Mjg2YSk7CiAgICAgICAgICAgIAogICAgCiAgICAgICAgICAgIHZhciBwb3B1cF8wZTA5YzI3MDM0ODc0Y2E0YWE1ZTY1ZjFmMjU1Zjk1YyA9IEwucG9wdXAoe21heFdpZHRoOiAnMTAwJScKICAgICAgICAgICAgCiAgICAgICAgICAgIH0pOwoKICAgICAgICAgICAgCiAgICAgICAgICAgICAgICB2YXIgaHRtbF9iYzg2YmFiZDAzMmI0ZTU2OTExZTc1MWE3NjRmZmU1MyA9ICQoYDxkaXYgaWQ9Imh0bWxfYmM4NmJhYmQwMzJiNGU1NjkxMWU3NTFhNzY0ZmZlNTMiIHN0eWxlPSJ3aWR0aDogMTAwLjAlOyBoZWlnaHQ6IDEwMC4wJTsiPlRob3JuY2xpZmZlIFBhcmsgQ2x1c3RlciAxPC9kaXY+YClbMF07CiAgICAgICAgICAgICAgICBwb3B1cF8wZTA5YzI3MDM0ODc0Y2E0YWE1ZTY1ZjFmMjU1Zjk1Yy5zZXRDb250ZW50KGh0bWxfYmM4NmJhYmQwMzJiNGU1NjkxMWU3NTFhNzY0ZmZlNTMpOwogICAgICAgICAgICAKCiAgICAgICAgICAgIGNpcmNsZV9tYXJrZXJfZjczNTA2YWU0MWUyNDMyZjhlNGRiMWRlZTk5ZGM4ZWEuYmluZFBvcHVwKHBvcHVwXzBlMDljMjcwMzQ4NzRjYTRhYTVlNjVmMWYyNTVmOTVjKQogICAgICAgICAgICA7CgogICAgICAgICAgICAKICAgICAgICAKICAgIAogICAgICAgICAgICB2YXIgY2lyY2xlX21hcmtlcl9kNWRjOThiODcxNGE0YWUzYjI5NmE2Y2YwMzZjOWU4YiA9IEwuY2lyY2xlTWFya2VyKAogICAgICAgICAgICAgICAgWzQzLjY4NTM0NywgLTc5LjMzODEwNjVdLAogICAgICAgICAgICAgICAgewogICJidWJibGluZ01vdXNlRXZlbnRzIjogdHJ1ZSwKICAiY29sb3IiOiAiIzljZmJhNCIsCiAgImRhc2hBcnJheSI6IG51bGwsCiAgImRhc2hPZmZzZXQiOiBudWxsLAogICJmaWxsIjogdHJ1ZSwKICAiZmlsbENvbG9yIjogIiM5Y2ZiYTQiLAogICJmaWxsT3BhY2l0eSI6IDAuNywKICAiZmlsbFJ1bGUiOiAiZXZlbm9kZCIsCiAgImxpbmVDYXAiOiAicm91bmQiLAogICJsaW5lSm9pbiI6ICJyb3VuZCIsCiAgIm9wYWNpdHkiOiAxLjAsCiAgInJhZGl1cyI6IDUsCiAgInN0cm9rZSI6IHRydWUsCiAgIndlaWdodCI6IDMKfQogICAgICAgICAgICAgICAgKQogICAgICAgICAgICAgICAgLmFkZFRvKG1hcF9lNjgwMmU5MjFkODU0MGQ0YTM3NzMyOGNlY2U3Mjg2YSk7CiAgICAgICAgICAgIAogICAgCiAgICAgICAgICAgIHZhciBwb3B1cF9iNTY0ZWUzYTc5NTA0N2JlODM0MmMzNDQzYWEzNDI1NyA9IEwucG9wdXAoe21heFdpZHRoOiAnMTAwJScKICAgICAgICAgICAgCiAgICAgICAgICAgIH0pOwoKICAgICAgICAgICAgCiAgICAgICAgICAgICAgICB2YXIgaHRtbF9lY2E4ZDhmODUzOGQ0NTQ5YTQ2YTdlOTI0NDFjNDJhNSA9ICQoYDxkaXYgaWQ9Imh0bWxfZWNhOGQ4Zjg1MzhkNDU0OWE0NmE3ZTkyNDQxYzQyYTUiIHN0eWxlPSJ3aWR0aDogMTAwLjAlOyBoZWlnaHQ6IDEwMC4wJTsiPkVhc3QgVG9yb250byBDbHVzdGVyIDY8L2Rpdj5gKVswXTsKICAgICAgICAgICAgICAgIHBvcHVwX2I1NjRlZTNhNzk1MDQ3YmU4MzQyYzM0NDNhYTM0MjU3LnNldENvbnRlbnQoaHRtbF9lY2E4ZDhmODUzOGQ0NTQ5YTQ2YTdlOTI0NDFjNDJhNSk7CiAgICAgICAgICAgIAoKICAgICAgICAgICAgY2lyY2xlX21hcmtlcl9kNWRjOThiODcxNGE0YWUzYjI5NmE2Y2YwMzZjOWU4Yi5iaW5kUG9wdXAocG9wdXBfYjU2NGVlM2E3OTUwNDdiZTgzNDJjMzQ0M2FhMzQyNTcpCiAgICAgICAgICAgIDsKCiAgICAgICAgICAgIAogICAgICAgIAogICAgCiAgICAgICAgICAgIHZhciBjaXJjbGVfbWFya2VyXzZmZDA4N2E5N2FiOTQ3MmRiZGRkMTE5NmMxNjljMmI2ID0gTC5jaXJjbGVNYXJrZXIoCiAgICAgICAgICAgICAgICBbNDMuNjc5NTU3MSwgLTc5LjM1MjE4OF0sCiAgICAgICAgICAgICAgICB7CiAgImJ1YmJsaW5nTW91c2VFdmVudHMiOiB0cnVlLAogICJjb2xvciI6ICIjOWNmYmE0IiwKICAiZGFzaEFycmF5IjogbnVsbCwKICAiZGFzaE9mZnNldCI6IG51bGwsCiAgImZpbGwiOiB0cnVlLAogICJmaWxsQ29sb3IiOiAiIzljZmJhNCIsCiAgImZpbGxPcGFjaXR5IjogMC43LAogICJmaWxsUnVsZSI6ICJldmVub2RkIiwKICAibGluZUNhcCI6ICJyb3VuZCIsCiAgImxpbmVKb2luIjogInJvdW5kIiwKICAib3BhY2l0eSI6IDEuMCwKICAicmFkaXVzIjogNSwKICAic3Ryb2tlIjogdHJ1ZSwKICAid2VpZ2h0IjogMwp9CiAgICAgICAgICAgICAgICApCiAgICAgICAgICAgICAgICAuYWRkVG8obWFwX2U2ODAyZTkyMWQ4NTQwZDRhMzc3MzI4Y2VjZTcyODZhKTsKICAgICAgICAgICAgCiAgICAKICAgICAgICAgICAgdmFyIHBvcHVwXzJjMWM4MGI2MGNiODRiMTI4OGMyZjYwMTNlYjQyNDBkID0gTC5wb3B1cCh7bWF4V2lkdGg6ICcxMDAlJwogICAgICAgICAgICAKICAgICAgICAgICAgfSk7CgogICAgICAgICAgICAKICAgICAgICAgICAgICAgIHZhciBodG1sX2NlMTY3OTFjMmE4ZTQ5Y2JiNmZmOWRhZmU2Yjg2NzRkID0gJChgPGRpdiBpZD0iaHRtbF9jZTE2NzkxYzJhOGU0OWNiYjZmZjlkYWZlNmI4Njc0ZCIgc3R5bGU9IndpZHRoOiAxMDAuMCU7IGhlaWdodDogMTAwLjAlOyI+VGhlIERhbmZvcnRoIFdlc3QgLyBSaXZlcmRhbGUgQ2x1c3RlciA2PC9kaXY+YClbMF07CiAgICAgICAgICAgICAgICBwb3B1cF8yYzFjODBiNjBjYjg0YjEyODhjMmY2MDEzZWI0MjQwZC5zZXRDb250ZW50KGh0bWxfY2UxNjc5MWMyYThlNDljYmI2ZmY5ZGFmZTZiODY3NGQpOwogICAgICAgICAgICAKCiAgICAgICAgICAgIGNpcmNsZV9tYXJrZXJfNmZkMDg3YTk3YWI5NDcyZGJkZGQxMTk2YzE2OWMyYjYuYmluZFBvcHVwKHBvcHVwXzJjMWM4MGI2MGNiODRiMTI4OGMyZjYwMTNlYjQyNDBkKQogICAgICAgICAgICA7CgogICAgICAgICAgICAKICAgICAgICAKICAgIAogICAgICAgICAgICB2YXIgY2lyY2xlX21hcmtlcl80YjlhNTRjZDdlYjA0MmRmOWQ0ZTM4NGIyODdmYTkwZiA9IEwuY2lyY2xlTWFya2VyKAogICAgICAgICAgICAgICAgWzQzLjY2ODk5ODUsIC03OS4zMTU1NzE1OTk5OTk5OF0sCiAgICAgICAgICAgICAgICB7CiAgImJ1YmJsaW5nTW91c2VFdmVudHMiOiB0cnVlLAogICJjb2xvciI6ICIjOWNmYmE0IiwKICAiZGFzaEFycmF5IjogbnVsbCwKICAiZGFzaE9mZnNldCI6IG51bGwsCiAgImZpbGwiOiB0cnVlLAogICJmaWxsQ29sb3IiOiAiIzljZmJhNCIsCiAgImZpbGxPcGFjaXR5IjogMC43LAogICJmaWxsUnVsZSI6ICJldmVub2RkIiwKICAibGluZUNhcCI6ICJyb3VuZCIsCiAgImxpbmVKb2luIjogInJvdW5kIiwKICAib3BhY2l0eSI6IDEuMCwKICAicmFkaXVzIjogNSwKICAic3Ryb2tlIjogdHJ1ZSwKICAid2VpZ2h0IjogMwp9CiAgICAgICAgICAgICAgICApCiAgICAgICAgICAgICAgICAuYWRkVG8obWFwX2U2ODAyZTkyMWQ4NTQwZDRhMzc3MzI4Y2VjZTcyODZhKTsKICAgICAgICAgICAgCiAgICAKICAgICAgICAgICAgdmFyIHBvcHVwXzM2ZjhkMjc1OTI2ZDQ1Yzc4MTQ2MzYwZTU0ZGRlMWRiID0gTC5wb3B1cCh7bWF4V2lkdGg6ICcxMDAlJwogICAgICAgICAgICAKICAgICAgICAgICAgfSk7CgogICAgICAgICAgICAKICAgICAgICAgICAgICAgIHZhciBodG1sXzkxOGZjMjRiNzU1NjQyODI4NDQzZjU4MTg5NmZmZmU0ID0gJChgPGRpdiBpZD0iaHRtbF85MThmYzI0Yjc1NTY0MjgyODQ0M2Y1ODE4OTZmZmZlNCIgc3R5bGU9IndpZHRoOiAxMDAuMCU7IGhlaWdodDogMTAwLjAlOyI+SW5kaWEgQmF6YWFyIC8gVGhlIEJlYWNoZXMgV2VzdCBDbHVzdGVyIDY8L2Rpdj5gKVswXTsKICAgICAgICAgICAgICAgIHBvcHVwXzM2ZjhkMjc1OTI2ZDQ1Yzc4MTQ2MzYwZTU0ZGRlMWRiLnNldENvbnRlbnQoaHRtbF85MThmYzI0Yjc1NTY0MjgyODQ0M2Y1ODE4OTZmZmZlNCk7CiAgICAgICAgICAgIAoKICAgICAgICAgICAgY2lyY2xlX21hcmtlcl80YjlhNTRjZDdlYjA0MmRmOWQ0ZTM4NGIyODdmYTkwZi5iaW5kUG9wdXAocG9wdXBfMzZmOGQyNzU5MjZkNDVjNzgxNDYzNjBlNTRkZGUxZGIpCiAgICAgICAgICAgIDsKCiAgICAgICAgICAgIAogICAgICAgIAogICAgCiAgICAgICAgICAgIHZhciBjaXJjbGVfbWFya2VyXzc4OTBiYWE3NzhmODRkMWJiZDI4ZDM3YTcxMmRiOWJiID0gTC5jaXJjbGVNYXJrZXIoCiAgICAgICAgICAgICAgICBbNDMuNjU5NTI1NSwgLTc5LjM0MDkyM10sCiAgICAgICAgICAgICAgICB7CiAgImJ1YmJsaW5nTW91c2VFdmVudHMiOiB0cnVlLAogICJjb2xvciI6ICIjOWNmYmE0IiwKICAiZGFzaEFycmF5IjogbnVsbCwKICAiZGFzaE9mZnNldCI6IG51bGwsCiAgImZpbGwiOiB0cnVlLAogICJmaWxsQ29sb3IiOiAiIzljZmJhNCIsCiAgImZpbGxPcGFjaXR5IjogMC43LAogICJmaWxsUnVsZSI6ICJldmVub2RkIiwKICAibGluZUNhcCI6ICJyb3VuZCIsCiAgImxpbmVKb2luIjogInJvdW5kIiwKICAib3BhY2l0eSI6IDEuMCwKICAicmFkaXVzIjogNSwKICAic3Ryb2tlIjogdHJ1ZSwKICAid2VpZ2h0IjogMwp9CiAgICAgICAgICAgICAgICApCiAgICAgICAgICAgICAgICAuYWRkVG8obWFwX2U2ODAyZTkyMWQ4NTQwZDRhMzc3MzI4Y2VjZTcyODZhKTsKICAgICAgICAgICAgCiAgICAKICAgICAgICAgICAgdmFyIHBvcHVwX2YyY2Q2NmQ1OTc3NTRjMzU4NjRhNDZiNjIyY2Q0NGZlID0gTC5wb3B1cCh7bWF4V2lkdGg6ICcxMDAlJwogICAgICAgICAgICAKICAgICAgICAgICAgfSk7CgogICAgICAgICAgICAKICAgICAgICAgICAgICAgIHZhciBodG1sXzJiMTFiYjM1ZjY4ZTQzYmNiM2VmOGJhOTRkN2ZiZTY0ID0gJChgPGRpdiBpZD0iaHRtbF8yYjExYmIzNWY2OGU0M2JjYjNlZjhiYTk0ZDdmYmU2NCIgc3R5bGU9IndpZHRoOiAxMDAuMCU7IGhlaWdodDogMTAwLjAlOyI+U3R1ZGlvIERpc3RyaWN0IENsdXN0ZXIgNjwvZGl2PmApWzBdOwogICAgICAgICAgICAgICAgcG9wdXBfZjJjZDY2ZDU5Nzc1NGMzNTg2NGE0NmI2MjJjZDQ0ZmUuc2V0Q29udGVudChodG1sXzJiMTFiYjM1ZjY4ZTQzYmNiM2VmOGJhOTRkN2ZiZTY0KTsKICAgICAgICAgICAgCgogICAgICAgICAgICBjaXJjbGVfbWFya2VyXzc4OTBiYWE3NzhmODRkMWJiZDI4ZDM3YTcxMmRiOWJiLmJpbmRQb3B1cChwb3B1cF9mMmNkNjZkNTk3NzU0YzM1ODY0YTQ2YjYyMmNkNDRmZSkKICAgICAgICAgICAgOwoKICAgICAgICAgICAgCiAgICAgICAgCiAgICAKICAgICAgICAgICAgdmFyIGNpcmNsZV9tYXJrZXJfNjJjYmYyODhlODk2NGEzYmIzNmQwNWM2NjhiOTIxY2UgPSBMLmNpcmNsZU1hcmtlcigKICAgICAgICAgICAgICAgIFs0My43MjgwMjA1LCAtNzkuMzg4NzkwMV0sCiAgICAgICAgICAgICAgICB7CiAgImJ1YmJsaW5nTW91c2VFdmVudHMiOiB0cnVlLAogICJjb2xvciI6ICIjODAwMGZmIiwKICAiZGFzaEFycmF5IjogbnVsbCwKICAiZGFzaE9mZnNldCI6IG51bGwsCiAgImZpbGwiOiB0cnVlLAogICJmaWxsQ29sb3IiOiAiIzgwMDBmZiIsCiAgImZpbGxPcGFjaXR5IjogMC43LAogICJmaWxsUnVsZSI6ICJldmVub2RkIiwKICAibGluZUNhcCI6ICJyb3VuZCIsCiAgImxpbmVKb2luIjogInJvdW5kIiwKICAib3BhY2l0eSI6IDEuMCwKICAicmFkaXVzIjogNSwKICAic3Ryb2tlIjogdHJ1ZSwKICAid2VpZ2h0IjogMwp9CiAgICAgICAgICAgICAgICApCiAgICAgICAgICAgICAgICAuYWRkVG8obWFwX2U2ODAyZTkyMWQ4NTQwZDRhMzc3MzI4Y2VjZTcyODZhKTsKICAgICAgICAgICAgCiAgICAKICAgICAgICAgICAgdmFyIHBvcHVwXzk5ZmQxM2E0MGVhMzQxYWZiMGVmNjRkODhkODI4MzQzID0gTC5wb3B1cCh7bWF4V2lkdGg6ICcxMDAlJwogICAgICAgICAgICAKICAgICAgICAgICAgfSk7CgogICAgICAgICAgICAKICAgICAgICAgICAgICAgIHZhciBodG1sX2ZkZjIxYjI1MWY5MjRiMzdhMWU2MGE4N2U2ZGJiZGE2ID0gJChgPGRpdiBpZD0iaHRtbF9mZGYyMWIyNTFmOTI0YjM3YTFlNjBhODdlNmRiYmRhNiIgc3R5bGU9IndpZHRoOiAxMDAuMCU7IGhlaWdodDogMTAwLjAlOyI+TGF3cmVuY2UgUGFyayBDbHVzdGVyIDE8L2Rpdj5gKVswXTsKICAgICAgICAgICAgICAgIHBvcHVwXzk5ZmQxM2E0MGVhMzQxYWZiMGVmNjRkODhkODI4MzQzLnNldENvbnRlbnQoaHRtbF9mZGYyMWIyNTFmOTI0YjM3YTFlNjBhODdlNmRiYmRhNik7CiAgICAgICAgICAgIAoKICAgICAgICAgICAgY2lyY2xlX21hcmtlcl82MmNiZjI4OGU4OTY0YTNiYjM2ZDA1YzY2OGI5MjFjZS5iaW5kUG9wdXAocG9wdXBfOTlmZDEzYTQwZWEzNDFhZmIwZWY2NGQ4OGQ4MjgzNDMpCiAgICAgICAgICAgIDsKCiAgICAgICAgICAgIAogICAgICAgIAogICAgCiAgICAgICAgICAgIHZhciBjaXJjbGVfbWFya2VyX2U2OWZiOTM0MDI5ZjQ0MmJiNmQ3NGRkYmQwYzc1OTg0ID0gTC5jaXJjbGVNYXJrZXIoCiAgICAgICAgICAgICAgICBbNDMuNzEyNzUxMSwgLTc5LjM5MDE5NzVdLAogICAgICAgICAgICAgICAgewogICJidWJibGluZ01vdXNlRXZlbnRzIjogdHJ1ZSwKICAiY29sb3IiOiAiIzgwMDBmZiIsCiAgImRhc2hBcnJheSI6IG51bGwsCiAgImRhc2hPZmZzZXQiOiBudWxsLAogICJmaWxsIjogdHJ1ZSwKICAiZmlsbENvbG9yIjogIiM4MDAwZmYiLAogICJmaWxsT3BhY2l0eSI6IDAuNywKICAiZmlsbFJ1bGUiOiAiZXZlbm9kZCIsCiAgImxpbmVDYXAiOiAicm91bmQiLAogICJsaW5lSm9pbiI6ICJyb3VuZCIsCiAgIm9wYWNpdHkiOiAxLjAsCiAgInJhZGl1cyI6IDUsCiAgInN0cm9rZSI6IHRydWUsCiAgIndlaWdodCI6IDMKfQogICAgICAgICAgICAgICAgKQogICAgICAgICAgICAgICAgLmFkZFRvKG1hcF9lNjgwMmU5MjFkODU0MGQ0YTM3NzMyOGNlY2U3Mjg2YSk7CiAgICAgICAgICAgIAogICAgCiAgICAgICAgICAgIHZhciBwb3B1cF81MjFkNzkwZTViM2I0OGMxYTc3OTNiZGY0M2UxNTgzMiA9IEwucG9wdXAoe21heFdpZHRoOiAnMTAwJScKICAgICAgICAgICAgCiAgICAgICAgICAgIH0pOwoKICAgICAgICAgICAgCiAgICAgICAgICAgICAgICB2YXIgaHRtbF8zYmJhNTRmM2Y1MjA0ZWJlYTc3NzVjZTRmNjM0ZDAyNSA9ICQoYDxkaXYgaWQ9Imh0bWxfM2JiYTU0ZjNmNTIwNGViZWE3Nzc1Y2U0ZjYzNGQwMjUiIHN0eWxlPSJ3aWR0aDogMTAwLjAlOyBoZWlnaHQ6IDEwMC4wJTsiPkRhdmlzdmlsbGUgTm9ydGggQ2x1c3RlciAxPC9kaXY+YClbMF07CiAgICAgICAgICAgICAgICBwb3B1cF81MjFkNzkwZTViM2I0OGMxYTc3OTNiZGY0M2UxNTgzMi5zZXRDb250ZW50KGh0bWxfM2JiYTU0ZjNmNTIwNGViZWE3Nzc1Y2U0ZjYzNGQwMjUpOwogICAgICAgICAgICAKCiAgICAgICAgICAgIGNpcmNsZV9tYXJrZXJfZTY5ZmI5MzQwMjlmNDQyYmI2ZDc0ZGRiZDBjNzU5ODQuYmluZFBvcHVwKHBvcHVwXzUyMWQ3OTBlNWIzYjQ4YzFhNzc5M2JkZjQzZTE1ODMyKQogICAgICAgICAgICA7CgogICAgICAgICAgICAKICAgICAgICAKICAgIAogICAgICAgICAgICB2YXIgY2lyY2xlX21hcmtlcl9hMzVkODUzNzkyOTg0OWFiYTMzYjRjZTM5MTRlMDJlZSA9IEwuY2lyY2xlTWFya2VyKAogICAgICAgICAgICAgICAgWzQzLjcxNTM4MzQsIC03OS40MDU2Nzg0MDAwMDAwMV0sCiAgICAgICAgICAgICAgICB7CiAgImJ1YmJsaW5nTW91c2VFdmVudHMiOiB0cnVlLAogICJjb2xvciI6ICIjODAwMGZmIiwKICAiZGFzaEFycmF5IjogbnVsbCwKICAiZGFzaE9mZnNldCI6IG51bGwsCiAgImZpbGwiOiB0cnVlLAogICJmaWxsQ29sb3IiOiAiIzgwMDBmZiIsCiAgImZpbGxPcGFjaXR5IjogMC43LAogICJmaWxsUnVsZSI6ICJldmVub2RkIiwKICAibGluZUNhcCI6ICJyb3VuZCIsCiAgImxpbmVKb2luIjogInJvdW5kIiwKICAib3BhY2l0eSI6IDEuMCwKICAicmFkaXVzIjogNSwKICAic3Ryb2tlIjogdHJ1ZSwKICAid2VpZ2h0IjogMwp9CiAgICAgICAgICAgICAgICApCiAgICAgICAgICAgICAgICAuYWRkVG8obWFwX2U2ODAyZTkyMWQ4NTQwZDRhMzc3MzI4Y2VjZTcyODZhKTsKICAgICAgICAgICAgCiAgICAKICAgICAgICAgICAgdmFyIHBvcHVwXzM1ZGJkNTdlZWU3NjQzNzE5YjU1ZjdkYmNjYWQxNmEyID0gTC5wb3B1cCh7bWF4V2lkdGg6ICcxMDAlJwogICAgICAgICAgICAKICAgICAgICAgICAgfSk7CgogICAgICAgICAgICAKICAgICAgICAgICAgICAgIHZhciBodG1sX2UzZDk4YzA0N2RiODQ2NGQ5MzY1MjFlMzJjMWU4MjAzID0gJChgPGRpdiBpZD0iaHRtbF9lM2Q5OGMwNDdkYjg0NjRkOTM2NTIxZTMyYzFlODIwMyIgc3R5bGU9IndpZHRoOiAxMDAuMCU7IGhlaWdodDogMTAwLjAlOyI+Tm9ydGggVG9yb250byBXZXN0IENsdXN0ZXIgMTwvZGl2PmApWzBdOwogICAgICAgICAgICAgICAgcG9wdXBfMzVkYmQ1N2VlZTc2NDM3MTliNTVmN2RiY2NhZDE2YTIuc2V0Q29udGVudChodG1sX2UzZDk4YzA0N2RiODQ2NGQ5MzY1MjFlMzJjMWU4MjAzKTsKICAgICAgICAgICAgCgogICAgICAgICAgICBjaXJjbGVfbWFya2VyX2EzNWQ4NTM3OTI5ODQ5YWJhMzNiNGNlMzkxNGUwMmVlLmJpbmRQb3B1cChwb3B1cF8zNWRiZDU3ZWVlNzY0MzcxOWI1NWY3ZGJjY2FkMTZhMikKICAgICAgICAgICAgOwoKICAgICAgICAgICAgCiAgICAgICAgCiAgICAKICAgICAgICAgICAgdmFyIGNpcmNsZV9tYXJrZXJfY2M3YzEyM2M2YzZiNDRlOWI0YjA4N2ZmYWUwNDM2OGUgPSBMLmNpcmNsZU1hcmtlcigKICAgICAgICAgICAgICAgIFs0My43MDQzMjQ0LCAtNzkuMzg4NzkwMV0sCiAgICAgICAgICAgICAgICB7CiAgImJ1YmJsaW5nTW91c2VFdmVudHMiOiB0cnVlLAogICJjb2xvciI6ICIjODAwMGZmIiwKICAiZGFzaEFycmF5IjogbnVsbCwKICAiZGFzaE9mZnNldCI6IG51bGwsCiAgImZpbGwiOiB0cnVlLAogICJmaWxsQ29sb3IiOiAiIzgwMDBmZiIsCiAgImZpbGxPcGFjaXR5IjogMC43LAogICJmaWxsUnVsZSI6ICJldmVub2RkIiwKICAibGluZUNhcCI6ICJyb3VuZCIsCiAgImxpbmVKb2luIjogInJvdW5kIiwKICAib3BhY2l0eSI6IDEuMCwKICAicmFkaXVzIjogNSwKICAic3Ryb2tlIjogdHJ1ZSwKICAid2VpZ2h0IjogMwp9CiAgICAgICAgICAgICAgICApCiAgICAgICAgICAgICAgICAuYWRkVG8obWFwX2U2ODAyZTkyMWQ4NTQwZDRhMzc3MzI4Y2VjZTcyODZhKTsKICAgICAgICAgICAgCiAgICAKICAgICAgICAgICAgdmFyIHBvcHVwXzZjOThiNzQ1YzAzOTQ3NDNhOTg2YTc4OTIyZTFkNzc5ID0gTC5wb3B1cCh7bWF4V2lkdGg6ICcxMDAlJwogICAgICAgICAgICAKICAgICAgICAgICAgfSk7CgogICAgICAgICAgICAKICAgICAgICAgICAgICAgIHZhciBodG1sXzZmZmE2NjQ5N2M2YTRhMTQ5YmM0YWM1MGVhODI1YWYxID0gJChgPGRpdiBpZD0iaHRtbF82ZmZhNjY0OTdjNmE0YTE0OWJjNGFjNTBlYTgyNWFmMSIgc3R5bGU9IndpZHRoOiAxMDAuMCU7IGhlaWdodDogMTAwLjAlOyI+RGF2aXN2aWxsZSBDbHVzdGVyIDE8L2Rpdj5gKVswXTsKICAgICAgICAgICAgICAgIHBvcHVwXzZjOThiNzQ1YzAzOTQ3NDNhOTg2YTc4OTIyZTFkNzc5LnNldENvbnRlbnQoaHRtbF82ZmZhNjY0OTdjNmE0YTE0OWJjNGFjNTBlYTgyNWFmMSk7CiAgICAgICAgICAgIAoKICAgICAgICAgICAgY2lyY2xlX21hcmtlcl9jYzdjMTIzYzZjNmI0NGU5YjRiMDg3ZmZhZTA0MzY4ZS5iaW5kUG9wdXAocG9wdXBfNmM5OGI3NDVjMDM5NDc0M2E5ODZhNzg5MjJlMWQ3NzkpCiAgICAgICAgICAgIDsKCiAgICAgICAgICAgIAogICAgICAgIAogICAgCiAgICAgICAgICAgIHZhciBjaXJjbGVfbWFya2VyXzkzMTk0ZGEzMmMxYjQ4ZDJhNDlkNDAyNGQ3MTEyNjcxID0gTC5jaXJjbGVNYXJrZXIoCiAgICAgICAgICAgICAgICBbNDMuNjg5NTc0MywgLTc5LjM4MzE1OTkwMDAwMDAxXSwKICAgICAgICAgICAgICAgIHsKICAiYnViYmxpbmdNb3VzZUV2ZW50cyI6IHRydWUsCiAgImNvbG9yIjogIiM4MDAwZmYiLAogICJkYXNoQXJyYXkiOiBudWxsLAogICJkYXNoT2Zmc2V0IjogbnVsbCwKICAiZmlsbCI6IHRydWUsCiAgImZpbGxDb2xvciI6ICIjODAwMGZmIiwKICAiZmlsbE9wYWNpdHkiOiAwLjcsCiAgImZpbGxSdWxlIjogImV2ZW5vZGQiLAogICJsaW5lQ2FwIjogInJvdW5kIiwKICAibGluZUpvaW4iOiAicm91bmQiLAogICJvcGFjaXR5IjogMS4wLAogICJyYWRpdXMiOiA1LAogICJzdHJva2UiOiB0cnVlLAogICJ3ZWlnaHQiOiAzCn0KICAgICAgICAgICAgICAgICkKICAgICAgICAgICAgICAgIC5hZGRUbyhtYXBfZTY4MDJlOTIxZDg1NDBkNGEzNzczMjhjZWNlNzI4NmEpOwogICAgICAgICAgICAKICAgIAogICAgICAgICAgICB2YXIgcG9wdXBfNTUxMTkyMWU0ZmI2NDI4ZmIyY2Q5MDAyODI2MTZkZWMgPSBMLnBvcHVwKHttYXhXaWR0aDogJzEwMCUnCiAgICAgICAgICAgIAogICAgICAgICAgICB9KTsKCiAgICAgICAgICAgIAogICAgICAgICAgICAgICAgdmFyIGh0bWxfNmIyMDg1MGY1Nzc3NGJmM2JlNzYxZjY2NDNiNjM0ZTQgPSAkKGA8ZGl2IGlkPSJodG1sXzZiMjA4NTBmNTc3NzRiZjNiZTc2MWY2NjQzYjYzNGU0IiBzdHlsZT0id2lkdGg6IDEwMC4wJTsgaGVpZ2h0OiAxMDAuMCU7Ij5Nb29yZSBQYXJrIC8gU3VtbWVyaGlsbCBFYXN0IENsdXN0ZXIgMTwvZGl2PmApWzBdOwogICAgICAgICAgICAgICAgcG9wdXBfNTUxMTkyMWU0ZmI2NDI4ZmIyY2Q5MDAyODI2MTZkZWMuc2V0Q29udGVudChodG1sXzZiMjA4NTBmNTc3NzRiZjNiZTc2MWY2NjQzYjYzNGU0KTsKICAgICAgICAgICAgCgogICAgICAgICAgICBjaXJjbGVfbWFya2VyXzkzMTk0ZGEzMmMxYjQ4ZDJhNDlkNDAyNGQ3MTEyNjcxLmJpbmRQb3B1cChwb3B1cF81NTExOTIxZTRmYjY0MjhmYjJjZDkwMDI4MjYxNmRlYykKICAgICAgICAgICAgOwoKICAgICAgICAgICAgCiAgICAgICAgCiAgICAKICAgICAgICAgICAgdmFyIGNpcmNsZV9tYXJrZXJfMDkwMThlNWE2MTc4NDNmY2IxYzUzNjk0YjlkNTY4M2IgPSBMLmNpcmNsZU1hcmtlcigKICAgICAgICAgICAgICAgIFs0My42ODY0MTIyOTk5OTk5OSwgLTc5LjQwMDA0OTNdLAogICAgICAgICAgICAgICAgewogICJidWJibGluZ01vdXNlRXZlbnRzIjogdHJ1ZSwKICAiY29sb3IiOiAiIzgwMDBmZiIsCiAgImRhc2hBcnJheSI6IG51bGwsCiAgImRhc2hPZmZzZXQiOiBudWxsLAogICJmaWxsIjogdHJ1ZSwKICAiZmlsbENvbG9yIjogIiM4MDAwZmYiLAogICJmaWxsT3BhY2l0eSI6IDAuNywKICAiZmlsbFJ1bGUiOiAiZXZlbm9kZCIsCiAgImxpbmVDYXAiOiAicm91bmQiLAogICJsaW5lSm9pbiI6ICJyb3VuZCIsCiAgIm9wYWNpdHkiOiAxLjAsCiAgInJhZGl1cyI6IDUsCiAgInN0cm9rZSI6IHRydWUsCiAgIndlaWdodCI6IDMKfQogICAgICAgICAgICAgICAgKQogICAgICAgICAgICAgICAgLmFkZFRvKG1hcF9lNjgwMmU5MjFkODU0MGQ0YTM3NzMyOGNlY2U3Mjg2YSk7CiAgICAgICAgICAgIAogICAgCiAgICAgICAgICAgIHZhciBwb3B1cF85M2JjMmUzNTgxNzk0YzE4YTQ0MzY0MGFiZDk5N2RjNCA9IEwucG9wdXAoe21heFdpZHRoOiAnMTAwJScKICAgICAgICAgICAgCiAgICAgICAgICAgIH0pOwoKICAgICAgICAgICAgCiAgICAgICAgICAgICAgICB2YXIgaHRtbF8xMmNjYjkzMDBkNjk0NjBiYjNhZmE3M2Q5ZGVhZmU5MiA9ICQoYDxkaXYgaWQ9Imh0bWxfMTJjY2I5MzAwZDY5NDYwYmIzYWZhNzNkOWRlYWZlOTIiIHN0eWxlPSJ3aWR0aDogMTAwLjAlOyBoZWlnaHQ6IDEwMC4wJTsiPlN1bW1lcmhpbGwgV2VzdCAvIFJhdGhuZWxseSAvIFNvdXRoIEhpbGwgLyBGb3Jlc3QgSGlsbCBTRSAvIERlZXIgUGFyayBDbHVzdGVyIDE8L2Rpdj5gKVswXTsKICAgICAgICAgICAgICAgIHBvcHVwXzkzYmMyZTM1ODE3OTRjMThhNDQzNjQwYWJkOTk3ZGM0LnNldENvbnRlbnQoaHRtbF8xMmNjYjkzMDBkNjk0NjBiYjNhZmE3M2Q5ZGVhZmU5Mik7CiAgICAgICAgICAgIAoKICAgICAgICAgICAgY2lyY2xlX21hcmtlcl8wOTAxOGU1YTYxNzg0M2ZjYjFjNTM2OTRiOWQ1NjgzYi5iaW5kUG9wdXAocG9wdXBfOTNiYzJlMzU4MTc5NGMxOGE0NDM2NDBhYmQ5OTdkYzQpCiAgICAgICAgICAgIDsKCiAgICAgICAgICAgIAogICAgICAgIAogICAgCiAgICAgICAgICAgIHZhciBjaXJjbGVfbWFya2VyX2UxYjM4ODFkYjMzNzRkNzY5MDU2ZWM0NDE3MThhZjRkID0gTC5jaXJjbGVNYXJrZXIoCiAgICAgICAgICAgICAgICBbNDMuNjc5NTYyNiwgLTc5LjM3NzUyOTQwMDAwMDAxXSwKICAgICAgICAgICAgICAgIHsKICAiYnViYmxpbmdNb3VzZUV2ZW50cyI6IHRydWUsCiAgImNvbG9yIjogIiM5Y2ZiYTQiLAogICJkYXNoQXJyYXkiOiBudWxsLAogICJkYXNoT2Zmc2V0IjogbnVsbCwKICAiZmlsbCI6IHRydWUsCiAgImZpbGxDb2xvciI6ICIjOWNmYmE0IiwKICAiZmlsbE9wYWNpdHkiOiAwLjcsCiAgImZpbGxSdWxlIjogImV2ZW5vZGQiLAogICJsaW5lQ2FwIjogInJvdW5kIiwKICAibGluZUpvaW4iOiAicm91bmQiLAogICJvcGFjaXR5IjogMS4wLAogICJyYWRpdXMiOiA1LAogICJzdHJva2UiOiB0cnVlLAogICJ3ZWlnaHQiOiAzCn0KICAgICAgICAgICAgICAgICkKICAgICAgICAgICAgICAgIC5hZGRUbyhtYXBfZTY4MDJlOTIxZDg1NDBkNGEzNzczMjhjZWNlNzI4NmEpOwogICAgICAgICAgICAKICAgIAogICAgICAgICAgICB2YXIgcG9wdXBfYzU2MGRmYzZjNTlmNDNlN2FkN2Y5OGM2NjBiNThlMjkgPSBMLnBvcHVwKHttYXhXaWR0aDogJzEwMCUnCiAgICAgICAgICAgIAogICAgICAgICAgICB9KTsKCiAgICAgICAgICAgIAogICAgICAgICAgICAgICAgdmFyIGh0bWxfZDk5MWI2MGY5ZWI4NGI2MjgzNjQxYzZjMjIwNmYxYzMgPSAkKGA8ZGl2IGlkPSJodG1sX2Q5OTFiNjBmOWViODRiNjI4MzY0MWM2YzIyMDZmMWMzIiBzdHlsZT0id2lkdGg6IDEwMC4wJTsgaGVpZ2h0OiAxMDAuMCU7Ij5Sb3NlZGFsZSBDbHVzdGVyIDY8L2Rpdj5gKVswXTsKICAgICAgICAgICAgICAgIHBvcHVwX2M1NjBkZmM2YzU5ZjQzZTdhZDdmOThjNjYwYjU4ZTI5LnNldENvbnRlbnQoaHRtbF9kOTkxYjYwZjllYjg0YjYyODM2NDFjNmMyMjA2ZjFjMyk7CiAgICAgICAgICAgIAoKICAgICAgICAgICAgY2lyY2xlX21hcmtlcl9lMWIzODgxZGIzMzc0ZDc2OTA1NmVjNDQxNzE4YWY0ZC5iaW5kUG9wdXAocG9wdXBfYzU2MGRmYzZjNTlmNDNlN2FkN2Y5OGM2NjBiNThlMjkpCiAgICAgICAgICAgIDsKCiAgICAgICAgICAgIAogICAgICAgIAogICAgCiAgICAgICAgICAgIHZhciBjaXJjbGVfbWFya2VyX2JjYTJhOWFkZjk4ZTRjNjJhYzg1N2Q0ZDEzOWM1OTJjID0gTC5jaXJjbGVNYXJrZXIoCiAgICAgICAgICAgICAgICBbNDMuNjY3OTY3LCAtNzkuMzY3Njc1M10sCiAgICAgICAgICAgICAgICB7CiAgImJ1YmJsaW5nTW91c2VFdmVudHMiOiB0cnVlLAogICJjb2xvciI6ICIjOWNmYmE0IiwKICAiZGFzaEFycmF5IjogbnVsbCwKICAiZGFzaE9mZnNldCI6IG51bGwsCiAgImZpbGwiOiB0cnVlLAogICJmaWxsQ29sb3IiOiAiIzljZmJhNCIsCiAgImZpbGxPcGFjaXR5IjogMC43LAogICJmaWxsUnVsZSI6ICJldmVub2RkIiwKICAibGluZUNhcCI6ICJyb3VuZCIsCiAgImxpbmVKb2luIjogInJvdW5kIiwKICAib3BhY2l0eSI6IDEuMCwKICAicmFkaXVzIjogNSwKICAic3Ryb2tlIjogdHJ1ZSwKICAid2VpZ2h0IjogMwp9CiAgICAgICAgICAgICAgICApCiAgICAgICAgICAgICAgICAuYWRkVG8obWFwX2U2ODAyZTkyMWQ4NTQwZDRhMzc3MzI4Y2VjZTcyODZhKTsKICAgICAgICAgICAgCiAgICAKICAgICAgICAgICAgdmFyIHBvcHVwX2NlZGYwODM0YmQwNzQ3ZDRhYjdkNTkzYTE2MTUzMzk5ID0gTC5wb3B1cCh7bWF4V2lkdGg6ICcxMDAlJwogICAgICAgICAgICAKICAgICAgICAgICAgfSk7CgogICAgICAgICAgICAKICAgICAgICAgICAgICAgIHZhciBodG1sX2U0YjZiNThiMDUzODRmOTg5YmE2YWZkNDcyMWI3Y2I3ID0gJChgPGRpdiBpZD0iaHRtbF9lNGI2YjU4YjA1Mzg0Zjk4OWJhNmFmZDQ3MjFiN2NiNyIgc3R5bGU9IndpZHRoOiAxMDAuMCU7IGhlaWdodDogMTAwLjAlOyI+U3QuIEphbWVzIFRvd24gLyBDYWJiYWdldG93biBDbHVzdGVyIDY8L2Rpdj5gKVswXTsKICAgICAgICAgICAgICAgIHBvcHVwX2NlZGYwODM0YmQwNzQ3ZDRhYjdkNTkzYTE2MTUzMzk5LnNldENvbnRlbnQoaHRtbF9lNGI2YjU4YjA1Mzg0Zjk4OWJhNmFmZDQ3MjFiN2NiNyk7CiAgICAgICAgICAgIAoKICAgICAgICAgICAgY2lyY2xlX21hcmtlcl9iY2EyYTlhZGY5OGU0YzYyYWM4NTdkNGQxMzljNTkyYy5iaW5kUG9wdXAocG9wdXBfY2VkZjA4MzRiZDA3NDdkNGFiN2Q1OTNhMTYxNTMzOTkpCiAgICAgICAgICAgIDsKCiAgICAgICAgICAgIAogICAgICAgIAogICAgCiAgICAgICAgICAgIHZhciBjaXJjbGVfbWFya2VyX2VkODIzYjc1MmRmZDRjZTVhNGY2ZDEyM2M3YjI2ZjkwID0gTC5jaXJjbGVNYXJrZXIoCiAgICAgICAgICAgICAgICBbNDMuNjY1ODU5OSwgLTc5LjM4MzE1OTkwMDAwMDAxXSwKICAgICAgICAgICAgICAgIHsKICAiYnViYmxpbmdNb3VzZUV2ZW50cyI6IHRydWUsCiAgImNvbG9yIjogIiMxMGEyZjAiLAogICJkYXNoQXJyYXkiOiBudWxsLAogICJkYXNoT2Zmc2V0IjogbnVsbCwKICAiZmlsbCI6IHRydWUsCiAgImZpbGxDb2xvciI6ICIjMTBhMmYwIiwKICAiZmlsbE9wYWNpdHkiOiAwLjcsCiAgImZpbGxSdWxlIjogImV2ZW5vZGQiLAogICJsaW5lQ2FwIjogInJvdW5kIiwKICAibGluZUpvaW4iOiAicm91bmQiLAogICJvcGFjaXR5IjogMS4wLAogICJyYWRpdXMiOiA1LAogICJzdHJva2UiOiB0cnVlLAogICJ3ZWlnaHQiOiAzCn0KICAgICAgICAgICAgICAgICkKICAgICAgICAgICAgICAgIC5hZGRUbyhtYXBfZTY4MDJlOTIxZDg1NDBkNGEzNzczMjhjZWNlNzI4NmEpOwogICAgICAgICAgICAKICAgIAogICAgICAgICAgICB2YXIgcG9wdXBfN2VlZmJiOGFjODcwNGJlYzkxMjZmNjkyNzg0ZTUyYzcgPSBMLnBvcHVwKHttYXhXaWR0aDogJzEwMCUnCiAgICAgICAgICAgIAogICAgICAgICAgICB9KTsKCiAgICAgICAgICAgIAogICAgICAgICAgICAgICAgdmFyIGh0bWxfMmJiMmY4OTBmOGI1NDE3NDhmOTBlYjYxMzcyY2FkYjAgPSAkKGA8ZGl2IGlkPSJodG1sXzJiYjJmODkwZjhiNTQxNzQ4ZjkwZWI2MTM3MmNhZGIwIiBzdHlsZT0id2lkdGg6IDEwMC4wJTsgaGVpZ2h0OiAxMDAuMCU7Ij5DaHVyY2ggYW5kIFdlbGxlc2xleSBDbHVzdGVyIDM8L2Rpdj5gKVswXTsKICAgICAgICAgICAgICAgIHBvcHVwXzdlZWZiYjhhYzg3MDRiZWM5MTI2ZjY5Mjc4NGU1MmM3LnNldENvbnRlbnQoaHRtbF8yYmIyZjg5MGY4YjU0MTc0OGY5MGViNjEzNzJjYWRiMCk7CiAgICAgICAgICAgIAoKICAgICAgICAgICAgY2lyY2xlX21hcmtlcl9lZDgyM2I3NTJkZmQ0Y2U1YTRmNmQxMjNjN2IyNmY5MC5iaW5kUG9wdXAocG9wdXBfN2VlZmJiOGFjODcwNGJlYzkxMjZmNjkyNzg0ZTUyYzcpCiAgICAgICAgICAgIDsKCiAgICAgICAgICAgIAogICAgICAgIAogICAgCiAgICAgICAgICAgIHZhciBjaXJjbGVfbWFya2VyX2E3NDU1YzZlMDIyZDQ4MTA4YzE4NzFmYjAzYjZjYjg3ID0gTC5jaXJjbGVNYXJrZXIoCiAgICAgICAgICAgICAgICBbNDMuNjU0MjU5OSwgLTc5LjM2MDYzNTldLAogICAgICAgICAgICAgICAgewogICJidWJibGluZ01vdXNlRXZlbnRzIjogdHJ1ZSwKICAiY29sb3IiOiAiIzEwYTJmMCIsCiAgImRhc2hBcnJheSI6IG51bGwsCiAgImRhc2hPZmZzZXQiOiBudWxsLAogICJmaWxsIjogdHJ1ZSwKICAiZmlsbENvbG9yIjogIiMxMGEyZjAiLAogICJmaWxsT3BhY2l0eSI6IDAuNywKICAiZmlsbFJ1bGUiOiAiZXZlbm9kZCIsCiAgImxpbmVDYXAiOiAicm91bmQiLAogICJsaW5lSm9pbiI6ICJyb3VuZCIsCiAgIm9wYWNpdHkiOiAxLjAsCiAgInJhZGl1cyI6IDUsCiAgInN0cm9rZSI6IHRydWUsCiAgIndlaWdodCI6IDMKfQogICAgICAgICAgICAgICAgKQogICAgICAgICAgICAgICAgLmFkZFRvKG1hcF9lNjgwMmU5MjFkODU0MGQ0YTM3NzMyOGNlY2U3Mjg2YSk7CiAgICAgICAgICAgIAogICAgCiAgICAgICAgICAgIHZhciBwb3B1cF84YTk4NTQxYmEwNzQ0YWNhYThhYmRmNDNiOTI4MTIzNSA9IEwucG9wdXAoe21heFdpZHRoOiAnMTAwJScKICAgICAgICAgICAgCiAgICAgICAgICAgIH0pOwoKICAgICAgICAgICAgCiAgICAgICAgICAgICAgICB2YXIgaHRtbF9iM2I4YzM1ZGQ3ZTE0OGJlYTMzOThlNjU0YWJmMGNmNCA9ICQoYDxkaXYgaWQ9Imh0bWxfYjNiOGMzNWRkN2UxNDhiZWEzMzk4ZTY1NGFiZjBjZjQiIHN0eWxlPSJ3aWR0aDogMTAwLjAlOyBoZWlnaHQ6IDEwMC4wJTsiPlJlZ2VudCBQYXJrIC8gSGFyYm91cmZyb250IENsdXN0ZXIgMzwvZGl2PmApWzBdOwogICAgICAgICAgICAgICAgcG9wdXBfOGE5ODU0MWJhMDc0NGFjYWE4YWJkZjQzYjkyODEyMzUuc2V0Q29udGVudChodG1sX2IzYjhjMzVkZDdlMTQ4YmVhMzM5OGU2NTRhYmYwY2Y0KTsKICAgICAgICAgICAgCgogICAgICAgICAgICBjaXJjbGVfbWFya2VyX2E3NDU1YzZlMDIyZDQ4MTA4YzE4NzFmYjAzYjZjYjg3LmJpbmRQb3B1cChwb3B1cF84YTk4NTQxYmEwNzQ0YWNhYThhYmRmNDNiOTI4MTIzNSkKICAgICAgICAgICAgOwoKICAgICAgICAgICAgCiAgICAgICAgCiAgICAKICAgICAgICAgICAgdmFyIGNpcmNsZV9tYXJrZXJfYTEzYmEwMzg4ODQ4NGVlZWFiNjE4MjY5NWE4MmRjZDAgPSBMLmNpcmNsZU1hcmtlcigKICAgICAgICAgICAgICAgIFs0My42NTcxNjE4LCAtNzkuMzc4OTM3MDk5OTk5OTldLAogICAgICAgICAgICAgICAgewogICJidWJibGluZ01vdXNlRXZlbnRzIjogdHJ1ZSwKICAiY29sb3IiOiAiIzEwYTJmMCIsCiAgImRhc2hBcnJheSI6IG51bGwsCiAgImRhc2hPZmZzZXQiOiBudWxsLAogICJmaWxsIjogdHJ1ZSwKICAiZmlsbENvbG9yIjogIiMxMGEyZjAiLAogICJmaWxsT3BhY2l0eSI6IDAuNywKICAiZmlsbFJ1bGUiOiAiZXZlbm9kZCIsCiAgImxpbmVDYXAiOiAicm91bmQiLAogICJsaW5lSm9pbiI6ICJyb3VuZCIsCiAgIm9wYWNpdHkiOiAxLjAsCiAgInJhZGl1cyI6IDUsCiAgInN0cm9rZSI6IHRydWUsCiAgIndlaWdodCI6IDMKfQogICAgICAgICAgICAgICAgKQogICAgICAgICAgICAgICAgLmFkZFRvKG1hcF9lNjgwMmU5MjFkODU0MGQ0YTM3NzMyOGNlY2U3Mjg2YSk7CiAgICAgICAgICAgIAogICAgCiAgICAgICAgICAgIHZhciBwb3B1cF8xNmY4ODVjNzAwNGI0ZjYyYjJkYjAzMmZmY2Q5NWJkNSA9IEwucG9wdXAoe21heFdpZHRoOiAnMTAwJScKICAgICAgICAgICAgCiAgICAgICAgICAgIH0pOwoKICAgICAgICAgICAgCiAgICAgICAgICAgICAgICB2YXIgaHRtbF8xOTAyM2I5MzZjNDI0YzQ5YjgxNzViNmMxZmJlODExOSA9ICQoYDxkaXYgaWQ9Imh0bWxfMTkwMjNiOTM2YzQyNGM0OWI4MTc1YjZjMWZiZTgxMTkiIHN0eWxlPSJ3aWR0aDogMTAwLjAlOyBoZWlnaHQ6IDEwMC4wJTsiPkdhcmRlbiBEaXN0cmljdCwgUnllcnNvbiBDbHVzdGVyIDM8L2Rpdj5gKVswXTsKICAgICAgICAgICAgICAgIHBvcHVwXzE2Zjg4NWM3MDA0YjRmNjJiMmRiMDMyZmZjZDk1YmQ1LnNldENvbnRlbnQoaHRtbF8xOTAyM2I5MzZjNDI0YzQ5YjgxNzViNmMxZmJlODExOSk7CiAgICAgICAgICAgIAoKICAgICAgICAgICAgY2lyY2xlX21hcmtlcl9hMTNiYTAzODg4NDg0ZWVlYWI2MTgyNjk1YTgyZGNkMC5iaW5kUG9wdXAocG9wdXBfMTZmODg1YzcwMDRiNGY2MmIyZGIwMzJmZmNkOTViZDUpCiAgICAgICAgICAgIDsKCiAgICAgICAgICAgIAogICAgICAgIAogICAgCiAgICAgICAgICAgIHZhciBjaXJjbGVfbWFya2VyXzIwMzIzNWY4YjgyZTRjYjBhOGI5YjEzNjFlNWM0ZWU0ID0gTC5jaXJjbGVNYXJrZXIoCiAgICAgICAgICAgICAgICBbNDMuNjUxNDkzOSwgLTc5LjM3NTQxNzldLAogICAgICAgICAgICAgICAgewogICJidWJibGluZ01vdXNlRXZlbnRzIjogdHJ1ZSwKICAiY29sb3IiOiAiIzEwYTJmMCIsCiAgImRhc2hBcnJheSI6IG51bGwsCiAgImRhc2hPZmZzZXQiOiBudWxsLAogICJmaWxsIjogdHJ1ZSwKICAiZmlsbENvbG9yIjogIiMxMGEyZjAiLAogICJmaWxsT3BhY2l0eSI6IDAuNywKICAiZmlsbFJ1bGUiOiAiZXZlbm9kZCIsCiAgImxpbmVDYXAiOiAicm91bmQiLAogICJsaW5lSm9pbiI6ICJyb3VuZCIsCiAgIm9wYWNpdHkiOiAxLjAsCiAgInJhZGl1cyI6IDUsCiAgInN0cm9rZSI6IHRydWUsCiAgIndlaWdodCI6IDMKfQogICAgICAgICAgICAgICAgKQogICAgICAgICAgICAgICAgLmFkZFRvKG1hcF9lNjgwMmU5MjFkODU0MGQ0YTM3NzMyOGNlY2U3Mjg2YSk7CiAgICAgICAgICAgIAogICAgCiAgICAgICAgICAgIHZhciBwb3B1cF9lZDYyZmZkZjYyMzk0YTY1YmUwMDRlZDNlZjk2YzVlNiA9IEwucG9wdXAoe21heFdpZHRoOiAnMTAwJScKICAgICAgICAgICAgCiAgICAgICAgICAgIH0pOwoKICAgICAgICAgICAgCiAgICAgICAgICAgICAgICB2YXIgaHRtbF9kYjZjMGRjZjFkMjU0MGRjODI3OWQ0ODAxNTJjMDk2YyA9ICQoYDxkaXYgaWQ9Imh0bWxfZGI2YzBkY2YxZDI1NDBkYzgyNzlkNDgwMTUyYzA5NmMiIHN0eWxlPSJ3aWR0aDogMTAwLjAlOyBoZWlnaHQ6IDEwMC4wJTsiPlN0LiBKYW1lcyBUb3duIENsdXN0ZXIgMzwvZGl2PmApWzBdOwogICAgICAgICAgICAgICAgcG9wdXBfZWQ2MmZmZGY2MjM5NGE2NWJlMDA0ZWQzZWY5NmM1ZTYuc2V0Q29udGVudChodG1sX2RiNmMwZGNmMWQyNTQwZGM4Mjc5ZDQ4MDE1MmMwOTZjKTsKICAgICAgICAgICAgCgogICAgICAgICAgICBjaXJjbGVfbWFya2VyXzIwMzIzNWY4YjgyZTRjYjBhOGI5YjEzNjFlNWM0ZWU0LmJpbmRQb3B1cChwb3B1cF9lZDYyZmZkZjYyMzk0YTY1YmUwMDRlZDNlZjk2YzVlNikKICAgICAgICAgICAgOwoKICAgICAgICAgICAgCiAgICAgICAgCiAgICAKICAgICAgICAgICAgdmFyIGNpcmNsZV9tYXJrZXJfMjUxNTEyMTc2N2Q1NDJhMGFmYTA4OGYxZjc3OTRmMTggPSBMLmNpcmNsZU1hcmtlcigKICAgICAgICAgICAgICAgIFs0My42NDQ3NzA3OTk5OTk5OTYsIC03OS4zNzMzMDY0XSwKICAgICAgICAgICAgICAgIHsKICAiYnViYmxpbmdNb3VzZUV2ZW50cyI6IHRydWUsCiAgImNvbG9yIjogIiMxMGEyZjAiLAogICJkYXNoQXJyYXkiOiBudWxsLAogICJkYXNoT2Zmc2V0IjogbnVsbCwKICAiZmlsbCI6IHRydWUsCiAgImZpbGxDb2xvciI6ICIjMTBhMmYwIiwKICAiZmlsbE9wYWNpdHkiOiAwLjcsCiAgImZpbGxSdWxlIjogImV2ZW5vZGQiLAogICJsaW5lQ2FwIjogInJvdW5kIiwKICAibGluZUpvaW4iOiAicm91bmQiLAogICJvcGFjaXR5IjogMS4wLAogICJyYWRpdXMiOiA1LAogICJzdHJva2UiOiB0cnVlLAogICJ3ZWlnaHQiOiAzCn0KICAgICAgICAgICAgICAgICkKICAgICAgICAgICAgICAgIC5hZGRUbyhtYXBfZTY4MDJlOTIxZDg1NDBkNGEzNzczMjhjZWNlNzI4NmEpOwogICAgICAgICAgICAKICAgIAogICAgICAgICAgICB2YXIgcG9wdXBfZjE5YTMyOWQxYjMxNDViMDlhMDNkMDQzZjgyYTU1MTAgPSBMLnBvcHVwKHttYXhXaWR0aDogJzEwMCUnCiAgICAgICAgICAgIAogICAgICAgICAgICB9KTsKCiAgICAgICAgICAgIAogICAgICAgICAgICAgICAgdmFyIGh0bWxfNGUyYWQ2NTkyYmIwNDQ1YmJmMDIyMjg3ODNjY2JiMzEgPSAkKGA8ZGl2IGlkPSJodG1sXzRlMmFkNjU5MmJiMDQ0NWJiZjAyMjI4NzgzY2NiYjMxIiBzdHlsZT0id2lkdGg6IDEwMC4wJTsgaGVpZ2h0OiAxMDAuMCU7Ij5CZXJjenkgUGFyayBDbHVzdGVyIDM8L2Rpdj5gKVswXTsKICAgICAgICAgICAgICAgIHBvcHVwX2YxOWEzMjlkMWIzMTQ1YjA5YTAzZDA0M2Y4MmE1NTEwLnNldENvbnRlbnQoaHRtbF80ZTJhZDY1OTJiYjA0NDViYmYwMjIyODc4M2NjYmIzMSk7CiAgICAgICAgICAgIAoKICAgICAgICAgICAgY2lyY2xlX21hcmtlcl8yNTE1MTIxNzY3ZDU0MmEwYWZhMDg4ZjFmNzc5NGYxOC5iaW5kUG9wdXAocG9wdXBfZjE5YTMyOWQxYjMxNDViMDlhMDNkMDQzZjgyYTU1MTApCiAgICAgICAgICAgIDsKCiAgICAgICAgICAgIAogICAgICAgIAogICAgCiAgICAgICAgICAgIHZhciBjaXJjbGVfbWFya2VyX2E0ZTI4M2Y1OGM1MzQ3NmQ5MjE2ZDQyMmYwNWM0ZmY2ID0gTC5jaXJjbGVNYXJrZXIoCiAgICAgICAgICAgICAgICBbNDMuNjU3OTUyNCwgLTc5LjM4NzM4MjZdLAogICAgICAgICAgICAgICAgewogICJidWJibGluZ01vdXNlRXZlbnRzIjogdHJ1ZSwKICAiY29sb3IiOiAiIzEwYTJmMCIsCiAgImRhc2hBcnJheSI6IG51bGwsCiAgImRhc2hPZmZzZXQiOiBudWxsLAogICJmaWxsIjogdHJ1ZSwKICAiZmlsbENvbG9yIjogIiMxMGEyZjAiLAogICJmaWxsT3BhY2l0eSI6IDAuNywKICAiZmlsbFJ1bGUiOiAiZXZlbm9kZCIsCiAgImxpbmVDYXAiOiAicm91bmQiLAogICJsaW5lSm9pbiI6ICJyb3VuZCIsCiAgIm9wYWNpdHkiOiAxLjAsCiAgInJhZGl1cyI6IDUsCiAgInN0cm9rZSI6IHRydWUsCiAgIndlaWdodCI6IDMKfQogICAgICAgICAgICAgICAgKQogICAgICAgICAgICAgICAgLmFkZFRvKG1hcF9lNjgwMmU5MjFkODU0MGQ0YTM3NzMyOGNlY2U3Mjg2YSk7CiAgICAgICAgICAgIAogICAgCiAgICAgICAgICAgIHZhciBwb3B1cF9kYWJmZjEzOGNmMjc0YWE4OGUzNDI5Y2IzZWQ3NTJkZSA9IEwucG9wdXAoe21heFdpZHRoOiAnMTAwJScKICAgICAgICAgICAgCiAgICAgICAgICAgIH0pOwoKICAgICAgICAgICAgCiAgICAgICAgICAgICAgICB2YXIgaHRtbF8wNGE4ZDY5ZTYyNTQ0MGQ1ODY3YmM0YzdiYjIyYjA4ZSA9ICQoYDxkaXYgaWQ9Imh0bWxfMDRhOGQ2OWU2MjU0NDBkNTg2N2JjNGM3YmIyMmIwOGUiIHN0eWxlPSJ3aWR0aDogMTAwLjAlOyBoZWlnaHQ6IDEwMC4wJTsiPkNlbnRyYWwgQmF5IFN0cmVldCBDbHVzdGVyIDM8L2Rpdj5gKVswXTsKICAgICAgICAgICAgICAgIHBvcHVwX2RhYmZmMTM4Y2YyNzRhYTg4ZTM0MjljYjNlZDc1MmRlLnNldENvbnRlbnQoaHRtbF8wNGE4ZDY5ZTYyNTQ0MGQ1ODY3YmM0YzdiYjIyYjA4ZSk7CiAgICAgICAgICAgIAoKICAgICAgICAgICAgY2lyY2xlX21hcmtlcl9hNGUyODNmNThjNTM0NzZkOTIxNmQ0MjJmMDVjNGZmNi5iaW5kUG9wdXAocG9wdXBfZGFiZmYxMzhjZjI3NGFhODhlMzQyOWNiM2VkNzUyZGUpCiAgICAgICAgICAgIDsKCiAgICAgICAgICAgIAogICAgICAgIAogICAgCiAgICAgICAgICAgIHZhciBjaXJjbGVfbWFya2VyXzc3MWQ3OTQ2YjZlMjQwZmM5NWI5NTk3YTk4NmIyOWQ3ID0gTC5jaXJjbGVNYXJrZXIoCiAgICAgICAgICAgICAgICBbNDMuNjUwNTcxMjAwMDAwMDEsIC03OS4zODQ1Njc1XSwKICAgICAgICAgICAgICAgIHsKICAiYnViYmxpbmdNb3VzZUV2ZW50cyI6IHRydWUsCiAgImNvbG9yIjogIiMxMGEyZjAiLAogICJkYXNoQXJyYXkiOiBudWxsLAogICJkYXNoT2Zmc2V0IjogbnVsbCwKICAiZmlsbCI6IHRydWUsCiAgImZpbGxDb2xvciI6ICIjMTBhMmYwIiwKICAiZmlsbE9wYWNpdHkiOiAwLjcsCiAgImZpbGxSdWxlIjogImV2ZW5vZGQiLAogICJsaW5lQ2FwIjogInJvdW5kIiwKICAibGluZUpvaW4iOiAicm91bmQiLAogICJvcGFjaXR5IjogMS4wLAogICJyYWRpdXMiOiA1LAogICJzdHJva2UiOiB0cnVlLAogICJ3ZWlnaHQiOiAzCn0KICAgICAgICAgICAgICAgICkKICAgICAgICAgICAgICAgIC5hZGRUbyhtYXBfZTY4MDJlOTIxZDg1NDBkNGEzNzczMjhjZWNlNzI4NmEpOwogICAgICAgICAgICAKICAgIAogICAgICAgICAgICB2YXIgcG9wdXBfNjNkMzgzOGVlNzhkNDkzZDk0NTg2MjBlZWJjODk0MDcgPSBMLnBvcHVwKHttYXhXaWR0aDogJzEwMCUnCiAgICAgICAgICAgIAogICAgICAgICAgICB9KTsKCiAgICAgICAgICAgIAogICAgICAgICAgICAgICAgdmFyIGh0bWxfNTcwMjZmM2E5MzkyNGNiNGE5NmIzMWEwNmRkNDA4NmYgPSAkKGA8ZGl2IGlkPSJodG1sXzU3MDI2ZjNhOTM5MjRjYjRhOTZiMzFhMDZkZDQwODZmIiBzdHlsZT0id2lkdGg6IDEwMC4wJTsgaGVpZ2h0OiAxMDAuMCU7Ij5SaWNobW9uZCAvIEFkZWxhaWRlIC8gS2luZyBDbHVzdGVyIDM8L2Rpdj5gKVswXTsKICAgICAgICAgICAgICAgIHBvcHVwXzYzZDM4MzhlZTc4ZDQ5M2Q5NDU4NjIwZWViYzg5NDA3LnNldENvbnRlbnQoaHRtbF81NzAyNmYzYTkzOTI0Y2I0YTk2YjMxYTA2ZGQ0MDg2Zik7CiAgICAgICAgICAgIAoKICAgICAgICAgICAgY2lyY2xlX21hcmtlcl83NzFkNzk0NmI2ZTI0MGZjOTViOTU5N2E5ODZiMjlkNy5iaW5kUG9wdXAocG9wdXBfNjNkMzgzOGVlNzhkNDkzZDk0NTg2MjBlZWJjODk0MDcpCiAgICAgICAgICAgIDsKCiAgICAgICAgICAgIAogICAgICAgIAogICAgCiAgICAgICAgICAgIHZhciBjaXJjbGVfbWFya2VyXzdhZWJkYzNiYjQ3NzQxNTk5ODdhOTk3YzQxZTgwMWY2ID0gTC5jaXJjbGVNYXJrZXIoCiAgICAgICAgICAgICAgICBbNDMuNjQwODE1NywgLTc5LjM4MTc1MjI5OTk5OTk5XSwKICAgICAgICAgICAgICAgIHsKICAiYnViYmxpbmdNb3VzZUV2ZW50cyI6IHRydWUsCiAgImNvbG9yIjogIiMxMGEyZjAiLAogICJkYXNoQXJyYXkiOiBudWxsLAogICJkYXNoT2Zmc2V0IjogbnVsbCwKICAiZmlsbCI6IHRydWUsCiAgImZpbGxDb2xvciI6ICIjMTBhMmYwIiwKICAiZmlsbE9wYWNpdHkiOiAwLjcsCiAgImZpbGxSdWxlIjogImV2ZW5vZGQiLAogICJsaW5lQ2FwIjogInJvdW5kIiwKICAibGluZUpvaW4iOiAicm91bmQiLAogICJvcGFjaXR5IjogMS4wLAogICJyYWRpdXMiOiA1LAogICJzdHJva2UiOiB0cnVlLAogICJ3ZWlnaHQiOiAzCn0KICAgICAgICAgICAgICAgICkKICAgICAgICAgICAgICAgIC5hZGRUbyhtYXBfZTY4MDJlOTIxZDg1NDBkNGEzNzczMjhjZWNlNzI4NmEpOwogICAgICAgICAgICAKICAgIAogICAgICAgICAgICB2YXIgcG9wdXBfMDc3ZDE0NmE5YjFlNDVkMTk5ODkxNGY2ZTllMDBjNGQgPSBMLnBvcHVwKHttYXhXaWR0aDogJzEwMCUnCiAgICAgICAgICAgIAogICAgICAgICAgICB9KTsKCiAgICAgICAgICAgIAogICAgICAgICAgICAgICAgdmFyIGh0bWxfMjJjNzU1MmRhYjMwNGI0NWFjYjFmMTVkZDAwMzc3MzggPSAkKGA8ZGl2IGlkPSJodG1sXzIyYzc1NTJkYWIzMDRiNDVhY2IxZjE1ZGQwMDM3NzM4IiBzdHlsZT0id2lkdGg6IDEwMC4wJTsgaGVpZ2h0OiAxMDAuMCU7Ij5IYXJib3VyZnJvbnQgRWFzdCAvIFVuaW9uIFN0YXRpb24gLyBUb3JvbnRvIElzbGFuZHMgQ2x1c3RlciAzPC9kaXY+YClbMF07CiAgICAgICAgICAgICAgICBwb3B1cF8wNzdkMTQ2YTliMWU0NWQxOTk4OTE0ZjZlOWUwMGM0ZC5zZXRDb250ZW50KGh0bWxfMjJjNzU1MmRhYjMwNGI0NWFjYjFmMTVkZDAwMzc3MzgpOwogICAgICAgICAgICAKCiAgICAgICAgICAgIGNpcmNsZV9tYXJrZXJfN2FlYmRjM2JiNDc3NDE1OTk4N2E5OTdjNDFlODAxZjYuYmluZFBvcHVwKHBvcHVwXzA3N2QxNDZhOWIxZTQ1ZDE5OTg5MTRmNmU5ZTAwYzRkKQogICAgICAgICAgICA7CgogICAgICAgICAgICAKICAgICAgICAKICAgIAogICAgICAgICAgICB2YXIgY2lyY2xlX21hcmtlcl8zNzhhMDlkMzY3Yjc0M2E3ODNjZTdmNDE3ZGEzNGEzYyA9IEwuY2lyY2xlTWFya2VyKAogICAgICAgICAgICAgICAgWzQzLjY0NzE3NjgsIC03OS4zODE1NzY0MDAwMDAwMV0sCiAgICAgICAgICAgICAgICB7CiAgImJ1YmJsaW5nTW91c2VFdmVudHMiOiB0cnVlLAogICJjb2xvciI6ICIjMTBhMmYwIiwKICAiZGFzaEFycmF5IjogbnVsbCwKICAiZGFzaE9mZnNldCI6IG51bGwsCiAgImZpbGwiOiB0cnVlLAogICJmaWxsQ29sb3IiOiAiIzEwYTJmMCIsCiAgImZpbGxPcGFjaXR5IjogMC43LAogICJmaWxsUnVsZSI6ICJldmVub2RkIiwKICAibGluZUNhcCI6ICJyb3VuZCIsCiAgImxpbmVKb2luIjogInJvdW5kIiwKICAib3BhY2l0eSI6IDEuMCwKICAicmFkaXVzIjogNSwKICAic3Ryb2tlIjogdHJ1ZSwKICAid2VpZ2h0IjogMwp9CiAgICAgICAgICAgICAgICApCiAgICAgICAgICAgICAgICAuYWRkVG8obWFwX2U2ODAyZTkyMWQ4NTQwZDRhMzc3MzI4Y2VjZTcyODZhKTsKICAgICAgICAgICAgCiAgICAKICAgICAgICAgICAgdmFyIHBvcHVwXzA3YmM3ODBhNTM3NTRhNGViZTdjN2ExMmM0MTZlMzA0ID0gTC5wb3B1cCh7bWF4V2lkdGg6ICcxMDAlJwogICAgICAgICAgICAKICAgICAgICAgICAgfSk7CgogICAgICAgICAgICAKICAgICAgICAgICAgICAgIHZhciBodG1sXzBkZjA3OGU1OWVmODRkMTU5ZjkxMDc4NDg3ZGIxNTgyID0gJChgPGRpdiBpZD0iaHRtbF8wZGYwNzhlNTllZjg0ZDE1OWY5MTA3ODQ4N2RiMTU4MiIgc3R5bGU9IndpZHRoOiAxMDAuMCU7IGhlaWdodDogMTAwLjAlOyI+VG9yb250byBEb21pbmlvbiBDZW50cmUgLyBEZXNpZ24gRXhjaGFuZ2UgQ2x1c3RlciAzPC9kaXY+YClbMF07CiAgICAgICAgICAgICAgICBwb3B1cF8wN2JjNzgwYTUzNzU0YTRlYmU3YzdhMTJjNDE2ZTMwNC5zZXRDb250ZW50KGh0bWxfMGRmMDc4ZTU5ZWY4NGQxNTlmOTEwNzg0ODdkYjE1ODIpOwogICAgICAgICAgICAKCiAgICAgICAgICAgIGNpcmNsZV9tYXJrZXJfMzc4YTA5ZDM2N2I3NDNhNzgzY2U3ZjQxN2RhMzRhM2MuYmluZFBvcHVwKHBvcHVwXzA3YmM3ODBhNTM3NTRhNGViZTdjN2ExMmM0MTZlMzA0KQogICAgICAgICAgICA7CgogICAgICAgICAgICAKICAgICAgICAKICAgIAogICAgICAgICAgICB2YXIgY2lyY2xlX21hcmtlcl8xOGQwYTdjYWU1NTY0MzQ3YTMzNjZlZDQ2Yzg3OGQ1MyA9IEwuY2lyY2xlTWFya2VyKAogICAgICAgICAgICAgICAgWzQzLjY0ODE5ODUsIC03OS4zNzk4MTY5MDAwMDAwMV0sCiAgICAgICAgICAgICAgICB7CiAgImJ1YmJsaW5nTW91c2VFdmVudHMiOiB0cnVlLAogICJjb2xvciI6ICIjMTBhMmYwIiwKICAiZGFzaEFycmF5IjogbnVsbCwKICAiZGFzaE9mZnNldCI6IG51bGwsCiAgImZpbGwiOiB0cnVlLAogICJmaWxsQ29sb3IiOiAiIzEwYTJmMCIsCiAgImZpbGxPcGFjaXR5IjogMC43LAogICJmaWxsUnVsZSI6ICJldmVub2RkIiwKICAibGluZUNhcCI6ICJyb3VuZCIsCiAgImxpbmVKb2luIjogInJvdW5kIiwKICAib3BhY2l0eSI6IDEuMCwKICAicmFkaXVzIjogNSwKICAic3Ryb2tlIjogdHJ1ZSwKICAid2VpZ2h0IjogMwp9CiAgICAgICAgICAgICAgICApCiAgICAgICAgICAgICAgICAuYWRkVG8obWFwX2U2ODAyZTkyMWQ4NTQwZDRhMzc3MzI4Y2VjZTcyODZhKTsKICAgICAgICAgICAgCiAgICAKICAgICAgICAgICAgdmFyIHBvcHVwXzVkNDYwZWMwNTBhZTQ1ODc4NWE3MjM5YTRlZmM5MTlkID0gTC5wb3B1cCh7bWF4V2lkdGg6ICcxMDAlJwogICAgICAgICAgICAKICAgICAgICAgICAgfSk7CgogICAgICAgICAgICAKICAgICAgICAgICAgICAgIHZhciBodG1sXzJjZmVlNWU0MmQ1NzRlYWVhNjk2OWQ4NTFlMWFjYjE0ID0gJChgPGRpdiBpZD0iaHRtbF8yY2ZlZTVlNDJkNTc0ZWFlYTY5NjlkODUxZTFhY2IxNCIgc3R5bGU9IndpZHRoOiAxMDAuMCU7IGhlaWdodDogMTAwLjAlOyI+Q29tbWVyY2UgQ291cnQgLyBWaWN0b3JpYSBIb3RlbCBDbHVzdGVyIDM8L2Rpdj5gKVswXTsKICAgICAgICAgICAgICAgIHBvcHVwXzVkNDYwZWMwNTBhZTQ1ODc4NWE3MjM5YTRlZmM5MTlkLnNldENvbnRlbnQoaHRtbF8yY2ZlZTVlNDJkNTc0ZWFlYTY5NjlkODUxZTFhY2IxNCk7CiAgICAgICAgICAgIAoKICAgICAgICAgICAgY2lyY2xlX21hcmtlcl8xOGQwYTdjYWU1NTY0MzQ3YTMzNjZlZDQ2Yzg3OGQ1My5iaW5kUG9wdXAocG9wdXBfNWQ0NjBlYzA1MGFlNDU4Nzg1YTcyMzlhNGVmYzkxOWQpCiAgICAgICAgICAgIDsKCiAgICAgICAgICAgIAogICAgICAgIAogICAgCiAgICAgICAgICAgIHZhciBjaXJjbGVfbWFya2VyX2I5YTJlYzQ1YTgyZjQ0ZDhhZDM3ZWUzOWM1OGUxZWI2ID0gTC5jaXJjbGVNYXJrZXIoCiAgICAgICAgICAgICAgICBbNDMuNzMzMjgyNSwgLTc5LjQxOTc0OTddLAogICAgICAgICAgICAgICAgewogICJidWJibGluZ01vdXNlRXZlbnRzIjogdHJ1ZSwKICAiY29sb3IiOiAiIzgwMDBmZiIsCiAgImRhc2hBcnJheSI6IG51bGwsCiAgImRhc2hPZmZzZXQiOiBudWxsLAogICJmaWxsIjogdHJ1ZSwKICAiZmlsbENvbG9yIjogIiM4MDAwZmYiLAogICJmaWxsT3BhY2l0eSI6IDAuNywKICAiZmlsbFJ1bGUiOiAiZXZlbm9kZCIsCiAgImxpbmVDYXAiOiAicm91bmQiLAogICJsaW5lSm9pbiI6ICJyb3VuZCIsCiAgIm9wYWNpdHkiOiAxLjAsCiAgInJhZGl1cyI6IDUsCiAgInN0cm9rZSI6IHRydWUsCiAgIndlaWdodCI6IDMKfQogICAgICAgICAgICAgICAgKQogICAgICAgICAgICAgICAgLmFkZFRvKG1hcF9lNjgwMmU5MjFkODU0MGQ0YTM3NzMyOGNlY2U3Mjg2YSk7CiAgICAgICAgICAgIAogICAgCiAgICAgICAgICAgIHZhciBwb3B1cF8xNDJiMDk3ZmM3YTY0ODY0OTI3NjU4YTAwYWI5MTYzOCA9IEwucG9wdXAoe21heFdpZHRoOiAnMTAwJScKICAgICAgICAgICAgCiAgICAgICAgICAgIH0pOwoKICAgICAgICAgICAgCiAgICAgICAgICAgICAgICB2YXIgaHRtbF9kZTAzNGI5YWI0MDc0N2Y2ODZhODgyOTU1YmZiYmViMyA9ICQoYDxkaXYgaWQ9Imh0bWxfZGUwMzRiOWFiNDA3NDdmNjg2YTg4Mjk1NWJmYmJlYjMiIHN0eWxlPSJ3aWR0aDogMTAwLjAlOyBoZWlnaHQ6IDEwMC4wJTsiPkJlZGZvcmQgUGFyayAvIExhd3JlbmNlIE1hbm9yIEVhc3QgQ2x1c3RlciAxPC9kaXY+YClbMF07CiAgICAgICAgICAgICAgICBwb3B1cF8xNDJiMDk3ZmM3YTY0ODY0OTI3NjU4YTAwYWI5MTYzOC5zZXRDb250ZW50KGh0bWxfZGUwMzRiOWFiNDA3NDdmNjg2YTg4Mjk1NWJmYmJlYjMpOwogICAgICAgICAgICAKCiAgICAgICAgICAgIGNpcmNsZV9tYXJrZXJfYjlhMmVjNDVhODJmNDRkOGFkMzdlZTM5YzU4ZTFlYjYuYmluZFBvcHVwKHBvcHVwXzE0MmIwOTdmYzdhNjQ4NjQ5Mjc2NThhMDBhYjkxNjM4KQogICAgICAgICAgICA7CgogICAgICAgICAgICAKICAgICAgICAKICAgIAogICAgICAgICAgICB2YXIgY2lyY2xlX21hcmtlcl83NzkyOTUzZTVkYjg0ZmE1YTA3NGE0OTM4NWJiODAyNSA9IEwuY2lyY2xlTWFya2VyKAogICAgICAgICAgICAgICAgWzQzLjcxMTY5NDgsIC03OS40MTY5MzU1OTk5OTk5OV0sCiAgICAgICAgICAgICAgICB7CiAgImJ1YmJsaW5nTW91c2VFdmVudHMiOiB0cnVlLAogICJjb2xvciI6ICIjODAwMGZmIiwKICAiZGFzaEFycmF5IjogbnVsbCwKICAiZGFzaE9mZnNldCI6IG51bGwsCiAgImZpbGwiOiB0cnVlLAogICJmaWxsQ29sb3IiOiAiIzgwMDBmZiIsCiAgImZpbGxPcGFjaXR5IjogMC43LAogICJmaWxsUnVsZSI6ICJldmVub2RkIiwKICAibGluZUNhcCI6ICJyb3VuZCIsCiAgImxpbmVKb2luIjogInJvdW5kIiwKICAib3BhY2l0eSI6IDEuMCwKICAicmFkaXVzIjogNSwKICAic3Ryb2tlIjogdHJ1ZSwKICAid2VpZ2h0IjogMwp9CiAgICAgICAgICAgICAgICApCiAgICAgICAgICAgICAgICAuYWRkVG8obWFwX2U2ODAyZTkyMWQ4NTQwZDRhMzc3MzI4Y2VjZTcyODZhKTsKICAgICAgICAgICAgCiAgICAKICAgICAgICAgICAgdmFyIHBvcHVwXzUxZDM3ZTg3NDA3YjRlN2FiMTg5MWQ2OTY1MTgzNjU4ID0gTC5wb3B1cCh7bWF4V2lkdGg6ICcxMDAlJwogICAgICAgICAgICAKICAgICAgICAgICAgfSk7CgogICAgICAgICAgICAKICAgICAgICAgICAgICAgIHZhciBodG1sXzk3NmNiNjM2MmNkNjQ1NjM5YWI3YWVkNTU5YjM1NTU3ID0gJChgPGRpdiBpZD0iaHRtbF85NzZjYjYzNjJjZDY0NTYzOWFiN2FlZDU1OWIzNTU1NyIgc3R5bGU9IndpZHRoOiAxMDAuMCU7IGhlaWdodDogMTAwLjAlOyI+Um9zZWxhd24gQ2x1c3RlciAxPC9kaXY+YClbMF07CiAgICAgICAgICAgICAgICBwb3B1cF81MWQzN2U4NzQwN2I0ZTdhYjE4OTFkNjk2NTE4MzY1OC5zZXRDb250ZW50KGh0bWxfOTc2Y2I2MzYyY2Q2NDU2MzlhYjdhZWQ1NTliMzU1NTcpOwogICAgICAgICAgICAKCiAgICAgICAgICAgIGNpcmNsZV9tYXJrZXJfNzc5Mjk1M2U1ZGI4NGZhNWEwNzRhNDkzODViYjgwMjUuYmluZFBvcHVwKHBvcHVwXzUxZDM3ZTg3NDA3YjRlN2FiMTg5MWQ2OTY1MTgzNjU4KQogICAgICAgICAgICA7CgogICAgICAgICAgICAKICAgICAgICAKICAgIAogICAgICAgICAgICB2YXIgY2lyY2xlX21hcmtlcl8zMmUyOTg1Mzc3Y2E0YTQ5YjFlMWE5OGQyZTFhMjU0ZSA9IEwuY2lyY2xlTWFya2VyKAogICAgICAgICAgICAgICAgWzQzLjY5Njk0NzYsIC03OS40MTEzMDcyMDAwMDAwMV0sCiAgICAgICAgICAgICAgICB7CiAgImJ1YmJsaW5nTW91c2VFdmVudHMiOiB0cnVlLAogICJjb2xvciI6ICIjODAwMGZmIiwKICAiZGFzaEFycmF5IjogbnVsbCwKICAiZGFzaE9mZnNldCI6IG51bGwsCiAgImZpbGwiOiB0cnVlLAogICJmaWxsQ29sb3IiOiAiIzgwMDBmZiIsCiAgImZpbGxPcGFjaXR5IjogMC43LAogICJmaWxsUnVsZSI6ICJldmVub2RkIiwKICAibGluZUNhcCI6ICJyb3VuZCIsCiAgImxpbmVKb2luIjogInJvdW5kIiwKICAib3BhY2l0eSI6IDEuMCwKICAicmFkaXVzIjogNSwKICAic3Ryb2tlIjogdHJ1ZSwKICAid2VpZ2h0IjogMwp9CiAgICAgICAgICAgICAgICApCiAgICAgICAgICAgICAgICAuYWRkVG8obWFwX2U2ODAyZTkyMWQ4NTQwZDRhMzc3MzI4Y2VjZTcyODZhKTsKICAgICAgICAgICAgCiAgICAKICAgICAgICAgICAgdmFyIHBvcHVwX2QyNTZkNjlhYmVmYjRhMjA5NWRjY2M3OTMzNjlmOGViID0gTC5wb3B1cCh7bWF4V2lkdGg6ICcxMDAlJwogICAgICAgICAgICAKICAgICAgICAgICAgfSk7CgogICAgICAgICAgICAKICAgICAgICAgICAgICAgIHZhciBodG1sXzYyYjMwYWYwZjM4MjQ5YmFhODQxN2Q3YzVlZmEwNThmID0gJChgPGRpdiBpZD0iaHRtbF82MmIzMGFmMGYzODI0OWJhYTg0MTdkN2M1ZWZhMDU4ZiIgc3R5bGU9IndpZHRoOiAxMDAuMCU7IGhlaWdodDogMTAwLjAlOyI+Rm9yZXN0IEhpbGwgTm9ydGggJmFtcDsgV2VzdCBDbHVzdGVyIDE8L2Rpdj5gKVswXTsKICAgICAgICAgICAgICAgIHBvcHVwX2QyNTZkNjlhYmVmYjRhMjA5NWRjY2M3OTMzNjlmOGViLnNldENvbnRlbnQoaHRtbF82MmIzMGFmMGYzODI0OWJhYTg0MTdkN2M1ZWZhMDU4Zik7CiAgICAgICAgICAgIAoKICAgICAgICAgICAgY2lyY2xlX21hcmtlcl8zMmUyOTg1Mzc3Y2E0YTQ5YjFlMWE5OGQyZTFhMjU0ZS5iaW5kUG9wdXAocG9wdXBfZDI1NmQ2OWFiZWZiNGEyMDk1ZGNjYzc5MzM2OWY4ZWIpCiAgICAgICAgICAgIDsKCiAgICAgICAgICAgIAogICAgICAgIAogICAgCiAgICAgICAgICAgIHZhciBjaXJjbGVfbWFya2VyX2YwODU1MGE4MjY2YzQzY2NhZTFiNmJkNDVkNDQ5Y2RjID0gTC5jaXJjbGVNYXJrZXIoCiAgICAgICAgICAgICAgICBbNDMuNjcyNzA5NywgLTc5LjQwNTY3ODQwMDAwMDAxXSwKICAgICAgICAgICAgICAgIHsKICAiYnViYmxpbmdNb3VzZUV2ZW50cyI6IHRydWUsCiAgImNvbG9yIjogIiMxMGEyZjAiLAogICJkYXNoQXJyYXkiOiBudWxsLAogICJkYXNoT2Zmc2V0IjogbnVsbCwKICAiZmlsbCI6IHRydWUsCiAgImZpbGxDb2xvciI6ICIjMTBhMmYwIiwKICAiZmlsbE9wYWNpdHkiOiAwLjcsCiAgImZpbGxSdWxlIjogImV2ZW5vZGQiLAogICJsaW5lQ2FwIjogInJvdW5kIiwKICAibGluZUpvaW4iOiAicm91bmQiLAogICJvcGFjaXR5IjogMS4wLAogICJyYWRpdXMiOiA1LAogICJzdHJva2UiOiB0cnVlLAogICJ3ZWlnaHQiOiAzCn0KICAgICAgICAgICAgICAgICkKICAgICAgICAgICAgICAgIC5hZGRUbyhtYXBfZTY4MDJlOTIxZDg1NDBkNGEzNzczMjhjZWNlNzI4NmEpOwogICAgICAgICAgICAKICAgIAogICAgICAgICAgICB2YXIgcG9wdXBfYWQ4OTFlNmI2MzJlNDViNDgxZTU0Yzc5MjI5NjMyZmQgPSBMLnBvcHVwKHttYXhXaWR0aDogJzEwMCUnCiAgICAgICAgICAgIAogICAgICAgICAgICB9KTsKCiAgICAgICAgICAgIAogICAgICAgICAgICAgICAgdmFyIGh0bWxfNDdlOTYyMjA0OTVkNDExNTk1M2JjZmU0NTNjMTE5MTkgPSAkKGA8ZGl2IGlkPSJodG1sXzQ3ZTk2MjIwNDk1ZDQxMTU5NTNiY2ZlNDUzYzExOTE5IiBzdHlsZT0id2lkdGg6IDEwMC4wJTsgaGVpZ2h0OiAxMDAuMCU7Ij5UaGUgQW5uZXggLyBOb3J0aCBNaWR0b3duIC8gWW9ya3ZpbGxlIENsdXN0ZXIgMzwvZGl2PmApWzBdOwogICAgICAgICAgICAgICAgcG9wdXBfYWQ4OTFlNmI2MzJlNDViNDgxZTU0Yzc5MjI5NjMyZmQuc2V0Q29udGVudChodG1sXzQ3ZTk2MjIwNDk1ZDQxMTU5NTNiY2ZlNDUzYzExOTE5KTsKICAgICAgICAgICAgCgogICAgICAgICAgICBjaXJjbGVfbWFya2VyX2YwODU1MGE4MjY2YzQzY2NhZTFiNmJkNDVkNDQ5Y2RjLmJpbmRQb3B1cChwb3B1cF9hZDg5MWU2YjYzMmU0NWI0ODFlNTRjNzkyMjk2MzJmZCkKICAgICAgICAgICAgOwoKICAgICAgICAgICAgCiAgICAgICAgCiAgICAKICAgICAgICAgICAgdmFyIGNpcmNsZV9tYXJrZXJfZGU3MDM2Nzc4YjQxNDhhYTg2MWYwM2E2ZDNiNWQ4OTQgPSBMLmNpcmNsZU1hcmtlcigKICAgICAgICAgICAgICAgIFs0My42NjI2OTU2LCAtNzkuNDAwMDQ5M10sCiAgICAgICAgICAgICAgICB7CiAgImJ1YmJsaW5nTW91c2VFdmVudHMiOiB0cnVlLAogICJjb2xvciI6ICIjMTBhMmYwIiwKICAiZGFzaEFycmF5IjogbnVsbCwKICAiZGFzaE9mZnNldCI6IG51bGwsCiAgImZpbGwiOiB0cnVlLAogICJmaWxsQ29sb3IiOiAiIzEwYTJmMCIsCiAgImZpbGxPcGFjaXR5IjogMC43LAogICJmaWxsUnVsZSI6ICJldmVub2RkIiwKICAibGluZUNhcCI6ICJyb3VuZCIsCiAgImxpbmVKb2luIjogInJvdW5kIiwKICAib3BhY2l0eSI6IDEuMCwKICAicmFkaXVzIjogNSwKICAic3Ryb2tlIjogdHJ1ZSwKICAid2VpZ2h0IjogMwp9CiAgICAgICAgICAgICAgICApCiAgICAgICAgICAgICAgICAuYWRkVG8obWFwX2U2ODAyZTkyMWQ4NTQwZDRhMzc3MzI4Y2VjZTcyODZhKTsKICAgICAgICAgICAgCiAgICAKICAgICAgICAgICAgdmFyIHBvcHVwXzQzMmY0ODhkOWVjNzQyZjA5NjBjZWY3MGFlYzg2MDI4ID0gTC5wb3B1cCh7bWF4V2lkdGg6ICcxMDAlJwogICAgICAgICAgICAKICAgICAgICAgICAgfSk7CgogICAgICAgICAgICAKICAgICAgICAgICAgICAgIHZhciBodG1sX2VlNGRiOGVlZDMyNTRlMGJiZjFiM2I1ZDRjY2VlMmQ5ID0gJChgPGRpdiBpZD0iaHRtbF9lZTRkYjhlZWQzMjU0ZTBiYmYxYjNiNWQ0Y2NlZTJkOSIgc3R5bGU9IndpZHRoOiAxMDAuMCU7IGhlaWdodDogMTAwLjAlOyI+VW5pdmVyc2l0eSBvZiBUb3JvbnRvIC8gSGFyYm9yZCBDbHVzdGVyIDM8L2Rpdj5gKVswXTsKICAgICAgICAgICAgICAgIHBvcHVwXzQzMmY0ODhkOWVjNzQyZjA5NjBjZWY3MGFlYzg2MDI4LnNldENvbnRlbnQoaHRtbF9lZTRkYjhlZWQzMjU0ZTBiYmYxYjNiNWQ0Y2NlZTJkOSk7CiAgICAgICAgICAgIAoKICAgICAgICAgICAgY2lyY2xlX21hcmtlcl9kZTcwMzY3NzhiNDE0OGFhODYxZjAzYTZkM2I1ZDg5NC5iaW5kUG9wdXAocG9wdXBfNDMyZjQ4OGQ5ZWM3NDJmMDk2MGNlZjcwYWVjODYwMjgpCiAgICAgICAgICAgIDsKCiAgICAgICAgICAgIAogICAgICAgIAogICAgCiAgICAgICAgICAgIHZhciBjaXJjbGVfbWFya2VyX2ZmNjVmNTc4MmVlMjQ3NWI5MDdlOWY5MDVjNTUyMmYyID0gTC5jaXJjbGVNYXJrZXIoCiAgICAgICAgICAgICAgICBbNDMuNjUzMjA1NywgLTc5LjQwMDA0OTNdLAogICAgICAgICAgICAgICAgewogICJidWJibGluZ01vdXNlRXZlbnRzIjogdHJ1ZSwKICAiY29sb3IiOiAiIzEwYTJmMCIsCiAgImRhc2hBcnJheSI6IG51bGwsCiAgImRhc2hPZmZzZXQiOiBudWxsLAogICJmaWxsIjogdHJ1ZSwKICAiZmlsbENvbG9yIjogIiMxMGEyZjAiLAogICJmaWxsT3BhY2l0eSI6IDAuNywKICAiZmlsbFJ1bGUiOiAiZXZlbm9kZCIsCiAgImxpbmVDYXAiOiAicm91bmQiLAogICJsaW5lSm9pbiI6ICJyb3VuZCIsCiAgIm9wYWNpdHkiOiAxLjAsCiAgInJhZGl1cyI6IDUsCiAgInN0cm9rZSI6IHRydWUsCiAgIndlaWdodCI6IDMKfQogICAgICAgICAgICAgICAgKQogICAgICAgICAgICAgICAgLmFkZFRvKG1hcF9lNjgwMmU5MjFkODU0MGQ0YTM3NzMyOGNlY2U3Mjg2YSk7CiAgICAgICAgICAgIAogICAgCiAgICAgICAgICAgIHZhciBwb3B1cF85MTllYjcxZjU3ZWY0OGJlODBjYzcxNmUyNGYzNWVhMiA9IEwucG9wdXAoe21heFdpZHRoOiAnMTAwJScKICAgICAgICAgICAgCiAgICAgICAgICAgIH0pOwoKICAgICAgICAgICAgCiAgICAgICAgICAgICAgICB2YXIgaHRtbF85MzRiMDY1YmEyNTU0MTkyYWQ5NjE4NGNlZmIyZDQwNyA9ICQoYDxkaXYgaWQ9Imh0bWxfOTM0YjA2NWJhMjU1NDE5MmFkOTYxODRjZWZiMmQ0MDciIHN0eWxlPSJ3aWR0aDogMTAwLjAlOyBoZWlnaHQ6IDEwMC4wJTsiPktlbnNpbmd0b24gTWFya2V0IC8gQ2hpbmF0b3duIC8gR3JhbmdlIFBhcmsgQ2x1c3RlciAzPC9kaXY+YClbMF07CiAgICAgICAgICAgICAgICBwb3B1cF85MTllYjcxZjU3ZWY0OGJlODBjYzcxNmUyNGYzNWVhMi5zZXRDb250ZW50KGh0bWxfOTM0YjA2NWJhMjU1NDE5MmFkOTYxODRjZWZiMmQ0MDcpOwogICAgICAgICAgICAKCiAgICAgICAgICAgIGNpcmNsZV9tYXJrZXJfZmY2NWY1NzgyZWUyNDc1YjkwN2U5ZjkwNWM1NTIyZjIuYmluZFBvcHVwKHBvcHVwXzkxOWViNzFmNTdlZjQ4YmU4MGNjNzE2ZTI0ZjM1ZWEyKQogICAgICAgICAgICA7CgogICAgICAgICAgICAKICAgICAgICAKICAgIAogICAgICAgICAgICB2YXIgY2lyY2xlX21hcmtlcl8zMTQ5NWNhZTI0NGM0NzYyYjk3MTQ2OTQ3NDkxN2ZiYiA9IEwuY2lyY2xlTWFya2VyKAogICAgICAgICAgICAgICAgWzQzLjYyODk0NjcsIC03OS4zOTQ0MTk5XSwKICAgICAgICAgICAgICAgIHsKICAiYnViYmxpbmdNb3VzZUV2ZW50cyI6IHRydWUsCiAgImNvbG9yIjogIiMxMGEyZjAiLAogICJkYXNoQXJyYXkiOiBudWxsLAogICJkYXNoT2Zmc2V0IjogbnVsbCwKICAiZmlsbCI6IHRydWUsCiAgImZpbGxDb2xvciI6ICIjMTBhMmYwIiwKICAiZmlsbE9wYWNpdHkiOiAwLjcsCiAgImZpbGxSdWxlIjogImV2ZW5vZGQiLAogICJsaW5lQ2FwIjogInJvdW5kIiwKICAibGluZUpvaW4iOiAicm91bmQiLAogICJvcGFjaXR5IjogMS4wLAogICJyYWRpdXMiOiA1LAogICJzdHJva2UiOiB0cnVlLAogICJ3ZWlnaHQiOiAzCn0KICAgICAgICAgICAgICAgICkKICAgICAgICAgICAgICAgIC5hZGRUbyhtYXBfZTY4MDJlOTIxZDg1NDBkNGEzNzczMjhjZWNlNzI4NmEpOwogICAgICAgICAgICAKICAgIAogICAgICAgICAgICB2YXIgcG9wdXBfNTdiNmNiMjYyYThmNDgzODkzNGQ3NmI3YTA4MDI0ZmIgPSBMLnBvcHVwKHttYXhXaWR0aDogJzEwMCUnCiAgICAgICAgICAgIAogICAgICAgICAgICB9KTsKCiAgICAgICAgICAgIAogICAgICAgICAgICAgICAgdmFyIGh0bWxfYjZjZjYwYTEyMWY5NGFhYzg1Y2NmMzlkYmUyYzk2NWUgPSAkKGA8ZGl2IGlkPSJodG1sX2I2Y2Y2MGExMjFmOTRhYWM4NWNjZjM5ZGJlMmM5NjVlIiBzdHlsZT0id2lkdGg6IDEwMC4wJTsgaGVpZ2h0OiAxMDAuMCU7Ij5DTiBUb3dlciAvIEtpbmcgYW5kIFNwYWRpbmEgLyBSYWlsd2F5IExhbmRzIC8gSGFyYm91cmZyb250IFdlc3QgLyBCYXRodXJzdCBDbHVzdGVyIDM8L2Rpdj5gKVswXTsKICAgICAgICAgICAgICAgIHBvcHVwXzU3YjZjYjI2MmE4ZjQ4Mzg5MzRkNzZiN2EwODAyNGZiLnNldENvbnRlbnQoaHRtbF9iNmNmNjBhMTIxZjk0YWFjODVjY2YzOWRiZTJjOTY1ZSk7CiAgICAgICAgICAgIAoKICAgICAgICAgICAgY2lyY2xlX21hcmtlcl8zMTQ5NWNhZTI0NGM0NzYyYjk3MTQ2OTQ3NDkxN2ZiYi5iaW5kUG9wdXAocG9wdXBfNTdiNmNiMjYyYThmNDgzODkzNGQ3NmI3YTA4MDI0ZmIpCiAgICAgICAgICAgIDsKCiAgICAgICAgICAgIAogICAgICAgIAogICAgCiAgICAgICAgICAgIHZhciBjaXJjbGVfbWFya2VyXzZkMTgwNzE4NzhlYzQ2NWI5N2ExNGJiYTdhNjliZjk0ID0gTC5jaXJjbGVNYXJrZXIoCiAgICAgICAgICAgICAgICBbNDMuNjQ2NDM1MiwgLTc5LjM3NDg0NTk5OTk5OTk5XSwKICAgICAgICAgICAgICAgIHsKICAiYnViYmxpbmdNb3VzZUV2ZW50cyI6IHRydWUsCiAgImNvbG9yIjogIiMxMGEyZjAiLAogICJkYXNoQXJyYXkiOiBudWxsLAogICJkYXNoT2Zmc2V0IjogbnVsbCwKICAiZmlsbCI6IHRydWUsCiAgImZpbGxDb2xvciI6ICIjMTBhMmYwIiwKICAiZmlsbE9wYWNpdHkiOiAwLjcsCiAgImZpbGxSdWxlIjogImV2ZW5vZGQiLAogICJsaW5lQ2FwIjogInJvdW5kIiwKICAibGluZUpvaW4iOiAicm91bmQiLAogICJvcGFjaXR5IjogMS4wLAogICJyYWRpdXMiOiA1LAogICJzdHJva2UiOiB0cnVlLAogICJ3ZWlnaHQiOiAzCn0KICAgICAgICAgICAgICAgICkKICAgICAgICAgICAgICAgIC5hZGRUbyhtYXBfZTY4MDJlOTIxZDg1NDBkNGEzNzczMjhjZWNlNzI4NmEpOwogICAgICAgICAgICAKICAgIAogICAgICAgICAgICB2YXIgcG9wdXBfOTdmODU4NDJkMmE3NDYyYzg3ZjExNWU4ZDliZjE4ZTcgPSBMLnBvcHVwKHttYXhXaWR0aDogJzEwMCUnCiAgICAgICAgICAgIAogICAgICAgICAgICB9KTsKCiAgICAgICAgICAgIAogICAgICAgICAgICAgICAgdmFyIGh0bWxfZDYwYjQzNjhhNDZjNGE4OGI2YjY1OTg0MzcxZjMxMWQgPSAkKGA8ZGl2IGlkPSJodG1sX2Q2MGI0MzY4YTQ2YzRhODhiNmI2NTk4NDM3MWYzMTFkIiBzdHlsZT0id2lkdGg6IDEwMC4wJTsgaGVpZ2h0OiAxMDAuMCU7Ij5TdG4gQSBQTyBCb3hlcyBDbHVzdGVyIDM8L2Rpdj5gKVswXTsKICAgICAgICAgICAgICAgIHBvcHVwXzk3Zjg1ODQyZDJhNzQ2MmM4N2YxMTVlOGQ5YmYxOGU3LnNldENvbnRlbnQoaHRtbF9kNjBiNDM2OGE0NmM0YTg4YjZiNjU5ODQzNzFmMzExZCk7CiAgICAgICAgICAgIAoKICAgICAgICAgICAgY2lyY2xlX21hcmtlcl82ZDE4MDcxODc4ZWM0NjViOTdhMTRiYmE3YTY5YmY5NC5iaW5kUG9wdXAocG9wdXBfOTdmODU4NDJkMmE3NDYyYzg3ZjExNWU4ZDliZjE4ZTcpCiAgICAgICAgICAgIDsKCiAgICAgICAgICAgIAogICAgICAgIAogICAgCiAgICAgICAgICAgIHZhciBjaXJjbGVfbWFya2VyXzc0M2IwNWFkOGVjNTRhN2Y4YjU5NzZhZTc3NzM0MTZiID0gTC5jaXJjbGVNYXJrZXIoCiAgICAgICAgICAgICAgICBbNDMuNjQ4NDI5MiwgLTc5LjM4MjI4MDJdLAogICAgICAgICAgICAgICAgewogICJidWJibGluZ01vdXNlRXZlbnRzIjogdHJ1ZSwKICAiY29sb3IiOiAiIzEwYTJmMCIsCiAgImRhc2hBcnJheSI6IG51bGwsCiAgImRhc2hPZmZzZXQiOiBudWxsLAogICJmaWxsIjogdHJ1ZSwKICAiZmlsbENvbG9yIjogIiMxMGEyZjAiLAogICJmaWxsT3BhY2l0eSI6IDAuNywKICAiZmlsbFJ1bGUiOiAiZXZlbm9kZCIsCiAgImxpbmVDYXAiOiAicm91bmQiLAogICJsaW5lSm9pbiI6ICJyb3VuZCIsCiAgIm9wYWNpdHkiOiAxLjAsCiAgInJhZGl1cyI6IDUsCiAgInN0cm9rZSI6IHRydWUsCiAgIndlaWdodCI6IDMKfQogICAgICAgICAgICAgICAgKQogICAgICAgICAgICAgICAgLmFkZFRvKG1hcF9lNjgwMmU5MjFkODU0MGQ0YTM3NzMyOGNlY2U3Mjg2YSk7CiAgICAgICAgICAgIAogICAgCiAgICAgICAgICAgIHZhciBwb3B1cF82NzQ1ZWIyYWUzNmU0OGQ4YWM2Zjg2OWZjZGFiYzcwMiA9IEwucG9wdXAoe21heFdpZHRoOiAnMTAwJScKICAgICAgICAgICAgCiAgICAgICAgICAgIH0pOwoKICAgICAgICAgICAgCiAgICAgICAgICAgICAgICB2YXIgaHRtbF9lMDlkM2VjNDU5MDM0YWMxOWIzNzRhNzY4ZmI2MjBmYyA9ICQoYDxkaXYgaWQ9Imh0bWxfZTA5ZDNlYzQ1OTAzNGFjMTliMzc0YTc2OGZiNjIwZmMiIHN0eWxlPSJ3aWR0aDogMTAwLjAlOyBoZWlnaHQ6IDEwMC4wJTsiPkZpcnN0IENhbmFkaWFuIFBsYWNlIC8gVW5kZXJncm91bmQgY2l0eSBDbHVzdGVyIDM8L2Rpdj5gKVswXTsKICAgICAgICAgICAgICAgIHBvcHVwXzY3NDVlYjJhZTM2ZTQ4ZDhhYzZmODY5ZmNkYWJjNzAyLnNldENvbnRlbnQoaHRtbF9lMDlkM2VjNDU5MDM0YWMxOWIzNzRhNzY4ZmI2MjBmYyk7CiAgICAgICAgICAgIAoKICAgICAgICAgICAgY2lyY2xlX21hcmtlcl83NDNiMDVhZDhlYzU0YTdmOGI1OTc2YWU3NzczNDE2Yi5iaW5kUG9wdXAocG9wdXBfNjc0NWViMmFlMzZlNDhkOGFjNmY4NjlmY2RhYmM3MDIpCiAgICAgICAgICAgIDsKCiAgICAgICAgICAgIAogICAgICAgIAogICAgCiAgICAgICAgICAgIHZhciBjaXJjbGVfbWFya2VyXzhkMWQzZWMyM2Q1OTQ5NjBhZDUxODcyZGExYzE4NTk4ID0gTC5jaXJjbGVNYXJrZXIoCiAgICAgICAgICAgICAgICBbNDMuNzE4NTE3OTk5OTk5OTk2LCAtNzkuNDY0NzYzMjk5OTk5OTldLAogICAgICAgICAgICAgICAgewogICJidWJibGluZ01vdXNlRXZlbnRzIjogdHJ1ZSwKICAiY29sb3IiOiAiIzYyZmJjNCIsCiAgImRhc2hBcnJheSI6IG51bGwsCiAgImRhc2hPZmZzZXQiOiBudWxsLAogICJmaWxsIjogdHJ1ZSwKICAiZmlsbENvbG9yIjogIiM2MmZiYzQiLAogICJmaWxsT3BhY2l0eSI6IDAuNywKICAiZmlsbFJ1bGUiOiAiZXZlbm9kZCIsCiAgImxpbmVDYXAiOiAicm91bmQiLAogICJsaW5lSm9pbiI6ICJyb3VuZCIsCiAgIm9wYWNpdHkiOiAxLjAsCiAgInJhZGl1cyI6IDUsCiAgInN0cm9rZSI6IHRydWUsCiAgIndlaWdodCI6IDMKfQogICAgICAgICAgICAgICAgKQogICAgICAgICAgICAgICAgLmFkZFRvKG1hcF9lNjgwMmU5MjFkODU0MGQ0YTM3NzMyOGNlY2U3Mjg2YSk7CiAgICAgICAgICAgIAogICAgCiAgICAgICAgICAgIHZhciBwb3B1cF8zODQ0MjM3Y2EwYzU0NzkyYjBhODk5NTQyN2Y5ZmY5OCA9IEwucG9wdXAoe21heFdpZHRoOiAnMTAwJScKICAgICAgICAgICAgCiAgICAgICAgICAgIH0pOwoKICAgICAgICAgICAgCiAgICAgICAgICAgICAgICB2YXIgaHRtbF85ZTUxOGExMTAxMjg0ZmY0ODA0NDM1ODEwZmI0OWU3MSA9ICQoYDxkaXYgaWQ9Imh0bWxfOWU1MThhMTEwMTI4NGZmNDgwNDQzNTgxMGZiNDllNzEiIHN0eWxlPSJ3aWR0aDogMTAwLjAlOyBoZWlnaHQ6IDEwMC4wJTsiPkxhd3JlbmNlIE1hbm9yIC8gTGF3cmVuY2UgSGVpZ2h0cyBDbHVzdGVyIDU8L2Rpdj5gKVswXTsKICAgICAgICAgICAgICAgIHBvcHVwXzM4NDQyMzdjYTBjNTQ3OTJiMGE4OTk1NDI3ZjlmZjk4LnNldENvbnRlbnQoaHRtbF85ZTUxOGExMTAxMjg0ZmY0ODA0NDM1ODEwZmI0OWU3MSk7CiAgICAgICAgICAgIAoKICAgICAgICAgICAgY2lyY2xlX21hcmtlcl84ZDFkM2VjMjNkNTk0OTYwYWQ1MTg3MmRhMWMxODU5OC5iaW5kUG9wdXAocG9wdXBfMzg0NDIzN2NhMGM1NDc5MmIwYTg5OTU0MjdmOWZmOTgpCiAgICAgICAgICAgIDsKCiAgICAgICAgICAgIAogICAgICAgIAogICAgCiAgICAgICAgICAgIHZhciBjaXJjbGVfbWFya2VyXzkyNjZkZTViMWVhMzQyZGZiZDU1OTM5NDY3YTU3ZDk0ID0gTC5jaXJjbGVNYXJrZXIoCiAgICAgICAgICAgICAgICBbNDMuNzA5NTc3LCAtNzkuNDQ1MDcyNTk5OTk5OTldLAogICAgICAgICAgICAgICAgewogICJidWJibGluZ01vdXNlRXZlbnRzIjogdHJ1ZSwKICAiY29sb3IiOiAiIzgwMDBmZiIsCiAgImRhc2hBcnJheSI6IG51bGwsCiAgImRhc2hPZmZzZXQiOiBudWxsLAogICJmaWxsIjogdHJ1ZSwKICAiZmlsbENvbG9yIjogIiM4MDAwZmYiLAogICJmaWxsT3BhY2l0eSI6IDAuNywKICAiZmlsbFJ1bGUiOiAiZXZlbm9kZCIsCiAgImxpbmVDYXAiOiAicm91bmQiLAogICJsaW5lSm9pbiI6ICJyb3VuZCIsCiAgIm9wYWNpdHkiOiAxLjAsCiAgInJhZGl1cyI6IDUsCiAgInN0cm9rZSI6IHRydWUsCiAgIndlaWdodCI6IDMKfQogICAgICAgICAgICAgICAgKQogICAgICAgICAgICAgICAgLmFkZFRvKG1hcF9lNjgwMmU5MjFkODU0MGQ0YTM3NzMyOGNlY2U3Mjg2YSk7CiAgICAgICAgICAgIAogICAgCiAgICAgICAgICAgIHZhciBwb3B1cF80MzVjYjNmMDIwNTA0OTYxOGFjNjExNDMxOWIxOTM3OCA9IEwucG9wdXAoe21heFdpZHRoOiAnMTAwJScKICAgICAgICAgICAgCiAgICAgICAgICAgIH0pOwoKICAgICAgICAgICAgCiAgICAgICAgICAgICAgICB2YXIgaHRtbF9iMzMzYWFmNmQxNDk0NzYyYWJmMGQwNGIzNGY2OGQ5ZiA9ICQoYDxkaXYgaWQ9Imh0bWxfYjMzM2FhZjZkMTQ5NDc2MmFiZjBkMDRiMzRmNjhkOWYiIHN0eWxlPSJ3aWR0aDogMTAwLjAlOyBoZWlnaHQ6IDEwMC4wJTsiPkdsZW5jYWlybiBDbHVzdGVyIDE8L2Rpdj5gKVswXTsKICAgICAgICAgICAgICAgIHBvcHVwXzQzNWNiM2YwMjA1MDQ5NjE4YWM2MTE0MzE5YjE5Mzc4LnNldENvbnRlbnQoaHRtbF9iMzMzYWFmNmQxNDk0NzYyYWJmMGQwNGIzNGY2OGQ5Zik7CiAgICAgICAgICAgIAoKICAgICAgICAgICAgY2lyY2xlX21hcmtlcl85MjY2ZGU1YjFlYTM0MmRmYmQ1NTkzOTQ2N2E1N2Q5NC5iaW5kUG9wdXAocG9wdXBfNDM1Y2IzZjAyMDUwNDk2MThhYzYxMTQzMTliMTkzNzgpCiAgICAgICAgICAgIDsKCiAgICAgICAgICAgIAogICAgICAgIAogICAgCiAgICAgICAgICAgIHZhciBjaXJjbGVfbWFya2VyXzEzMTI2MzVkMjExYzRmMmViNDA3YWQ2MDQ1Y2VhOWEzID0gTC5jaXJjbGVNYXJrZXIoCiAgICAgICAgICAgICAgICBbNDMuNjkzNzgxMywgLTc5LjQyODE5MTQwMDAwMDAyXSwKICAgICAgICAgICAgICAgIHsKICAiYnViYmxpbmdNb3VzZUV2ZW50cyI6IHRydWUsCiAgImNvbG9yIjogIiM4MDAwZmYiLAogICJkYXNoQXJyYXkiOiBudWxsLAogICJkYXNoT2Zmc2V0IjogbnVsbCwKICAiZmlsbCI6IHRydWUsCiAgImZpbGxDb2xvciI6ICIjODAwMGZmIiwKICAiZmlsbE9wYWNpdHkiOiAwLjcsCiAgImZpbGxSdWxlIjogImV2ZW5vZGQiLAogICJsaW5lQ2FwIjogInJvdW5kIiwKICAibGluZUpvaW4iOiAicm91bmQiLAogICJvcGFjaXR5IjogMS4wLAogICJyYWRpdXMiOiA1LAogICJzdHJva2UiOiB0cnVlLAogICJ3ZWlnaHQiOiAzCn0KICAgICAgICAgICAgICAgICkKICAgICAgICAgICAgICAgIC5hZGRUbyhtYXBfZTY4MDJlOTIxZDg1NDBkNGEzNzczMjhjZWNlNzI4NmEpOwogICAgICAgICAgICAKICAgIAogICAgICAgICAgICB2YXIgcG9wdXBfZGE5YmM2ZTk2YTVjNDkxNmE1ZWI1NDc1ODEyNDg4NTAgPSBMLnBvcHVwKHttYXhXaWR0aDogJzEwMCUnCiAgICAgICAgICAgIAogICAgICAgICAgICB9KTsKCiAgICAgICAgICAgIAogICAgICAgICAgICAgICAgdmFyIGh0bWxfODQwMzdlOTU0NzMxNDk0N2I1ZTBlMGFhMWI4ZjJmNTMgPSAkKGA8ZGl2IGlkPSJodG1sXzg0MDM3ZTk1NDczMTQ5NDdiNWUwZTBhYTFiOGYyZjUzIiBzdHlsZT0id2lkdGg6IDEwMC4wJTsgaGVpZ2h0OiAxMDAuMCU7Ij5IdW1ld29vZC1DZWRhcnZhbGUgQ2x1c3RlciAxPC9kaXY+YClbMF07CiAgICAgICAgICAgICAgICBwb3B1cF9kYTliYzZlOTZhNWM0OTE2YTVlYjU0NzU4MTI0ODg1MC5zZXRDb250ZW50KGh0bWxfODQwMzdlOTU0NzMxNDk0N2I1ZTBlMGFhMWI4ZjJmNTMpOwogICAgICAgICAgICAKCiAgICAgICAgICAgIGNpcmNsZV9tYXJrZXJfMTMxMjYzNWQyMTFjNGYyZWI0MDdhZDYwNDVjZWE5YTMuYmluZFBvcHVwKHBvcHVwX2RhOWJjNmU5NmE1YzQ5MTZhNWViNTQ3NTgxMjQ4ODUwKQogICAgICAgICAgICA7CgogICAgICAgICAgICAKICAgICAgICAKICAgIAogICAgICAgICAgICB2YXIgY2lyY2xlX21hcmtlcl83YjBlNDY3MzZlNWU0NmQ4YTRhOWE3MThjMzQzMTgwZiA9IEwuY2lyY2xlTWFya2VyKAogICAgICAgICAgICAgICAgWzQzLjY4OTAyNTYsIC03OS40NTM1MTJdLAogICAgICAgICAgICAgICAgewogICJidWJibGluZ01vdXNlRXZlbnRzIjogdHJ1ZSwKICAiY29sb3IiOiAiI2ZmNTYyYyIsCiAgImRhc2hBcnJheSI6IG51bGwsCiAgImRhc2hPZmZzZXQiOiBudWxsLAogICJmaWxsIjogdHJ1ZSwKICAiZmlsbENvbG9yIjogIiNmZjU2MmMiLAogICJmaWxsT3BhY2l0eSI6IDAuNywKICAiZmlsbFJ1bGUiOiAiZXZlbm9kZCIsCiAgImxpbmVDYXAiOiAicm91bmQiLAogICJsaW5lSm9pbiI6ICJyb3VuZCIsCiAgIm9wYWNpdHkiOiAxLjAsCiAgInJhZGl1cyI6IDUsCiAgInN0cm9rZSI6IHRydWUsCiAgIndlaWdodCI6IDMKfQogICAgICAgICAgICAgICAgKQogICAgICAgICAgICAgICAgLmFkZFRvKG1hcF9lNjgwMmU5MjFkODU0MGQ0YTM3NzMyOGNlY2U3Mjg2YSk7CiAgICAgICAgICAgIAogICAgCiAgICAgICAgICAgIHZhciBwb3B1cF8xMGEyNTUwODRmNmY0YTYwOTQxYjBlNTljNTFkNjc5YiA9IEwucG9wdXAoe21heFdpZHRoOiAnMTAwJScKICAgICAgICAgICAgCiAgICAgICAgICAgIH0pOwoKICAgICAgICAgICAgCiAgICAgICAgICAgICAgICB2YXIgaHRtbF9jYjI0ZWIwMjRjMjE0MzFiYTdlNmUzZmU3YTcwMzMzZCA9ICQoYDxkaXYgaWQ9Imh0bWxfY2IyNGViMDI0YzIxNDMxYmE3ZTZlM2ZlN2E3MDMzM2QiIHN0eWxlPSJ3aWR0aDogMTAwLjAlOyBoZWlnaHQ6IDEwMC4wJTsiPkNhbGVkb25pYS1GYWlyYmFua3MgQ2x1c3RlciA5PC9kaXY+YClbMF07CiAgICAgICAgICAgICAgICBwb3B1cF8xMGEyNTUwODRmNmY0YTYwOTQxYjBlNTljNTFkNjc5Yi5zZXRDb250ZW50KGh0bWxfY2IyNGViMDI0YzIxNDMxYmE3ZTZlM2ZlN2E3MDMzM2QpOwogICAgICAgICAgICAKCiAgICAgICAgICAgIGNpcmNsZV9tYXJrZXJfN2IwZTQ2NzM2ZTVlNDZkOGE0YTlhNzE4YzM0MzE4MGYuYmluZFBvcHVwKHBvcHVwXzEwYTI1NTA4NGY2ZjRhNjA5NDFiMGU1OWM1MWQ2NzliKQogICAgICAgICAgICA7CgogICAgICAgICAgICAKICAgICAgICAKICAgIAogICAgICAgICAgICB2YXIgY2lyY2xlX21hcmtlcl84ZTE3NTc3MjAyOWM0YWQ0ODQzYjEyNDhmNzJhODg4MiA9IEwuY2lyY2xlTWFya2VyKAogICAgICAgICAgICAgICAgWzQzLjY2OTU0MiwgLTc5LjQyMjU2MzddLAogICAgICAgICAgICAgICAgewogICJidWJibGluZ01vdXNlRXZlbnRzIjogdHJ1ZSwKICAiY29sb3IiOiAiI2ZmNTYyYyIsCiAgImRhc2hBcnJheSI6IG51bGwsCiAgImRhc2hPZmZzZXQiOiBudWxsLAogICJmaWxsIjogdHJ1ZSwKICAiZmlsbENvbG9yIjogIiNmZjU2MmMiLAogICJmaWxsT3BhY2l0eSI6IDAuNywKICAiZmlsbFJ1bGUiOiAiZXZlbm9kZCIsCiAgImxpbmVDYXAiOiAicm91bmQiLAogICJsaW5lSm9pbiI6ICJyb3VuZCIsCiAgIm9wYWNpdHkiOiAxLjAsCiAgInJhZGl1cyI6IDUsCiAgInN0cm9rZSI6IHRydWUsCiAgIndlaWdodCI6IDMKfQogICAgICAgICAgICAgICAgKQogICAgICAgICAgICAgICAgLmFkZFRvKG1hcF9lNjgwMmU5MjFkODU0MGQ0YTM3NzMyOGNlY2U3Mjg2YSk7CiAgICAgICAgICAgIAogICAgCiAgICAgICAgICAgIHZhciBwb3B1cF84MzUzMGMxOWE0N2M0MWNhOGVlMzA0ZjAwYTljYjQwMCA9IEwucG9wdXAoe21heFdpZHRoOiAnMTAwJScKICAgICAgICAgICAgCiAgICAgICAgICAgIH0pOwoKICAgICAgICAgICAgCiAgICAgICAgICAgICAgICB2YXIgaHRtbF81NjFiNDk4ODk3ZWE0OTljODQxMDZhODc3ODY2ZjUxNiA9ICQoYDxkaXYgaWQ9Imh0bWxfNTYxYjQ5ODg5N2VhNDk5Yzg0MTA2YTg3Nzg2NmY1MTYiIHN0eWxlPSJ3aWR0aDogMTAwLjAlOyBoZWlnaHQ6IDEwMC4wJTsiPkNocmlzdGllIENsdXN0ZXIgOTwvZGl2PmApWzBdOwogICAgICAgICAgICAgICAgcG9wdXBfODM1MzBjMTlhNDdjNDFjYThlZTMwNGYwMGE5Y2I0MDAuc2V0Q29udGVudChodG1sXzU2MWI0OTg4OTdlYTQ5OWM4NDEwNmE4Nzc4NjZmNTE2KTsKICAgICAgICAgICAgCgogICAgICAgICAgICBjaXJjbGVfbWFya2VyXzhlMTc1NzcyMDI5YzRhZDQ4NDNiMTI0OGY3MmE4ODgyLmJpbmRQb3B1cChwb3B1cF84MzUzMGMxOWE0N2M0MWNhOGVlMzA0ZjAwYTljYjQwMCkKICAgICAgICAgICAgOwoKICAgICAgICAgICAgCiAgICAgICAgCiAgICAKICAgICAgICAgICAgdmFyIGNpcmNsZV9tYXJrZXJfZWE3NTEzNDNmN2M0NGU1ZGFmYWY1Mzg3YTE1NDc3NTEgPSBMLmNpcmNsZU1hcmtlcigKICAgICAgICAgICAgICAgIFs0My42NjkwMDUxMDAwMDAwMSwgLTc5LjQ0MjI1OTNdLAogICAgICAgICAgICAgICAgewogICJidWJibGluZ01vdXNlRXZlbnRzIjogdHJ1ZSwKICAiY29sb3IiOiAiI2ZmNTYyYyIsCiAgImRhc2hBcnJheSI6IG51bGwsCiAgImRhc2hPZmZzZXQiOiBudWxsLAogICJmaWxsIjogdHJ1ZSwKICAiZmlsbENvbG9yIjogIiNmZjU2MmMiLAogICJmaWxsT3BhY2l0eSI6IDAuNywKICAiZmlsbFJ1bGUiOiAiZXZlbm9kZCIsCiAgImxpbmVDYXAiOiAicm91bmQiLAogICJsaW5lSm9pbiI6ICJyb3VuZCIsCiAgIm9wYWNpdHkiOiAxLjAsCiAgInJhZGl1cyI6IDUsCiAgInN0cm9rZSI6IHRydWUsCiAgIndlaWdodCI6IDMKfQogICAgICAgICAgICAgICAgKQogICAgICAgICAgICAgICAgLmFkZFRvKG1hcF9lNjgwMmU5MjFkODU0MGQ0YTM3NzMyOGNlY2U3Mjg2YSk7CiAgICAgICAgICAgIAogICAgCiAgICAgICAgICAgIHZhciBwb3B1cF8zZmYzYzhkYWRjOWU0ZmE4YjFlMDZlZDY4MGMzY2FlZiA9IEwucG9wdXAoe21heFdpZHRoOiAnMTAwJScKICAgICAgICAgICAgCiAgICAgICAgICAgIH0pOwoKICAgICAgICAgICAgCiAgICAgICAgICAgICAgICB2YXIgaHRtbF8yMzFhMWEyZjU0YjA0MTQ3YjY5ZGEzOTE1YjBiYmVjMyA9ICQoYDxkaXYgaWQ9Imh0bWxfMjMxYTFhMmY1NGIwNDE0N2I2OWRhMzkxNWIwYmJlYzMiIHN0eWxlPSJ3aWR0aDogMTAwLjAlOyBoZWlnaHQ6IDEwMC4wJTsiPkR1ZmZlcmluIC8gRG92ZXJjb3VydCBWaWxsYWdlIENsdXN0ZXIgOTwvZGl2PmApWzBdOwogICAgICAgICAgICAgICAgcG9wdXBfM2ZmM2M4ZGFkYzllNGZhOGIxZTA2ZWQ2ODBjM2NhZWYuc2V0Q29udGVudChodG1sXzIzMWExYTJmNTRiMDQxNDdiNjlkYTM5MTViMGJiZWMzKTsKICAgICAgICAgICAgCgogICAgICAgICAgICBjaXJjbGVfbWFya2VyX2VhNzUxMzQzZjdjNDRlNWRhZmFmNTM4N2ExNTQ3NzUxLmJpbmRQb3B1cChwb3B1cF8zZmYzYzhkYWRjOWU0ZmE4YjFlMDZlZDY4MGMzY2FlZikKICAgICAgICAgICAgOwoKICAgICAgICAgICAgCiAgICAgICAgCiAgICAKICAgICAgICAgICAgdmFyIGNpcmNsZV9tYXJrZXJfMjA0ZmZiZTY5MWE0NDg2M2E0ZTJhODk1N2Y5NmRkNjYgPSBMLmNpcmNsZU1hcmtlcigKICAgICAgICAgICAgICAgIFs0My42NDc5MjY3MDAwMDAwMDYsIC03OS40MTk3NDk3XSwKICAgICAgICAgICAgICAgIHsKICAiYnViYmxpbmdNb3VzZUV2ZW50cyI6IHRydWUsCiAgImNvbG9yIjogIiMxMGEyZjAiLAogICJkYXNoQXJyYXkiOiBudWxsLAogICJkYXNoT2Zmc2V0IjogbnVsbCwKICAiZmlsbCI6IHRydWUsCiAgImZpbGxDb2xvciI6ICIjMTBhMmYwIiwKICAiZmlsbE9wYWNpdHkiOiAwLjcsCiAgImZpbGxSdWxlIjogImV2ZW5vZGQiLAogICJsaW5lQ2FwIjogInJvdW5kIiwKICAibGluZUpvaW4iOiAicm91bmQiLAogICJvcGFjaXR5IjogMS4wLAogICJyYWRpdXMiOiA1LAogICJzdHJva2UiOiB0cnVlLAogICJ3ZWlnaHQiOiAzCn0KICAgICAgICAgICAgICAgICkKICAgICAgICAgICAgICAgIC5hZGRUbyhtYXBfZTY4MDJlOTIxZDg1NDBkNGEzNzczMjhjZWNlNzI4NmEpOwogICAgICAgICAgICAKICAgIAogICAgICAgICAgICB2YXIgcG9wdXBfOWVmY2E4YmIyZWYyNDhjMmJjNTVjNGYwYzgzNmQyZGMgPSBMLnBvcHVwKHttYXhXaWR0aDogJzEwMCUnCiAgICAgICAgICAgIAogICAgICAgICAgICB9KTsKCiAgICAgICAgICAgIAogICAgICAgICAgICAgICAgdmFyIGh0bWxfOGM5YWUxMTNjNzk5NDgyNGFkYjA2YWQ1ZjJiNjNkNzQgPSAkKGA8ZGl2IGlkPSJodG1sXzhjOWFlMTEzYzc5OTQ4MjRhZGIwNmFkNWYyYjYzZDc0IiBzdHlsZT0id2lkdGg6IDEwMC4wJTsgaGVpZ2h0OiAxMDAuMCU7Ij5MaXR0bGUgUG9ydHVnYWwgLyBUcmluaXR5IENsdXN0ZXIgMzwvZGl2PmApWzBdOwogICAgICAgICAgICAgICAgcG9wdXBfOWVmY2E4YmIyZWYyNDhjMmJjNTVjNGYwYzgzNmQyZGMuc2V0Q29udGVudChodG1sXzhjOWFlMTEzYzc5OTQ4MjRhZGIwNmFkNWYyYjYzZDc0KTsKICAgICAgICAgICAgCgogICAgICAgICAgICBjaXJjbGVfbWFya2VyXzIwNGZmYmU2OTFhNDQ4NjNhNGUyYTg5NTdmOTZkZDY2LmJpbmRQb3B1cChwb3B1cF85ZWZjYThiYjJlZjI0OGMyYmM1NWM0ZjBjODM2ZDJkYykKICAgICAgICAgICAgOwoKICAgICAgICAgICAgCiAgICAgICAgCiAgICAKICAgICAgICAgICAgdmFyIGNpcmNsZV9tYXJrZXJfNGQzZmI1YmM3Nzk1NGY1YzhkNWU1YjliNzFkN2UxMDMgPSBMLmNpcmNsZU1hcmtlcigKICAgICAgICAgICAgICAgIFs0My42MzY4NDcyLCAtNzkuNDI4MTkxNDAwMDAwMDJdLAogICAgICAgICAgICAgICAgewogICJidWJibGluZ01vdXNlRXZlbnRzIjogdHJ1ZSwKICAiY29sb3IiOiAiIzEwYTJmMCIsCiAgImRhc2hBcnJheSI6IG51bGwsCiAgImRhc2hPZmZzZXQiOiBudWxsLAogICJmaWxsIjogdHJ1ZSwKICAiZmlsbENvbG9yIjogIiMxMGEyZjAiLAogICJmaWxsT3BhY2l0eSI6IDAuNywKICAiZmlsbFJ1bGUiOiAiZXZlbm9kZCIsCiAgImxpbmVDYXAiOiAicm91bmQiLAogICJsaW5lSm9pbiI6ICJyb3VuZCIsCiAgIm9wYWNpdHkiOiAxLjAsCiAgInJhZGl1cyI6IDUsCiAgInN0cm9rZSI6IHRydWUsCiAgIndlaWdodCI6IDMKfQogICAgICAgICAgICAgICAgKQogICAgICAgICAgICAgICAgLmFkZFRvKG1hcF9lNjgwMmU5MjFkODU0MGQ0YTM3NzMyOGNlY2U3Mjg2YSk7CiAgICAgICAgICAgIAogICAgCiAgICAgICAgICAgIHZhciBwb3B1cF81MjYzOGIxOTdiZjU0YzVhYjRiMGRkODczM2QzZjcwOCA9IEwucG9wdXAoe21heFdpZHRoOiAnMTAwJScKICAgICAgICAgICAgCiAgICAgICAgICAgIH0pOwoKICAgICAgICAgICAgCiAgICAgICAgICAgICAgICB2YXIgaHRtbF80NTA4MTA3NDE3ZDA0NzQzYWRmMDcwMGVhYzhlZDE1YyA9ICQoYDxkaXYgaWQ9Imh0bWxfNDUwODEwNzQxN2QwNDc0M2FkZjA3MDBlYWM4ZWQxNWMiIHN0eWxlPSJ3aWR0aDogMTAwLjAlOyBoZWlnaHQ6IDEwMC4wJTsiPkJyb2NrdG9uIC8gUGFya2RhbGUgVmlsbGFnZSAvIEV4aGliaXRpb24gUGxhY2UgQ2x1c3RlciAzPC9kaXY+YClbMF07CiAgICAgICAgICAgICAgICBwb3B1cF81MjYzOGIxOTdiZjU0YzVhYjRiMGRkODczM2QzZjcwOC5zZXRDb250ZW50KGh0bWxfNDUwODEwNzQxN2QwNDc0M2FkZjA3MDBlYWM4ZWQxNWMpOwogICAgICAgICAgICAKCiAgICAgICAgICAgIGNpcmNsZV9tYXJrZXJfNGQzZmI1YmM3Nzk1NGY1YzhkNWU1YjliNzFkN2UxMDMuYmluZFBvcHVwKHBvcHVwXzUyNjM4YjE5N2JmNTRjNWFiNGIwZGQ4NzMzZDNmNzA4KQogICAgICAgICAgICA7CgogICAgICAgICAgICAKICAgICAgICAKICAgIAogICAgICAgICAgICB2YXIgY2lyY2xlX21hcmtlcl81NzFlYzVjMWUzMjY0N2IxYjk1MmY5OWY5Mzc5MTg3NyA9IEwuY2lyY2xlTWFya2VyKAogICAgICAgICAgICAgICAgWzQzLjcxMzc1NjIwMDAwMDAwNiwgLTc5LjQ5MDA3MzhdLAogICAgICAgICAgICAgICAgewogICJidWJibGluZ01vdXNlRXZlbnRzIjogdHJ1ZSwKICAiY29sb3IiOiAiIzYyZmJjNCIsCiAgImRhc2hBcnJheSI6IG51bGwsCiAgImRhc2hPZmZzZXQiOiBudWxsLAogICJmaWxsIjogdHJ1ZSwKICAiZmlsbENvbG9yIjogIiM2MmZiYzQiLAogICJmaWxsT3BhY2l0eSI6IDAuNywKICAiZmlsbFJ1bGUiOiAiZXZlbm9kZCIsCiAgImxpbmVDYXAiOiAicm91bmQiLAogICJsaW5lSm9pbiI6ICJyb3VuZCIsCiAgIm9wYWNpdHkiOiAxLjAsCiAgInJhZGl1cyI6IDUsCiAgInN0cm9rZSI6IHRydWUsCiAgIndlaWdodCI6IDMKfQogICAgICAgICAgICAgICAgKQogICAgICAgICAgICAgICAgLmFkZFRvKG1hcF9lNjgwMmU5MjFkODU0MGQ0YTM3NzMyOGNlY2U3Mjg2YSk7CiAgICAgICAgICAgIAogICAgCiAgICAgICAgICAgIHZhciBwb3B1cF9jYjdmMjIyYWFiMDE0MTdkODc1MTQ2ZmFjZjhkNmEyZiA9IEwucG9wdXAoe21heFdpZHRoOiAnMTAwJScKICAgICAgICAgICAgCiAgICAgICAgICAgIH0pOwoKICAgICAgICAgICAgCiAgICAgICAgICAgICAgICB2YXIgaHRtbF82MDVkNGU1NjJjYWQ0MmU4OWQ2MDhmYWM4ZjIyODhjOSA9ICQoYDxkaXYgaWQ9Imh0bWxfNjA1ZDRlNTYyY2FkNDJlODlkNjA4ZmFjOGYyMjg4YzkiIHN0eWxlPSJ3aWR0aDogMTAwLjAlOyBoZWlnaHQ6IDEwMC4wJTsiPk5vcnRoIFBhcmsgLyBNYXBsZSBMZWFmIFBhcmsgLyBVcHdvb2QgUGFyayBDbHVzdGVyIDU8L2Rpdj5gKVswXTsKICAgICAgICAgICAgICAgIHBvcHVwX2NiN2YyMjJhYWIwMTQxN2Q4NzUxNDZmYWNmOGQ2YTJmLnNldENvbnRlbnQoaHRtbF82MDVkNGU1NjJjYWQ0MmU4OWQ2MDhmYWM4ZjIyODhjOSk7CiAgICAgICAgICAgIAoKICAgICAgICAgICAgY2lyY2xlX21hcmtlcl81NzFlYzVjMWUzMjY0N2IxYjk1MmY5OWY5Mzc5MTg3Ny5iaW5kUG9wdXAocG9wdXBfY2I3ZjIyMmFhYjAxNDE3ZDg3NTE0NmZhY2Y4ZDZhMmYpCiAgICAgICAgICAgIDsKCiAgICAgICAgICAgIAogICAgICAgIAogICAgCiAgICAgICAgICAgIHZhciBjaXJjbGVfbWFya2VyX2Y2NGQ1NjQyMDY5ZTQyNTNiMDQxMTJkMTE5NTlhYWFiID0gTC5jaXJjbGVNYXJrZXIoCiAgICAgICAgICAgICAgICBbNDMuNjkxMTE1OCwgLTc5LjQ3NjAxMzI5OTk5OTk5XSwKICAgICAgICAgICAgICAgIHsKICAiYnViYmxpbmdNb3VzZUV2ZW50cyI6IHRydWUsCiAgImNvbG9yIjogIiNmZjU2MmMiLAogICJkYXNoQXJyYXkiOiBudWxsLAogICJkYXNoT2Zmc2V0IjogbnVsbCwKICAiZmlsbCI6IHRydWUsCiAgImZpbGxDb2xvciI6ICIjZmY1NjJjIiwKICAiZmlsbE9wYWNpdHkiOiAwLjcsCiAgImZpbGxSdWxlIjogImV2ZW5vZGQiLAogICJsaW5lQ2FwIjogInJvdW5kIiwKICAibGluZUpvaW4iOiAicm91bmQiLAogICJvcGFjaXR5IjogMS4wLAogICJyYWRpdXMiOiA1LAogICJzdHJva2UiOiB0cnVlLAogICJ3ZWlnaHQiOiAzCn0KICAgICAgICAgICAgICAgICkKICAgICAgICAgICAgICAgIC5hZGRUbyhtYXBfZTY4MDJlOTIxZDg1NDBkNGEzNzczMjhjZWNlNzI4NmEpOwogICAgICAgICAgICAKICAgIAogICAgICAgICAgICB2YXIgcG9wdXBfOWFlNjViMjVhNGE5NDBkODkzNGU3YjU5Njk2OWUzZmYgPSBMLnBvcHVwKHttYXhXaWR0aDogJzEwMCUnCiAgICAgICAgICAgIAogICAgICAgICAgICB9KTsKCiAgICAgICAgICAgIAogICAgICAgICAgICAgICAgdmFyIGh0bWxfMzg0YWVmY2Y0ZmY1NGQ3MGI0NzgzODM5ZDM4OGIwOTQgPSAkKGA8ZGl2IGlkPSJodG1sXzM4NGFlZmNmNGZmNTRkNzBiNDc4MzgzOWQzODhiMDk0IiBzdHlsZT0id2lkdGg6IDEwMC4wJTsgaGVpZ2h0OiAxMDAuMCU7Ij5EZWwgUmF5IC8gTW91bnQgRGVubmlzIC8gS2VlbHNkYWxlIGFuZCBTaWx2ZXJ0aG9ybiBDbHVzdGVyIDk8L2Rpdj5gKVswXTsKICAgICAgICAgICAgICAgIHBvcHVwXzlhZTY1YjI1YTRhOTQwZDg5MzRlN2I1OTY5NjllM2ZmLnNldENvbnRlbnQoaHRtbF8zODRhZWZjZjRmZjU0ZDcwYjQ3ODM4MzlkMzg4YjA5NCk7CiAgICAgICAgICAgIAoKICAgICAgICAgICAgY2lyY2xlX21hcmtlcl9mNjRkNTY0MjA2OWU0MjUzYjA0MTEyZDExOTU5YWFhYi5iaW5kUG9wdXAocG9wdXBfOWFlNjViMjVhNGE5NDBkODkzNGU3YjU5Njk2OWUzZmYpCiAgICAgICAgICAgIDsKCiAgICAgICAgICAgIAogICAgICAgIAogICAgCiAgICAgICAgICAgIHZhciBjaXJjbGVfbWFya2VyX2QxODk2ZmNhYTU4ZDRhYzQ5MmI4MWUxYjhiOTcwZDA2ID0gTC5jaXJjbGVNYXJrZXIoCiAgICAgICAgICAgICAgICBbNDMuNjczMTg1Mjk5OTk5OTksIC03OS40ODcyNjE5MDAwMDAwMV0sCiAgICAgICAgICAgICAgICB7CiAgImJ1YmJsaW5nTW91c2VFdmVudHMiOiB0cnVlLAogICJjb2xvciI6ICIjZmY1NjJjIiwKICAiZGFzaEFycmF5IjogbnVsbCwKICAiZGFzaE9mZnNldCI6IG51bGwsCiAgImZpbGwiOiB0cnVlLAogICJmaWxsQ29sb3IiOiAiI2ZmNTYyYyIsCiAgImZpbGxPcGFjaXR5IjogMC43LAogICJmaWxsUnVsZSI6ICJldmVub2RkIiwKICAibGluZUNhcCI6ICJyb3VuZCIsCiAgImxpbmVKb2luIjogInJvdW5kIiwKICAib3BhY2l0eSI6IDEuMCwKICAicmFkaXVzIjogNSwKICAic3Ryb2tlIjogdHJ1ZSwKICAid2VpZ2h0IjogMwp9CiAgICAgICAgICAgICAgICApCiAgICAgICAgICAgICAgICAuYWRkVG8obWFwX2U2ODAyZTkyMWQ4NTQwZDRhMzc3MzI4Y2VjZTcyODZhKTsKICAgICAgICAgICAgCiAgICAKICAgICAgICAgICAgdmFyIHBvcHVwXzg4NGYwYmRhYWE1ZjRjZTU5YjE4NTkwZTIzZWMxNzJiID0gTC5wb3B1cCh7bWF4V2lkdGg6ICcxMDAlJwogICAgICAgICAgICAKICAgICAgICAgICAgfSk7CgogICAgICAgICAgICAKICAgICAgICAgICAgICAgIHZhciBodG1sX2EwZmZkZmYyMzk3ODQ5Yjg4ZGZjYTgxMzFkNjM2ZDVlID0gJChgPGRpdiBpZD0iaHRtbF9hMGZmZGZmMjM5Nzg0OWI4OGRmY2E4MTMxZDYzNmQ1ZSIgc3R5bGU9IndpZHRoOiAxMDAuMCU7IGhlaWdodDogMTAwLjAlOyI+UnVubnltZWRlIC8gVGhlIEp1bmN0aW9uIE5vcnRoIENsdXN0ZXIgOTwvZGl2PmApWzBdOwogICAgICAgICAgICAgICAgcG9wdXBfODg0ZjBiZGFhYTVmNGNlNTliMTg1OTBlMjNlYzE3MmIuc2V0Q29udGVudChodG1sX2EwZmZkZmYyMzk3ODQ5Yjg4ZGZjYTgxMzFkNjM2ZDVlKTsKICAgICAgICAgICAgCgogICAgICAgICAgICBjaXJjbGVfbWFya2VyX2QxODk2ZmNhYTU4ZDRhYzQ5MmI4MWUxYjhiOTcwZDA2LmJpbmRQb3B1cChwb3B1cF84ODRmMGJkYWFhNWY0Y2U1OWIxODU5MGUyM2VjMTcyYikKICAgICAgICAgICAgOwoKICAgICAgICAgICAgCiAgICAgICAgCiAgICAKICAgICAgICAgICAgdmFyIGNpcmNsZV9tYXJrZXJfOTI4ZTQ5NWM2NTE2NGFhZTg5ZDJhZTZjZDg0Y2ExNTQgPSBMLmNpcmNsZU1hcmtlcigKICAgICAgICAgICAgICAgIFs0My42NjE2MDgzLCAtNzkuNDY0NzYzMjk5OTk5OTldLAogICAgICAgICAgICAgICAgewogICJidWJibGluZ01vdXNlRXZlbnRzIjogdHJ1ZSwKICAiY29sb3IiOiAiI2ZmNTYyYyIsCiAgImRhc2hBcnJheSI6IG51bGwsCiAgImRhc2hPZmZzZXQiOiBudWxsLAogICJmaWxsIjogdHJ1ZSwKICAiZmlsbENvbG9yIjogIiNmZjU2MmMiLAogICJmaWxsT3BhY2l0eSI6IDAuNywKICAiZmlsbFJ1bGUiOiAiZXZlbm9kZCIsCiAgImxpbmVDYXAiOiAicm91bmQiLAogICJsaW5lSm9pbiI6ICJyb3VuZCIsCiAgIm9wYWNpdHkiOiAxLjAsCiAgInJhZGl1cyI6IDUsCiAgInN0cm9rZSI6IHRydWUsCiAgIndlaWdodCI6IDMKfQogICAgICAgICAgICAgICAgKQogICAgICAgICAgICAgICAgLmFkZFRvKG1hcF9lNjgwMmU5MjFkODU0MGQ0YTM3NzMyOGNlY2U3Mjg2YSk7CiAgICAgICAgICAgIAogICAgCiAgICAgICAgICAgIHZhciBwb3B1cF9jYTcxODQ1ZjJhNzM0MzhhOGEyNjM2YTBmYWRkMDI2OCA9IEwucG9wdXAoe21heFdpZHRoOiAnMTAwJScKICAgICAgICAgICAgCiAgICAgICAgICAgIH0pOwoKICAgICAgICAgICAgCiAgICAgICAgICAgICAgICB2YXIgaHRtbF8wZjU4NjQ3NjgzNjE0MWFjODdhZDZkNDBlMWFiZmZmNSA9ICQoYDxkaXYgaWQ9Imh0bWxfMGY1ODY0NzY4MzYxNDFhYzg3YWQ2ZDQwZTFhYmZmZjUiIHN0eWxlPSJ3aWR0aDogMTAwLjAlOyBoZWlnaHQ6IDEwMC4wJTsiPkhpZ2ggUGFyayAvIFRoZSBKdW5jdGlvbiBTb3V0aCBDbHVzdGVyIDk8L2Rpdj5gKVswXTsKICAgICAgICAgICAgICAgIHBvcHVwX2NhNzE4NDVmMmE3MzQzOGE4YTI2MzZhMGZhZGQwMjY4LnNldENvbnRlbnQoaHRtbF8wZjU4NjQ3NjgzNjE0MWFjODdhZDZkNDBlMWFiZmZmNSk7CiAgICAgICAgICAgIAoKICAgICAgICAgICAgY2lyY2xlX21hcmtlcl85MjhlNDk1YzY1MTY0YWFlODlkMmFlNmNkODRjYTE1NC5iaW5kUG9wdXAocG9wdXBfY2E3MTg0NWYyYTczNDM4YThhMjYzNmEwZmFkZDAyNjgpCiAgICAgICAgICAgIDsKCiAgICAgICAgICAgIAogICAgICAgIAogICAgCiAgICAgICAgICAgIHZhciBjaXJjbGVfbWFya2VyXzcwOGYyYzFlMDRkNTRiYTg4NTE5NTlhZDgyMmNhMTI2ID0gTC5jaXJjbGVNYXJrZXIoCiAgICAgICAgICAgICAgICBbNDMuNjQ4OTU5NywgLTc5LjQ1NjMyNV0sCiAgICAgICAgICAgICAgICB7CiAgImJ1YmJsaW5nTW91c2VFdmVudHMiOiB0cnVlLAogICJjb2xvciI6ICIjZmY1NjJjIiwKICAiZGFzaEFycmF5IjogbnVsbCwKICAiZGFzaE9mZnNldCI6IG51bGwsCiAgImZpbGwiOiB0cnVlLAogICJmaWxsQ29sb3IiOiAiI2ZmNTYyYyIsCiAgImZpbGxPcGFjaXR5IjogMC43LAogICJmaWxsUnVsZSI6ICJldmVub2RkIiwKICAibGluZUNhcCI6ICJyb3VuZCIsCiAgImxpbmVKb2luIjogInJvdW5kIiwKICAib3BhY2l0eSI6IDEuMCwKICAicmFkaXVzIjogNSwKICAic3Ryb2tlIjogdHJ1ZSwKICAid2VpZ2h0IjogMwp9CiAgICAgICAgICAgICAgICApCiAgICAgICAgICAgICAgICAuYWRkVG8obWFwX2U2ODAyZTkyMWQ4NTQwZDRhMzc3MzI4Y2VjZTcyODZhKTsKICAgICAgICAgICAgCiAgICAKICAgICAgICAgICAgdmFyIHBvcHVwX2MyZTBiYTc3ODQ1NzRiZTliZDRmZTI5NTI0NTE1Yzc0ID0gTC5wb3B1cCh7bWF4V2lkdGg6ICcxMDAlJwogICAgICAgICAgICAKICAgICAgICAgICAgfSk7CgogICAgICAgICAgICAKICAgICAgICAgICAgICAgIHZhciBodG1sXzdjZmE1ODE0NTZjYjQ0ZjVhM2UxNjIzZGU3NDk1OTM0ID0gJChgPGRpdiBpZD0iaHRtbF83Y2ZhNTgxNDU2Y2I0NGY1YTNlMTYyM2RlNzQ5NTkzNCIgc3R5bGU9IndpZHRoOiAxMDAuMCU7IGhlaWdodDogMTAwLjAlOyI+UGFya2RhbGUgLyBSb25jZXN2YWxsZXMgQ2x1c3RlciA5PC9kaXY+YClbMF07CiAgICAgICAgICAgICAgICBwb3B1cF9jMmUwYmE3Nzg0NTc0YmU5YmQ0ZmUyOTUyNDUxNWM3NC5zZXRDb250ZW50KGh0bWxfN2NmYTU4MTQ1NmNiNDRmNWEzZTE2MjNkZTc0OTU5MzQpOwogICAgICAgICAgICAKCiAgICAgICAgICAgIGNpcmNsZV9tYXJrZXJfNzA4ZjJjMWUwNGQ1NGJhODg1MTk1OWFkODIyY2ExMjYuYmluZFBvcHVwKHBvcHVwX2MyZTBiYTc3ODQ1NzRiZTliZDRmZTI5NTI0NTE1Yzc0KQogICAgICAgICAgICA7CgogICAgICAgICAgICAKICAgICAgICAKICAgIAogICAgICAgICAgICB2YXIgY2lyY2xlX21hcmtlcl84M2FmYTgwMDcxOWM0ZGFjODU5YmYwYmYzYjFlMjY3MyA9IEwuY2lyY2xlTWFya2VyKAogICAgICAgICAgICAgICAgWzQzLjY1MTU3MDYsIC03OS40ODQ0NDk5XSwKICAgICAgICAgICAgICAgIHsKICAiYnViYmxpbmdNb3VzZUV2ZW50cyI6IHRydWUsCiAgImNvbG9yIjogIiNmZjU2MmMiLAogICJkYXNoQXJyYXkiOiBudWxsLAogICJkYXNoT2Zmc2V0IjogbnVsbCwKICAiZmlsbCI6IHRydWUsCiAgImZpbGxDb2xvciI6ICIjZmY1NjJjIiwKICAiZmlsbE9wYWNpdHkiOiAwLjcsCiAgImZpbGxSdWxlIjogImV2ZW5vZGQiLAogICJsaW5lQ2FwIjogInJvdW5kIiwKICAibGluZUpvaW4iOiAicm91bmQiLAogICJvcGFjaXR5IjogMS4wLAogICJyYWRpdXMiOiA1LAogICJzdHJva2UiOiB0cnVlLAogICJ3ZWlnaHQiOiAzCn0KICAgICAgICAgICAgICAgICkKICAgICAgICAgICAgICAgIC5hZGRUbyhtYXBfZTY4MDJlOTIxZDg1NDBkNGEzNzczMjhjZWNlNzI4NmEpOwogICAgICAgICAgICAKICAgIAogICAgICAgICAgICB2YXIgcG9wdXBfODI0MzY0Yjc2MzZlNGJmZGI4MWMxOWYyMmVkYjA2N2UgPSBMLnBvcHVwKHttYXhXaWR0aDogJzEwMCUnCiAgICAgICAgICAgIAogICAgICAgICAgICB9KTsKCiAgICAgICAgICAgIAogICAgICAgICAgICAgICAgdmFyIGh0bWxfZjkxMTk0NmU3NmU3NDAzMTkyZGViM2VlNjAxMzUwMzMgPSAkKGA8ZGl2IGlkPSJodG1sX2Y5MTE5NDZlNzZlNzQwMzE5MmRlYjNlZTYwMTM1MDMzIiBzdHlsZT0id2lkdGg6IDEwMC4wJTsgaGVpZ2h0OiAxMDAuMCU7Ij5SdW5ueW1lZGUgLyBTd2Fuc2VhIENsdXN0ZXIgOTwvZGl2PmApWzBdOwogICAgICAgICAgICAgICAgcG9wdXBfODI0MzY0Yjc2MzZlNGJmZGI4MWMxOWYyMmVkYjA2N2Uuc2V0Q29udGVudChodG1sX2Y5MTE5NDZlNzZlNzQwMzE5MmRlYjNlZTYwMTM1MDMzKTsKICAgICAgICAgICAgCgogICAgICAgICAgICBjaXJjbGVfbWFya2VyXzgzYWZhODAwNzE5YzRkYWM4NTliZjBiZjNiMWUyNjczLmJpbmRQb3B1cChwb3B1cF84MjQzNjRiNzYzNmU0YmZkYjgxYzE5ZjIyZWRiMDY3ZSkKICAgICAgICAgICAgOwoKICAgICAgICAgICAgCiAgICAgICAgCiAgICAKICAgICAgICAgICAgdmFyIGNpcmNsZV9tYXJrZXJfMGY2ZGYwOTRhZDEyNDk5ODg4YzU4NzdlMGFkM2U1MGIgPSBMLmNpcmNsZU1hcmtlcigKICAgICAgICAgICAgICAgIFs0My42NjIzMDE1LCAtNzkuMzg5NDkzOF0sCiAgICAgICAgICAgICAgICB7CiAgImJ1YmJsaW5nTW91c2VFdmVudHMiOiB0cnVlLAogICJjb2xvciI6ICIjMTBhMmYwIiwKICAiZGFzaEFycmF5IjogbnVsbCwKICAiZGFzaE9mZnNldCI6IG51bGwsCiAgImZpbGwiOiB0cnVlLAogICJmaWxsQ29sb3IiOiAiIzEwYTJmMCIsCiAgImZpbGxPcGFjaXR5IjogMC43LAogICJmaWxsUnVsZSI6ICJldmVub2RkIiwKICAibGluZUNhcCI6ICJyb3VuZCIsCiAgImxpbmVKb2luIjogInJvdW5kIiwKICAib3BhY2l0eSI6IDEuMCwKICAicmFkaXVzIjogNSwKICAic3Ryb2tlIjogdHJ1ZSwKICAid2VpZ2h0IjogMwp9CiAgICAgICAgICAgICAgICApCiAgICAgICAgICAgICAgICAuYWRkVG8obWFwX2U2ODAyZTkyMWQ4NTQwZDRhMzc3MzI4Y2VjZTcyODZhKTsKICAgICAgICAgICAgCiAgICAKICAgICAgICAgICAgdmFyIHBvcHVwXzgxMjZhNjI3ZTFmMjQ0NzViNTU1N2Y0OTcwY2UwMWVjID0gTC5wb3B1cCh7bWF4V2lkdGg6ICcxMDAlJwogICAgICAgICAgICAKICAgICAgICAgICAgfSk7CgogICAgICAgICAgICAKICAgICAgICAgICAgICAgIHZhciBodG1sXzUwYmYwMTI0Njg4NzQwNjM5Yjk3Nzc3Y2QwOTdmODBkID0gJChgPGRpdiBpZD0iaHRtbF81MGJmMDEyNDY4ODc0MDYzOWI5Nzc3N2NkMDk3ZjgwZCIgc3R5bGU9IndpZHRoOiAxMDAuMCU7IGhlaWdodDogMTAwLjAlOyI+UXVlZW4mIzM5O3MgUGFyayAvIE9udGFyaW8gUHJvdmluY2lhbCBHb3Zlcm5tZW50IENsdXN0ZXIgMzwvZGl2PmApWzBdOwogICAgICAgICAgICAgICAgcG9wdXBfODEyNmE2MjdlMWYyNDQ3NWI1NTU3ZjQ5NzBjZTAxZWMuc2V0Q29udGVudChodG1sXzUwYmYwMTI0Njg4NzQwNjM5Yjk3Nzc3Y2QwOTdmODBkKTsKICAgICAgICAgICAgCgogICAgICAgICAgICBjaXJjbGVfbWFya2VyXzBmNmRmMDk0YWQxMjQ5OTg4OGM1ODc3ZTBhZDNlNTBiLmJpbmRQb3B1cChwb3B1cF84MTI2YTYyN2UxZjI0NDc1YjU1NTdmNDk3MGNlMDFlYykKICAgICAgICAgICAgOwoKICAgICAgICAgICAgCiAgICAgICAgCiAgICAKICAgICAgICAgICAgdmFyIGNpcmNsZV9tYXJrZXJfMDNmMmYyODQ1YmFlNDhkMmE1NWI2YTRhODQ3MDY4Y2UgPSBMLmNpcmNsZU1hcmtlcigKICAgICAgICAgICAgICAgIFs0My42MzY5NjU2LCAtNzkuNjE1ODE4OTk5OTk5OTldLAogICAgICAgICAgICAgICAgewogICJidWJibGluZ01vdXNlRXZlbnRzIjogdHJ1ZSwKICAiY29sb3IiOiAiIzQ4NTZmYiIsCiAgImRhc2hBcnJheSI6IG51bGwsCiAgImRhc2hPZmZzZXQiOiBudWxsLAogICJmaWxsIjogdHJ1ZSwKICAiZmlsbENvbG9yIjogIiM0ODU2ZmIiLAogICJmaWxsT3BhY2l0eSI6IDAuNywKICAiZmlsbFJ1bGUiOiAiZXZlbm9kZCIsCiAgImxpbmVDYXAiOiAicm91bmQiLAogICJsaW5lSm9pbiI6ICJyb3VuZCIsCiAgIm9wYWNpdHkiOiAxLjAsCiAgInJhZGl1cyI6IDUsCiAgInN0cm9rZSI6IHRydWUsCiAgIndlaWdodCI6IDMKfQogICAgICAgICAgICAgICAgKQogICAgICAgICAgICAgICAgLmFkZFRvKG1hcF9lNjgwMmU5MjFkODU0MGQ0YTM3NzMyOGNlY2U3Mjg2YSk7CiAgICAgICAgICAgIAogICAgCiAgICAgICAgICAgIHZhciBwb3B1cF8zY2NkY2I5ODYxNjY0ZWIzOGY1NzEyNDM4NDczOGIyMyA9IEwucG9wdXAoe21heFdpZHRoOiAnMTAwJScKICAgICAgICAgICAgCiAgICAgICAgICAgIH0pOwoKICAgICAgICAgICAgCiAgICAgICAgICAgICAgICB2YXIgaHRtbF9jNGNmYWUzZTZjMmI0OGI4OTc3MDQ3NGE3NWNhNzJhZSA9ICQoYDxkaXYgaWQ9Imh0bWxfYzRjZmFlM2U2YzJiNDhiODk3NzA0NzRhNzVjYTcyYWUiIHN0eWxlPSJ3aWR0aDogMTAwLjAlOyBoZWlnaHQ6IDEwMC4wJTsiPkNhbmFkYSBQb3N0IEdhdGV3YXkgUHJvY2Vzc2luZyBDZW50cmUgQ2x1c3RlciAyPC9kaXY+YClbMF07CiAgICAgICAgICAgICAgICBwb3B1cF8zY2NkY2I5ODYxNjY0ZWIzOGY1NzEyNDM4NDczOGIyMy5zZXRDb250ZW50KGh0bWxfYzRjZmFlM2U2YzJiNDhiODk3NzA0NzRhNzVjYTcyYWUpOwogICAgICAgICAgICAKCiAgICAgICAgICAgIGNpcmNsZV9tYXJrZXJfMDNmMmYyODQ1YmFlNDhkMmE1NWI2YTRhODQ3MDY4Y2UuYmluZFBvcHVwKHBvcHVwXzNjY2RjYjk4NjE2NjRlYjM4ZjU3MTI0Mzg0NzM4YjIzKQogICAgICAgICAgICA7CgogICAgICAgICAgICAKICAgICAgICAKICAgIAogICAgICAgICAgICB2YXIgY2lyY2xlX21hcmtlcl8wMzg4YTBjNjVjNjE0M2ZkYjAxYzU4MWYxYjE5ZmYzOSA9IEwuY2lyY2xlTWFya2VyKAogICAgICAgICAgICAgICAgWzQzLjY2Mjc0MzksIC03OS4zMjE1NThdLAogICAgICAgICAgICAgICAgewogICJidWJibGluZ01vdXNlRXZlbnRzIjogdHJ1ZSwKICAiY29sb3IiOiAiIzljZmJhNCIsCiAgImRhc2hBcnJheSI6IG51bGwsCiAgImRhc2hPZmZzZXQiOiBudWxsLAogICJmaWxsIjogdHJ1ZSwKICAiZmlsbENvbG9yIjogIiM5Y2ZiYTQiLAogICJmaWxsT3BhY2l0eSI6IDAuNywKICAiZmlsbFJ1bGUiOiAiZXZlbm9kZCIsCiAgImxpbmVDYXAiOiAicm91bmQiLAogICJsaW5lSm9pbiI6ICJyb3VuZCIsCiAgIm9wYWNpdHkiOiAxLjAsCiAgInJhZGl1cyI6IDUsCiAgInN0cm9rZSI6IHRydWUsCiAgIndlaWdodCI6IDMKfQogICAgICAgICAgICAgICAgKQogICAgICAgICAgICAgICAgLmFkZFRvKG1hcF9lNjgwMmU5MjFkODU0MGQ0YTM3NzMyOGNlY2U3Mjg2YSk7CiAgICAgICAgICAgIAogICAgCiAgICAgICAgICAgIHZhciBwb3B1cF83ODEzOWU5MzYxZjk0NmFmYjMwZTdhMTQ2NzAyYTY1ZCA9IEwucG9wdXAoe21heFdpZHRoOiAnMTAwJScKICAgICAgICAgICAgCiAgICAgICAgICAgIH0pOwoKICAgICAgICAgICAgCiAgICAgICAgICAgICAgICB2YXIgaHRtbF82NTliYzQzNzgyYjc0YjJiYjliNWU1NDMwNmVkMTUwZSA9ICQoYDxkaXYgaWQ9Imh0bWxfNjU5YmM0Mzc4MmI3NGIyYmI5YjVlNTQzMDZlZDE1MGUiIHN0eWxlPSJ3aWR0aDogMTAwLjAlOyBoZWlnaHQ6IDEwMC4wJTsiPkJ1c2luZXNzIHJlcGx5IG1haWwgUHJvY2Vzc2luZyBDZW50ckUgQ2x1c3RlciA2PC9kaXY+YClbMF07CiAgICAgICAgICAgICAgICBwb3B1cF83ODEzOWU5MzYxZjk0NmFmYjMwZTdhMTQ2NzAyYTY1ZC5zZXRDb250ZW50KGh0bWxfNjU5YmM0Mzc4MmI3NGIyYmI5YjVlNTQzMDZlZDE1MGUpOwogICAgICAgICAgICAKCiAgICAgICAgICAgIGNpcmNsZV9tYXJrZXJfMDM4OGEwYzY1YzYxNDNmZGIwMWM1ODFmMWIxOWZmMzkuYmluZFBvcHVwKHBvcHVwXzc4MTM5ZTkzNjFmOTQ2YWZiMzBlN2ExNDY3MDJhNjVkKQogICAgICAgICAgICA7CgogICAgICAgICAgICAKICAgICAgICAKICAgIAogICAgICAgICAgICB2YXIgY2lyY2xlX21hcmtlcl80NmU1OWMzZGNkYTc0NThlOWRmZDQzNjg5ZTc4ZmU4MyA9IEwuY2lyY2xlTWFya2VyKAogICAgICAgICAgICAgICAgWzQzLjYwNTY0NjYsIC03OS41MDEzMjA3MDAwMDAwMV0sCiAgICAgICAgICAgICAgICB7CiAgImJ1YmJsaW5nTW91c2VFdmVudHMiOiB0cnVlLAogICJjb2xvciI6ICIjNDg1NmZiIiwKICAiZGFzaEFycmF5IjogbnVsbCwKICAiZGFzaE9mZnNldCI6IG51bGwsCiAgImZpbGwiOiB0cnVlLAogICJmaWxsQ29sb3IiOiAiIzQ4NTZmYiIsCiAgImZpbGxPcGFjaXR5IjogMC43LAogICJmaWxsUnVsZSI6ICJldmVub2RkIiwKICAibGluZUNhcCI6ICJyb3VuZCIsCiAgImxpbmVKb2luIjogInJvdW5kIiwKICAib3BhY2l0eSI6IDEuMCwKICAicmFkaXVzIjogNSwKICAic3Ryb2tlIjogdHJ1ZSwKICAid2VpZ2h0IjogMwp9CiAgICAgICAgICAgICAgICApCiAgICAgICAgICAgICAgICAuYWRkVG8obWFwX2U2ODAyZTkyMWQ4NTQwZDRhMzc3MzI4Y2VjZTcyODZhKTsKICAgICAgICAgICAgCiAgICAKICAgICAgICAgICAgdmFyIHBvcHVwXzE3NWIxMjk1YjAzMzRhZDVhMmQ1OTAzYmZiOGU4OGYyID0gTC5wb3B1cCh7bWF4V2lkdGg6ICcxMDAlJwogICAgICAgICAgICAKICAgICAgICAgICAgfSk7CgogICAgICAgICAgICAKICAgICAgICAgICAgICAgIHZhciBodG1sX2E5YWRhMDI0ZDBiNzQ2NDY4YzM3MzlkYmZjOTY3ODUyID0gJChgPGRpdiBpZD0iaHRtbF9hOWFkYTAyNGQwYjc0NjQ2OGMzNzM5ZGJmYzk2Nzg1MiIgc3R5bGU9IndpZHRoOiAxMDAuMCU7IGhlaWdodDogMTAwLjAlOyI+TmV3IFRvcm9udG8gLyBNaW1pY28gU291dGggLyBIdW1iZXIgQmF5IFNob3JlcyBDbHVzdGVyIDI8L2Rpdj5gKVswXTsKICAgICAgICAgICAgICAgIHBvcHVwXzE3NWIxMjk1YjAzMzRhZDVhMmQ1OTAzYmZiOGU4OGYyLnNldENvbnRlbnQoaHRtbF9hOWFkYTAyNGQwYjc0NjQ2OGMzNzM5ZGJmYzk2Nzg1Mik7CiAgICAgICAgICAgIAoKICAgICAgICAgICAgY2lyY2xlX21hcmtlcl80NmU1OWMzZGNkYTc0NThlOWRmZDQzNjg5ZTc4ZmU4My5iaW5kUG9wdXAocG9wdXBfMTc1YjEyOTViMDMzNGFkNWEyZDU5MDNiZmI4ZTg4ZjIpCiAgICAgICAgICAgIDsKCiAgICAgICAgICAgIAogICAgICAgIAogICAgCiAgICAgICAgICAgIHZhciBjaXJjbGVfbWFya2VyXzc1M2QyOTRlNzdhMDQ4OWNhMGI3M2NjOTcxOGJkZGU1ID0gTC5jaXJjbGVNYXJrZXIoCiAgICAgICAgICAgICAgICBbNDMuNjAyNDEzNzAwMDAwMDEsIC03OS41NDM0ODQwOTk5OTk5OV0sCiAgICAgICAgICAgICAgICB7CiAgImJ1YmJsaW5nTW91c2VFdmVudHMiOiB0cnVlLAogICJjb2xvciI6ICIjNDg1NmZiIiwKICAiZGFzaEFycmF5IjogbnVsbCwKICAiZGFzaE9mZnNldCI6IG51bGwsCiAgImZpbGwiOiB0cnVlLAogICJmaWxsQ29sb3IiOiAiIzQ4NTZmYiIsCiAgImZpbGxPcGFjaXR5IjogMC43LAogICJmaWxsUnVsZSI6ICJldmVub2RkIiwKICAibGluZUNhcCI6ICJyb3VuZCIsCiAgImxpbmVKb2luIjogInJvdW5kIiwKICAib3BhY2l0eSI6IDEuMCwKICAicmFkaXVzIjogNSwKICAic3Ryb2tlIjogdHJ1ZSwKICAid2VpZ2h0IjogMwp9CiAgICAgICAgICAgICAgICApCiAgICAgICAgICAgICAgICAuYWRkVG8obWFwX2U2ODAyZTkyMWQ4NTQwZDRhMzc3MzI4Y2VjZTcyODZhKTsKICAgICAgICAgICAgCiAgICAKICAgICAgICAgICAgdmFyIHBvcHVwX2Q1Mzk5OGNjMzE1MTQwMTlhMTc3ZGM3ODk2MTVjNDgxID0gTC5wb3B1cCh7bWF4V2lkdGg6ICcxMDAlJwogICAgICAgICAgICAKICAgICAgICAgICAgfSk7CgogICAgICAgICAgICAKICAgICAgICAgICAgICAgIHZhciBodG1sXzg3MzFjYmI2NGM3MDQzNjY5MzEyNTM4MDQ0ZmUxODk4ID0gJChgPGRpdiBpZD0iaHRtbF84NzMxY2JiNjRjNzA0MzY2OTMxMjUzODA0NGZlMTg5OCIgc3R5bGU9IndpZHRoOiAxMDAuMCU7IGhlaWdodDogMTAwLjAlOyI+QWxkZXJ3b29kIC8gTG9uZyBCcmFuY2ggQ2x1c3RlciAyPC9kaXY+YClbMF07CiAgICAgICAgICAgICAgICBwb3B1cF9kNTM5OThjYzMxNTE0MDE5YTE3N2RjNzg5NjE1YzQ4MS5zZXRDb250ZW50KGh0bWxfODczMWNiYjY0YzcwNDM2NjkzMTI1MzgwNDRmZTE4OTgpOwogICAgICAgICAgICAKCiAgICAgICAgICAgIGNpcmNsZV9tYXJrZXJfNzUzZDI5NGU3N2EwNDg5Y2EwYjczY2M5NzE4YmRkZTUuYmluZFBvcHVwKHBvcHVwX2Q1Mzk5OGNjMzE1MTQwMTlhMTc3ZGM3ODk2MTVjNDgxKQogICAgICAgICAgICA7CgogICAgICAgICAgICAKICAgICAgICAKICAgIAogICAgICAgICAgICB2YXIgY2lyY2xlX21hcmtlcl83Y2ViYWU5NTI3ZTE0NGM3OGYyY2VkOGI2MmFiZjYyOSA9IEwuY2lyY2xlTWFya2VyKAogICAgICAgICAgICAgICAgWzQzLjY1MzY1MzYwMDAwMDAwNSwgLTc5LjUwNjk0MzZdLAogICAgICAgICAgICAgICAgewogICJidWJibGluZ01vdXNlRXZlbnRzIjogdHJ1ZSwKICAiY29sb3IiOiAiI2ZmNTYyYyIsCiAgImRhc2hBcnJheSI6IG51bGwsCiAgImRhc2hPZmZzZXQiOiBudWxsLAogICJmaWxsIjogdHJ1ZSwKICAiZmlsbENvbG9yIjogIiNmZjU2MmMiLAogICJmaWxsT3BhY2l0eSI6IDAuNywKICAiZmlsbFJ1bGUiOiAiZXZlbm9kZCIsCiAgImxpbmVDYXAiOiAicm91bmQiLAogICJsaW5lSm9pbiI6ICJyb3VuZCIsCiAgIm9wYWNpdHkiOiAxLjAsCiAgInJhZGl1cyI6IDUsCiAgInN0cm9rZSI6IHRydWUsCiAgIndlaWdodCI6IDMKfQogICAgICAgICAgICAgICAgKQogICAgICAgICAgICAgICAgLmFkZFRvKG1hcF9lNjgwMmU5MjFkODU0MGQ0YTM3NzMyOGNlY2U3Mjg2YSk7CiAgICAgICAgICAgIAogICAgCiAgICAgICAgICAgIHZhciBwb3B1cF8yZmRjMzU4NGM5OGQ0NmM4YmRlNzJiYTE2MDRmNmRkZSA9IEwucG9wdXAoe21heFdpZHRoOiAnMTAwJScKICAgICAgICAgICAgCiAgICAgICAgICAgIH0pOwoKICAgICAgICAgICAgCiAgICAgICAgICAgICAgICB2YXIgaHRtbF9kYWViNDhkY2E5NjE0N2ZiYjI2OTdjNGViY2ZlODNiZSA9ICQoYDxkaXYgaWQ9Imh0bWxfZGFlYjQ4ZGNhOTYxNDdmYmIyNjk3YzRlYmNmZTgzYmUiIHN0eWxlPSJ3aWR0aDogMTAwLjAlOyBoZWlnaHQ6IDEwMC4wJTsiPlRoZSBLaW5nc3dheSAvIE1vbnRnb21lcnkgUm9hZCAgLyBPbGQgTWlsbCBOb3J0aCBDbHVzdGVyIDk8L2Rpdj5gKVswXTsKICAgICAgICAgICAgICAgIHBvcHVwXzJmZGMzNTg0Yzk4ZDQ2YzhiZGU3MmJhMTYwNGY2ZGRlLnNldENvbnRlbnQoaHRtbF9kYWViNDhkY2E5NjE0N2ZiYjI2OTdjNGViY2ZlODNiZSk7CiAgICAgICAgICAgIAoKICAgICAgICAgICAgY2lyY2xlX21hcmtlcl83Y2ViYWU5NTI3ZTE0NGM3OGYyY2VkOGI2MmFiZjYyOS5iaW5kUG9wdXAocG9wdXBfMmZkYzM1ODRjOThkNDZjOGJkZTcyYmExNjA0ZjZkZGUpCiAgICAgICAgICAgIDsKCiAgICAgICAgICAgIAogICAgICAgIAogICAgCiAgICAgICAgICAgIHZhciBjaXJjbGVfbWFya2VyXzQyZTAzNjczMzhlNDRhMDViMTAxNWE0ZDY3MzNiZjQxID0gTC5jaXJjbGVNYXJrZXIoCiAgICAgICAgICAgICAgICBbNDMuNjM2MjU3OSwgLTc5LjQ5ODUwOTA5OTk5OTk5XSwKICAgICAgICAgICAgICAgIHsKICAiYnViYmxpbmdNb3VzZUV2ZW50cyI6IHRydWUsCiAgImNvbG9yIjogIiM0ODU2ZmIiLAogICJkYXNoQXJyYXkiOiBudWxsLAogICJkYXNoT2Zmc2V0IjogbnVsbCwKICAiZmlsbCI6IHRydWUsCiAgImZpbGxDb2xvciI6ICIjNDg1NmZiIiwKICAiZmlsbE9wYWNpdHkiOiAwLjcsCiAgImZpbGxSdWxlIjogImV2ZW5vZGQiLAogICJsaW5lQ2FwIjogInJvdW5kIiwKICAibGluZUpvaW4iOiAicm91bmQiLAogICJvcGFjaXR5IjogMS4wLAogICJyYWRpdXMiOiA1LAogICJzdHJva2UiOiB0cnVlLAogICJ3ZWlnaHQiOiAzCn0KICAgICAgICAgICAgICAgICkKICAgICAgICAgICAgICAgIC5hZGRUbyhtYXBfZTY4MDJlOTIxZDg1NDBkNGEzNzczMjhjZWNlNzI4NmEpOwogICAgICAgICAgICAKICAgIAogICAgICAgICAgICB2YXIgcG9wdXBfNzE4OWVmN2Q1NTgzNDJiMGE4YWI5ZDI0MGVjY2NmN2MgPSBMLnBvcHVwKHttYXhXaWR0aDogJzEwMCUnCiAgICAgICAgICAgIAogICAgICAgICAgICB9KTsKCiAgICAgICAgICAgIAogICAgICAgICAgICAgICAgdmFyIGh0bWxfZDA5YmE3ODExZmRmNGM4NjlkZjU5N2I1NGJhMDhjNjAgPSAkKGA8ZGl2IGlkPSJodG1sX2QwOWJhNzgxMWZkZjRjODY5ZGY1OTdiNTRiYTA4YzYwIiBzdHlsZT0id2lkdGg6IDEwMC4wJTsgaGVpZ2h0OiAxMDAuMCU7Ij5PbGQgTWlsbCBTb3V0aCAvIEtpbmcmIzM5O3MgTWlsbCBQYXJrIC8gU3VubnlsZWEgLyBIdW1iZXIgQmF5IC8gTWltaWNvIE5FIC8gVGhlIFF1ZWVuc3dheSBFYXN0IC8gUm95YWwgWW9yayBTb3V0aCBFYXN0IC8gS2luZ3N3YXkgUGFyayBTb3V0aCBFYXN0IENsdXN0ZXIgMjwvZGl2PmApWzBdOwogICAgICAgICAgICAgICAgcG9wdXBfNzE4OWVmN2Q1NTgzNDJiMGE4YWI5ZDI0MGVjY2NmN2Muc2V0Q29udGVudChodG1sX2QwOWJhNzgxMWZkZjRjODY5ZGY1OTdiNTRiYTA4YzYwKTsKICAgICAgICAgICAgCgogICAgICAgICAgICBjaXJjbGVfbWFya2VyXzQyZTAzNjczMzhlNDRhMDViMTAxNWE0ZDY3MzNiZjQxLmJpbmRQb3B1cChwb3B1cF83MTg5ZWY3ZDU1ODM0MmIwYThhYjlkMjQwZWNjY2Y3YykKICAgICAgICAgICAgOwoKICAgICAgICAgICAgCiAgICAgICAgCiAgICAKICAgICAgICAgICAgdmFyIGNpcmNsZV9tYXJrZXJfMmU2NzM2MzI3MGRiNGM1ZDhlNGFkNzM3YzhkNWIyMWYgPSBMLmNpcmNsZU1hcmtlcigKICAgICAgICAgICAgICAgIFs0My42Mjg4NDA4LCAtNzkuNTIwOTk5NDAwMDAwMDFdLAogICAgICAgICAgICAgICAgewogICJidWJibGluZ01vdXNlRXZlbnRzIjogdHJ1ZSwKICAiY29sb3IiOiAiIzQ4NTZmYiIsCiAgImRhc2hBcnJheSI6IG51bGwsCiAgImRhc2hPZmZzZXQiOiBudWxsLAogICJmaWxsIjogdHJ1ZSwKICAiZmlsbENvbG9yIjogIiM0ODU2ZmIiLAogICJmaWxsT3BhY2l0eSI6IDAuNywKICAiZmlsbFJ1bGUiOiAiZXZlbm9kZCIsCiAgImxpbmVDYXAiOiAicm91bmQiLAogICJsaW5lSm9pbiI6ICJyb3VuZCIsCiAgIm9wYWNpdHkiOiAxLjAsCiAgInJhZGl1cyI6IDUsCiAgInN0cm9rZSI6IHRydWUsCiAgIndlaWdodCI6IDMKfQogICAgICAgICAgICAgICAgKQogICAgICAgICAgICAgICAgLmFkZFRvKG1hcF9lNjgwMmU5MjFkODU0MGQ0YTM3NzMyOGNlY2U3Mjg2YSk7CiAgICAgICAgICAgIAogICAgCiAgICAgICAgICAgIHZhciBwb3B1cF85NmM2NGY3ODliOGY0YmE2ODBlN2U1MGE2NTIxNTE3NiA9IEwucG9wdXAoe21heFdpZHRoOiAnMTAwJScKICAgICAgICAgICAgCiAgICAgICAgICAgIH0pOwoKICAgICAgICAgICAgCiAgICAgICAgICAgICAgICB2YXIgaHRtbF82YzAyOWMwNGIzZGU0MWVkYWU4NGRkMGY2OWFmNjc2NyA9ICQoYDxkaXYgaWQ9Imh0bWxfNmMwMjljMDRiM2RlNDFlZGFlODRkZDBmNjlhZjY3NjciIHN0eWxlPSJ3aWR0aDogMTAwLjAlOyBoZWlnaHQ6IDEwMC4wJTsiPk1pbWljbyBOVyAvIFRoZSBRdWVlbnN3YXkgV2VzdCAvIFNvdXRoIG9mIEJsb29yIC8gS2luZ3N3YXkgUGFyayBTb3V0aCBXZXN0IC8gUm95YWwgWW9yayBTb3V0aCBXZXN0IENsdXN0ZXIgMjwvZGl2PmApWzBdOwogICAgICAgICAgICAgICAgcG9wdXBfOTZjNjRmNzg5YjhmNGJhNjgwZTdlNTBhNjUyMTUxNzYuc2V0Q29udGVudChodG1sXzZjMDI5YzA0YjNkZTQxZWRhZTg0ZGQwZjY5YWY2NzY3KTsKICAgICAgICAgICAgCgogICAgICAgICAgICBjaXJjbGVfbWFya2VyXzJlNjczNjMyNzBkYjRjNWQ4ZTRhZDczN2M4ZDViMjFmLmJpbmRQb3B1cChwb3B1cF85NmM2NGY3ODliOGY0YmE2ODBlN2U1MGE2NTIxNTE3NikKICAgICAgICAgICAgOwoKICAgICAgICAgICAgCiAgICAgICAgCiAgICAKICAgICAgICAgICAgdmFyIGNpcmNsZV9tYXJrZXJfNTM0OGVjYmNjN2RhNGE1ZmExZGZkNTdlMzI5NzNkNTAgPSBMLmNpcmNsZU1hcmtlcigKICAgICAgICAgICAgICAgIFs0My42Njc4NTU2LCAtNzkuNTMyMjQyNDAwMDAwMDJdLAogICAgICAgICAgICAgICAgewogICJidWJibGluZ01vdXNlRXZlbnRzIjogdHJ1ZSwKICAiY29sb3IiOiAiIzQ4NTZmYiIsCiAgImRhc2hBcnJheSI6IG51bGwsCiAgImRhc2hPZmZzZXQiOiBudWxsLAogICJmaWxsIjogdHJ1ZSwKICAiZmlsbENvbG9yIjogIiM0ODU2ZmIiLAogICJmaWxsT3BhY2l0eSI6IDAuNywKICAiZmlsbFJ1bGUiOiAiZXZlbm9kZCIsCiAgImxpbmVDYXAiOiAicm91bmQiLAogICJsaW5lSm9pbiI6ICJyb3VuZCIsCiAgIm9wYWNpdHkiOiAxLjAsCiAgInJhZGl1cyI6IDUsCiAgInN0cm9rZSI6IHRydWUsCiAgIndlaWdodCI6IDMKfQogICAgICAgICAgICAgICAgKQogICAgICAgICAgICAgICAgLmFkZFRvKG1hcF9lNjgwMmU5MjFkODU0MGQ0YTM3NzMyOGNlY2U3Mjg2YSk7CiAgICAgICAgICAgIAogICAgCiAgICAgICAgICAgIHZhciBwb3B1cF9mMWFmZTRhMzQ5NDE0YzNhYWFlNDVhYjFkY2YwNmQyMiA9IEwucG9wdXAoe21heFdpZHRoOiAnMTAwJScKICAgICAgICAgICAgCiAgICAgICAgICAgIH0pOwoKICAgICAgICAgICAgCiAgICAgICAgICAgICAgICB2YXIgaHRtbF8xZDdkNmYwZGE2NmE0ZDg3OTliNzBlODRlY2MyZDQ5MyA9ICQoYDxkaXYgaWQ9Imh0bWxfMWQ3ZDZmMGRhNjZhNGQ4Nzk5YjcwZTg0ZWNjMmQ0OTMiIHN0eWxlPSJ3aWR0aDogMTAwLjAlOyBoZWlnaHQ6IDEwMC4wJTsiPklzbGluZ3RvbiBBdmVudWUgQ2x1c3RlciAyPC9kaXY+YClbMF07CiAgICAgICAgICAgICAgICBwb3B1cF9mMWFmZTRhMzQ5NDE0YzNhYWFlNDVhYjFkY2YwNmQyMi5zZXRDb250ZW50KGh0bWxfMWQ3ZDZmMGRhNjZhNGQ4Nzk5YjcwZTg0ZWNjMmQ0OTMpOwogICAgICAgICAgICAKCiAgICAgICAgICAgIGNpcmNsZV9tYXJrZXJfNTM0OGVjYmNjN2RhNGE1ZmExZGZkNTdlMzI5NzNkNTAuYmluZFBvcHVwKHBvcHVwX2YxYWZlNGEzNDk0MTRjM2FhYWU0NWFiMWRjZjA2ZDIyKQogICAgICAgICAgICA7CgogICAgICAgICAgICAKICAgICAgICAKICAgIAogICAgICAgICAgICB2YXIgY2lyY2xlX21hcmtlcl84NjA2Mzk0OTFlYzQ0YmM4YTk2NTJhYWYxNWEzYzkyMSA9IEwuY2lyY2xlTWFya2VyKAogICAgICAgICAgICAgICAgWzQzLjY1MDk0MzIsIC03OS41NTQ3MjQ0MDAwMDAwMV0sCiAgICAgICAgICAgICAgICB7CiAgImJ1YmJsaW5nTW91c2VFdmVudHMiOiB0cnVlLAogICJjb2xvciI6ICIjNDg1NmZiIiwKICAiZGFzaEFycmF5IjogbnVsbCwKICAiZGFzaE9mZnNldCI6IG51bGwsCiAgImZpbGwiOiB0cnVlLAogICJmaWxsQ29sb3IiOiAiIzQ4NTZmYiIsCiAgImZpbGxPcGFjaXR5IjogMC43LAogICJmaWxsUnVsZSI6ICJldmVub2RkIiwKICAibGluZUNhcCI6ICJyb3VuZCIsCiAgImxpbmVKb2luIjogInJvdW5kIiwKICAib3BhY2l0eSI6IDEuMCwKICAicmFkaXVzIjogNSwKICAic3Ryb2tlIjogdHJ1ZSwKICAid2VpZ2h0IjogMwp9CiAgICAgICAgICAgICAgICApCiAgICAgICAgICAgICAgICAuYWRkVG8obWFwX2U2ODAyZTkyMWQ4NTQwZDRhMzc3MzI4Y2VjZTcyODZhKTsKICAgICAgICAgICAgCiAgICAKICAgICAgICAgICAgdmFyIHBvcHVwXzg1ZWUwZTIxM2NjYjQ0NDU5ODE0YTFmM2MwODMyZGVkID0gTC5wb3B1cCh7bWF4V2lkdGg6ICcxMDAlJwogICAgICAgICAgICAKICAgICAgICAgICAgfSk7CgogICAgICAgICAgICAKICAgICAgICAgICAgICAgIHZhciBodG1sXzc5MmY5ZGEyYThkZDRjMmNhNTRiMTZkZDM2NzM2M2NmID0gJChgPGRpdiBpZD0iaHRtbF83OTJmOWRhMmE4ZGQ0YzJjYTU0YjE2ZGQzNjczNjNjZiIgc3R5bGU9IndpZHRoOiAxMDAuMCU7IGhlaWdodDogMTAwLjAlOyI+V2VzdCBEZWFuZSBQYXJrIC8gUHJpbmNlc3MgR2FyZGVucyAvIE1hcnRpbiBHcm92ZSAvIElzbGluZ3RvbiAvIENsb3ZlcmRhbGUgQ2x1c3RlciAyPC9kaXY+YClbMF07CiAgICAgICAgICAgICAgICBwb3B1cF84NWVlMGUyMTNjY2I0NDQ1OTgxNGExZjNjMDgzMmRlZC5zZXRDb250ZW50KGh0bWxfNzkyZjlkYTJhOGRkNGMyY2E1NGIxNmRkMzY3MzYzY2YpOwogICAgICAgICAgICAKCiAgICAgICAgICAgIGNpcmNsZV9tYXJrZXJfODYwNjM5NDkxZWM0NGJjOGE5NjUyYWFmMTVhM2M5MjEuYmluZFBvcHVwKHBvcHVwXzg1ZWUwZTIxM2NjYjQ0NDU5ODE0YTFmM2MwODMyZGVkKQogICAgICAgICAgICA7CgogICAgICAgICAgICAKICAgICAgICAKICAgIAogICAgICAgICAgICB2YXIgY2lyY2xlX21hcmtlcl9kYjQ0ZTllMTYxMjk0ZWQwYjcyZjI3YzViNDUwMjFlYiA9IEwuY2lyY2xlTWFya2VyKAogICAgICAgICAgICAgICAgWzQzLjY0MzUxNTIsIC03OS41NzcyMDA3OTk5OTk5OV0sCiAgICAgICAgICAgICAgICB7CiAgImJ1YmJsaW5nTW91c2VFdmVudHMiOiB0cnVlLAogICJjb2xvciI6ICIjNDg1NmZiIiwKICAiZGFzaEFycmF5IjogbnVsbCwKICAiZGFzaE9mZnNldCI6IG51bGwsCiAgImZpbGwiOiB0cnVlLAogICJmaWxsQ29sb3IiOiAiIzQ4NTZmYiIsCiAgImZpbGxPcGFjaXR5IjogMC43LAogICJmaWxsUnVsZSI6ICJldmVub2RkIiwKICAibGluZUNhcCI6ICJyb3VuZCIsCiAgImxpbmVKb2luIjogInJvdW5kIiwKICAib3BhY2l0eSI6IDEuMCwKICAicmFkaXVzIjogNSwKICAic3Ryb2tlIjogdHJ1ZSwKICAid2VpZ2h0IjogMwp9CiAgICAgICAgICAgICAgICApCiAgICAgICAgICAgICAgICAuYWRkVG8obWFwX2U2ODAyZTkyMWQ4NTQwZDRhMzc3MzI4Y2VjZTcyODZhKTsKICAgICAgICAgICAgCiAgICAKICAgICAgICAgICAgdmFyIHBvcHVwXzBlZjc1ZDM2MDBlZTQ4MmM5MTYyZmMyMmQ4OGRkODU2ID0gTC5wb3B1cCh7bWF4V2lkdGg6ICcxMDAlJwogICAgICAgICAgICAKICAgICAgICAgICAgfSk7CgogICAgICAgICAgICAKICAgICAgICAgICAgICAgIHZhciBodG1sXzYyZTNmYzM3MTdiMDRhNzc5MjEyMzNmZTUyY2U3MWI5ID0gJChgPGRpdiBpZD0iaHRtbF82MmUzZmMzNzE3YjA0YTc3OTIxMjMzZmU1MmNlNzFiOSIgc3R5bGU9IndpZHRoOiAxMDAuMCU7IGhlaWdodDogMTAwLjAlOyI+RXJpbmdhdGUgLyBCbG9vcmRhbGUgR2FyZGVucyAvIE9sZCBCdXJuaGFtdGhvcnBlIC8gTWFya2xhbmQgV29vZCBDbHVzdGVyIDI8L2Rpdj5gKVswXTsKICAgICAgICAgICAgICAgIHBvcHVwXzBlZjc1ZDM2MDBlZTQ4MmM5MTYyZmMyMmQ4OGRkODU2LnNldENvbnRlbnQoaHRtbF82MmUzZmMzNzE3YjA0YTc3OTIxMjMzZmU1MmNlNzFiOSk7CiAgICAgICAgICAgIAoKICAgICAgICAgICAgY2lyY2xlX21hcmtlcl9kYjQ0ZTllMTYxMjk0ZWQwYjcyZjI3YzViNDUwMjFlYi5iaW5kUG9wdXAocG9wdXBfMGVmNzVkMzYwMGVlNDgyYzkxNjJmYzIyZDg4ZGQ4NTYpCiAgICAgICAgICAgIDsKCiAgICAgICAgICAgIAogICAgICAgIAogICAgCiAgICAgICAgICAgIHZhciBjaXJjbGVfbWFya2VyXzY5YjYwZjBhYjllODRhZWFiYmYxMTU5N2MwNzNmMjhlID0gTC5jaXJjbGVNYXJrZXIoCiAgICAgICAgICAgICAgICBbNDMuNzU2MzAzMywgLTc5LjU2NTk2MzI5OTk5OTk5XSwKICAgICAgICAgICAgICAgIHsKICAiYnViYmxpbmdNb3VzZUV2ZW50cyI6IHRydWUsCiAgImNvbG9yIjogIiM2MmZiYzQiLAogICJkYXNoQXJyYXkiOiBudWxsLAogICJkYXNoT2Zmc2V0IjogbnVsbCwKICAiZmlsbCI6IHRydWUsCiAgImZpbGxDb2xvciI6ICIjNjJmYmM0IiwKICAiZmlsbE9wYWNpdHkiOiAwLjcsCiAgImZpbGxSdWxlIjogImV2ZW5vZGQiLAogICJsaW5lQ2FwIjogInJvdW5kIiwKICAibGluZUpvaW4iOiAicm91bmQiLAogICJvcGFjaXR5IjogMS4wLAogICJyYWRpdXMiOiA1LAogICJzdHJva2UiOiB0cnVlLAogICJ3ZWlnaHQiOiAzCn0KICAgICAgICAgICAgICAgICkKICAgICAgICAgICAgICAgIC5hZGRUbyhtYXBfZTY4MDJlOTIxZDg1NDBkNGEzNzczMjhjZWNlNzI4NmEpOwogICAgICAgICAgICAKICAgIAogICAgICAgICAgICB2YXIgcG9wdXBfNWM0NmViZjIxNzFiNDAwZWE2MTU5MWQxYmIwMDc4MDcgPSBMLnBvcHVwKHttYXhXaWR0aDogJzEwMCUnCiAgICAgICAgICAgIAogICAgICAgICAgICB9KTsKCiAgICAgICAgICAgIAogICAgICAgICAgICAgICAgdmFyIGh0bWxfN2JlMGFiMzIwMzlhNGY0Mjk1MzhmZmE2Y2M5OWQ2ZjAgPSAkKGA8ZGl2IGlkPSJodG1sXzdiZTBhYjMyMDM5YTRmNDI5NTM4ZmZhNmNjOTlkNmYwIiBzdHlsZT0id2lkdGg6IDEwMC4wJTsgaGVpZ2h0OiAxMDAuMCU7Ij5IdW1iZXIgU3VtbWl0IENsdXN0ZXIgNTwvZGl2PmApWzBdOwogICAgICAgICAgICAgICAgcG9wdXBfNWM0NmViZjIxNzFiNDAwZWE2MTU5MWQxYmIwMDc4MDcuc2V0Q29udGVudChodG1sXzdiZTBhYjMyMDM5YTRmNDI5NTM4ZmZhNmNjOTlkNmYwKTsKICAgICAgICAgICAgCgogICAgICAgICAgICBjaXJjbGVfbWFya2VyXzY5YjYwZjBhYjllODRhZWFiYmYxMTU5N2MwNzNmMjhlLmJpbmRQb3B1cChwb3B1cF81YzQ2ZWJmMjE3MWI0MDBlYTYxNTkxZDFiYjAwNzgwNykKICAgICAgICAgICAgOwoKICAgICAgICAgICAgCiAgICAgICAgCiAgICAKICAgICAgICAgICAgdmFyIGNpcmNsZV9tYXJrZXJfOTllOWJjZWM0NGI1NGVjMWIwMWFlZmJjOGRiYjc5MDggPSBMLmNpcmNsZU1hcmtlcigKICAgICAgICAgICAgICAgIFs0My43MjQ3NjU5LCAtNzkuNTMyMjQyNDAwMDAwMDJdLAogICAgICAgICAgICAgICAgewogICJidWJibGluZ01vdXNlRXZlbnRzIjogdHJ1ZSwKICAiY29sb3IiOiAiIzYyZmJjNCIsCiAgImRhc2hBcnJheSI6IG51bGwsCiAgImRhc2hPZmZzZXQiOiBudWxsLAogICJmaWxsIjogdHJ1ZSwKICAiZmlsbENvbG9yIjogIiM2MmZiYzQiLAogICJmaWxsT3BhY2l0eSI6IDAuNywKICAiZmlsbFJ1bGUiOiAiZXZlbm9kZCIsCiAgImxpbmVDYXAiOiAicm91bmQiLAogICJsaW5lSm9pbiI6ICJyb3VuZCIsCiAgIm9wYWNpdHkiOiAxLjAsCiAgInJhZGl1cyI6IDUsCiAgInN0cm9rZSI6IHRydWUsCiAgIndlaWdodCI6IDMKfQogICAgICAgICAgICAgICAgKQogICAgICAgICAgICAgICAgLmFkZFRvKG1hcF9lNjgwMmU5MjFkODU0MGQ0YTM3NzMyOGNlY2U3Mjg2YSk7CiAgICAgICAgICAgIAogICAgCiAgICAgICAgICAgIHZhciBwb3B1cF8yMDZkMDExNGM3NWM0ODQ2YjQ3OGM3MWI1OGFmMmExOSA9IEwucG9wdXAoe21heFdpZHRoOiAnMTAwJScKICAgICAgICAgICAgCiAgICAgICAgICAgIH0pOwoKICAgICAgICAgICAgCiAgICAgICAgICAgICAgICB2YXIgaHRtbF9mYzU3NTMwMzBlNWU0YjhiOTQ5ZTIyYTQ4NmYyZTUwYiA9ICQoYDxkaXYgaWQ9Imh0bWxfZmM1NzUzMDMwZTVlNGI4Yjk0OWUyMmE0ODZmMmU1MGIiIHN0eWxlPSJ3aWR0aDogMTAwLjAlOyBoZWlnaHQ6IDEwMC4wJTsiPkh1bWJlcmxlYSAvIEVtZXJ5IENsdXN0ZXIgNTwvZGl2PmApWzBdOwogICAgICAgICAgICAgICAgcG9wdXBfMjA2ZDAxMTRjNzVjNDg0NmI0NzhjNzFiNThhZjJhMTkuc2V0Q29udGVudChodG1sX2ZjNTc1MzAzMGU1ZTRiOGI5NDllMjJhNDg2ZjJlNTBiKTsKICAgICAgICAgICAgCgogICAgICAgICAgICBjaXJjbGVfbWFya2VyXzk5ZTliY2VjNDRiNTRlYzFiMDFhZWZiYzhkYmI3OTA4LmJpbmRQb3B1cChwb3B1cF8yMDZkMDExNGM3NWM0ODQ2YjQ3OGM3MWI1OGFmMmExOSkKICAgICAgICAgICAgOwoKICAgICAgICAgICAgCiAgICAgICAgCiAgICAKICAgICAgICAgICAgdmFyIGNpcmNsZV9tYXJrZXJfZjA2YWU2N2ZmZGU5NDBjYTlmZmFhNGQ3NzM4MmJlNTIgPSBMLmNpcmNsZU1hcmtlcigKICAgICAgICAgICAgICAgIFs0My43MDY4NzYsIC03OS41MTgxODg0MDAwMDAwMV0sCiAgICAgICAgICAgICAgICB7CiAgImJ1YmJsaW5nTW91c2VFdmVudHMiOiB0cnVlLAogICJjb2xvciI6ICIjNjJmYmM0IiwKICAiZGFzaEFycmF5IjogbnVsbCwKICAiZGFzaE9mZnNldCI6IG51bGwsCiAgImZpbGwiOiB0cnVlLAogICJmaWxsQ29sb3IiOiAiIzYyZmJjNCIsCiAgImZpbGxPcGFjaXR5IjogMC43LAogICJmaWxsUnVsZSI6ICJldmVub2RkIiwKICAibGluZUNhcCI6ICJyb3VuZCIsCiAgImxpbmVKb2luIjogInJvdW5kIiwKICAib3BhY2l0eSI6IDEuMCwKICAicmFkaXVzIjogNSwKICAic3Ryb2tlIjogdHJ1ZSwKICAid2VpZ2h0IjogMwp9CiAgICAgICAgICAgICAgICApCiAgICAgICAgICAgICAgICAuYWRkVG8obWFwX2U2ODAyZTkyMWQ4NTQwZDRhMzc3MzI4Y2VjZTcyODZhKTsKICAgICAgICAgICAgCiAgICAKICAgICAgICAgICAgdmFyIHBvcHVwX2UzZmY0MWY4ZWZkMDRmMGE4MmVkM2JlNGUwMTQxYjEzID0gTC5wb3B1cCh7bWF4V2lkdGg6ICcxMDAlJwogICAgICAgICAgICAKICAgICAgICAgICAgfSk7CgogICAgICAgICAgICAKICAgICAgICAgICAgICAgIHZhciBodG1sXzRiZDBjNjY0YjhiODQ0NWY5YmU4NjE1OTBjNGQ0ZTJjID0gJChgPGRpdiBpZD0iaHRtbF80YmQwYzY2NGI4Yjg0NDVmOWJlODYxNTkwYzRkNGUyYyIgc3R5bGU9IndpZHRoOiAxMDAuMCU7IGhlaWdodDogMTAwLjAlOyI+V2VzdG9uIENsdXN0ZXIgNTwvZGl2PmApWzBdOwogICAgICAgICAgICAgICAgcG9wdXBfZTNmZjQxZjhlZmQwNGYwYTgyZWQzYmU0ZTAxNDFiMTMuc2V0Q29udGVudChodG1sXzRiZDBjNjY0YjhiODQ0NWY5YmU4NjE1OTBjNGQ0ZTJjKTsKICAgICAgICAgICAgCgogICAgICAgICAgICBjaXJjbGVfbWFya2VyX2YwNmFlNjdmZmRlOTQwY2E5ZmZhYTRkNzczODJiZTUyLmJpbmRQb3B1cChwb3B1cF9lM2ZmNDFmOGVmZDA0ZjBhODJlZDNiZTRlMDE0MWIxMykKICAgICAgICAgICAgOwoKICAgICAgICAgICAgCiAgICAgICAgCiAgICAKICAgICAgICAgICAgdmFyIGNpcmNsZV9tYXJrZXJfYzM5MDk1NWRiMTZlNDE2Yzg3ZGIyOTAyOTM0Yjg1YWYgPSBMLmNpcmNsZU1hcmtlcigKICAgICAgICAgICAgICAgIFs0My42OTYzMTksIC03OS41MzIyNDI0MDAwMDAwMl0sCiAgICAgICAgICAgICAgICB7CiAgImJ1YmJsaW5nTW91c2VFdmVudHMiOiB0cnVlLAogICJjb2xvciI6ICIjNjJmYmM0IiwKICAiZGFzaEFycmF5IjogbnVsbCwKICAiZGFzaE9mZnNldCI6IG51bGwsCiAgImZpbGwiOiB0cnVlLAogICJmaWxsQ29sb3IiOiAiIzYyZmJjNCIsCiAgImZpbGxPcGFjaXR5IjogMC43LAogICJmaWxsUnVsZSI6ICJldmVub2RkIiwKICAibGluZUNhcCI6ICJyb3VuZCIsCiAgImxpbmVKb2luIjogInJvdW5kIiwKICAib3BhY2l0eSI6IDEuMCwKICAicmFkaXVzIjogNSwKICAic3Ryb2tlIjogdHJ1ZSwKICAid2VpZ2h0IjogMwp9CiAgICAgICAgICAgICAgICApCiAgICAgICAgICAgICAgICAuYWRkVG8obWFwX2U2ODAyZTkyMWQ4NTQwZDRhMzc3MzI4Y2VjZTcyODZhKTsKICAgICAgICAgICAgCiAgICAKICAgICAgICAgICAgdmFyIHBvcHVwXzZkODM5MGM3ZDlkMzQwNTQ5YmM0YzU0N2I2NTUxM2I4ID0gTC5wb3B1cCh7bWF4V2lkdGg6ICcxMDAlJwogICAgICAgICAgICAKICAgICAgICAgICAgfSk7CgogICAgICAgICAgICAKICAgICAgICAgICAgICAgIHZhciBodG1sX2U4ZjI3NTcwYTc1NDRkNzdhNjMyNGRmYWU1ZWIyMjk5ID0gJChgPGRpdiBpZD0iaHRtbF9lOGYyNzU3MGE3NTQ0ZDc3YTYzMjRkZmFlNWViMjI5OSIgc3R5bGU9IndpZHRoOiAxMDAuMCU7IGhlaWdodDogMTAwLjAlOyI+V2VzdG1vdW50IENsdXN0ZXIgNTwvZGl2PmApWzBdOwogICAgICAgICAgICAgICAgcG9wdXBfNmQ4MzkwYzdkOWQzNDA1NDliYzRjNTQ3YjY1NTEzYjguc2V0Q29udGVudChodG1sX2U4ZjI3NTcwYTc1NDRkNzdhNjMyNGRmYWU1ZWIyMjk5KTsKICAgICAgICAgICAgCgogICAgICAgICAgICBjaXJjbGVfbWFya2VyX2MzOTA5NTVkYjE2ZTQxNmM4N2RiMjkwMjkzNGI4NWFmLmJpbmRQb3B1cChwb3B1cF82ZDgzOTBjN2Q5ZDM0MDU0OWJjNGM1NDdiNjU1MTNiOCkKICAgICAgICAgICAgOwoKICAgICAgICAgICAgCiAgICAgICAgCiAgICAKICAgICAgICAgICAgdmFyIGNpcmNsZV9tYXJrZXJfNmQxOGViZmNhNTU1NDAwMmI4MGRhMTBlODI3MDQxMjEgPSBMLmNpcmNsZU1hcmtlcigKICAgICAgICAgICAgICAgIFs0My42ODg5MDU0LCAtNzkuNTU0NzI0NDAwMDAwMDFdLAogICAgICAgICAgICAgICAgewogICJidWJibGluZ01vdXNlRXZlbnRzIjogdHJ1ZSwKICAiY29sb3IiOiAiIzYyZmJjNCIsCiAgImRhc2hBcnJheSI6IG51bGwsCiAgImRhc2hPZmZzZXQiOiBudWxsLAogICJmaWxsIjogdHJ1ZSwKICAiZmlsbENvbG9yIjogIiM2MmZiYzQiLAogICJmaWxsT3BhY2l0eSI6IDAuNywKICAiZmlsbFJ1bGUiOiAiZXZlbm9kZCIsCiAgImxpbmVDYXAiOiAicm91bmQiLAogICJsaW5lSm9pbiI6ICJyb3VuZCIsCiAgIm9wYWNpdHkiOiAxLjAsCiAgInJhZGl1cyI6IDUsCiAgInN0cm9rZSI6IHRydWUsCiAgIndlaWdodCI6IDMKfQogICAgICAgICAgICAgICAgKQogICAgICAgICAgICAgICAgLmFkZFRvKG1hcF9lNjgwMmU5MjFkODU0MGQ0YTM3NzMyOGNlY2U3Mjg2YSk7CiAgICAgICAgICAgIAogICAgCiAgICAgICAgICAgIHZhciBwb3B1cF84YjY4ZDc4OGZjYjA0MzVmYTdmNDUyMTMwMmZlNmM0YyA9IEwucG9wdXAoe21heFdpZHRoOiAnMTAwJScKICAgICAgICAgICAgCiAgICAgICAgICAgIH0pOwoKICAgICAgICAgICAgCiAgICAgICAgICAgICAgICB2YXIgaHRtbF9iYzA4OGRlZWJjNjA0NmFhOTMxY2NjNjIzOTk2ZGFjYyA9ICQoYDxkaXYgaWQ9Imh0bWxfYmMwODhkZWViYzYwNDZhYTkzMWNjYzYyMzk5NmRhY2MiIHN0eWxlPSJ3aWR0aDogMTAwLjAlOyBoZWlnaHQ6IDEwMC4wJTsiPktpbmdzdmlldyBWaWxsYWdlIC8gU3QuIFBoaWxsaXBzIC8gTWFydGluIEdyb3ZlIEdhcmRlbnMgLyBSaWNodmlldyBHYXJkZW5zIENsdXN0ZXIgNTwvZGl2PmApWzBdOwogICAgICAgICAgICAgICAgcG9wdXBfOGI2OGQ3ODhmY2IwNDM1ZmE3ZjQ1MjEzMDJmZTZjNGMuc2V0Q29udGVudChodG1sX2JjMDg4ZGVlYmM2MDQ2YWE5MzFjY2M2MjM5OTZkYWNjKTsKICAgICAgICAgICAgCgogICAgICAgICAgICBjaXJjbGVfbWFya2VyXzZkMThlYmZjYTU1NTQwMDJiODBkYTEwZTgyNzA0MTIxLmJpbmRQb3B1cChwb3B1cF84YjY4ZDc4OGZjYjA0MzVmYTdmNDUyMTMwMmZlNmM0YykKICAgICAgICAgICAgOwoKICAgICAgICAgICAgCiAgICAgICAgCiAgICAKICAgICAgICAgICAgdmFyIGNpcmNsZV9tYXJrZXJfYWExNzgzMDY2NDE1NGM0Zjg0NWQ4NmJhYjczYTc2ZGUgPSBMLmNpcmNsZU1hcmtlcigKICAgICAgICAgICAgICAgIFs0My43Mzk0MTYzOTk5OTk5OTYsIC03OS41ODg0MzY5XSwKICAgICAgICAgICAgICAgIHsKICAiYnViYmxpbmdNb3VzZUV2ZW50cyI6IHRydWUsCiAgImNvbG9yIjogIiM2MmZiYzQiLAogICJkYXNoQXJyYXkiOiBudWxsLAogICJkYXNoT2Zmc2V0IjogbnVsbCwKICAiZmlsbCI6IHRydWUsCiAgImZpbGxDb2xvciI6ICIjNjJmYmM0IiwKICAiZmlsbE9wYWNpdHkiOiAwLjcsCiAgImZpbGxSdWxlIjogImV2ZW5vZGQiLAogICJsaW5lQ2FwIjogInJvdW5kIiwKICAibGluZUpvaW4iOiAicm91bmQiLAogICJvcGFjaXR5IjogMS4wLAogICJyYWRpdXMiOiA1LAogICJzdHJva2UiOiB0cnVlLAogICJ3ZWlnaHQiOiAzCn0KICAgICAgICAgICAgICAgICkKICAgICAgICAgICAgICAgIC5hZGRUbyhtYXBfZTY4MDJlOTIxZDg1NDBkNGEzNzczMjhjZWNlNzI4NmEpOwogICAgICAgICAgICAKICAgIAogICAgICAgICAgICB2YXIgcG9wdXBfMmEyZGE0ZDY1NzhkNGNlMmJmMmNmNGUwODZhYWE2YjkgPSBMLnBvcHVwKHttYXhXaWR0aDogJzEwMCUnCiAgICAgICAgICAgIAogICAgICAgICAgICB9KTsKCiAgICAgICAgICAgIAogICAgICAgICAgICAgICAgdmFyIGh0bWxfM2E4MWVkY2UyZmI2NGFmYzljNWUyOGM5YjVjOGJmNzQgPSAkKGA8ZGl2IGlkPSJodG1sXzNhODFlZGNlMmZiNjRhZmM5YzVlMjhjOWI1YzhiZjc0IiBzdHlsZT0id2lkdGg6IDEwMC4wJTsgaGVpZ2h0OiAxMDAuMCU7Ij5Tb3V0aCBTdGVlbGVzIC8gU2lsdmVyc3RvbmUgLyBIdW1iZXJnYXRlIC8gSmFtZXN0b3duIC8gTW91bnQgT2xpdmUgLyBCZWF1bW9uZCBIZWlnaHRzIC8gVGhpc3RsZXRvd24gLyBBbGJpb24gR2FyZGVucyBDbHVzdGVyIDU8L2Rpdj5gKVswXTsKICAgICAgICAgICAgICAgIHBvcHVwXzJhMmRhNGQ2NTc4ZDRjZTJiZjJjZjRlMDg2YWFhNmI5LnNldENvbnRlbnQoaHRtbF8zYTgxZWRjZTJmYjY0YWZjOWM1ZTI4YzliNWM4YmY3NCk7CiAgICAgICAgICAgIAoKICAgICAgICAgICAgY2lyY2xlX21hcmtlcl9hYTE3ODMwNjY0MTU0YzRmODQ1ZDg2YmFiNzNhNzZkZS5iaW5kUG9wdXAocG9wdXBfMmEyZGE0ZDY1NzhkNGNlMmJmMmNmNGUwODZhYWE2YjkpCiAgICAgICAgICAgIDsKCiAgICAgICAgICAgIAogICAgICAgIAogICAgCiAgICAgICAgICAgIHZhciBjaXJjbGVfbWFya2VyXzViZWI1YWYwOGYxMTRkMjM5ODA0NmI0ZTQ2ODczNDI1ID0gTC5jaXJjbGVNYXJrZXIoCiAgICAgICAgICAgICAgICBbNDMuNzA2NzQ4Mjk5OTk5OTk0LCAtNzkuNTk0MDU0NF0sCiAgICAgICAgICAgICAgICB7CiAgImJ1YmJsaW5nTW91c2VFdmVudHMiOiB0cnVlLAogICJjb2xvciI6ICIjNjJmYmM0IiwKICAiZGFzaEFycmF5IjogbnVsbCwKICAiZGFzaE9mZnNldCI6IG51bGwsCiAgImZpbGwiOiB0cnVlLAogICJmaWxsQ29sb3IiOiAiIzYyZmJjNCIsCiAgImZpbGxPcGFjaXR5IjogMC43LAogICJmaWxsUnVsZSI6ICJldmVub2RkIiwKICAibGluZUNhcCI6ICJyb3VuZCIsCiAgImxpbmVKb2luIjogInJvdW5kIiwKICAib3BhY2l0eSI6IDEuMCwKICAicmFkaXVzIjogNSwKICAic3Ryb2tlIjogdHJ1ZSwKICAid2VpZ2h0IjogMwp9CiAgICAgICAgICAgICAgICApCiAgICAgICAgICAgICAgICAuYWRkVG8obWFwX2U2ODAyZTkyMWQ4NTQwZDRhMzc3MzI4Y2VjZTcyODZhKTsKICAgICAgICAgICAgCiAgICAKICAgICAgICAgICAgdmFyIHBvcHVwXzMyOTFlNzc1ZTg5ZTQyZDk5MmQzODU2ODMwMjUzNzJlID0gTC5wb3B1cCh7bWF4V2lkdGg6ICcxMDAlJwogICAgICAgICAgICAKICAgICAgICAgICAgfSk7CgogICAgICAgICAgICAKICAgICAgICAgICAgICAgIHZhciBodG1sXzFhMDI0YWMwM2ViODQxNDM5YWFhN2I4MDU3NGM5ZWU3ID0gJChgPGRpdiBpZD0iaHRtbF8xYTAyNGFjMDNlYjg0MTQzOWFhYTdiODA1NzRjOWVlNyIgc3R5bGU9IndpZHRoOiAxMDAuMCU7IGhlaWdodDogMTAwLjAlOyI+Tm9ydGh3ZXN0IENsdXN0ZXIgNTwvZGl2PmApWzBdOwogICAgICAgICAgICAgICAgcG9wdXBfMzI5MWU3NzVlODllNDJkOTkyZDM4NTY4MzAyNTM3MmUuc2V0Q29udGVudChodG1sXzFhMDI0YWMwM2ViODQxNDM5YWFhN2I4MDU3NGM5ZWU3KTsKICAgICAgICAgICAgCgogICAgICAgICAgICBjaXJjbGVfbWFya2VyXzViZWI1YWYwOGYxMTRkMjM5ODA0NmI0ZTQ2ODczNDI1LmJpbmRQb3B1cChwb3B1cF8zMjkxZTc3NWU4OWU0MmQ5OTJkMzg1NjgzMDI1MzcyZSkKICAgICAgICAgICAgOwoKICAgICAgICAgICAgCiAgICAgICAgCjwvc2NyaXB0Pg== onload=\"this.contentDocument.open();this.contentDocument.write(atob(this.getAttribute('data-html')));this.contentDocument.close();\" allowfullscreen webkitallowfullscreen mozallowfullscreen></iframe></div></div>"
      ],
      "text/plain": [
       "<folium.folium.Map at 0x7f2be8686d68>"
      ]
     },
     "execution_count": 63,
     "metadata": {
      "tags": []
     },
     "output_type": "execute_result"
    }
   ],
   "source": [
    "latitude=43.806686\n",
    "longitude=-79.194353\n",
    "map_clusters = folium.Map(location=[latitude, longitude], zoom_start=11)\n",
    "\n",
    "# set color scheme for the clusters\n",
    "x = np.arange(10)\n",
    "ys = [i + x + (i*x)**2 for i in range(10)]\n",
    "colors_array = cm.rainbow(np.linspace(0, 1, len(ys)))\n",
    "rainbow = [colors.rgb2hex(i) for i in colors_array]\n",
    "\n",
    "# add markers to the map\n",
    "markers_colors = []\n",
    "for lat, lon, poi, cluster in zip(final['Latitude'], final['Longitude'],final['Neighborhood'],labels['label']):\n",
    "    label = folium.Popup(str(poi) + ' Cluster ' + str(cluster), parse_html=True)\n",
    "    folium.CircleMarker(\n",
    "        [lat, lon],\n",
    "        radius=5,\n",
    "        popup=label,\n",
    "        color=rainbow[cluster-1],\n",
    "        fill=True,\n",
    "        fill_color=rainbow[cluster-1],\n",
    "        fill_opacity=0.7).add_to(map_clusters)\n",
    "       \n",
    "map_clusters"
   ]
  },
  {
   "cell_type": "markdown",
   "metadata": {
    "colab": {},
    "colab_type": "code",
    "id": "iWvK3alztNdV"
   },
   "source": [
    "<img src=\"111.jpg\">"
   ]
  },
  {
   "cell_type": "code",
   "execution_count": null,
   "metadata": {},
   "outputs": [],
   "source": []
  }
 ],
 "metadata": {
  "colab": {
   "name": "Capstone Project.ipynb",
   "provenance": []
  },
  "kernelspec": {
   "display_name": "Python 3",
   "language": "python",
   "name": "python3"
  },
  "language_info": {
   "codemirror_mode": {
    "name": "ipython",
    "version": 3
   },
   "file_extension": ".py",
   "mimetype": "text/x-python",
   "name": "python",
   "nbconvert_exporter": "python",
   "pygments_lexer": "ipython3",
   "version": "3.7.3"
  }
 },
 "nbformat": 4,
 "nbformat_minor": 1
}
